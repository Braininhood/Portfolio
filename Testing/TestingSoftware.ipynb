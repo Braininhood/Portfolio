{
 "cells": [
  {
   "cell_type": "code",
   "execution_count": 6,
   "id": "9e682320-4663-4924-8b3a-31b23d8f61ba",
   "metadata": {
    "tags": []
   },
   "outputs": [
    {
     "ename": "OperationalError",
     "evalue": "unable to open database file",
     "output_type": "error",
     "traceback": [
      "\u001b[1;31m---------------------------------------------------------------------------\u001b[0m",
      "\u001b[1;31mOperationalError\u001b[0m                          Traceback (most recent call last)",
      "Cell \u001b[1;32mIn[6], line 16\u001b[0m\n\u001b[0;32m     13\u001b[0m     \u001b[38;5;28;01mreturn\u001b[39;00m conn\n\u001b[0;32m     15\u001b[0m \u001b[38;5;66;03m# Path where you want to save the file Googlecolabs\u001b[39;00m\n\u001b[1;32m---> 16\u001b[0m db_conn \u001b[38;5;241m=\u001b[39m create_database(\u001b[38;5;124m\"\u001b[39m\u001b[38;5;124m/content/savings.sqlite\u001b[39m\u001b[38;5;124m\"\u001b[39m)\n\u001b[0;32m     18\u001b[0m \u001b[38;5;66;03m# Path where you want to save the file locally\u001b[39;00m\n\u001b[0;32m     19\u001b[0m destination_path \u001b[38;5;241m=\u001b[39m \u001b[38;5;124m\"\u001b[39m\u001b[38;5;124mD:/savings.sqlite\u001b[39m\u001b[38;5;124m\"\u001b[39m\n",
      "Cell \u001b[1;32mIn[6], line 7\u001b[0m, in \u001b[0;36mcreate_database\u001b[1;34m(db_name)\u001b[0m\n\u001b[0;32m      6\u001b[0m \u001b[38;5;28;01mdef\u001b[39;00m \u001b[38;5;21mcreate_database\u001b[39m(db_name):\n\u001b[1;32m----> 7\u001b[0m     conn \u001b[38;5;241m=\u001b[39m sqlite3\u001b[38;5;241m.\u001b[39mconnect(db_name)\n\u001b[0;32m      8\u001b[0m     cur \u001b[38;5;241m=\u001b[39m conn\u001b[38;5;241m.\u001b[39mcursor()\n\u001b[0;32m      9\u001b[0m     query \u001b[38;5;241m=\u001b[39m \u001b[38;5;124m\"\u001b[39m\u001b[38;5;124mCREATE TABLE IF NOT EXISTS savings(user_id INTEGER PRIMARY KEY, balance REAL)\u001b[39m\u001b[38;5;124m\"\u001b[39m\n",
      "\u001b[1;31mOperationalError\u001b[0m: unable to open database file"
     ]
    }
   ],
   "source": [
    "# for take copy from Colab\n",
    "\n",
    "import shutil\n",
    "\n",
    "# Your existing code\n",
    "import sqlite3\n",
    "\n",
    "def create_database(db_name):\n",
    "    conn = sqlite3.connect(db_name)\n",
    "    cur = conn.cursor()\n",
    "    query = \"CREATE TABLE IF NOT EXISTS savings(user_id INTEGER PRIMARY KEY, balance REAL)\"\n",
    "    cur.execute(query)\n",
    "    conn.commit()\n",
    "    print(\"Database connected and savings table created if it didn't exist already\")\n",
    "    return conn\n",
    "\n",
    "# Path where you want to save the file Googlecolabs\n",
    "db_conn = create_database(\"/content/savings.sqlite\")\n",
    "\n",
    "# Path where you want to save the file locally\n",
    "destination_path = \"D:/savings.sqlite\"\n",
    "\n",
    "# Copy the file from Colab to your local disk\n",
    "shutil.copy(\"/content/savings.sqlite\", destination_path)\n",
    "\n",
    "print(f\"File copied to {destination_path}\")\n"
   ]
  },
  {
   "cell_type": "code",
   "execution_count": 1,
   "id": "c34f217e-0197-48fd-97ba-b9df40ffe52b",
   "metadata": {},
   "outputs": [
    {
     "name": "stdout",
     "output_type": "stream",
     "text": [
      "Database 'D:/savings.sqlite' created and savings table initialized if it didn't exist already\n",
      "Database created at: D:/savings.sqlite\n"
     ]
    }
   ],
   "source": [
    "import sqlite3\n",
    "\n",
    "def create_database(db_name):\n",
    "    conn = sqlite3.connect(db_name)\n",
    "    cur = conn.cursor()\n",
    "    query = \"CREATE TABLE IF NOT EXISTS savings(user_id INTEGER PRIMARY KEY, balance REAL)\"\n",
    "    cur.execute(query)\n",
    "    conn.commit()\n",
    "    print(f\"Database '{db_name}' created and savings table initialized if it didn't exist already\")\n",
    "#    conn.close()  # Close the connection after creating the database\n",
    "\n",
    "# Define the name and path of the database file on your local disk\n",
    "local_db_path = \"D:/savings.sqlite\"\n",
    "\n",
    "# Create the database on your local disk\n",
    "create_database(local_db_path)\n",
    "\n",
    "print(f\"Database created at: {local_db_path}\")\n"
   ]
  },
  {
   "cell_type": "code",
   "execution_count": 4,
   "id": "22fe4064-4d39-43a9-8762-ab4fc484441a",
   "metadata": {
    "tags": []
   },
   "outputs": [
    {
     "name": "stdout",
     "output_type": "stream",
     "text": [
      "user_id    balance\n",
      "---------  ---------\n"
     ]
    }
   ],
   "source": [
    "#View the database to check it looks correct\n",
    "\n",
    "import sqlite3\n",
    "from tabulate import tabulate\n",
    "\n",
    "def create_database(db_name):\n",
    "    conn = sqlite3.connect(db_name)\n",
    "    cur = conn.cursor()\n",
    "    query = \"CREATE TABLE IF NOT EXISTS savings(user_id INTEGER PRIMARY KEY, balance REAL)\"\n",
    "    cur.execute(query)\n",
    "    conn.commit()\n",
    "    print(f\"Database '{db_name}' created and savings table initialized if it didn't exist already\")\n",
    "    conn.close()  # Close the connection after creating the database\n",
    "\n",
    "def get_data(conn):\n",
    "    cur = conn.cursor()\n",
    "    query = \"SELECT * FROM savings\"\n",
    "    cur.execute(query)\n",
    "    data = cur.fetchall()\n",
    "    columns = [description[0] for description in cur.description]\n",
    "    return data, columns\n",
    "\n",
    "# Define the path to your local database file\n",
    "local_db_path = \"D:/savings.sqlite\"  # Replace this with your actual local path\n",
    "\n",
    "# Create or connect to the database on your local disk\n",
    "#create_database(local_db_path)\n",
    "\n",
    "# Connect to the local database file\n",
    "conn = sqlite3.connect(local_db_path)\n",
    "\n",
    "table_data, columns = get_data(conn)\n",
    "print(tabulate(table_data, headers=columns))"
   ]
  },
  {
   "cell_type": "code",
   "execution_count": 3,
   "id": "37eabd2b-de15-4d96-95c1-5ff7288f77d5",
   "metadata": {
    "tags": []
   },
   "outputs": [
    {
     "ename": "IntegrityError",
     "evalue": "UNIQUE constraint failed: savings.user_id",
     "output_type": "error",
     "traceback": [
      "\u001b[1;31m---------------------------------------------------------------------------\u001b[0m",
      "\u001b[1;31mIntegrityError\u001b[0m                            Traceback (most recent call last)",
      "Cell \u001b[1;32mIn[3], line 20\u001b[0m\n\u001b[0;32m     17\u001b[0m   \u001b[38;5;28mprint\u001b[39m(\u001b[38;5;124mf\u001b[39m\u001b[38;5;124m\"\u001b[39m\u001b[38;5;124mUser \u001b[39m\u001b[38;5;132;01m{\u001b[39;00m\u001b[38;5;28mstr\u001b[39m(user_id)\u001b[38;5;132;01m}\u001b[39;00m\u001b[38;5;124m record added\u001b[39m\u001b[38;5;124m\"\u001b[39m)\n\u001b[0;32m     19\u001b[0m \u001b[38;5;66;03m# run the add new user function to add user with id 1, then run the next cell to get the data again and print it to show that the user with id 1 has been added\u001b[39;00m\n\u001b[1;32m---> 20\u001b[0m add_new_user(\u001b[38;5;241m1\u001b[39m, conn)\n",
      "Cell \u001b[1;32mIn[3], line 15\u001b[0m, in \u001b[0;36madd_new_user\u001b[1;34m(user_id, conn)\u001b[0m\n\u001b[0;32m     13\u001b[0m cur \u001b[38;5;241m=\u001b[39m conn\u001b[38;5;241m.\u001b[39mcursor()\n\u001b[0;32m     14\u001b[0m query \u001b[38;5;241m=\u001b[39m \u001b[38;5;124mf\u001b[39m\u001b[38;5;124m\"\u001b[39m\u001b[38;5;124mINSERT INTO savings(user_id,balance) VALUES(\u001b[39m\u001b[38;5;132;01m{\u001b[39;00m\u001b[38;5;28mstr\u001b[39m(user_id)\u001b[38;5;132;01m}\u001b[39;00m\u001b[38;5;124m,0)\u001b[39m\u001b[38;5;124m\"\u001b[39m\n\u001b[1;32m---> 15\u001b[0m cur\u001b[38;5;241m.\u001b[39mexecute(query)\n\u001b[0;32m     16\u001b[0m conn\u001b[38;5;241m.\u001b[39mcommit()\n\u001b[0;32m     17\u001b[0m \u001b[38;5;28mprint\u001b[39m(\u001b[38;5;124mf\u001b[39m\u001b[38;5;124m\"\u001b[39m\u001b[38;5;124mUser \u001b[39m\u001b[38;5;132;01m{\u001b[39;00m\u001b[38;5;28mstr\u001b[39m(user_id)\u001b[38;5;132;01m}\u001b[39;00m\u001b[38;5;124m record added\u001b[39m\u001b[38;5;124m\"\u001b[39m)\n",
      "\u001b[1;31mIntegrityError\u001b[0m: UNIQUE constraint failed: savings.user_id"
     ]
    }
   ],
   "source": [
    "# Add a balance for a user with id 1\n",
    "\n",
    "import sqlite3\n",
    "from tabulate import tabulate\n",
    "\n",
    "# Define the path to your local database file\n",
    "local_db_path = \"D:/savings.sqlite\"  # Replace this with your actual local path\n",
    "\n",
    "# Connect to the local database file\n",
    "conn = sqlite3.connect(local_db_path)\n",
    "                       \n",
    "def add_new_user(user_id, conn):\n",
    "  cur = conn.cursor()\n",
    "  query = f\"INSERT INTO savings(user_id,balance) VALUES({str(user_id)},0)\"\n",
    "  cur.execute(query)\n",
    "  conn.commit()\n",
    "  print(f\"User {str(user_id)} record added\")\n",
    "\n",
    "# run the add new user function to add user with id 1, then run the next cell to get the data again and print it to show that the user with id 1 has been added\n",
    "add_new_user(1, conn)"
   ]
  },
  {
   "cell_type": "code",
   "execution_count": 10,
   "id": "45b5c1bd-5e98-463f-aff3-414833da9673",
   "metadata": {
    "tags": []
   },
   "outputs": [
    {
     "name": "stdout",
     "output_type": "stream",
     "text": [
      "  user_id    balance\n",
      "---------  ---------\n",
      "        1          0\n"
     ]
    }
   ],
   "source": [
    "# Check that the balance was saved by getting the data, then print the whole database table\n",
    "\n",
    "import sqlite3\n",
    "from tabulate import tabulate\n",
    "\n",
    "# Define the path to your local database file\n",
    "local_db_path = \"D:/savings.sqlite\"  # Replace this with your actual local path\n",
    "\n",
    "# Connect to the local database file\n",
    "conn = sqlite3.connect(local_db_path)\n",
    "\n",
    "def get_data(conn):\n",
    "  cur = conn.cursor()\n",
    "  query = \"SELECT * FROM savings\"\n",
    "  cur.execute(query)\n",
    "  data = cur.fetchall()\n",
    "  columns = tuple(map(lambda x: x[0], cur.description))\n",
    "  return data, columns\n",
    "\n",
    "table_data, columns = get_data(conn)\n",
    "print(tabulate(table_data, headers=columns))"
   ]
  },
  {
   "cell_type": "code",
   "execution_count": 12,
   "id": "4a2f6951-bb80-4947-96cb-4ef9dd24ec3f",
   "metadata": {
    "tags": []
   },
   "outputs": [
    {
     "name": "stdout",
     "output_type": "stream",
     "text": [
      "True\n"
     ]
    }
   ],
   "source": [
    "# Check that a user exists before trying to do anything with their data\n",
    "\n",
    "import sqlite3\n",
    "from tabulate import tabulate\n",
    "\n",
    "# Define the path to your local database file\n",
    "local_db_path = \"D:/savings.sqlite\"  # Replace this with your actual local path\n",
    "\n",
    "# Connect to the local database file\n",
    "conn = sqlite3.connect(local_db_path)\n",
    "\n",
    "def does_exist(user_id, conn):\n",
    "  cur = conn.cursor()\n",
    "  query = f\"SELECT * FROM savings WHERE user_id = {str(user_id)}\"\n",
    "  cur.execute(query)\n",
    "  data = cur.fetchone()\n",
    "  return data is not None\n",
    "\n",
    "# run the does_exist function to check that user id 1 exists in the database\n",
    "print(does_exist(1, conn))"
   ]
  },
  {
   "cell_type": "code",
   "execution_count": 14,
   "id": "c033259b-fb08-4779-bea9-16fed4c0d63f",
   "metadata": {
    "tags": []
   },
   "outputs": [
    {
     "name": "stdout",
     "output_type": "stream",
     "text": [
      "0.0\n"
     ]
    }
   ],
   "source": [
    "# Display a user's balance\n",
    "\n",
    "import sqlite3\n",
    "from tabulate import tabulate\n",
    "\n",
    "# Define the path to your local database file\n",
    "local_db_path = \"D:/savings.sqlite\"  # Replace this with your actual local path\n",
    "\n",
    "# Connect to the local database file\n",
    "conn = sqlite3.connect(local_db_path)\n",
    "\n",
    "def get_user_data(user_id, conn):\n",
    "  if does_exist(user_id, conn):\n",
    "    cur = conn.cursor()\n",
    "    query = f\"SELECT balance FROM savings WHERE user_id={str(user_id)}\"\n",
    "    cur.execute(query)\n",
    "    data = cur.fetchone()\n",
    "    return data[0]\n",
    "  else:\n",
    "    return \"User does not exist\"\n",
    "\n",
    "# run the get_user_data function to get the balance data for user id 1\n",
    "balance = get_user_data(1, conn)\n",
    "print(balance)\n",
    "     "
   ]
  },
  {
   "cell_type": "code",
   "execution_count": 22,
   "id": "46f9db48-6b84-4b3f-8f80-213b0d23397a",
   "metadata": {
    "tags": []
   },
   "outputs": [
    {
     "name": "stdout",
     "output_type": "stream",
     "text": [
      "Record for user: 1 updated - 15 added\n",
      "  user_id    balance\n",
      "---------  ---------\n",
      "        1         30\n"
     ]
    }
   ],
   "source": [
    "# Add funds\n",
    "\n",
    "import sqlite3\n",
    "from tabulate import tabulate\n",
    "\n",
    "# Define the path to your local database file\n",
    "local_db_path = \"D:/savings.sqlite\"  # Replace this with your actual local path\n",
    "\n",
    "# Connect to the local database file\n",
    "conn = sqlite3.connect(local_db_path)\n",
    "\n",
    "def add_funds(user_id, amount, conn):\n",
    "    if does_exist(user_id, conn):\n",
    "        cur = conn.cursor()\n",
    "        query = f\"UPDATE savings SET balance=balance+{amount} WHERE user_id={user_id}\"\n",
    "        cur.execute(query)  # Execute the update query\n",
    "        conn.commit()       # Commit the transaction after the update\n",
    "        return f\"Record for user: {user_id} updated - {amount} added\"\n",
    "    else:\n",
    "        return \"User does not exist\"\n",
    "\n",
    "# run the add_funds function to add 15 to the balance for user id 1, then print the result, then print the table to see that it has been added\n",
    "result = add_funds(1, 15, conn)\n",
    "print(result)\n",
    "\n",
    "# Fetch and display the updated data from the table\n",
    "table_data, columns = get_data(conn)\n",
    "print(tabulate(table_data, headers=columns))"
   ]
  },
  {
   "cell_type": "code",
   "execution_count": 24,
   "id": "5e07696d-9398-41dd-94b3-7ff4fafcdf4d",
   "metadata": {
    "tags": []
   },
   "outputs": [
    {
     "name": "stdout",
     "output_type": "stream",
     "text": [
      "Record for user: 1 updated - 15 removed\n",
      "  user_id    balance\n",
      "---------  ---------\n",
      "        1         15\n"
     ]
    }
   ],
   "source": [
    "# Remove funds\n",
    "\n",
    "import sqlite3\n",
    "from tabulate import tabulate\n",
    "\n",
    "# Define the path to your local database file\n",
    "local_db_path = \"D:/savings.sqlite\"  # Replace this with your actual local path\n",
    "\n",
    "# Connect to the local database file\n",
    "conn = sqlite3.connect(local_db_path)\n",
    "\n",
    "def remove_funds(user_id, amount, conn):\n",
    "  if does_exist(user_id, conn):\n",
    "    cur = conn.cursor()\n",
    "    query = f\"UPDATE savings SET balance=balance - {str(amount)} WHERE user_id={str(user_id)}\"\n",
    "    cur.execute(query)\n",
    "    data = cur.fetchall()\n",
    "    return f\"Record for user: {str(user_id)} updated - {str(amount)} removed\"\n",
    "  else:\n",
    "    return \"User does not exist\"\n",
    "\n",
    "# run the remove_funds function to remove 15 from the balance for user_id, print the result and then print the whole table to show that the balance has been removed\n",
    "result = remove_funds(1, 15, conn)\n",
    "print(result)\n",
    "table_data, columns = get_data(conn)\n",
    "print(tabulate(table_data, headers=columns))"
   ]
  },
  {
   "cell_type": "code",
   "execution_count": 25,
   "id": "f4e305b6-69f8-4262-9461-2a511c554cda",
   "metadata": {
    "tags": []
   },
   "outputs": [
    {
     "ename": "OperationalError",
     "evalue": "database is locked",
     "output_type": "error",
     "traceback": [
      "\u001b[1;31m---------------------------------------------------------------------------\u001b[0m",
      "\u001b[1;31mOperationalError\u001b[0m                          Traceback (most recent call last)",
      "Cell \u001b[1;32mIn[25], line 28\u001b[0m\n\u001b[0;32m     25\u001b[0m     \u001b[38;5;28mprint\u001b[39m(\u001b[38;5;124mf\u001b[39m\u001b[38;5;124m\"\u001b[39m\u001b[38;5;124mUser with ID \u001b[39m\u001b[38;5;132;01m{\u001b[39;00muser_id\u001b[38;5;132;01m}\u001b[39;00m\u001b[38;5;124m added\u001b[39m\u001b[38;5;124m\"\u001b[39m)\n\u001b[0;32m     27\u001b[0m \u001b[38;5;66;03m# Call the function to add users with IDs from 2 to 10\u001b[39;00m\n\u001b[1;32m---> 28\u001b[0m add_user_set()\n",
      "Cell \u001b[1;32mIn[25], line 16\u001b[0m, in \u001b[0;36madd_user_set\u001b[1;34m()\u001b[0m\n\u001b[0;32m     14\u001b[0m \u001b[38;5;28;01mdef\u001b[39;00m \u001b[38;5;21madd_user_set\u001b[39m():\n\u001b[0;32m     15\u001b[0m     \u001b[38;5;28;01mfor\u001b[39;00m user_id \u001b[38;5;129;01min\u001b[39;00m \u001b[38;5;28mrange\u001b[39m(\u001b[38;5;241m2\u001b[39m, \u001b[38;5;241m11\u001b[39m):  \u001b[38;5;66;03m# Loop from 2 to 10 (inclusive)\u001b[39;00m\n\u001b[1;32m---> 16\u001b[0m         add_new_user(user_id)\n",
      "Cell \u001b[1;32mIn[25], line 23\u001b[0m, in \u001b[0;36madd_new_user\u001b[1;34m(user_id)\u001b[0m\n\u001b[0;32m     21\u001b[0m cur \u001b[38;5;241m=\u001b[39m conn\u001b[38;5;241m.\u001b[39mcursor()\n\u001b[0;32m     22\u001b[0m query \u001b[38;5;241m=\u001b[39m \u001b[38;5;124mf\u001b[39m\u001b[38;5;124m\"\u001b[39m\u001b[38;5;124mINSERT INTO savings (user_id, balance) VALUES (\u001b[39m\u001b[38;5;132;01m{\u001b[39;00muser_id\u001b[38;5;132;01m}\u001b[39;00m\u001b[38;5;124m, 0.0)\u001b[39m\u001b[38;5;124m\"\u001b[39m\n\u001b[1;32m---> 23\u001b[0m cur\u001b[38;5;241m.\u001b[39mexecute(query)\n\u001b[0;32m     24\u001b[0m conn\u001b[38;5;241m.\u001b[39mcommit()\n\u001b[0;32m     25\u001b[0m \u001b[38;5;28mprint\u001b[39m(\u001b[38;5;124mf\u001b[39m\u001b[38;5;124m\"\u001b[39m\u001b[38;5;124mUser with ID \u001b[39m\u001b[38;5;132;01m{\u001b[39;00muser_id\u001b[38;5;132;01m}\u001b[39;00m\u001b[38;5;124m added\u001b[39m\u001b[38;5;124m\"\u001b[39m)\n",
      "\u001b[1;31mOperationalError\u001b[0m: database is locked"
     ]
    }
   ],
   "source": [
    "# Exercise 2 - Have a go\n",
    "\n",
    "import sqlite3\n",
    "from tabulate import tabulate\n",
    "\n",
    "# Define the path to your local database file\n",
    "local_db_path = \"D:/savings.sqlite\"  # Replace this with your actual local path\n",
    "\n",
    "# Connect to the local database file\n",
    "conn = sqlite3.connect(local_db_path)\n",
    "\n",
    "# Your existing code for connection and functions (add_new_user, get_data, etc.)\n",
    "\n",
    "def add_user_set():\n",
    "    for user_id in range(2, 11):  # Loop from 2 to 10 (inclusive)\n",
    "        add_new_user(user_id)    # Call the function to add new users\n",
    "\n",
    "# This is just a placeholder function for demonstration purposes\n",
    "# Replace this with your actual add_new_user function implementation\n",
    "def add_new_user(user_id):\n",
    "    cur = conn.cursor()\n",
    "    query = f\"INSERT INTO savings (user_id, balance) VALUES ({user_id}, 0.0)\"\n",
    "    cur.execute(query)\n",
    "    conn.commit()\n",
    "    print(f\"User with ID {user_id} added\")\n",
    "\n",
    "# Call the function to add users with IDs from 2 to 10\n",
    "add_user_set()"
   ]
  },
  {
   "cell_type": "code",
   "execution_count": 26,
   "id": "c5f47769-8dac-4c14-bf32-b07b7037d207",
   "metadata": {
    "tags": []
   },
   "outputs": [
    {
     "name": "stdout",
     "output_type": "stream",
     "text": [
      "User with ID 2 added\n",
      "User with ID 3 added\n",
      "User with ID 4 added\n",
      "User with ID 5 added\n",
      "User with ID 6 added\n",
      "User with ID 7 added\n",
      "User with ID 8 added\n",
      "User with ID 9 added\n",
      "User with ID 10 added\n"
     ]
    }
   ],
   "source": [
    "import sqlite3\n",
    "\n",
    "# Define the path to your local database file\n",
    "local_db_path = \"D:/savings.sqlite\"  # Replace this with your actual local path\n",
    "\n",
    "# Function to add new user\n",
    "def add_new_user(user_id):\n",
    "    new_conn = sqlite3.connect(local_db_path)  # Establish a new connection\n",
    "    try:\n",
    "        cur = new_conn.cursor()\n",
    "        query = f\"INSERT INTO savings (user_id, balance) VALUES ({user_id}, 0.0)\"\n",
    "        cur.execute(query)\n",
    "        new_conn.commit()\n",
    "        print(f\"User with ID {user_id} added\")\n",
    "    except sqlite3.Error as e:\n",
    "        print(f\"Error adding user {user_id}: {e}\")\n",
    "    finally:\n",
    "        new_conn.close()  # Close the connection\n",
    "\n",
    "# Function to add a set of users\n",
    "def add_user_set():\n",
    "    for user_id in range(2, 11):  # Loop from 2 to 10 (inclusive)\n",
    "        add_new_user(user_id)    # Call the function to add new users\n",
    "\n",
    "add_user_set()"
   ]
  },
  {
   "cell_type": "code",
   "execution_count": 27,
   "id": "a09b12e9-f686-4aa2-9c33-1289dd972f7b",
   "metadata": {
    "tags": []
   },
   "outputs": [
    {
     "name": "stdout",
     "output_type": "stream",
     "text": [
      "User with ID 3 removed\n"
     ]
    }
   ],
   "source": [
    "# Exercise 3 - write a function to remove a user\n",
    "\n",
    "import sqlite3\n",
    "\n",
    "# Define the path to your local database file\n",
    "local_db_path = \"D:/savings.sqlite\"  # Replace this with your actual local path\n",
    "\n",
    "# Function to remove an existing user\n",
    "def remove_user(user_id):\n",
    "    conn = sqlite3.connect(local_db_path)\n",
    "    try:\n",
    "        cur = conn.cursor()\n",
    "        query = f\"DELETE FROM savings WHERE user_id={user_id}\"\n",
    "        cur.execute(query)\n",
    "        conn.commit()\n",
    "        print(f\"User with ID {user_id} removed\")\n",
    "    except sqlite3.Error as e:\n",
    "        print(f\"Error removing user {user_id}: {e}\")\n",
    "    finally:\n",
    "        conn.close()  # Close the connection\n",
    "\n",
    "# Call the function to remove a user (for example, user_id = 3)\n",
    "remove_user(3)"
   ]
  },
  {
   "cell_type": "code",
   "execution_count": 29,
   "id": "e07973d7-bdbd-41c2-99e0-98397445cee2",
   "metadata": {
    "tags": []
   },
   "outputs": [
    {
     "name": "stdout",
     "output_type": "stream",
     "text": [
      "Exiting app...\n"
     ]
    }
   ],
   "source": [
    "#Exit the app, closing the database connection\n",
    "\n",
    "import sqlite3\n",
    "\n",
    "# Define the path to your local database file\n",
    "local_db_path = \"D:/savings.sqlite\"  # Replace this with your actual local path\n",
    "\n",
    "# Function to establish database connection\n",
    "def connect_to_db(db_path):\n",
    "    conn = sqlite3.connect(db_path)\n",
    "    return conn\n",
    "\n",
    "# Function to close and nullify the database connection\n",
    "def exit_app(conn):\n",
    "    if conn:\n",
    "        conn.close()\n",
    "        conn = None\n",
    "        print(\"Exiting app...\")\n",
    "    return conn\n",
    "\n",
    "# Establish the database connection\n",
    "db_conn = connect_to_db(local_db_path)\n",
    "\n",
    "# Close and nullify the connection\n",
    "conn = exit_app(conn)\n"
   ]
  },
  {
   "cell_type": "code",
   "execution_count": 40,
   "id": "b6e1198d-2ad7-4696-817a-4a79a7c2f719",
   "metadata": {
    "tags": []
   },
   "outputs": [
    {
     "name": "stdout",
     "output_type": "stream",
     "text": [
      "  user_id    balance\n",
      "---------  ---------\n",
      "        1         30\n",
      "        2          0\n",
      "        4          0\n",
      "        5        100\n",
      "        6          0\n",
      "        7          0\n",
      "        8          0\n",
      "        9          0\n",
      "       10          0\n"
     ]
    }
   ],
   "source": [
    "import sqlite3\n",
    "from tabulate import tabulate\n",
    "\n",
    "# Define the path to your local database file\n",
    "local_db_path = \"D:/savings.sqlite\"  # Replace this with your actual local path\n",
    "\n",
    "\n",
    "# Establish a connection to the database\n",
    "conn = sqlite3.connect(local_db_path)\n",
    "\n",
    "# Add a new user with ID 5 (example)\n",
    "#add_new_user(5, conn)\n",
    "\n",
    "# Fetch data from the 'savings' table and display it\n",
    "table_data, columns = get_data(conn)\n",
    "print(tabulate(table_data, headers=columns))\n",
    "\n",
    "# Close the connection when done\n",
    "#conn.close()\n",
    "\n",
    "user_id = 4\n",
    "# gets a copy of the data from the savings table\n",
    "# ---------------------------------------------------------------------------------------------------------------------------------------------------\n",
    "def get_data(conn):\n",
    "  cur = conn.cursor()\n",
    "  query = \"SELECT * FROM savings\"\n",
    "  cur.execute(query)\n",
    "  data = cur.fetchall()\n",
    "  columns = tuple(map(lambda x: x[0], cur.description))\n",
    "  return data, columns\n",
    "\n",
    "# prints the balance for.   The table will have a number of rows corresponding to the number of users plus a header row.\n",
    "# it will be possible to get a list of users from this table\n",
    "# ---------------------------------------------------------------------------------------------------------------------------------------------------\n",
    "def get_user_data(user_id, conn):\n",
    "  if does_exist(user_id, conn):\n",
    "    cur = conn.cursor()\n",
    "    query = f\"SELECT balance FROM savings WHERE user_id={str(user_id)}\"\n",
    "    cur.execute(query)\n",
    "    data = cur.fetchone()\n",
    "    return data[0]\n",
    "  else:\n",
    "    return \"User does not exist\"\n",
    "\n",
    "# check that a user with a given id does or doesn't exist in the savings table\n",
    "# returns True or False\n",
    "# ---------------------------------------------------------------------------------------------------------------------------------------------------\n",
    "def does_exist(user_id, conn):\n",
    "  cur = conn.cursor()\n",
    "  query = f\"SELECT * FROM savings WHERE user_id = {str(user_id)}\"\n",
    "  cur.execute(query)\n",
    "  data = cur.fetchone()\n",
    "  return data is not None\n",
    "\n",
    "# adds a user with the given id to the savings table\n",
    "# returns a message to confirm that this has happened\n",
    "# ---------------------------------------------------------------------------------------------------------------------------------------------------\n",
    "def add_new_user(user_id, conn):\n",
    "  cur = conn.cursor()\n",
    "  query = f\"INSERT INTO savings(user_id,balance) VALUES({str(user_id)},0)\"\n",
    "  cur.execute(query)\n",
    "  conn.commit()\n",
    "  print(f\"User {str(user_id)} record added\")\n",
    "  return True\n",
    "\n",
    "# removes a user with the given id from the savings table after checking that the user does exist\n",
    "# returns a message to confirm that this has happened or that the user doesn't exist\n",
    "# ----------------------------------------------------------------------------------------------------------------------------------\n",
    "def remove_user(user_id, conn):\n",
    "  if does_exist(user_id, conn):\n",
    "    cur = conn.cursor()\n",
    "    query = f\"DELETE FROM savings WHERE user_id={str(user_id)}\"\n",
    "    cur.execute(query)\n",
    "    print(f\"User {str(user_id)} deleted\")\n",
    "    return True\n",
    "  else:\n",
    "    print(\"User does not exist\")\n",
    "    return False\n",
    "\n",
    "# updates the balance for the given user by adding the given amount onto the balance\n",
    "# returns a message to confirm that this has happened or that the user doesn't exist\n",
    "# ----------------------------------------------------------------------------------------------------------------------------------\n",
    "def add_funds(user_id, amount, conn):\n",
    "  if does_exist(user_id, conn):\n",
    "    cur = conn.cursor()\n",
    "    query = f\"UPDATE savings SET balance=balance+{str(amount)} WHERE user_id={str(user_id)}\"\n",
    "    cur.execute(query)\n",
    "    data = cur.fetchall()\n",
    "    print(f\"Record for user: {str(user_id)} updated - {str(amount)} added\")\n",
    "    return True\n",
    "  else:\n",
    "    print(\"User does not exist\")\n",
    "    return False\n",
    "\n",
    "# updates the balance for the given user by subtracting the given amount from the balance\n",
    "# returns a message to confirm that this has happened or that the user doesn't exist\n",
    "# ----------------------------------------------------------------------------------------------------------------------------------\n",
    "def remove_funds(user_id, amount, conn):\n",
    "  if does_exist(user_id, conn):\n",
    "    cur = conn.cursor()\n",
    "    query = f\"UPDATE savings SET balance=balance - {str(amount)} WHERE user_id={str(user_id)}\"\n",
    "    cur.execute(query)\n",
    "    data = cur.fetchall()\n",
    "    print(f\"Record for user: {str(user_id)} updated - {str(amount)} removed\")\n",
    "    return True\n",
    "  else:\n",
    "    print(\"User does not exist\")\n",
    "    return False\n",
    "\n",
    "# nullifies the connection so that is can't accidentally be used again\n",
    "# ----------------------------------------------------------------------------------------------------------------------------------\n",
    "def exit_app(conn):\n",
    "  conn.close()\n",
    "  conn = None\n",
    "  print(\"Exiting app...\")\n",
    "  return conn\n",
    "\n"
   ]
  },
  {
   "cell_type": "code",
   "execution_count": 16,
   "id": "154f77fc-8427-44e3-9efa-9540502754e4",
   "metadata": {
    "tags": []
   },
   "outputs": [
    {
     "name": "stdout",
     "output_type": "stream",
     "text": [
      "Database connected and savings table created if it didn't exist already\n",
      "User 1 already exists\n",
      "Record for user: 1 updated - 44 added\n",
      "User 2 already exists\n",
      "Record for user: 2 updated - 5 added\n",
      "User 3 already exists\n",
      "Record for user: 3 updated - 42 added\n",
      "User 4 already exists\n",
      "Record for user: 4 updated - 32 added\n",
      "User 5 already exists\n",
      "Record for user: 5 updated - 25 added\n",
      "User 6 already exists\n",
      "Record for user: 6 updated - 5 added\n",
      "User 7 already exists\n",
      "Record for user: 7 updated - 26 added\n",
      "User 8 already exists\n",
      "Record for user: 8 updated - 39 added\n",
      "User 9 already exists\n",
      "Record for user: 9 updated - 45 added\n",
      "User 10 already exists\n",
      "Record for user: 10 updated - 29 added\n",
      "Test data added\n",
      "  user_id    balance\n",
      "---------  ---------\n",
      "        1        132\n",
      "        2         15\n",
      "        3        126\n",
      "        4         96\n",
      "        5         75\n",
      "        6         15\n",
      "        7         78\n",
      "        8        117\n",
      "        9        135\n",
      "       10         87\n",
      "Exiting the application...\n"
     ]
    }
   ],
   "source": [
    "import sqlite3\n",
    "from tabulate import tabulate\n",
    "\n",
    "\n",
    "local_db_path = \"D:/savings.sqlite\"  # Replace this with your actual local path\n",
    "\n",
    "\n",
    "def add_new_user(user_id, conn):\n",
    "    if not does_exist(user_id, conn):  # Check if the user exists before insertion\n",
    "        try:\n",
    "            cur = conn.cursor()\n",
    "            query = f\"INSERT INTO savings(user_id,balance) VALUES({str(user_id)},0)\"\n",
    "            cur.execute(query)\n",
    "            conn.commit()\n",
    "            print(f\"User {str(user_id)} record added\")\n",
    "        except sqlite3.Error as e:\n",
    "            print(f\"Error adding user {user_id}: {e}\")\n",
    "    else:\n",
    "        print(f\"User {user_id} already exists\")\n",
    "\n",
    "def add_funds(user_id, amount, conn):\n",
    "    if does_exist(user_id, conn):\n",
    "        try:\n",
    "            with conn:  # Use a with statement to ensure proper closure\n",
    "                cur = conn.cursor()\n",
    "                query = f\"UPDATE savings SET balance = balance + {str(amount)} WHERE user_id = {str(user_id)}\"\n",
    "                cur.execute(query)\n",
    "                print(f\"Record for user: {str(user_id)} updated - {str(amount)} added\")\n",
    "        except sqlite3.Error as e:\n",
    "            print(f\"Error updating balance for user {user_id}: {e}\")\n",
    "    else:\n",
    "        print(\"User does not exist\")\n",
    "\n",
    "# Function to create the database\n",
    "def create_database(db_name):\n",
    "    conn = sqlite3.connect(db_name)\n",
    "    cur = conn.cursor()\n",
    "    query = \"CREATE TABLE IF NOT EXISTS savings(user_id INTEGER PRIMARY KEY, balance REAL)\"\n",
    "    cur.execute(query)\n",
    "    conn.commit()\n",
    "    print(\"Database connected and savings table created if it didn't exist already\")\n",
    "    return conn\n",
    "\n",
    "# Adjusted function to setup the database with initial data\n",
    "def setup_database(conn):\n",
    "    starting_balances = [44, 5, 42, 32, 25, 5, 26, 39, 45, 29]\n",
    "    for id in range(1, 11):\n",
    "        add_new_user(id, conn)\n",
    "        add_funds(id, starting_balances[id - 1], conn)\n",
    "    print(\"Test data added\")\n",
    "\n",
    "def does_exist(user_id, conn):\n",
    "    cur = conn.cursor()\n",
    "    query = f\"SELECT user_id FROM savings WHERE user_id = {user_id}\"\n",
    "    cur.execute(query)\n",
    "    data = cur.fetchone()\n",
    "    return data is not None\n",
    "\n",
    "def get_data(conn):\n",
    "    cur = conn.cursor()\n",
    "    query = \"SELECT * FROM savings\"\n",
    "    cur.execute(query)\n",
    "    data = cur.fetchall()\n",
    "    columns = [description[0] for description in cur.description]\n",
    "    return data, columns\n",
    "\n",
    "# Adjusted code to create the database in the D:/ path\n",
    "local_db_path = \"D:/savings.sqlite\"  # Updated path\n",
    "conn = create_database(local_db_path)  # Create the database\n",
    "\n",
    "# Setup the database with initial data\n",
    "setup_database(conn)  # Change 'con' to 'conn'\n",
    "\n",
    "# Fetch and display the data\n",
    "data, columns = get_data(conn)\n",
    "print(tabulate(data, headers=columns))\n",
    "\n",
    "# Close the database connection\n",
    "\n",
    "def exit_app(conn):\n",
    "    conn.close()\n",
    "    print(\"Exiting the application...\")\n",
    "exit_app(conn) "
   ]
  },
  {
   "cell_type": "code",
   "execution_count": 2,
   "id": "30dca0ac-adb9-4b3a-a82b-28f89a8d8ffe",
   "metadata": {
    "tags": []
   },
   "outputs": [
    {
     "name": "stdout",
     "output_type": "stream",
     "text": [
      "Error adding user 2: UNIQUE constraint failed: savings.user_id\n",
      "  user_id    balance\n",
      "---------  ---------\n",
      "        1        132\n",
      "        2         15\n",
      "        3        126\n",
      "        4         96\n",
      "        5         75\n",
      "        6         15\n",
      "        7         78\n",
      "        8        117\n",
      "        9        135\n",
      "       10         87\n",
      "       11          0\n"
     ]
    }
   ],
   "source": [
    "import sqlite3\n",
    "import time\n",
    "from tabulate import tabulate\n",
    "\n",
    "local_db_path = \"D:/savings.sqlite\"  # Replace this with your actual local path\n",
    "\n",
    "def add_new_user(user_id, conn):\n",
    "    query = f\"INSERT INTO savings(user_id, balance) VALUES({str(user_id)}, 0)\"\n",
    "    try:\n",
    "        conn.execute(query)\n",
    "        print(f\"User {str(user_id)} record added\")\n",
    "    except sqlite3.IntegrityError as e:\n",
    "        print(f\"Error adding user {user_id}: {e}\")\n",
    "\n",
    "# Define the path to your local database file\n",
    "local_db_path = \"D:/savings.sqlite\"  # Replace this with your actual local path\n",
    "\n",
    "# Connect to the local database file\n",
    "conn = sqlite3.connect(local_db_path)\n",
    "\n",
    "# Begin a transaction\n",
    "conn.execute(\"BEGIN\")\n",
    "\n",
    "# Add a new user with a different user ID and a balance of 0\n",
    "new_user_id = 2  # Replace with a different user ID\n",
    "add_new_user(new_user_id, conn)\n",
    "\n",
    "# Commit the transaction\n",
    "conn.commit()\n",
    "\n",
    "# Allow a short delay before accessing the database again\n",
    "time.sleep(1)\n",
    "\n",
    "# Fetch and display the updated data from the 'savings' table\n",
    "cur = conn.cursor()\n",
    "cur.execute(\"SELECT * FROM savings\")\n",
    "data = cur.fetchall()\n",
    "columns = [description[0] for description in cur.description]\n",
    "\n",
    "print(tabulate(data, headers=columns))\n"
   ]
  },
  {
   "cell_type": "code",
   "execution_count": null,
   "id": "f40c17f8-b5e0-4b9e-98c8-c509701ec4e4",
   "metadata": {},
   "outputs": [],
   "source": []
  }
 ],
 "metadata": {
  "kernelspec": {
   "display_name": "Python 3 (ipykernel)",
   "language": "python",
   "name": "python3"
  },
  "language_info": {
   "codemirror_mode": {
    "name": "ipython",
    "version": 3
   },
   "file_extension": ".py",
   "mimetype": "text/x-python",
   "name": "python",
   "nbconvert_exporter": "python",
   "pygments_lexer": "ipython3",
   "version": "3.11.5"
  }
 },
 "nbformat": 4,
 "nbformat_minor": 5
}
