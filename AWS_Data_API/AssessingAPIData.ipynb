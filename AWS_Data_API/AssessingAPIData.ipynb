{
 "cells": [
  {
   "cell_type": "code",
   "execution_count": 25,
   "id": "265d2452-bc05-4284-9804-786e0bc5a231",
   "metadata": {
    "tags": []
   },
   "outputs": [
    {
     "name": "stdin",
     "output_type": "stream",
     "text": [
      "Enter the API key:  5464\n"
     ]
    },
    {
     "name": "stdout",
     "output_type": "stream",
     "text": [
      "API key set successfully.\n",
      "Response Code: 403\n",
      "Response Text: {\"message\":\"Forbidden\"}\n",
      "Forbidden - Please check your API key.\n",
      "Attempt 1: Your API key is incorrect. Please try again.\n"
     ]
    },
    {
     "name": "stdin",
     "output_type": "stream",
     "text": [
      "Enter the API key:  2131\n"
     ]
    },
    {
     "name": "stdout",
     "output_type": "stream",
     "text": [
      "API key set successfully.\n",
      "Response Code: 403\n",
      "Response Text: {\"message\":\"Forbidden\"}\n",
      "Forbidden - Please check your API key.\n",
      "Attempt 2: Your API key is incorrect. Please try again.\n"
     ]
    },
    {
     "name": "stdin",
     "output_type": "stream",
     "text": [
      "Enter the API key:  xObtPHZWr395gIBnZjVTC7BsOshyGfHq3Yn2yl5k\n"
     ]
    },
    {
     "name": "stdout",
     "output_type": "stream",
     "text": [
      "API key set successfully.\n",
      "Response Code: 200\n",
      "Response Text: \"Database connected and savings table created. Test data added\"\n",
      "Setup successful: \"Database connected and savings table created. Test data added\"\n",
      "Database access granted.\n"
     ]
    }
   ],
   "source": [
    "import os\n",
    "import requests\n",
    "import json\n",
    "\n",
    "def get_api_key():\n",
    "    # Prompt the user to enter the API key\n",
    "    return input(\"Enter the API key: \")\n",
    "\n",
    "def is_valid_api_key(api_key):\n",
    "    # Check if the API key is not None and not an empty string\n",
    "    return api_key is not None and api_key.strip() != \"\"\n",
    "\n",
    "def attempt_api_setup(api_key):\n",
    "    # Attempt to run the test setup\n",
    "    url = \"https://32614btzed.execute-api.eu-west-2.amazonaws.com/testing/savings-app\"\n",
    "    headers = {\n",
    "        \"Content-Type\": \"application/json\",\n",
    "        \"x-api-key\": api_key\n",
    "    }\n",
    "    payload = {\n",
    "        \"instruction\": \"setup_for_testing\",\n",
    "        \"data\": {},\n",
    "        \"admin_name\": \"Braininhood\"\n",
    "    }\n",
    "\n",
    "    response = requests.post(url, headers=headers, data=json.dumps(payload))\n",
    "\n",
    "    print(f\"Response Code: {response.status_code}\")\n",
    "    print(\"Response Text:\", response.text)\n",
    "\n",
    "    if response.status_code == 200:\n",
    "        print(\"Setup successful:\", response.text)\n",
    "        return True\n",
    "    elif response.status_code == 403:\n",
    "        print(\"Forbidden - Please check your API key.\")\n",
    "        return False\n",
    "    else:\n",
    "        print(f\"Error: {response.status_code} - {response.text}\")\n",
    "        return False\n",
    "\n",
    "# Initialize api_key as None\n",
    "api_key = None\n",
    "\n",
    "# Check if the API key is set and valid, with a maximum of 3 attempts\n",
    "max_attempts = 3\n",
    "attempts = 0\n",
    "\n",
    "while attempts < max_attempts:\n",
    "    key = get_api_key()\n",
    "    os.environ['API_KEY'] = key\n",
    "\n",
    "    api_key = os.getenv('API_KEY')\n",
    "    if is_valid_api_key(api_key):\n",
    "        print(\"API key set successfully.\")\n",
    "        # Check the API key validity before making the setup attempts\n",
    "        if attempt_api_setup(api_key):\n",
    "            # The setup was successful\n",
    "            print(\"Database access granted.\")\n",
    "            break\n",
    "        else:\n",
    "            print(f\"Attempt {attempts + 1}: Your API key is incorrect. Please try again.\")\n",
    "    else:\n",
    "        print(f\"Attempt {attempts + 1}: Invalid API key. Please try again.\")\n",
    "    \n",
    "    attempts += 1\n",
    "\n",
    "# Check if the API key is still not set or valid after three attempts\n",
    "if not is_valid_api_key(api_key):\n",
    "    print(\"Your API key is invalid. No more attempts allowed.\")\n",
    "elif attempts == max_attempts:\n",
    "    print(\"Maximum attempts reached. Database access not granted.\")\n",
    "\n"
   ]
  },
  {
   "cell_type": "code",
   "execution_count": 32,
   "id": "f8587d5e-751c-42d1-b14e-56a7c557c1ec",
   "metadata": {},
   "outputs": [
    {
     "name": "stdin",
     "output_type": "stream",
     "text": [
      "Enter the API key:  546\n"
     ]
    },
    {
     "name": "stdout",
     "output_type": "stream",
     "text": [
      "API key set successfully.\n",
      "Setup Response: {\"message\":\"Forbidden\"}\n",
      "Forbidden - Please check your API key.\n",
      "Attempt 1: Your API key is incorrect. Please try again.\n"
     ]
    },
    {
     "name": "stdin",
     "output_type": "stream",
     "text": [
      "Enter the API key:  213\n"
     ]
    },
    {
     "name": "stdout",
     "output_type": "stream",
     "text": [
      "API key set successfully.\n",
      "Setup Response: {\"message\":\"Forbidden\"}\n",
      "Forbidden - Please check your API key.\n",
      "Attempt 2: Your API key is incorrect. Please try again.\n"
     ]
    },
    {
     "name": "stdin",
     "output_type": "stream",
     "text": [
      "Enter the API key:  1322\n"
     ]
    },
    {
     "name": "stdout",
     "output_type": "stream",
     "text": [
      "API key set successfully.\n",
      "Setup Response: {\"message\":\"Forbidden\"}\n",
      "Forbidden - Please check your API key.\n",
      "Attempt 3: Your API key is incorrect. Please try again.\n",
      "Maximum attempts reached. Database access not granted.\n"
     ]
    }
   ],
   "source": [
    "import os\n",
    "import requests\n",
    "import json\n",
    "\n",
    "def get_api_key():\n",
    "    # Prompt the user to enter the API key\n",
    "    return input(\"Enter the API key: \")\n",
    "\n",
    "def is_valid_api_key(api_key):\n",
    "    # Check if the API key is not None and not an empty string\n",
    "    return api_key is not None and api_key.strip() != \"\"\n",
    "\n",
    "def attempt_api_setup(api_key):\n",
    "    # Attempt to run the test setup\n",
    "    url = \"https://32614btzed.execute-api.eu-west-2.amazonaws.com/testing/savings-app\"\n",
    "    headers = {\n",
    "        \"Content-Type\": \"application/json\",\n",
    "        \"x-api-key\": api_key\n",
    "    }\n",
    "    payload = {\n",
    "        \"instruction\": \"setup_for_testing\",\n",
    "        \"data\": {},\n",
    "        \"admin_name\": \"Braininhood\"\n",
    "    }\n",
    "\n",
    "    response = requests.post(url, headers=headers, data=json.dumps(payload))\n",
    "\n",
    "    print(\"Setup Response:\", response.text)\n",
    "\n",
    "    if response.status_code == 200:\n",
    "        print(\"Setup successful.\")\n",
    "        return True\n",
    "    elif response.status_code == 403:\n",
    "        print(\"Forbidden - Please check your API key.\")\n",
    "        return False\n",
    "    else:\n",
    "        print(f\"Error: {response.status_code} - {response.text}\")\n",
    "        return False\n",
    "\n",
    "def get_data(api_key):\n",
    "    # Get data from the API\n",
    "    url = \"https://32614btzed.execute-api.eu-west-2.amazonaws.com/testing/savings-app\"\n",
    "    headers = {\n",
    "        \"Content-Type\": \"application/json\",\n",
    "        \"x-api-key\": api_key\n",
    "    }\n",
    "    payload = {\n",
    "        \"instruction\": \"get_data\",\n",
    "        \"data\": {},\n",
    "        \"admin_name\": \"Braininhood\"\n",
    "    }\n",
    "\n",
    "    response = requests.post(url, headers=headers, data=json.dumps(payload))\n",
    "\n",
    "    if response.status_code == 200:\n",
    "        data = json.loads(response.text)\n",
    "        print(\"Data received:\", data)\n",
    "    elif response.status_code == 403:\n",
    "        print(\"Forbidden - Please check your API key.\")\n",
    "    else:\n",
    "        print(f\"Error: {response.status_code} - {response.text}\")\n",
    "\n",
    "def add_funds(api_key, user_id, amount):\n",
    "    # Add funds using the API\n",
    "    url = \"https://32614btzed.execute-api.eu-west-2.amazonaws.com/testing/savings-app\"\n",
    "    headers = {\n",
    "        \"Content-Type\": \"application/json\",\n",
    "        \"x-api-key\": api_key\n",
    "    }\n",
    "    payload = {\n",
    "        \"instruction\": \"add_funds\",\n",
    "        \"data\": {\n",
    "            \"user_id\": user_id,\n",
    "            \"amount\": amount\n",
    "        },\n",
    "        \"admin_name\": \"Braininhood\"\n",
    "    }\n",
    "\n",
    "    response = requests.post(url, headers=headers, data=json.dumps(payload))\n",
    "\n",
    "    if response.status_code == 200:\n",
    "        print(f\"Funds added successfully for user {user_id}. Amount: {amount}\")\n",
    "    elif response.status_code == 403:\n",
    "        print(\"Forbidden - Please check your API key.\")\n",
    "    else:\n",
    "        print(f\"Error: {response.status_code} - {response.text}\")\n",
    "\n",
    "def remove_funds(api_key, user_id, amount):\n",
    "    # Remove funds using the API\n",
    "    url = \"https://32614btzed.execute-api.eu-west-2.amazonaws.com/testing/savings-app\"\n",
    "    headers = {\n",
    "        \"Content-Type\": \"application/json\",\n",
    "        \"x-api-key\": api_key\n",
    "    }\n",
    "    payload = {\n",
    "        \"instruction\": \"remove_funds\",\n",
    "        \"data\": {\n",
    "            \"user_id\": user_id,\n",
    "            \"amount\": amount\n",
    "        },\n",
    "        \"admin_name\": \"Braininhood\"\n",
    "    }\n",
    "\n",
    "    response = requests.post(url, headers=headers, data=json.dumps(payload))\n",
    "\n",
    "    if response.status_code == 200:\n",
    "        print(f\"Funds removed successfully for user {user_id}. Amount: {amount}\")\n",
    "    elif response.status_code == 403:\n",
    "        print(\"Forbidden - Please check your API key.\")\n",
    "    else:\n",
    "        print(f\"Error: {response.status_code} - {response.text}\")\n",
    "\n",
    "# Initialize api_key as None\n",
    "api_key = None\n",
    "\n",
    "# Check if the API key is set and valid, with a maximum of 3 attempts\n",
    "max_attempts = 3\n",
    "attempts = 0\n",
    "\n",
    "while attempts < max_attempts:\n",
    "    key = get_api_key()\n",
    "    os.environ['API_KEY'] = key\n",
    "\n",
    "    api_key = os.getenv('API_KEY')\n",
    "    if is_valid_api_key(api_key):\n",
    "        print(\"API key set successfully.\")\n",
    "        # Check the API key validity before making the setup attempts\n",
    "        if attempt_api_setup(api_key):\n",
    "            # The setup was successful\n",
    "            print(\"Database access granted.\")\n",
    "            \n",
    "            # Example usage of functions\n",
    "            get_data(api_key)\n",
    "            add_funds(api_key, user_id=2, amount=15)\n",
    "            remove_funds(api_key, user_id=2, amount=10)\n",
    "\n",
    "            break\n",
    "        else:\n",
    "            print(f\"Attempt {attempts + 1}: Your API key is incorrect. Please try again.\")\n",
    "    else:\n",
    "        print(f\"Attempt {attempts + 1}: Invalid API key. Please try again.\")\n",
    "    \n",
    "    attempts += 1\n",
    "\n",
    "# Check if the API key is still not set or valid after three attempts\n",
    "if not is_valid_api_key(api_key):\n",
    "    print(\"Your API key is invalid. No more attempts allowed.\")\n",
    "elif attempts == max_attempts:\n",
    "    print(\"Maximum attempts reached. Database access not granted.\")\n"
   ]
  },
  {
   "cell_type": "code",
   "execution_count": null,
   "id": "beadb2ce-0e35-4ca1-8654-e3e8d3cdda62",
   "metadata": {},
   "outputs": [],
   "source": []
  }
 ],
 "metadata": {
  "kernelspec": {
   "display_name": "Python 3 (ipykernel)",
   "language": "python",
   "name": "python3"
  },
  "language_info": {
   "codemirror_mode": {
    "name": "ipython",
    "version": 3
   },
   "file_extension": ".py",
   "mimetype": "text/x-python",
   "name": "python",
   "nbconvert_exporter": "python",
   "pygments_lexer": "ipython3",
   "version": "3.11.5"
  }
 },
 "nbformat": 4,
 "nbformat_minor": 5
}
