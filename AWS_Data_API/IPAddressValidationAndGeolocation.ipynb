{
 "cells": [
  {
   "cell_type": "code",
   "execution_count": 1,
   "id": "1109269b-17da-4b9e-8d7d-b2b55588da61",
   "metadata": {
    "tags": []
   },
   "outputs": [
    {
     "name": "stdout",
     "output_type": "stream",
     "text": [
      "Test 1: IP 127.0.0.1 is valid\n",
      "Test 2: IP 127.1000.0.1 is invalid\n",
      "Test 3: IP 2001:0db8:75a2:0000:0000:8a2e:0340:5625 is valid\n",
      "Test 4: IP 2001:0db8:75a2:00100:0000:8a2e:0340:5625 is invalid\n",
      "Test 5: IP 84.69.135.208 is valid\n"
     ]
    }
   ],
   "source": [
    "# Exercise 1 - Check IP address is valid\n",
    "\n",
    "import ipaddress\n",
    "\n",
    "def validate_ip_address(ip):\n",
    "    try:\n",
    "        ipaddress.ip_address(ip)\n",
    "        return True\n",
    "    except ValueError:\n",
    "        return False\n",
    "\n",
    "# Test cases\n",
    "test_cases = [\n",
    "    \"127.0.0.1\",        # Test 1\n",
    "    \"127.1000.0.1\",     # Test 2\n",
    "    \"2001:0db8:75a2:0000:0000:8a2e:0340:5625\",     # Test 3\n",
    "    \"2001:0db8:75a2:00100:0000:8a2e:0340:5625\",    # Test 4\n",
    "    \"84.69.135.208\"     # Test 5\n",
    "]\n",
    "\n",
    "for i, ip in enumerate(test_cases, start=1):\n",
    "    result = validate_ip_address(ip)\n",
    "    print(f\"Test {i}: IP {ip} is {'valid' if result else 'invalid'}\")\n"
   ]
  },
  {
   "cell_type": "code",
   "execution_count": 2,
   "id": "18f105f2-c651-4b54-817d-20cfec39fdf8",
   "metadata": {
    "tags": []
   },
   "outputs": [
    {
     "name": "stdout",
     "output_type": "stream",
     "text": [
      "IPv4 Test: 127.0.0.1 is valid\n",
      "IPv6 Test: 2001:0db8:75a2:0000:0000:8a2e:0340:5625 is valid\n"
     ]
    }
   ],
   "source": [
    "# Exercise 2 - Check an IP address format using regular expressions\n",
    "import re\n",
    "\n",
    "def is_valid_ipv4(ip):\n",
    "    pattern = r\"^(\\d{1,3})\\.(\\d{1,3})\\.(\\d{1,3})\\.(\\d{1,3})$\"\n",
    "    if re.match(pattern, ip):\n",
    "        return all(0 <= int(num) <= 255 for num in re.split(r'\\.', ip))\n",
    "    return False\n",
    "\n",
    "def is_valid_ipv6(ip):\n",
    "    pattern = r\"^([0-9a-fA-F]{1,4}:){7}[0-9a-fA-F]{1,4}$\"\n",
    "    return bool(re.match(pattern, ip))\n",
    "\n",
    "def is_valid_ip(ip, version):\n",
    "    if version == 'IPv4' or version == 4:\n",
    "        return is_valid_ipv4(ip)\n",
    "    elif version == 'IPv6' or version == 6:\n",
    "        return is_valid_ipv6(ip)\n",
    "    return False\n",
    "\n",
    "# Test cases\n",
    "test_ipv4 = \"127.0.0.1\"\n",
    "test_ipv6 = \"2001:0db8:75a2:0000:0000:8a2e:0340:5625\"\n",
    "\n",
    "print(f\"IPv4 Test: {test_ipv4} is {'valid' if is_valid_ip(test_ipv4, 'IPv4') else 'invalid'}\")\n",
    "print(f\"IPv6 Test: {test_ipv6} is {'valid' if is_valid_ip(test_ipv6, 'IPv6') else 'invalid'}\")\n",
    "\n"
   ]
  },
  {
   "cell_type": "code",
   "execution_count": 26,
   "id": "0870ac10-307d-4257-9fe9-c2f4f868b707",
   "metadata": {
    "tags": []
   },
   "outputs": [
    {
     "name": "stdout",
     "output_type": "stream",
     "text": [
      "Key exists in the system.\n"
     ]
    },
    {
     "name": "stdin",
     "output_type": "stream",
     "text": [
      "Enter an IPv4 or IPv6 address:  12.14.16.14\n"
     ]
    },
    {
     "name": "stdout",
     "output_type": "stream",
     "text": [
      "200\n",
      "b'{\"ip_address\":\"12.14.16.14\",\"city\":\"Bridgeton\",\"city_geoname_id\":4378391,\"region\":\"Missouri\",\"region_iso_code\":\"MO\",\"region_geoname_id\":4398678,\"postal_code\":\"63044\",\"country\":\"United States\",\"country_code\":\"US\",\"country_geoname_id\":6252001,\"country_is_eu\":false,\"continent\":\"North America\",\"continent_code\":\"NA\",\"continent_geoname_id\":6255149,\"longitude\":-90.4216,\"latitude\":38.748,\"security\":{\"is_vpn\":false},\"timezone\":{\"name\":\"America/Chicago\",\"abbreviation\":\"CST\",\"gmt_offset\":-6,\"current_time\":\"08:31:19\",\"is_dst\":false},\"flag\":{\"emoji\":\"\\xf0\\x9f\\x87\\xba\\xf0\\x9f\\x87\\xb8\",\"unicode\":\"U+1F1FA U+1F1F8\",\"png\":\"https://static.abstractapi.com/country-flags/US_flag.png\",\"svg\":\"https://static.abstractapi.com/country-flags/US_flag.svg\"},\"currency\":{\"currency_name\":\"USD\",\"currency_code\":\"USD\"},\"connection\":{\"autonomous_system_number\":7018,\"autonomous_system_organization\":\"ATT-INTERNET4\",\"connection_type\":\"Corporate\",\"isp_name\":\"AT&T Services, Inc.\",\"organization_name\":\"AT&T Services, Inc.\"}}'\n"
     ]
    }
   ],
   "source": [
    "# Exercise 3 - Get and store an API key for IP geolocation\n",
    "import os\n",
    "import requests\n",
    "from dotenv import load_dotenv\n",
    "import ipaddress  # Import the ipaddress module\n",
    "\n",
    "# Load environment variables from .env file\n",
    "load_dotenv()\n",
    "\n",
    "# Access the API key from the environment variable\n",
    "api_key = os.getenv(\"SECRET_KEY\")\n",
    "\n",
    "if api_key:\n",
    "    print(\"Key exists in the system.\")\n",
    "else:\n",
    "    key = input(\"Enter the secret key: \")\n",
    "    os.environ['SECRET_KEY'] = key\n",
    "\n",
    "    # Store the key in a .env file\n",
    "    with open('.env', 'w') as f:\n",
    "        f.write(f\"SECRET_KEY={key}\")\n",
    "\n",
    "# Function to get valid IP address information\n",
    "def get_valid_ip():\n",
    "    for _ in range(3):\n",
    "        ip_address = input(\"Enter an IPv4 or IPv6 address: \")\n",
    "        try:\n",
    "            ip_version = ipaddress.ip_address(ip_address).version\n",
    "            if ip_version == 4 or ip_version == 6:\n",
    "                response = requests.get(f\"https://ipgeolocation.abstractapi.com/v1/?api_key={api_key}&ip_address={ip_address}\")\n",
    "                print(response.status_code)\n",
    "                print(response.content)\n",
    "                break  # Exit the loop on successful API request\n",
    "            else:\n",
    "                print(\"Invalid IP address. Please enter a valid IPv4 or IPv6 address (https://whatismyipaddress.com/).\")\n",
    "        except ValueError:\n",
    "            print(\"Invalid IP address format. Please enter a valid IPv4 or IPv6 address (https://whatismyipaddress.com/).\")\n",
    "    \n",
    "    else:\n",
    "        print(\"Maximum attempts reached. Exiting program.\")\n",
    "\n",
    "# Call the function to get IP information\n",
    "get_valid_ip()\n",
    "\n",
    "\n"
   ]
  },
  {
   "cell_type": "code",
   "execution_count": 22,
   "id": "d5a491e6-c1d2-4728-a64e-510932c01fe8",
   "metadata": {
    "tags": []
   },
   "outputs": [
    {
     "name": "stdout",
     "output_type": "stream",
     "text": [
      "Requirement already satisfied: python-dotenv in c:\\users\\kdomm\\anaconda3\\lib\\site-packages (0.21.0)\n",
      "Abstract API Primary key exists in the system.\n"
     ]
    },
    {
     "name": "stdin",
     "output_type": "stream",
     "text": [
      "Enter an IPv4 or IPv6 address:  16.18.25.144\n"
     ]
    },
    {
     "name": "stdout",
     "output_type": "stream",
     "text": [
      "Country: United States\n",
      "City: Palo Alto\n",
      "Latitude: 37.751\n",
      "Longitude: -97.822\n"
     ]
    }
   ],
   "source": [
    "# Exercise 4 - geolocate a network from its IP address\n",
    "!pip install python-dotenv\n",
    "import os\n",
    "import requests\n",
    "import json\n",
    "from dotenv import load_dotenv\n",
    "import ipaddress\n",
    "\n",
    "\n",
    "# Load environment variables from .env file\n",
    "load_dotenv()\n",
    "\n",
    "# Access the API key from the environment variable\n",
    "api_key = os.getenv(\"SECRET_KEY\")\n",
    "\n",
    "if api_key:\n",
    "    print(\"Abstract API Primary key exists in the system.\")\n",
    "else:\n",
    "    key = input(\"Enter the Abstract API Primary key: \")\n",
    "    os.environ['SECRET_KEY'] = key\n",
    "\n",
    "    # Store the key in a .env file\n",
    "    with open('.env', 'w') as f:\n",
    "        f.write(f\"SECRET_KEY={key}\")\n",
    "# check valid IP\n",
    "def get_valid_ip():\n",
    "    for _ in range(3):\n",
    "        ip_address = input(\"Enter an IPv4 or IPv6 address: \")\n",
    "        try:\n",
    "            ip_version = ipaddress.ip_address(ip_address).version\n",
    "            if ip_version == 4 or ip_version == 6:\n",
    "                return ip_address\n",
    "            else:\n",
    "                print(\"Invalid IP address. Please enter a valid IPv4 or IPv6 address (https://whatismyipaddress.com/).\")\n",
    "        except ValueError:\n",
    "            print(\"Invalid IP address format. Please enter a valid IPv4 or IPv6 address (https://whatismyipaddress.com/).\")\n",
    "    \n",
    "    print(\"Maximum attempts reached. Exiting program.\")\n",
    "    return None\n",
    "\n",
    "#Use Abstract API \n",
    "def geolocate_ip(ip_address):\n",
    "    url = f\"https://ipgeolocation.abstractapi.com/v1/?api_key={api_key}&ip_address={ip_address}\"\n",
    "    response = requests.get(url)\n",
    "    \n",
    "    if response.status_code == 200:\n",
    "        data = json.loads(response.content)\n",
    "        country = data.get(\"country\", \"N/A\")\n",
    "        city = data.get(\"city\", \"N/A\")\n",
    "        latitude = data.get(\"latitude\", \"N/A\")\n",
    "        longitude = data.get(\"longitude\", \"N/A\")\n",
    "        \n",
    "        print(f\"Country: {country}\")\n",
    "        print(f\"City: {city}\")\n",
    "        print(f\"Latitude: {latitude}\")\n",
    "        print(f\"Longitude: {longitude}\")\n",
    "    else:\n",
    "        print(\"Error fetching data\")\n",
    "\n",
    "def main():\n",
    "    ip_address = get_valid_ip()\n",
    "    if ip_address:\n",
    "        geolocate_ip(ip_address)\n",
    "\n",
    "if __name__ == \"__main__\":\n",
    "    main()\n"
   ]
  },
  {
   "cell_type": "code",
   "execution_count": null,
   "id": "39222d1c-52ad-44c2-9b02-23b16eb77d25",
   "metadata": {},
   "outputs": [],
   "source": []
  }
 ],
 "metadata": {
  "kernelspec": {
   "display_name": "Python 3 (ipykernel)",
   "language": "python",
   "name": "python3"
  },
  "language_info": {
   "codemirror_mode": {
    "name": "ipython",
    "version": 3
   },
   "file_extension": ".py",
   "mimetype": "text/x-python",
   "name": "python",
   "nbconvert_exporter": "python",
   "pygments_lexer": "ipython3",
   "version": "3.11.5"
  }
 },
 "nbformat": 4,
 "nbformat_minor": 5
}
