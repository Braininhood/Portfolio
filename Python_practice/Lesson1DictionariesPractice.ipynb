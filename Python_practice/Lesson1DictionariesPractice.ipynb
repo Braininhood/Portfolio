{
 "cells": [
  {
   "cell_type": "code",
   "execution_count": 2,
   "id": "3c8af1c4-f140-4855-a34d-2e9e2254de21",
   "metadata": {
    "tags": []
   },
   "outputs": [
    {
     "name": "stdin",
     "output_type": "stream",
     "text": [
      "Enter name:  Andrii\n",
      "Enter age:  40\n",
      "Enter postcode:  TD1 1NF\n"
     ]
    },
    {
     "name": "stdout",
     "output_type": "stream",
     "text": [
      "{'name': 'Andrii', 'age': 40, 'postcode': 'TD1 1NF'}\n"
     ]
    }
   ],
   "source": [
    "#  print dictionary\n",
    "\n",
    "def create_person():\n",
    "   \n",
    "    person = {\n",
    "        'name': '',\n",
    "        'age': 0,\n",
    "        'postcode': ''\n",
    "    }\n",
    "\n",
    "   \n",
    "    person['name'] = input(\"Enter name: \")\n",
    "    person['age'] = int(input(\"Enter age: \"))\n",
    "    person['postcode'] = input(\"Enter postcode: \")\n",
    "\n",
    "    print(person)\n",
    "\n",
    "# Test the function\n",
    "create_person()"
   ]
  },
  {
   "cell_type": "code",
   "execution_count": 3,
   "id": "0f8fe721-86b6-4e72-9b5c-b328bde23c2b",
   "metadata": {
    "tags": []
   },
   "outputs": [
    {
     "name": "stdin",
     "output_type": "stream",
     "text": [
      "Enter first name:  Andrii\n",
      "Enter surname:  Berezutskyi\n",
      "Enter birthdate (YYYY/MM/DD):  1982/12/25\n",
      "Enter postcode:  TD1 1NF\n"
     ]
    },
    {
     "name": "stdout",
     "output_type": "stream",
     "text": [
      "Andrii Berezutskyi Vauxhall\n"
     ]
    }
   ],
   "source": [
    "# create a dictionary\n",
    "\n",
    "def create_dics():\n",
    "    \n",
    "    person = {\n",
    "        'firstname': '',\n",
    "        'surname': '',\n",
    "        'birthdate': '',\n",
    "        'postcode': ''\n",
    "    }\n",
    "\n",
    "    car = {\n",
    "        'make': 'Vauxhall',\n",
    "        'model': 'Corsa',\n",
    "        'engineSize': 1199,\n",
    "        'fuelType': 'unleaded',\n",
    "        'num_doors': 4\n",
    "    }\n",
    "\n",
    "    \n",
    "    person['firstname'] = input(\"Enter first name: \")\n",
    "    person['surname'] = input(\"Enter surname: \")\n",
    "    person['birthdate'] = input(\"Enter birthdate (YYYY/MM/DD): \")\n",
    "    person['postcode'] = input(\"Enter postcode: \")\n",
    "\n",
    "    print(person['firstname'], person['surname'], car['make'])\n",
    "\n",
    "\n",
    "create_dics()"
   ]
  },
  {
   "cell_type": "code",
   "execution_count": 36,
   "id": "428020c4-cec6-4942-a2a8-c62927fc1f28",
   "metadata": {
    "tags": []
   },
   "outputs": [
    {
     "name": "stdin",
     "output_type": "stream",
     "text": [
      "Enter birthdate (YYYY/MM/DD):  2001/12/25\n"
     ]
    },
    {
     "name": "stdout",
     "output_type": "stream",
     "text": [
      "An engine size under 1200 is recommended\n"
     ]
    },
    {
     "name": "stdin",
     "output_type": "stream",
     "text": [
      "Enter the make of the car you're looking for:  Dodoge\n"
     ]
    },
    {
     "name": "stdout",
     "output_type": "stream",
     "text": [
      "Sorry, we don't have any of that make in stock\n",
      "Thank you   for using our site.\n"
     ]
    }
   ],
   "source": [
    "# check dictionary values\n",
    "\n",
    "def check_dictionary_values():\n",
    "   \n",
    "    person = {\n",
    "        'firstname': '',\n",
    "        'surname': '',\n",
    "        'birthdate': '',\n",
    "        'postcode': ''\n",
    "    }\n",
    "\n",
    "    car = {\n",
    "        'make': 'Vauxhall',\n",
    "        'model': 'Corsa',\n",
    "        'engineSize': 1199,\n",
    "        'fuelType': 'unleaded',\n",
    "        'num_doors': 4\n",
    "    }\n",
    "\n",
    "    \n",
    "    person['firstname'] = input(\"Enter first name: \")\n",
    "    person['surname'] = input(\"Enter surname: \")\n",
    "    person['birthdate'] = input(\"Enter birthdate (YYYY/MM/DD): \")\n",
    "    person['postcode'] = input(\"Enter postcode: \")\n",
    "\n",
    "    \n",
    "    birth_year = int(person['birthdate'].split('/')[0])\n",
    "    current_year = datetime.date.today()\n",
    "    age = current_year.year - birth_year\n",
    "\n",
    "    \n",
    "    if age < 17:\n",
    "        print(\"You are too young to drive\")\n",
    "        print(f\"Thank you {person['firstname']} {person['surname']} for using our site.\")\n",
    "        return  \n",
    "    elif 17 <= age < 25:\n",
    "        print(\"An engine size under 1200 is recommended\")\n",
    "\n",
    "    \n",
    "    car_make = input(\"Enter the make of the car you're looking for: \")\n",
    "\n",
    "    \n",
    "    if car_make.lower() == car['make'].lower():\n",
    "        print(f\"We have one {car['make']} in stock, details:\")\n",
    "        for key, value in car.items():\n",
    "            print(f\"{key.capitalize()} - {value}\")\n",
    "        print(f\"You can get more details of stockists near {person['postcode']} on 01234567890\")\n",
    "    else:\n",
    "        print(f\"Sorry, we don't have any of that make in stock\")\n",
    "\n",
    "    print(f\"Thank you {person['firstname']} {person['surname']} for using our site.\")\n",
    "\n",
    "\n",
    "check_dictionary_values()\n"
   ]
  },
  {
   "cell_type": "code",
   "execution_count": 40,
   "id": "da2698ba-b59b-4df8-b4bb-b96438f623b1",
   "metadata": {
    "tags": []
   },
   "outputs": [
    {
     "name": "stdin",
     "output_type": "stream",
     "text": [
      "Enter 'English' or 'Maths' to display scores:  Maths\n"
     ]
    },
    {
     "name": "stdout",
     "output_type": "stream",
     "text": [
      "['Andy', 'Angela']\n",
      "[58, 72]\n"
     ]
    }
   ],
   "source": [
    "# print keys and values\n",
    "\n",
    "def display_dictionary(scores):\n",
    "    print(list(scores.keys()))\n",
    "    print(list(scores.values()))\n",
    "\n",
    "english_scores = {'Andy': 95, 'Angela': 53}\n",
    "maths_scores = {'Andy': 58, 'Angela': 72}\n",
    "\n",
    "subject = input(\"Enter 'English' or 'Maths' to display scores: \")\n",
    "if subject.lower() == 'english':\n",
    "    display_dictionary(english_scores)\n",
    "elif subject.lower() == 'maths':\n",
    "    display_dictionary(maths_scores)\n",
    "else:\n",
    "    print(\"Invalid subject entered.\")"
   ]
  },
  {
   "cell_type": "code",
   "execution_count": 48,
   "id": "54d79ca4-8cd1-4de9-9165-e2428e577f2d",
   "metadata": {
    "tags": []
   },
   "outputs": [
    {
     "name": "stdout",
     "output_type": "stream",
     "text": [
      "{'Andy': 73, 'Angela': 73, 'George': 55}\n"
     ]
    }
   ],
   "source": [
    "#  add field\n",
    "\n",
    "def update_scores():\n",
    "    science_scores = dict(Andy = 73, Angela = 73)\n",
    "    science_scores[\"George\"] = 55\n",
    "    print(science_scores)\n",
    "\n",
    "update_scores()"
   ]
  },
  {
   "cell_type": "code",
   "execution_count": 52,
   "id": "ea4b8d88-3961-40e1-9a3f-e193c781da81",
   "metadata": {
    "tags": []
   },
   "outputs": [
    {
     "name": "stdout",
     "output_type": "stream",
     "text": [
      "Angela 72\n",
      "Andy 72\n",
      "George 55\n"
     ]
    }
   ],
   "source": [
    "# loop through keys/value pairs\n",
    "\n",
    "def print_scores():\n",
    "    science_scores = {'Angela': 72, 'Andy': 72, 'George': 55}\n",
    "    for name, score in science_scores.items():\n",
    "        print(name,score)\n",
    "\n",
    "print_scores()"
   ]
  },
  {
   "cell_type": "code",
   "execution_count": 54,
   "id": "5a39f3b7-e9dc-4b46-81c4-409740b77fed",
   "metadata": {
    "tags": []
   },
   "outputs": [
    {
     "name": "stdout",
     "output_type": "stream",
     "text": [
      "{1: 1, 2: 4, 3: 9, 4: 16, 5: 25, 6: 36, 7: 49, 8: 64, 9: 81, 10: 100, 11: 121, 12: 144, 13: 169, 14: 196, 15: 225}\n"
     ]
    }
   ],
   "source": [
    "# generate new dictionary\n",
    "\n",
    "def create_square_dict():\n",
    "    square_dict = {num: num ** 2 for num in range(1, 16)}\n",
    "    print(square_dict)\n",
    "\n",
    "create_square_dict()"
   ]
  },
  {
   "cell_type": "code",
   "execution_count": 62,
   "id": "e0c48cf7-acc2-4535-9c44-b38259b7b545",
   "metadata": {
    "tags": []
   },
   "outputs": [
    {
     "name": "stdout",
     "output_type": "stream",
     "text": [
      "{'red': '#FF0000', 'green': '#008000', 'blue': '#0000FF'}\n"
     ]
    }
   ],
   "source": [
    "# colour dictionary\n",
    "\n",
    "def manage_colors():\n",
    "    color_codes = {\n",
    "        'red': '#FF0000',\n",
    "        'green': '#008000',\n",
    "        'black': '#000000',\n",
    "        'white': '#FFFFFF'\n",
    "    }\n",
    "    \n",
    "    color_codes['blue'] = '#0000FF' \n",
    "    \n",
    "    color_codes.pop('black')  \n",
    "    color_codes.pop('white')  \n",
    "    \n",
    "    print(color_codes)\n",
    "\n",
    "manage_colors()"
   ]
  },
  {
   "cell_type": "code",
   "execution_count": 63,
   "id": "2a3988e6-8af1-4924-8c35-e9ea1380c0d3",
   "metadata": {
    "tags": []
   },
   "outputs": [
    {
     "name": "stdout",
     "output_type": "stream",
     "text": [
      "[('red', '#FF0000'), ('green', '#008000'), ('blue', '#0000FF'), ('black', '#000000'), ('white', '#FFFFFF')]\n"
     ]
    }
   ],
   "source": [
    "# item tuples\n",
    "\n",
    "def print_color_tuples():\n",
    "    color_codes = {\n",
    "        'red': '#FF0000',\n",
    "        'green': '#008000',\n",
    "        'blue': '#0000FF',\n",
    "        'black': '#000000',\n",
    "        'white': '#FFFFFF'\n",
    "    }\n",
    "    \n",
    "    \n",
    "    print(list(color_codes.items()))\n",
    "\n",
    "print_color_tuples()"
   ]
  },
  {
   "cell_type": "code",
   "execution_count": 64,
   "id": "e089ee4b-676a-4f60-8a27-30582b1ef543",
   "metadata": {
    "tags": []
   },
   "outputs": [
    {
     "name": "stdout",
     "output_type": "stream",
     "text": [
      "Dictionary is empty\n",
      "Dictionary is not empty\n"
     ]
    }
   ],
   "source": [
    "#check if empty\n",
    "\n",
    "def check_empty(dictionary):\n",
    "    if not bool(dictionary):\n",
    "        print(\"Dictionary is empty\")\n",
    "    else:\n",
    "        print(\"Dictionary is not empty\")\n",
    "\n",
    "# Test 1\n",
    "sample_data_1 = {}\n",
    "check_empty(sample_data_1)\n",
    "\n",
    "# Test 2\n",
    "sample_data_2 = {\"name\": \"Groucho\", \"occupation\": \"comedian\"}\n",
    "check_empty(sample_data_2)"
   ]
  }
 ],
 "metadata": {
  "kernelspec": {
   "display_name": "Python 3 (ipykernel)",
   "language": "python",
   "name": "python3"
  },
  "language_info": {
   "codemirror_mode": {
    "name": "ipython",
    "version": 3
   },
   "file_extension": ".py",
   "mimetype": "text/x-python",
   "name": "python",
   "nbconvert_exporter": "python",
   "pygments_lexer": "ipython3",
   "version": "3.11.5"
  }
 },
 "nbformat": 4,
 "nbformat_minor": 5
}
