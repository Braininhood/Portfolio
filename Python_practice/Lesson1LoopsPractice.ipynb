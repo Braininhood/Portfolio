{
 "cells": [
  {
   "cell_type": "code",
   "execution_count": 14,
   "id": "79074338-63e9-4640-b9ac-ecdd4019c2ea",
   "metadata": {
    "tags": []
   },
   "outputs": [
    {
     "name": "stdout",
     "output_type": "stream",
     "text": [
      "0\n",
      "1\n",
      "2\n",
      "3\n",
      "4\n",
      "5\n",
      "6\n",
      "7\n",
      "8\n",
      "9\n"
     ]
    }
   ],
   "source": [
    "def list_numbers():\n",
    "#number list\n",
    "    for i in range (10):\n",
    "        print (i)\n",
    "    \n",
    "\n",
    "list_numbers()"
   ]
  },
  {
   "cell_type": "code",
   "execution_count": 16,
   "id": "304e58bd-7756-4fd9-9659-43ae15943a62",
   "metadata": {
    "tags": []
   },
   "outputs": [
    {
     "name": "stdout",
     "output_type": "stream",
     "text": [
      "5\n",
      "6\n",
      "7\n",
      "8\n",
      "9\n",
      "10\n",
      "11\n",
      "12\n",
      "13\n",
      "14\n",
      "15\n"
     ]
    }
   ],
   "source": [
    "def list_number_range():\n",
    "#list number range\n",
    "\n",
    "    for i in range (5,16):\n",
    "        print (i)\n",
    "    \n",
    "\n",
    "list_number_range()"
   ]
  },
  {
   "cell_type": "code",
   "execution_count": 17,
   "id": "8f178e32-8779-4976-8465-6636dbc645df",
   "metadata": {
    "tags": []
   },
   "outputs": [
    {
     "name": "stdout",
     "output_type": "stream",
     "text": [
      "2\n",
      "4\n",
      "6\n",
      "8\n",
      "10\n",
      "12\n",
      "14\n",
      "16\n",
      "18\n",
      "20\n"
     ]
    }
   ],
   "source": [
    "def list_evens():\n",
    "#list evens\n",
    "\n",
    "    for i in range (2,21,2):\n",
    "        print (i)\n",
    "    \n",
    "\n",
    "list_evens()"
   ]
  },
  {
   "cell_type": "code",
   "execution_count": 18,
   "id": "d86f5462-a4d0-473c-adbf-485853b984e5",
   "metadata": {
    "tags": []
   },
   "outputs": [
    {
     "name": "stdout",
     "output_type": "stream",
     "text": [
      "3\n",
      "6\n",
      "9\n",
      "12\n",
      "15\n",
      "18\n",
      "21\n",
      "24\n",
      "27\n",
      "30\n",
      "33\n",
      "36\n"
     ]
    }
   ],
   "source": [
    "def list_multiples():\n",
    "#list multiples\n",
    "\n",
    "    for i in range (1,13):\n",
    "        print (i*3)\n",
    "    \n",
    "\n",
    "list_multiples()"
   ]
  },
  {
   "cell_type": "code",
   "execution_count": 24,
   "id": "abccc504-3939-4cdf-bc1c-cd1070386d05",
   "metadata": {
    "tags": []
   },
   "outputs": [
    {
     "name": "stdout",
     "output_type": "stream",
     "text": [
      "15\n",
      "14\n",
      "13\n",
      "12\n",
      "11\n",
      "10\n",
      "9\n",
      "8\n",
      "7\n",
      "6\n",
      "5\n"
     ]
    }
   ],
   "source": [
    "def list_reverse():\n",
    "#reverse list\n",
    "\n",
    "    for i in range (15,4,-1):\n",
    "        print (i)\n",
    "    \n",
    "\n",
    "list_reverse()"
   ]
  },
  {
   "cell_type": "code",
   "execution_count": 34,
   "id": "7a661c60-9cad-4654-8ec3-d9aa9138f50c",
   "metadata": {
    "tags": []
   },
   "outputs": [
    {
     "name": "stdout",
     "output_type": "stream",
     "text": [
      "120\n"
     ]
    }
   ],
   "source": [
    "def calculate_sum_of():\n",
    "#sum of range\n",
    "\n",
    "    total = 0\n",
    "    for loop in range (1,16):\n",
    "        total = total + loop\n",
    "    print (total)\n",
    "    \n",
    "\n",
    "calculate_sum_of()"
   ]
  },
  {
   "cell_type": "code",
   "execution_count": 39,
   "id": "6bb76217-b3c3-4eec-a043-cccbf563bcbc",
   "metadata": {
    "tags": []
   },
   "outputs": [
    {
     "name": "stdout",
     "output_type": "stream",
     "text": [
      "3\n"
     ]
    }
   ],
   "source": [
    "def calculate_sum_of():\n",
    "#average\n",
    "\n",
    "    total = 0\n",
    "    for loop in range (1,6):\n",
    "        total = total + loop\n",
    "    print (total//5)\n",
    "    \n",
    "\n",
    "calculate_sum_of()"
   ]
  },
  {
   "cell_type": "code",
   "execution_count": 40,
   "id": "f2d57ace-ef35-44ed-92d7-62fc9a5fec11",
   "metadata": {
    "tags": []
   },
   "outputs": [
    {
     "name": "stdin",
     "output_type": "stream",
     "text": [
      "Please, enter a number: 2\n"
     ]
    },
    {
     "name": "stdout",
     "output_type": "stream",
     "text": [
      "1  x  2  =  2\n",
      "2  x  2  =  4\n",
      "3  x  2  =  6\n",
      "4  x  2  =  8\n",
      "5  x  2  =  10\n",
      "6  x  2  =  12\n",
      "7  x  2  =  14\n",
      "8  x  2  =  16\n",
      "9  x  2  =  18\n",
      "10  x  2  =  20\n"
     ]
    }
   ],
   "source": [
    "def display_times_table():\n",
    "#calculating times table\n",
    "\n",
    "    num = int(input(\"Please, enter a number:\"))\n",
    "    for loop in range (1,11):\n",
    "        print (loop, \" x \",num,\" = \",loop*num)\n",
    "    \n",
    "\n",
    "display_times_table()"
   ]
  },
  {
   "cell_type": "code",
   "execution_count": 46,
   "id": "228d0c84-3133-4b58-af34-ef0f78f94f6e",
   "metadata": {
    "tags": []
   },
   "outputs": [
    {
     "name": "stdin",
     "output_type": "stream",
     "text": [
      "Please, enter a number: 4\n"
     ]
    },
    {
     "name": "stdout",
     "output_type": "stream",
     "text": [
      "4\n",
      "3\n",
      "2\n",
      "1\n",
      "GO\n"
     ]
    }
   ],
   "source": [
    "def countdown():\n",
    "#counting down numbers in reverse\n",
    "\n",
    "    num = int(input(\"Please, enter a number:\"))\n",
    "    for loop in range (num,0,-1):\n",
    "        print (loop)\n",
    "    print (\"GO\")\n",
    "\n",
    "countdown()"
   ]
  },
  {
   "cell_type": "code",
   "execution_count": 55,
   "id": "868b6fb4-d7b5-4eb7-a6a3-2cb38d76e589",
   "metadata": {
    "tags": []
   },
   "outputs": [
    {
     "name": "stdout",
     "output_type": "stream",
     "text": [
      "510\n",
      "540\n",
      "570\n",
      "600\n",
      "630\n",
      "660\n",
      "690\n",
      "720\n",
      "750\n",
      "780\n",
      "810\n",
      "840\n",
      "870\n",
      "900\n",
      "930\n",
      "960\n",
      "990\n",
      "1020\n",
      "1050\n",
      "1080\n",
      "1110\n",
      "1140\n",
      "1170\n",
      "1200\n",
      "1230\n",
      "1260\n",
      "1290\n",
      "1320\n",
      "1350\n",
      "1380\n",
      "1410\n",
      "1440\n",
      "1470\n",
      "1500\n"
     ]
    }
   ],
   "source": [
    "def find_multiples():\n",
    "#finding numbers which are multiples of both 3 and 10, between 500 and 1500\n",
    "   \n",
    "    for loop in range (500,1500):\n",
    "        if loop%3 == 0 and loop%10 == 0: \n",
    "            print (loop)\n",
    "\n",
    "find_multiples()"
   ]
  },
  {
   "cell_type": "code",
   "execution_count": null,
   "id": "5fb8375b-5188-4fd0-9785-c8ed09b5bf61",
   "metadata": {},
   "outputs": [],
   "source": []
  }
 ],
 "metadata": {
  "kernelspec": {
   "display_name": "Python 3 (ipykernel)",
   "language": "python",
   "name": "python3"
  },
  "language_info": {
   "codemirror_mode": {
    "name": "ipython",
    "version": 3
   },
   "file_extension": ".py",
   "mimetype": "text/x-python",
   "name": "python",
   "nbconvert_exporter": "python",
   "pygments_lexer": "ipython3",
   "version": "3.11.5"
  }
 },
 "nbformat": 4,
 "nbformat_minor": 5
}
