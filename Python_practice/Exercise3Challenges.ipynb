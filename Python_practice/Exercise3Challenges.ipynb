{
 "cells": [
  {
   "cell_type": "code",
   "execution_count": 1,
   "id": "471e2abd-466f-41cb-8915-de6a61c0b1da",
   "metadata": {
    "tags": []
   },
   "outputs": [
    {
     "name": "stdout",
     "output_type": "stream",
     "text": [
      "The sum of all items in the list: 15\n"
     ]
    }
   ],
   "source": [
    "# 1a  program to sum all the items in a list.\n",
    "\n",
    "numbers = [1, 2, 3, 4, 5]\n",
    "\n",
    "# Calculate the sum of all items in the list\n",
    "total = sum(numbers)\n",
    "\n",
    "print(\"The sum of all items in the list:\", total)\n"
   ]
  },
  {
   "cell_type": "code",
   "execution_count": 2,
   "id": "8cb6a35a-d5dd-4fef-818e-f3dce92dbce9",
   "metadata": {
    "tags": []
   },
   "outputs": [
    {
     "name": "stdout",
     "output_type": "stream",
     "text": [
      "Number of strings meeting the criteria: 3\n"
     ]
    }
   ],
   "source": [
    "# 1b to count the number of strings where the string length is 2 or more and the first and last character are same from a given list of strings.\n",
    "\n",
    "words = ['level', 'hello', 'good', 'noon', 'radar', 'open']\n",
    "\n",
    "# Count the number of strings meeting the specified criteria\n",
    "count = sum(1 for word in words if len(word) >= 2 and word[0] == word[-1])\n",
    "\n",
    "print(\"Number of strings meeting the criteria:\", count)"
   ]
  },
  {
   "cell_type": "code",
   "execution_count": 3,
   "id": "d6a26fb6-f0b5-4cdc-8102-e8b6bf3caba7",
   "metadata": {
    "tags": []
   },
   "outputs": [
    {
     "name": "stdout",
     "output_type": "stream",
     "text": [
      "Sorted list by the last element of each tuple: [(7, 0), (2, 1), (3, 2), (1, 3), (5, 9)]\n"
     ]
    }
   ],
   "source": [
    "# 1c to get a list, sorted in increasing order by the last element in each tuple from a given list of non-empty tuples.\n",
    "\n",
    "tuples_list = [(1, 3), (3, 2), (2, 1), (5, 9), (7, 0)]\n",
    "\n",
    "# Sort the list based on the last element of each tuple\n",
    "sorted_list = sorted(tuples_list, key=lambda x: x[-1])\n",
    "\n",
    "print(\"Sorted list by the last element of each tuple:\", sorted_list)\n",
    "\n"
   ]
  },
  {
   "cell_type": "code",
   "execution_count": 4,
   "id": "e01ec875-39f5-4992-ada3-2aa85eb545c2",
   "metadata": {
    "tags": []
   },
   "outputs": [
    {
     "name": "stdout",
     "output_type": "stream",
     "text": [
      "List without duplicates: [1, 2, 3, 4, 5, 6]\n"
     ]
    }
   ],
   "source": [
    "# 2a to remove duplicates from a list.\n",
    "\n",
    "my_list = [1, 2, 2, 3, 4, 4, 5, 5, 6]\n",
    "\n",
    "# Remove duplicates using set\n",
    "unique_list = list(set(my_list))\n",
    "\n",
    "print(\"List without duplicates:\", unique_list)\n"
   ]
  },
  {
   "cell_type": "code",
   "execution_count": 5,
   "id": "7b4f8b92-a4a6-477c-b1aa-dec7fea6e824",
   "metadata": {
    "tags": []
   },
   "outputs": [
    {
     "name": "stdout",
     "output_type": "stream",
     "text": [
      "True\n",
      "False\n"
     ]
    }
   ],
   "source": [
    "# 2b function that takes two lists and returns True if they have at least one common member.\n",
    "\n",
    "list_a = [1, 2, 3, 4, 5]\n",
    "list_b = [5, 6, 7, 8, 9]\n",
    "list_c = [10, 11, 12]\n",
    "\n",
    "def have_common_element(list1, list2):\n",
    "    # Convert lists to sets for efficient comparison\n",
    "    set1 = set(list1)\n",
    "    set2 = set(list2)\n",
    "    \n",
    "    # Check for common elements\n",
    "    common_elements = set1.intersection(set2)\n",
    "    \n",
    "    # Return True if common elements exist, otherwise False\n",
    "    return len(common_elements) > 0\n",
    "\n",
    "\n",
    "print(have_common_element(list_a, list_b))  # Output: True\n",
    "print(have_common_element(list_a, list_c))  # Output: False\n"
   ]
  },
  {
   "cell_type": "code",
   "execution_count": 6,
   "id": "8bdc6cb8-472b-4f54-b9ec-6855b62fe707",
   "metadata": {
    "tags": []
   },
   "outputs": [
    {
     "name": "stdout",
     "output_type": "stream",
     "text": [
      "[1, 3, 5, 7, 9]\n"
     ]
    }
   ],
   "source": [
    "# 2c to print the numbers of a specified list after removing even numbers from it.\n",
    "\n",
    "numbers = [1, 2, 3, 4, 5, 6, 7, 8, 9, 10]\n",
    "\n",
    "def remove_even_numbers(input_list):\n",
    "    # Using list comprehension to filter out even numbers\n",
    "    result = [num for num in input_list if num % 2 != 0]\n",
    "    return result\n",
    "\n",
    "# Remove even numbers from the list\n",
    "result_list = remove_even_numbers(numbers)\n",
    "\n",
    "print(result_list)\n"
   ]
  },
  {
   "cell_type": "code",
   "execution_count": 7,
   "id": "493a6a2e-d534-4416-b485-84789d7b0240",
   "metadata": {
    "tags": []
   },
   "outputs": [
    {
     "name": "stdout",
     "output_type": "stream",
     "text": [
      "[1, 4, 9, 16, 25, 676, 729, 784, 841, 900]\n"
     ]
    }
   ],
   "source": [
    "# 3a to generate and print a list of first and last 5 elements where the values are square of numbers between 1 and 30 (both included).\n",
    "\n",
    "def generate_square_list():\n",
    "   \n",
    "    squares = [num ** 2 for num in range(1, 31)]\n",
    "\n",
    "# Extract first and last 5 elements\n",
    "    result = squares[:5] + squares[-5:]\n",
    "    return result\n",
    "\n",
    "\n",
    "result_list = generate_square_list()\n",
    "print(result_list)"
   ]
  },
  {
   "cell_type": "code",
   "execution_count": 8,
   "id": "e2dcee97-aeb6-4e2b-b45f-b22c21fe094c",
   "metadata": {
    "tags": []
   },
   "outputs": [
    {
     "name": "stdout",
     "output_type": "stream",
     "text": [
      "The difference between the lists is: [1, 2]\n"
     ]
    }
   ],
   "source": [
    "# 3b to get the difference between the two lists.\n",
    "\n",
    "list_a = [1, 2, 3, 4, 5]\n",
    "list_b = [3, 4, 5, 6, 7]\n",
    "\n",
    "def list_difference(list1, list2):\n",
    "    return list(set(list1) - set(list2))\n",
    "\n",
    "# Calculating the difference between the lists\n",
    "result = list_difference(list_a, list_b)\n",
    "print(\"The difference between the lists is:\", result)\n"
   ]
  },
  {
   "cell_type": "code",
   "execution_count": 9,
   "id": "5e773b88-b47c-4dae-9e0b-0febc0f14cc2",
   "metadata": {
    "tags": []
   },
   "outputs": [
    {
     "name": "stdout",
     "output_type": "stream",
     "text": [
      "List converted to string: Hello\n"
     ]
    }
   ],
   "source": [
    "# 3c to convert a list of characters into a string.\n",
    "\n",
    "char_list = ['H', 'e', 'l', 'l', 'o']\n",
    "\n",
    "def list_to_string(char_list):\n",
    "    # Using the join() method to convert the list to a string\n",
    "    string_result = ''.join(char_list)\n",
    "    return string_result\n",
    "\n",
    "result_string = list_to_string(char_list)\n",
    "print(\"List converted to string:\", result_string)\n",
    "\n"
   ]
  },
  {
   "cell_type": "code",
   "execution_count": 10,
   "id": "865a8b49-26e5-4f4c-826d-1c0ccfb1ddd4",
   "metadata": {
    "tags": []
   },
   "outputs": [
    {
     "name": "stdout",
     "output_type": "stream",
     "text": [
      "Randomly selected item: 3\n"
     ]
    }
   ],
   "source": [
    "# 4a to select an item randomly from a list.\n",
    "\n",
    "import random\n",
    "\n",
    "my_list = [1, 2, 3, 4, 5, 6, 7, 8, 9, 10]\n",
    "\n",
    "def select_random_item(input_list):\n",
    "    random_item = random.choice(input_list)\n",
    "    return random_item\n",
    "\n",
    "result = select_random_item(my_list)\n",
    "print(\"Randomly selected item:\", result)"
   ]
  },
  {
   "cell_type": "code",
   "execution_count": 11,
   "id": "e72fcd43-b686-493d-8b0d-524c204eefb2",
   "metadata": {
    "tags": []
   },
   "outputs": [
    {
     "name": "stdout",
     "output_type": "stream",
     "text": [
      "The second largest number is: 50\n"
     ]
    }
   ],
   "source": [
    "# 4b to find the second largest number in a list.\n",
    "\n",
    "my_list = [10, 20, 4, 45, 99, 50, 10, 20, 50]\n",
    "\n",
    "def second_largest(input_list):\n",
    "    # Convert the list to a set to remove duplicates, then convert it back to a list\n",
    "    unique_list = list(set(input_list))\n",
    "    \n",
    "    # Check if the length of the list is less than 2\n",
    "    if len(unique_list) < 2:\n",
    "        return \"List should have at least two different elements.\"\n",
    "    \n",
    "    # Sort the list in descending order\n",
    "    unique_list.sort(reverse=True)\n",
    "    \n",
    "    # Return the second largest element\n",
    "    return unique_list[1]\n",
    "\n",
    "result = second_largest(my_list)\n",
    "print(\"The second largest number is:\", result)\n"
   ]
  },
  {
   "cell_type": "code",
   "execution_count": 13,
   "id": "a23994cb-0f69-4a89-a903-062ef1aef3ab",
   "metadata": {
    "tags": []
   },
   "outputs": [
    {
     "name": "stdout",
     "output_type": "stream",
     "text": [
      "The number of elements between 30 and 60 is: 4\n"
     ]
    }
   ],
   "source": [
    "# 5a to count the number of elements in a list within a specified range.\n",
    "\n",
    "my_list = [10, 20, 30, 40, 50, 60, 70, 80]\n",
    "lower_limit = 30\n",
    "upper_limit = 60\n",
    "\n",
    "def count_elements_in_range(input_list, lower, upper):\n",
    "    count = 0\n",
    "    for num in input_list:\n",
    "        if lower <= num <= upper:\n",
    "            count += 1\n",
    "    return count\n",
    "\n",
    "\n",
    "\n",
    "result = count_elements_in_range(my_list, lower_limit, upper_limit)\n",
    "print(f\"The number of elements between {lower_limit} and {upper_limit} is: {result}\")\n",
    "\n"
   ]
  },
  {
   "cell_type": "code",
   "execution_count": 14,
   "id": "da7f3387-5305-40a9-b670-797763ccdae3",
   "metadata": {
    "tags": []
   },
   "outputs": [
    {
     "name": "stdout",
     "output_type": "stream",
     "text": [
      "1\n",
      "2\n",
      "3\n",
      "4\n",
      "5\n"
     ]
    }
   ],
   "source": [
    "# 5b to split a list into different variables\n",
    "\n",
    "my_list = [1, 2, 3, 4, 5]\n",
    "\n",
    "# Unpacking the list into variables\n",
    "a, b, c, d, e = my_list\n",
    "\n",
    "print(a)  \n",
    "print(b) \n",
    "print(c)  \n",
    "print(d)  \n",
    "print(e)  \n"
   ]
  },
  {
   "cell_type": "code",
   "execution_count": 15,
   "id": "aa703c4f-0c89-4e57-8c2d-09c8fb245e24",
   "metadata": {
    "tags": []
   },
   "outputs": [
    {
     "name": "stdout",
     "output_type": "stream",
     "text": [
      "{'Ten': 10, 'Twenty': 20, 'Thirty': 30, 'Forty': 40, 'Fifty': 50}\n",
      "{'Ten': 10, 'Twenty': 20, 'Thirty': 30, 'Forty': 40, 'Fifty': 50}\n"
     ]
    }
   ],
   "source": [
    "# 6a\n",
    "\n",
    "# Using the update() method:\n",
    "\n",
    "dict1 = {'Ten': 10, 'Twenty': 20, 'Thirty': 30}\n",
    "dict2 = {'Thirty': 30, 'Forty': 40, 'Fifty': 50}\n",
    "\n",
    "dict1.update(dict2)\n",
    "merged_dict = dict1\n",
    "print(merged_dict)\n",
    "\n",
    "# Using dictionary unpacking:\n",
    "\n",
    "dict1 = {'Ten': 10, 'Twenty': 20, 'Thirty': 30}\n",
    "dict2 = {'Thirty': 30, 'Forty': 40, 'Fifty': 50}\n",
    "\n",
    "merged_dict = {**dict1, **dict2}\n",
    "print(merged_dict)\n"
   ]
  },
  {
   "cell_type": "code",
   "execution_count": 16,
   "id": "c877feb0-0fa1-49a9-a047-ac885a5f997e",
   "metadata": {
    "tags": []
   },
   "outputs": [
    {
     "name": "stdout",
     "output_type": "stream",
     "text": [
      "{'age': 25, 'city': 'New York'}\n"
     ]
    }
   ],
   "source": [
    "# 6b Delete the set of keys from the following python dictionary\n",
    "\n",
    "sampleDict = {\n",
    " \"name\": \"Kelly\",\n",
    " \"age\": 25,\n",
    " \"salary\": 8000,\n",
    " \"city\": \"New York\"\n",
    "}\n",
    "\n",
    "keysToRemove = [\"name\", \"salary\"]\n",
    "\n",
    "sampleDict = {key: value for key, value in sampleDict.items() if key not in keysToRemove}\n",
    "\n",
    "print(sampleDict)\n"
   ]
  },
  {
   "cell_type": "code",
   "execution_count": null,
   "id": "9ded4124-e5fe-43b0-bf33-298b7482e97d",
   "metadata": {},
   "outputs": [],
   "source": []
  }
 ],
 "metadata": {
  "kernelspec": {
   "display_name": "Python 3 (ipykernel)",
   "language": "python",
   "name": "python3"
  },
  "language_info": {
   "codemirror_mode": {
    "name": "ipython",
    "version": 3
   },
   "file_extension": ".py",
   "mimetype": "text/x-python",
   "name": "python",
   "nbconvert_exporter": "python",
   "pygments_lexer": "ipython3",
   "version": "3.11.5"
  }
 },
 "nbformat": 4,
 "nbformat_minor": 5
}
