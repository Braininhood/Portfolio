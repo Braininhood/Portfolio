{
 "cells": [
  {
   "cell_type": "code",
   "execution_count": null,
   "id": "f252f4a4-735c-41e3-b18e-d63ec3b9948a",
   "metadata": {},
   "outputs": [],
   "source": [
    "# 1A. \n",
    "\n",
    "\n",
    "num1 = float(input(\"Enter the first number: \"))\n",
    "num2 = float(input(\"Enter the second number: \"))\n",
    "operator = input(\"Enter an operator (+, -, *, /, %): \")\n",
    "\n",
    "\n",
    "if operator == '+':\n",
    "    result = num1 + num2\n",
    "elif operator == '-':\n",
    "    result = num1 - num2\n",
    "elif operator == '*':\n",
    "    result = num1 * num2\n",
    "elif operator == '/':\n",
    "    if num2 != 0:  \n",
    "        result = num1 / num2\n",
    "    else:\n",
    "        result = \"Division by zero is not allowed!\"\n",
    "elif operator == '%':\n",
    "    result = num1 % num2\n",
    "else:\n",
    "    result = \"Invalid operator entered!\"\n",
    "\n",
    "\n",
    "print(f\"The result of {num1} {operator} {num2} is {result}\")\n"
   ]
  },
  {
   "cell_type": "code",
   "execution_count": null,
   "id": "1f991fa9-cc32-4448-80ff-96cc31d13f40",
   "metadata": {},
   "outputs": [],
   "source": [
    "# 1B.  \n",
    "\n",
    "earth_weight = float(input(\"Enter your weight on Earth (in lbs): \"))\n",
    "chosen_planet = input(\"Choose a planet (Mercury, Venus, Mars, Jupiter, Saturn, Uranus, Neptune, Pluto): \")\n",
    "\n",
    "def calculate_weight(weight, planet):\n",
    "    conversion_factors = {\n",
    "        'Mercury': 0.38,\n",
    "        'Venus': 0.91,\n",
    "        'Mars': 0.38,\n",
    "        'Jupiter': 2.34,\n",
    "        'Saturn': 1.06,\n",
    "        'Uranus': 0.92,\n",
    "        'Neptune': 1.19,\n",
    "        'Pluto': 0.06\n",
    "    }\n",
    "\n",
    "    if planet in conversion_factors:\n",
    "        weight_on_planet = weight * conversion_factors[planet]\n",
    "        print(f\"Your weight on {planet} is {weight_on_planet} lbs.\")\n",
    "    else:\n",
    "        print(\"Invalid planet name entered.\")\n",
    "\n",
    "calculate_weight(earth_weight, chosen_planet)\n"
   ]
  },
  {
   "cell_type": "code",
   "execution_count": null,
   "id": "f6fbd788-6466-4837-be5c-66d0752442f2",
   "metadata": {},
   "outputs": [],
   "source": [
    "# 1C. \n",
    "\n",
    "average = float(input(\"Enter your average: \"))\n",
    "lectures_missed = int(input(\"Enter the number of lectures missed: \"))\n",
    "\n",
    "if (average >= 90 and lectures_missed <= 3) or (average >= 80 and lectures_missed == 0):\n",
    "    print(\"You are excused from the final exam!\")\n",
    "else:\n",
    "    print(\"You have to take the final exam.\")\n"
   ]
  },
  {
   "cell_type": "code",
   "execution_count": 1,
   "id": "53455382-9219-4bf1-9039-fdff19a2f61d",
   "metadata": {
    "tags": []
   },
   "outputs": [
    {
     "name": "stdout",
     "output_type": "stream",
     "text": [
      "Prime numbers between 1 and 500:\n",
      "2 3 5 7 11 13 17 19 23 29 31 37 41 43 47 53 59 61 67 71 73 79 83 89 97 101 103 107 109 113 127 131 137 139 149 151 157 163 167 173 179 181 191 193 197 199 211 223 227 229 233 239 241 251 257 263 269 271 277 281 283 293 307 311 313 317 331 337 347 349 353 359 367 373 379 383 389 397 401 409 419 421 431 433 439 443 449 457 461 463 467 479 487 491 499 "
     ]
    }
   ],
   "source": [
    "# 2A.\n",
    "\n",
    "def is_prime(num):\n",
    "    if num < 2:\n",
    "        return False\n",
    "    for i in range(2, int(num ** 0.5) + 1):\n",
    "        if num % i == 0:\n",
    "            return False\n",
    "    return True\n",
    "\n",
    "def main():\n",
    "    print(\"Prime numbers between 1 and 500:\")\n",
    "    for number in range(1, 501):\n",
    "        if is_prime(number):\n",
    "            print(number, end=\" \")\n",
    "\n",
    "if __name__ == \"__main__\":\n",
    "    main()"
   ]
  },
  {
   "cell_type": "code",
   "execution_count": 2,
   "id": "561bb2bb-b79f-437f-b990-2db67f2aafcf",
   "metadata": {
    "tags": []
   },
   "outputs": [
    {
     "name": "stdin",
     "output_type": "stream",
     "text": [
      "Enter a string:  akjhgfklhga\n"
     ]
    },
    {
     "name": "stdout",
     "output_type": "stream",
     "text": [
      "Number of vowels in the string: 2\n"
     ]
    }
   ],
   "source": [
    "# 2B.\n",
    "\n",
    "def is_vowel(char):\n",
    "    vowels = \"aeiouAEIOU\"\n",
    "    return char in vowels\n",
    "\n",
    "def count_vowels(string):\n",
    "    return sum(1 for char in string if is_vowel(char))\n",
    "\n",
    "def main():\n",
    "    user_input = input(\"Enter a string: \")\n",
    "    vowel_count = count_vowels(user_input)\n",
    "    print(f\"Number of vowels in the string: {vowel_count}\")\n",
    "\n",
    "if __name__ == \"__main__\":\n",
    "    main()\n"
   ]
  },
  {
   "cell_type": "code",
   "execution_count": 3,
   "id": "10fbd1aa-b7a3-476a-a2cd-2d7fc1a0ebae",
   "metadata": {
    "tags": []
   },
   "outputs": [
    {
     "name": "stdin",
     "output_type": "stream",
     "text": [
      "Enter a number:  3\n"
     ]
    },
    {
     "name": "stdout",
     "output_type": "stream",
     "text": [
      "The number 3 is odd.\n"
     ]
    }
   ],
   "source": [
    "# 2C.\n",
    "\n",
    "def is_even(number):\n",
    "    return number % 2 == 0\n",
    "\n",
    "def main():\n",
    "    num = int(input(\"Enter a number: \"))\n",
    "    if is_even(num):\n",
    "        print(f\"The number {num} is even.\")\n",
    "    else:\n",
    "        print(f\"The number {num} is odd.\")\n",
    "\n",
    "if __name__ == \"__main__\":\n",
    "    main()\n"
   ]
  },
  {
   "cell_type": "code",
   "execution_count": null,
   "id": "4f7802e8-bd97-4d1c-a246-9b18c88649d2",
   "metadata": {},
   "outputs": [],
   "source": [
    "# 3A.\n",
    "\n",
    "mappings = {\n",
    "    '1': 'D',\n",
    "    '2': 'W',\n",
    "    '3': 'E',\n",
    "    '4': 'L',\n",
    "    '5': 'H',\n",
    "    '6': 'O',\n",
    "    '7': 'R'\n",
    "}\n",
    "\n",
    "decoded_message = \"\"\n",
    "for i in range(10):\n",
    "    while True:\n",
    "        num = input(f\"Enter number {i + 1}: \")\n",
    "        if num in mappings:\n",
    "            decoded_message += mappings[num]\n",
    "            break\n",
    "        else:\n",
    "            print(\"Invalid number. Please enter a valid one.\")\n",
    "\n",
    "print(f\"The decoded message is: {decoded_message}\")"
   ]
  },
  {
   "cell_type": "code",
   "execution_count": 5,
   "id": "e37aa8ee-05fa-430c-b935-143687f6842b",
   "metadata": {
    "tags": []
   },
   "outputs": [
    {
     "name": "stdin",
     "output_type": "stream",
     "text": [
      "Enter test score 1:  45\n",
      "Enter test score 2:  34\n",
      "Enter test score 3:  56\n",
      "Enter test score 4:  45\n",
      "Enter test score 5:  78\n"
     ]
    },
    {
     "name": "stdout",
     "output_type": "stream",
     "text": [
      "The average test score is: 51.6\n"
     ]
    }
   ],
   "source": [
    "# 3B\n",
    "\n",
    "\n",
    "test_scores = []\n",
    "\n",
    "for i in range(5):\n",
    "    score = float(input(f\"Enter test score {i + 1}: \"))\n",
    "    test_scores.append(score)\n",
    "\n",
    "average_score = sum(test_scores) / len(test_scores)\n",
    "\n",
    "print(f\"The average test score is: {average_score}\")\n"
   ]
  },
  {
   "cell_type": "code",
   "execution_count": 6,
   "id": "1806d879-48ec-4163-8c18-f903d86f5825",
   "metadata": {
    "tags": []
   },
   "outputs": [
    {
     "name": "stdout",
     "output_type": "stream",
     "text": [
      "The largest file size is: 334 MB\n"
     ]
    }
   ],
   "source": [
    "# 4A.\n",
    "\n",
    "stor_space = [232, 241, 324, 216, 221, 298, 334, 212, 235, 324, 264, 141]\n",
    "\n",
    "largest_file = max(stor_space)\n",
    "\n",
    "print(f\"The largest file size is: {largest_file} MB\")"
   ]
  },
  {
   "cell_type": "code",
   "execution_count": 7,
   "id": "b97460ad-494d-493f-a474-9037014628c6",
   "metadata": {
    "tags": []
   },
   "outputs": [
    {
     "name": "stdout",
     "output_type": "stream",
     "text": [
      "Number of files: 12\n",
      "Total memory used: 3042 MB\n",
      "Average size of files: 253.50 MB\n"
     ]
    }
   ],
   "source": [
    "# 4B.\n",
    "\n",
    "stor_space = [232, 241, 324, 216, 221, 298, 334, 212, 235, 324, 264, 141]\n",
    "\n",
    "# Calculate the number of files\n",
    "num_files = len(stor_space)\n",
    "\n",
    "# Calculate the total memory used\n",
    "total_memory = sum(stor_space)\n",
    "\n",
    "# Calculate the average size of the files\n",
    "average_size = total_memory / num_files if num_files > 0 else 0\n",
    "\n",
    "# Display the results\n",
    "print(f\"Number of files: {num_files}\")\n",
    "print(f\"Total memory used: {total_memory} MB\")\n",
    "print(f\"Average size of files: {average_size:.2f} MB\")"
   ]
  },
  {
   "cell_type": "code",
   "execution_count": 10,
   "id": "f6b90bb8-a7c7-47f8-8ad8-a20123ea90e4",
   "metadata": {
    "tags": []
   },
   "outputs": [
    {
     "name": "stdout",
     "output_type": "stream",
     "text": [
      "Scores sorted using Bubble Sort: [98, 88, 82, 74, 72, 66, 62, 58, 52, 48]\n",
      "Scores sorted using Insertion Sort: [98, 88, 82, 74, 72, 66, 62, 58, 52, 48]\n"
     ]
    }
   ],
   "source": [
    "# 5A.\n",
    "\n",
    "#Bubble Sort\n",
    "def bubble_sort(scores):\n",
    "    n = len(scores)\n",
    "\n",
    "    for i in range(n - 1):\n",
    "        for j in range(0, n - i - 1):\n",
    "            if scores[j] < scores[j + 1]:\n",
    "                scores[j], scores[j + 1] = scores[j + 1], scores[j]\n",
    "\n",
    "# Test with the scores provided\n",
    "scores = [66, 52, 74, 88, 62, 98, 72, 48, 82, 58]\n",
    "bubble_sort(scores)\n",
    "print(\"Scores sorted using Bubble Sort:\", scores)\n",
    "\n",
    "#Insertion Sort\n",
    "\n",
    "def insertion_sort(scores):\n",
    "    for i in range(1, len(scores)):\n",
    "        key = scores[i]\n",
    "        j = i - 1\n",
    "\n",
    "        while j >= 0 and key > scores[j]:\n",
    "            scores[j + 1] = scores[j]\n",
    "            j -= 1\n",
    "\n",
    "        scores[j + 1] = key\n",
    "\n",
    "# Test with the scores provided\n",
    "scores = [66, 52, 74, 88, 62, 98, 72, 48, 82, 58]\n",
    "insertion_sort(scores)\n",
    "print(\"Scores sorted using Insertion Sort:\", scores)"
   ]
  },
  {
   "cell_type": "code",
   "execution_count": null,
   "id": "ab20e865-e139-4569-b618-14051b051b51",
   "metadata": {},
   "outputs": [],
   "source": [
    "# 5B1.\n",
    "\n",
    "speed = [0.99, 2.76, 3.43, 0.72, 2.54, 1.51, 2.73, 5.82, 2.83, 1.97]\n",
    "\n",
    "# Sort the array in ascending order\n",
    "sorted_speed = sorted(speed)\n",
    "\n",
    "# Reverse the sorted array to get the fastest to slowest order\n",
    "sorted_speed.reverse()\n",
    "\n",
    "print(\"Resultant times from fastest to slowest:\", sorted_speed)\n"
   ]
  },
  {
   "cell_type": "code",
   "execution_count": null,
   "id": "316427e3-0078-4aba-8bd8-e5a8ee98b880",
   "metadata": {},
   "outputs": [],
   "source": [
    "# 5B2\n",
    "\n",
    "speed = [0.99, 2.76, 3.43, 0.72, 2.54, 1.51, 2.73, 5.82, 2.83, 1.97]\n",
    "\n",
    "# Sort the array in descending order (slowest to fastest)\n",
    "sorted_speed = sorted(speed, reverse=True)\n",
    "\n",
    "print(\"Resultant times from slowest to fastest:\", sorted_speed)\n"
   ]
  }
 ],
 "metadata": {
  "kernelspec": {
   "display_name": "Python 3 (ipykernel)",
   "language": "python",
   "name": "python3"
  },
  "language_info": {
   "codemirror_mode": {
    "name": "ipython",
    "version": 3
   },
   "file_extension": ".py",
   "mimetype": "text/x-python",
   "name": "python",
   "nbconvert_exporter": "python",
   "pygments_lexer": "ipython3",
   "version": "3.11.5"
  }
 },
 "nbformat": 4,
 "nbformat_minor": 5
}
