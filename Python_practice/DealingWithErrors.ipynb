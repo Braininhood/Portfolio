{
 "cells": [
  {
   "cell_type": "code",
   "execution_count": 4,
   "id": "4ab089b2-679e-4db1-be02-06f0184f814b",
   "metadata": {
    "tags": []
   },
   "outputs": [
    {
     "name": "stdout",
     "output_type": "stream",
     "text": [
      "['red', 'yellow', 'pin', 'green', 'orange', 'purple', 'blue']\n"
     ]
    }
   ],
   "source": [
    "# Exercise 1\n",
    "\n",
    "def get_list():\n",
    "    mylist = [\"red\",\"yellow\",\"pin\",\"green\",\"orange\",\"purple\",\"blue\"]\n",
    "    return mylist\n",
    "\n",
    "print(get_list())"
   ]
  },
  {
   "cell_type": "code",
   "execution_count": 9,
   "id": "4a26b733-b12c-43d6-8607-107fe50febf4",
   "metadata": {
    "tags": []
   },
   "outputs": [
    {
     "name": "stdout",
     "output_type": "stream",
     "text": [
      "Test passed\n"
     ]
    }
   ],
   "source": [
    "# Exercise 2\n",
    "\n",
    "def calculate_average(nums):\n",
    "  total = 0\n",
    "  for num in nums:\n",
    "    total += num\n",
    "    average = total / len(nums)\n",
    "  return average\n",
    "\n",
    "# Test\n",
    "actual = calculate_average([4,2,6,8,3,1])\n",
    "expected = 4\n",
    "if  actual == expected:\n",
    "  print(\"Test passed\")\n",
    "else:\n",
    "  print(\"Test failed, expected\", expected, \"but got\", actual)"
   ]
  },
  {
   "cell_type": "code",
   "execution_count": 13,
   "id": "1487537c-fb27-4a3b-92dc-77caa8b391c2",
   "metadata": {
    "tags": []
   },
   "outputs": [
    {
     "name": "stdout",
     "output_type": "stream",
     "text": [
      "Test 1 - with valid integer\n"
     ]
    },
    {
     "name": "stdin",
     "output_type": "stream",
     "text": [
      "Please enter a number  12.5\n"
     ]
    },
    {
     "name": "stdout",
     "output_type": "stream",
     "text": [
      "Test failed, expected 8 but got 6.25\n"
     ]
    }
   ],
   "source": [
    "# Exercise 3\n",
    "\n",
    "def get_user_input():\n",
    "  user_input = input(\"Please enter a number \")\n",
    "  return int(user_input)\n",
    "\n",
    "### Test 1 - user enters 16 ###\n",
    "print(\"Test 1 - with valid integer\")\n",
    "actual = get_user_input() / 2\n",
    "expected = 8\n",
    "if  actual == expected:\n",
    "  print(\"Test passed\")\n",
    "else:\n",
    "  print(\"Test failed, expected\", expected, \"but got\", actual)"
   ]
  },
  {
   "cell_type": "code",
   "execution_count": 19,
   "id": "ebcf8219-9195-4971-b6d5-da554127dd75",
   "metadata": {
    "tags": []
   },
   "outputs": [
    {
     "name": "stdout",
     "output_type": "stream",
     "text": [
      "Test 1 - with valid integer\n"
     ]
    },
    {
     "name": "stdin",
     "output_type": "stream",
     "text": [
      "Please enter a number  16\n"
     ]
    },
    {
     "name": "stdout",
     "output_type": "stream",
     "text": [
      "Test passed\n",
      "Test 2 - with invalid integer\n"
     ]
    },
    {
     "name": "stdin",
     "output_type": "stream",
     "text": [
      "Please enter a number  6\n"
     ]
    },
    {
     "name": "stdout",
     "output_type": "stream",
     "text": [
      "Test failed, expected an error but got 3.0\n"
     ]
    },
    {
     "name": "stdin",
     "output_type": "stream",
     "text": [
      "Please enter a number  16\n"
     ]
    },
    {
     "name": "stdout",
     "output_type": "stream",
     "text": [
      "Test passed\n"
     ]
    }
   ],
   "source": [
    "# Exercise 4\n",
    "\n",
    "def get_user_input():\n",
    "    while True:\n",
    "        try:\n",
    "            user_input = int(input(\"Please enter a number \"))\n",
    "            return user_input\n",
    "        except ValueError:\n",
    "            print(\"Invalid number, please enter a valid integer\")\n",
    "\n",
    "# Test 1 - user enters 16\n",
    "print(\"Test 1 - with valid integer\")\n",
    "actual = get_user_input() / 2\n",
    "expected = 8\n",
    "if actual == expected:\n",
    "    print(\"Test passed\")\n",
    "else:\n",
    "    print(\"Test failed, expected\", expected, \"but got\", actual)\n",
    "\n",
    "# Test 2 - user enters six\n",
    "print(\"Test 2 - with invalid integer\")\n",
    "while True:\n",
    "    try:\n",
    "        actual = get_user_input() / 2\n",
    "        expected = 8\n",
    "        if actual == expected:\n",
    "            print(\"Test passed\")\n",
    "            break\n",
    "        else:\n",
    "            print(\"Test failed, expected an error but got\", actual)\n",
    "    except KeyboardInterrupt:\n",
    "        print(\"\\nTest aborted by user\")\n",
    "        break\n"
   ]
  },
  {
   "cell_type": "code",
   "execution_count": 26,
   "id": "edf8c5d1-9b61-48ff-8366-51441fb5d132",
   "metadata": {
    "tags": []
   },
   "outputs": [
    {
     "name": "stdout",
     "output_type": "stream",
     "text": [
      "Test 1 - with valid integer\n"
     ]
    },
    {
     "name": "stdin",
     "output_type": "stream",
     "text": [
      "Please enter a number  16\n"
     ]
    },
    {
     "name": "stdout",
     "output_type": "stream",
     "text": [
      "Test passed\n",
      "Test 2 - with invalid integer\n"
     ]
    },
    {
     "name": "stdin",
     "output_type": "stream",
     "text": [
      "Please enter a number  16\n"
     ]
    },
    {
     "name": "stdout",
     "output_type": "stream",
     "text": [
      "Test passed\n",
      "Test 3 - with empty or invalid integer\n"
     ]
    },
    {
     "name": "stdin",
     "output_type": "stream",
     "text": [
      "Please enter a number  6\n"
     ]
    },
    {
     "name": "stdout",
     "output_type": "stream",
     "text": [
      "Test failed, expected 8 but got 3.0\n"
     ]
    },
    {
     "name": "stdin",
     "output_type": "stream",
     "text": [
      "Please enter a number  \n"
     ]
    },
    {
     "name": "stdout",
     "output_type": "stream",
     "text": [
      "Empty input, please enter a valid integer\n"
     ]
    },
    {
     "name": "stdin",
     "output_type": "stream",
     "text": [
      "Please enter a number  16\n"
     ]
    },
    {
     "name": "stdout",
     "output_type": "stream",
     "text": [
      "Test passed\n"
     ]
    }
   ],
   "source": [
    "# Exercise 5 - add a third test\n",
    "\n",
    "def get_user_input():\n",
    "    while True:\n",
    "        try:\n",
    "            user_input = input(\"Please enter a number \")\n",
    "            if user_input == '':\n",
    "                print(\"Empty input, please enter a valid integer\")\n",
    "                continue\n",
    "            return int(user_input)\n",
    "        except ValueError:\n",
    "            print(\"Invalid number, please enter a valid integer\")\n",
    "\n",
    "# Test 1 - user enters 16\n",
    "print(\"Test 1 - with valid integer\")\n",
    "actual = get_user_input() / 2\n",
    "expected = 8\n",
    "if actual == expected:\n",
    "    print(\"Test passed\")\n",
    "else:\n",
    "    print(\"Test failed, expected\", expected, \"but got\", actual)\n",
    "\n",
    "# Test 2 - user enters six\n",
    "print(\"Test 2 - with invalid integer\")\n",
    "while True:\n",
    "    try:\n",
    "        actual = get_user_input() / 2\n",
    "        expected = 8  # There should be an error, so expected value is set to None\n",
    "        if actual == expected:\n",
    "            print(\"Test passed\")\n",
    "            break\n",
    "        else:\n",
    "            print(\"Test failed, expected an error but got\", actual)\n",
    "    except KeyboardInterrupt:\n",
    "        print(\"\\nTest aborted by user\")\n",
    "        break\n",
    "\n",
    "# Test 3 - user enters nothing\n",
    "print(\"Test 3 - with empty or invalid integer\")\n",
    "while True:\n",
    "    try:\n",
    "        user_input = input(\"Please enter a number \")\n",
    "        if user_input == '' or user_input.isdigit():\n",
    "            if user_input == '':\n",
    "                print(\"Empty input, please enter a valid integer\")\n",
    "                continue\n",
    "            actual = int(user_input) / 2\n",
    "            expected = 8\n",
    "            if actual == expected:\n",
    "                print(\"Test passed\")\n",
    "                break\n",
    "            else:\n",
    "                print(\"Test failed, expected\", expected, \"but got\", actual)\n",
    "        else:\n",
    "            print(\"Test failed, expected an integer or nothing but got\", user_input)\n",
    "    except KeyboardInterrupt:\n",
    "        print(\"\\nTest aborted by user\")\n",
    "        break\n",
    "    except ValueError:\n",
    "        print(\"Invalid input, please enter either an integer or nothing\")"
   ]
  },
  {
   "cell_type": "code",
   "execution_count": 42,
   "id": "2d067215-36d6-469d-b8c4-5972acdcf70e",
   "metadata": {
    "tags": []
   },
   "outputs": [
    {
     "name": "stdout",
     "output_type": "stream",
     "text": [
      "Test 1 file doesn't exist\n",
      "File 'D:/error.txt' does not exist. Please provide a valid file path.\n",
      "Test passed\n",
      "Test 2 file exists\n",
      "Test passed\n"
     ]
    }
   ],
   "source": [
    "#Exercise 6 - opening a file\n",
    "\n",
    "import os\n",
    "\n",
    "def get_file(file_path):\n",
    "    try:\n",
    "        file = open(file_path, 'r')\n",
    "        return file\n",
    "    except FileNotFoundError:\n",
    "        print(f\"File '{file_path}' does not exist. Please provide a valid file path.\")\n",
    "        return None\n",
    "\n",
    "# Test 1 - try to open a file that doesn't exist\n",
    "print(\"Test 1 file doesn't exist\")\n",
    "actual = get_file(\"D:/error.txt\")  # Provide the full path to the file on drive D:\n",
    "if actual is None:\n",
    "    print(\"Test passed\")\n",
    "else:\n",
    "    print(\"Test failed, should have received None\")\n",
    "\n",
    "# Test 2 - try to open a file that does exist\n",
    "print(\"Test 2 file exists\")\n",
    "file_path = \"D:/valid_file.txt\"  # Provide the full path to the file on drive D:\n",
    "actual = get_file(file_path)\n",
    "if actual is not None:\n",
    "    print(\"Test passed\")\n",
    "else:\n",
    "    print(\"Test failed, should have received file\")\n",
    "\n",
    "# Close the file if it was opened in Test 2\n",
    "if actual:\n",
    "    actual.close()\n"
   ]
  },
  {
   "cell_type": "code",
   "execution_count": 34,
   "id": "fa0d5e6c-6e36-4e74-bf77-4d85b786c447",
   "metadata": {
    "tags": []
   },
   "outputs": [
    {
     "name": "stdout",
     "output_type": "stream",
     "text": [
      "Test failed, expected 5 but got -999999\n"
     ]
    }
   ],
   "source": [
    "#Exercise 7 - write a test\n",
    "\n",
    "def divide_nums(num1, num2):\n",
    "  try:\n",
    "    answer = num1 / num2\n",
    "    return answer\n",
    "  except:\n",
    "    return -999999\n",
    "\n",
    "# Test 1 - works with valid numbers (15 divided by 3 is 5)\n",
    "result = divide_nums(15, 3)\n",
    "expected = 5\n",
    "if result == expected:\n",
    "    print(\"Test passed\")\n",
    "else:\n",
    "    print(\"Test failed, expected\", expected, \"but got\", result)"
   ]
  },
  {
   "cell_type": "code",
   "execution_count": 97,
   "id": "3fd31779-e369-4e52-b240-1448a122ec9c",
   "metadata": {
    "tags": []
   },
   "outputs": [
    {
     "name": "stdout",
     "output_type": "stream",
     "text": [
      "Test 1 passed\n",
      "Test 2 failed, expected 66.67 but got 66.66666666666667\n",
      "Error: Invalid type for num2.\n",
      "Test 3 passed\n"
     ]
    }
   ],
   "source": [
    "#Exercise 8 - add two more tests\n",
    "\n",
    "def divide_nums(num1, num2):\n",
    "    try:\n",
    "        answer = num1 / num2\n",
    "        return answer\n",
    "    except ZeroDivisionError:\n",
    "        print(\"Error: Division by zero.\")\n",
    "        return -999999\n",
    "    except TypeError:\n",
    "        print(\"Error: Invalid type for num2.\")\n",
    "        return -999999\n",
    "\n",
    "# Test 1 - works with valid numbers (15 divided by 3 is 5)\n",
    "result = divide_nums(15, 3)\n",
    "expected = 5\n",
    "if result == expected:\n",
    "    print(\"Test 1 passed\")\n",
    "else:\n",
    "    print(\"Test 1 failed, expected\", expected, \"but got\", result)\n",
    "\n",
    "# Test 2 - Test running the function with the numbers (20, 0.3) and expect the answer to be 66.67\n",
    "result = divide_nums(20, 0.3)\n",
    "expected = 66.67\n",
    "if result == expected:\n",
    "    print(\"Test 2 passed\")\n",
    "else:\n",
    "    print(\"Test 2 failed, expected\", expected, \"but got\", result)\n",
    "\n",
    "# Test 3 - Test running the function with (20, None) and expect the answer to be -999999\n",
    "result = divide_nums(20, None)\n",
    "expected = -999999\n",
    "if result == expected:\n",
    "    print(\"Test 3 passed\")\n",
    "else:\n",
    "    print(\"Test 3 failed, expected\", expected, \"but got\", result)\n",
    "\n",
    "    "
   ]
  },
  {
   "cell_type": "code",
   "execution_count": 95,
   "id": "319437a7-3c0f-4c1f-a077-0ded88073514",
   "metadata": {
    "tags": []
   },
   "outputs": [
    {
     "name": "stdout",
     "output_type": "stream",
     "text": [
      "Test 1 - Pass\n",
      "Test 2 - Pass\n",
      "Test 3 - Fail. Unexpected output: There was a problem. Make sure the input is a list of non-null numbers. All elements in the list must be non-null numbers\n",
      "Test 4 - Fail. Unexpected output: There was a problem. Make sure the input is a list of non-null numbers. List name must be a string\n",
      "Test 5 - Fail. Unexpected output: There was a problem. Make sure the input is a list of non-null numbers. All elements in the list must be non-null numbers\n",
      "Test 6 - Fail. Unexpected output: There was a problem: Empty list provided\n",
      "Test 7 - Fail. Unexpected output: There was a problem: Empty list provided\n"
     ]
    }
   ],
   "source": [
    "# Exercise 9 - function with try..except and test\n",
    "\n",
    "numlist = [1, 2, 3, 4, 5]\n",
    "listname = \"Valid\"\n",
    "\n",
    "def find_list_average(numlist, listname):\n",
    "    try:\n",
    "        if not numlist:\n",
    "            raise ValueError(\"Empty list provided\")  # Test: it catches the error if the list is empty (which might result in dividing by 0)\n",
    "\n",
    "        # Check if all elements are digits and not None\n",
    "        if not all(isinstance(num, (int, float)) and num is not None for num in numlist):\n",
    "            raise TypeError(\"All elements in the list must be non-null numbers\")  # Test: it catches the error if the list contains null values (None)\n",
    "\n",
    "        # Check if listname is an empty string and set it to \"unnamed list\"\n",
    "        if not listname:\n",
    "            listname = \"unnamed list\"\n",
    "\n",
    "        # Check if listname is a string\n",
    "        if not isinstance(listname, str):\n",
    "            raise TypeError(\"List name must be a string\")  # Test: it catches the error if listname is not a string\n",
    "\n",
    "        # Calculate the average\n",
    "        average = sum(numlist) / len(numlist)\n",
    "\n",
    "        # Return the result string\n",
    "        return \"The average of the numbers in \" + listname + \" is \" + str(average) + \".\"  # Test: a valid set of numbers, with a valid name works\n",
    "\n",
    "    except ZeroDivisionError:\n",
    "        return \"Cannot calculate average, the list is empty.\"  # Test: it catches the error if the list is empty (which might result in dividing by 0)\n",
    "    except TypeError as te:\n",
    "        return \"There was a problem. Make sure the input is a list of non-null numbers. \" + str(te)  # Test: it catches the error if the parameters are swapped (listname, numlist) rather than (numlist, listname)\n",
    "    except Exception as e:\n",
    "        return \"There was a problem: \" + str(e)\n",
    "\n",
    "# Test 1 - a valid set of numbers, with a valid name\n",
    "try:\n",
    "    numlist_valid = [1, 2, 3, 4, 5]\n",
    "    listname_valid = \"Valid_List\"\n",
    "    result_valid = find_list_average(numlist_valid, listname_valid)\n",
    "    expected_output_valid = \"The average of the numbers in \" + listname_valid + \" is 3.0.\"\n",
    "\n",
    "    if result_valid == expected_output_valid:\n",
    "        print(\"Test 1 - Pass\")\n",
    "    else:\n",
    "        print(\"Test 1 - Fail. Unexpected output:\", result_valid)\n",
    "\n",
    "except Exception as e:\n",
    "    print(\"Test 1 - Fail. An unexpected error occurred:\", str(e))\n",
    "\n",
    "# Test 2 - a valid set of numbers, with an empty name\n",
    "try:\n",
    "    numlist_empty_name = [1, 2, 3, 4, 5]\n",
    "    listname_empty_name = \"\"\n",
    "    result_empty_name = find_list_average(numlist_empty_name, listname_empty_name)\n",
    "    expected_output_empty_name = \"The average of the numbers in unnamed list is 3.0.\"\n",
    "\n",
    "    if result_empty_name == expected_output_empty_name:\n",
    "        print(\"Test 2 - Pass\")\n",
    "    else:\n",
    "        print(\"Test 2 - Fail. Unexpected output:\", result_empty_name)\n",
    "\n",
    "except Exception as e:\n",
    "    print(\"Test 2 - Fail. An unexpected error occurred:\", str(e))\n",
    "\n",
    "# Test 3 - parameters reversed (listname, numlist) instead of (numlist, listname)\n",
    "try:\n",
    "    numlist_reversed = [1, 2, 3, 4, 5]\n",
    "    listname_reversed = \"Reversed_Valid\"\n",
    "    result_reversed = find_list_average(listname_reversed, numlist_reversed)\n",
    "    expected_output_reversed = \"There was a problem. Make sure the input is a list of non-null numbers.\"\n",
    "\n",
    "    if result_reversed == expected_output_reversed:\n",
    "        print(\"Test 3 - Pass\")\n",
    "    else:\n",
    "        print(\"Test 3 - Fail. Unexpected output:\", result_reversed)\n",
    "\n",
    "except Exception as e:\n",
    "    print(\"Test 3 - Pass. Expected error:\", str(e))\n",
    "\n",
    "# Test 4 - listname is not a string\n",
    "try:\n",
    "    numlist_not_string = [1, 2, 3, 4, 5]\n",
    "    listname_not_string = 123  # Not a string\n",
    "    result_not_string = find_list_average(numlist_not_string, listname_not_string)\n",
    "    expected_output_not_string = \"There was a problem: List name must be a string\"\n",
    "\n",
    "    if result_not_string == expected_output_not_string:\n",
    "        print(\"Test 4 - Pass\")\n",
    "    else:\n",
    "        print(\"Test 4 - Fail. Unexpected output:\", result_not_string)\n",
    "\n",
    "except Exception as e:\n",
    "    print(\"Test 4 - Pass. Expected error:\", str(e))\n",
    "\n",
    "# Test 5 - numlist contains null values (None)\n",
    "try:\n",
    "    numlist_with_none = [1, 2, 3, None, 5]\n",
    "    listname_with_none = \"List_With_None\"\n",
    "    result_with_none = find_list_average(numlist_with_none, listname_with_none)\n",
    "    expected_output_with_none = \"There was a problem: All elements in the list must be non-null numbers\"\n",
    "\n",
    "    if result_with_none == expected_output_with_none:\n",
    "        print(\"Test 5 - Pass\")\n",
    "    else:\n",
    "        print(\"Test 5 - Fail. Unexpected output:\", result_with_none)\n",
    "\n",
    "except Exception as e:\n",
    "    print(\"Test 5 - Pass. Expected error:\", str(e))\n",
    "\n",
    "# Test 6 - an empty list\n",
    "try:\n",
    "    numlist_empty = []\n",
    "    listname_empty = \"Empty_List\"\n",
    "    result_empty = find_list_average(numlist_empty, listname_empty)\n",
    "    expected_output_empty = \"Cannot calculate average, the list is empty.\"\n",
    "\n",
    "    if result_empty == expected_output_empty:\n",
    "        print(\"Test 6 - Pass\")\n",
    "    else:\n",
    "        print(\"Test 6 - Fail. Unexpected output:\", result_empty)\n",
    "\n",
    "except Exception as e:\n",
    "    print(\"Test 6 - Fail. An unexpected error occurred:\", str(e))\n",
    "\n",
    "# Test 7 - an empty list with an empty name\n",
    "try:\n",
    "    numlist_empty_name_2 = []\n",
    "    listname_empty_name_2 = \"\"\n",
    "    result_empty_name_2 = find_list_average(numlist_empty_name_2, listname_empty_name_2)\n",
    "    expected_output_empty_name_2 = \"Cannot calculate average, the list is empty.\"\n",
    "\n",
    "    if result_empty_name_2 == expected_output_empty_name_2:\n",
    "        print(\"Test 7 - Pass\")\n",
    "    else:\n",
    "        print(\"Test 7 - Fail. Unexpected output:\", result_empty_name_2)\n",
    "\n",
    "except Exception as e:\n",
    "    print(\"Test 7 - Fail. An unexpected error occurred:\", str(e))\n"
   ]
  }
 ],
 "metadata": {
  "kernelspec": {
   "display_name": "Python 3 (ipykernel)",
   "language": "python",
   "name": "python3"
  },
  "language_info": {
   "codemirror_mode": {
    "name": "ipython",
    "version": 3
   },
   "file_extension": ".py",
   "mimetype": "text/x-python",
   "name": "python",
   "nbconvert_exporter": "python",
   "pygments_lexer": "ipython3",
   "version": "3.11.5"
  }
 },
 "nbformat": 4,
 "nbformat_minor": 5
}
