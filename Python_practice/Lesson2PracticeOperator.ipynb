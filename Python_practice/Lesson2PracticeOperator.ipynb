{
 "cells": [
  {
   "cell_type": "code",
   "execution_count": 2,
   "id": "e1ba9152-3571-4b87-a06d-f59a6eab2d0c",
   "metadata": {
    "tags": []
   },
   "outputs": [
    {
     "name": "stdin",
     "output_type": "stream",
     "text": [
      "Please, enter 1st number: 3.2\n",
      "Please, enter 2nd number: 6.5\n",
      "Please, enter 3rd number: 6.9\n"
     ]
    },
    {
     "name": "stdout",
     "output_type": "stream",
     "text": [
      "Total:  16.6\n"
     ]
    }
   ],
   "source": [
    "def calculate_running_total():\n",
    "#running total\n",
    "    \n",
    "    total = 0\n",
    "    n1 = float(input(\"Please, enter 1st number:\"))\n",
    "    total = total + n1\n",
    "    n1 = float(input(\"Please, enter 2nd number:\"))\n",
    "    total = total + n1\n",
    "    n1 = float(input(\"Please, enter 3rd number:\"))\n",
    "    total = total + n1\n",
    "    print (\"Total: \",total  )\n",
    "    \n",
    "calculate_running_total()"
   ]
  },
  {
   "cell_type": "code",
   "execution_count": 3,
   "id": "76894100-4e2d-48e4-8b1c-16f61eb39a9b",
   "metadata": {
    "tags": []
   },
   "outputs": [
    {
     "name": "stdin",
     "output_type": "stream",
     "text": [
      "Please, enter a time in seconds: 20\n",
      "Please, enter a second time in seconds: 30\n"
     ]
    },
    {
     "name": "stdout",
     "output_type": "stream",
     "text": [
      "10 seconds left\n"
     ]
    }
   ],
   "source": [
    "def decrease_time_left():\n",
    "#continuous decrease\n",
    "\n",
    "    seconds_left = 60\n",
    "    time = int(input(\"Please, enter a time in seconds:\"))\n",
    "    seconds_left = seconds_left - time\n",
    "    time = int(input(\"Please, enter a second time in seconds:\"))\n",
    "    seconds_left = seconds_left - time\n",
    "    print (seconds_left, \"seconds left\")\n",
    "\n",
    "decrease_time_left()"
   ]
  },
  {
   "cell_type": "code",
   "execution_count": 7,
   "id": "c165659e-f466-436e-9e7e-86695a04f94d",
   "metadata": {
    "tags": []
   },
   "outputs": [
    {
     "name": "stdin",
     "output_type": "stream",
     "text": [
      "Please, enter a factor to decrease by (a whole number between 2 and 8): 6\n",
      "Please, enter a whole number: 745\n"
     ]
    },
    {
     "name": "stdout",
     "output_type": "stream",
     "text": [
      "number: 124\n",
      "number: 20\n"
     ]
    }
   ],
   "source": [
    "def decrease_by_factor():\n",
    "#decrease by factor\n",
    "\n",
    "    factor = int(input(\"Please, enter a factor to decrease by (a whole number between 2 and 8):\"))\n",
    "    number = int(input(\"Please, enter a whole number:\"))\n",
    "    number = number//factor\n",
    "    print (\"number:\",number)\n",
    "    number = number//factor\n",
    "    print (\"number:\",number)\n",
    "\n",
    "\n",
    "decrease_by_factor()"
   ]
  },
  {
   "cell_type": "code",
   "execution_count": 11,
   "id": "7b3d90dd-78be-42ca-977d-c8898924a952",
   "metadata": {
    "tags": []
   },
   "outputs": [
    {
     "name": "stdout",
     "output_type": "stream",
     "text": [
      "4\n",
      "16\n",
      "64\n",
      "256\n",
      "1024\n",
      "4096\n",
      "16384\n",
      "65536\n"
     ]
    }
   ],
   "source": [
    "def generate_powers():\n",
    "#powers of 4\n",
    "    \n",
    "    number = 1\n",
    "    multiplier = 4\n",
    "    number = number*multiplier\n",
    "    print (number)\n",
    "    number = number*multiplier\n",
    "    print (number)\n",
    "    number = number*multiplier\n",
    "    print (number)\n",
    "    number = number*multiplier\n",
    "    print (number)\n",
    "    number = number*multiplier\n",
    "    print (number)\n",
    "    number = number*multiplier\n",
    "    print (number)\n",
    "    number = number*multiplier\n",
    "    print (number)\n",
    "    number = number*multiplier\n",
    "    print (number)\n",
    "    \n",
    "generate_powers()"
   ]
  },
  {
   "cell_type": "code",
   "execution_count": 13,
   "id": "1bea78a2-2f6a-4d7b-9754-a4621efa805f",
   "metadata": {
    "tags": []
   },
   "outputs": [
    {
     "name": "stdin",
     "output_type": "stream",
     "text": [
      "Please, enter a time in 24 hour clock format as a whole number: 1656\n"
     ]
    },
    {
     "name": "stdout",
     "output_type": "stream",
     "text": [
      "It is afternoon True\n"
     ]
    }
   ],
   "source": [
    "def is_afternoon():\n",
    "#is it afternoon?\n",
    "    \n",
    "    time = int(input(\"Please, enter a time in 24 hour clock format as a whole number:\"))\n",
    "    hour = time//100\n",
    "    afternoon =  hour>=12\n",
    "    print (\"It is afternoon\",afternoon)\n",
    "    \n",
    "is_afternoon()"
   ]
  },
  {
   "cell_type": "code",
   "execution_count": 40,
   "id": "7c102ed4-256e-4db2-aaf3-8869480c89d0",
   "metadata": {
    "tags": []
   },
   "outputs": [
    {
     "name": "stdin",
     "output_type": "stream",
     "text": [
      "Please,  enter a guess between 1 and 10 6\n"
     ]
    },
    {
     "name": "stdout",
     "output_type": "stream",
     "text": [
      "Guess 1 correct? False\n"
     ]
    },
    {
     "name": "stdin",
     "output_type": "stream",
     "text": [
      "Please,  enter a guess between 1 and 10 7\n"
     ]
    },
    {
     "name": "stdout",
     "output_type": "stream",
     "text": [
      "Guess 2 correct? True\n"
     ]
    }
   ],
   "source": [
    "from random import randint\n",
    "\n",
    "def guess_number(number):\n",
    "#guess the number in two attempts\n",
    "    \n",
    "    guess = int(input(\"Please,  enter a guess between 1 and 10\"))\n",
    "    correct = number==guess\n",
    "    print (\"Guess 1 correct?\",correct)\n",
    "    guess = int(input(\"Please,  enter a guess between 1 and 10\"))\n",
    "    correct = number==guess\n",
    "    print (\"Guess 2 correct?\",correct)\n",
    "    \n",
    "guess_number(randint(0,10))"
   ]
  },
  {
   "cell_type": "code",
   "execution_count": 43,
   "id": "50b1e37b-0a39-466c-ab02-75183baae564",
   "metadata": {
    "tags": []
   },
   "outputs": [
    {
     "name": "stdin",
     "output_type": "stream",
     "text": [
      "Please,  enter a name in all lower case letters andy\n",
      "Please,  enter name with a leading capital letter andy\n"
     ]
    },
    {
     "name": "stdout",
     "output_type": "stream",
     "text": [
      "These are the same name True\n"
     ]
    }
   ],
   "source": [
    "def show_case_sensitivity():\n",
    "#not the same\n",
    "    \n",
    "    name = input(\"Please,  enter a name in all lower case letters\")\n",
    "    capitalised_name = input(\"Please,  enter name with a leading capital letter\")\n",
    "    same_names = name==capitalised_name\n",
    "    print (\"These are the same name\",same_names)\n",
    "    \n",
    "show_case_sensitivity()"
   ]
  },
  {
   "cell_type": "code",
   "execution_count": 48,
   "id": "190be236-b487-4eb1-b49f-00226cea4391",
   "metadata": {
    "tags": []
   },
   "outputs": [
    {
     "name": "stdin",
     "output_type": "stream",
     "text": [
      "Calculate x squared plus y to the power of 3: 269.688\n"
     ]
    },
    {
     "name": "stdout",
     "output_type": "stream",
     "text": [
      "Not the right answer?  False\n"
     ]
    }
   ],
   "source": [
    "def calculate_answer():\n",
    "#check an answer to a maths problem\n",
    "\n",
    "    x = 5.6\n",
    "    y = 6.2\n",
    "    total = x**2 + y**3\n",
    "    total = round(total,3)\n",
    "    user_answer = float(input(\"Calculate x squared plus y to the power of 3:\"))\n",
    "    incorrect_answer = total!=user_answer\n",
    "    print (\"Not the right answer? \",incorrect_answer)\n",
    "   \n",
    "calculate_answer()"
   ]
  },
  {
   "cell_type": "code",
   "execution_count": 50,
   "id": "28747bb4-618b-4dc8-8f34-67161bd9693f",
   "metadata": {
    "tags": []
   },
   "outputs": [
    {
     "name": "stdin",
     "output_type": "stream",
     "text": [
      "Please, input a whole number between 1 and 12: 6\n"
     ]
    },
    {
     "name": "stdout",
     "output_type": "stream",
     "text": [
      "Valid number:  True\n"
     ]
    }
   ],
   "source": [
    "def check_in_range():\n",
    "#two comparisons\n",
    " \n",
    "    number = int(input(\"Please, input a whole number between 1 and 12:\"))\n",
    "    in_range = number>=1 and number<=12\n",
    "    print (\"Valid number: \",in_range)\n",
    "    \n",
    "check_in_range()"
   ]
  },
  {
   "cell_type": "code",
   "execution_count": 52,
   "id": "5516ecd0-6b29-409b-ab08-4f2472bb6405",
   "metadata": {
    "tags": []
   },
   "outputs": [
    {
     "name": "stdin",
     "output_type": "stream",
     "text": [
      "Please, input a whole number: 32\n"
     ]
    },
    {
     "name": "stdout",
     "output_type": "stream",
     "text": [
      "Outlier?  False\n"
     ]
    }
   ],
   "source": [
    "def identify_outlier():\n",
    "#finding the outlier\n",
    " \n",
    "    number = int(input(\"Please, input a whole number:\"))\n",
    "    outlier = number<20 or number>50\n",
    "    print (\"Outlier? \",outlier)\n",
    "    \n",
    "identify_outlier()"
   ]
  },
  {
   "cell_type": "code",
   "execution_count": null,
   "id": "e2fb55bb-0469-4e5d-b571-678156e04be3",
   "metadata": {},
   "outputs": [],
   "source": []
  }
 ],
 "metadata": {
  "kernelspec": {
   "display_name": "Python 3 (ipykernel)",
   "language": "python",
   "name": "python3"
  },
  "language_info": {
   "codemirror_mode": {
    "name": "ipython",
    "version": 3
   },
   "file_extension": ".py",
   "mimetype": "text/x-python",
   "name": "python",
   "nbconvert_exporter": "python",
   "pygments_lexer": "ipython3",
   "version": "3.11.5"
  }
 },
 "nbformat": 4,
 "nbformat_minor": 5
}
