{
 "cells": [
  {
   "cell_type": "code",
   "execution_count": 17,
   "id": "7339e0ec-f10a-4174-807d-dc23d29655c5",
   "metadata": {
    "tags": []
   },
   "outputs": [
    {
     "name": "stdin",
     "output_type": "stream",
     "text": [
      "Please enter a number for random generation 3\n"
     ]
    },
    {
     "name": "stdout",
     "output_type": "stream",
     "text": [
      "14\n",
      "7\n",
      "91\n",
      "112\n",
      "91\n"
     ]
    }
   ],
   "source": [
    "from random import randint\n",
    "def random_generator():\n",
    "#Sum of random numbers\n",
    "    \n",
    "    total = 0\n",
    "    number = int(input(\"Please enter a number for random generation\"))\n",
    "    for i in range(number):\n",
    "        num = randint(1,100)\n",
    "        total=total+num\n",
    "        print(num)\n",
    "    print(total)\n",
    "    print(num)\n",
    "\n",
    "    \n",
    "random_generator()"
   ]
  },
  {
   "cell_type": "code",
   "execution_count": 25,
   "id": "2d4d03c4-f83b-4480-b8e5-78e3a4312398",
   "metadata": {
    "tags": []
   },
   "outputs": [
    {
     "name": "stdin",
     "output_type": "stream",
     "text": [
      "Please enter a number for calculate Factorials: 5\n"
     ]
    },
    {
     "name": "stdout",
     "output_type": "stream",
     "text": [
      "120\n"
     ]
    }
   ],
   "source": [
    "def calculate_factorial():\n",
    "#Factorials\n",
    "    \n",
    "    total = 1\n",
    "    number = int(input(\"Please enter a number for calculate Factorials:\"))\n",
    "    while number>0:\n",
    "        total=total*number\n",
    "        number=number-1   \n",
    "    print(total)\n",
    "    \n",
    "    \n",
    "calculate_factorial()"
   ]
  },
  {
   "cell_type": "code",
   "execution_count": 35,
   "id": "d10a94b5-afcb-4424-91e7-7fa1936717e8",
   "metadata": {
    "tags": []
   },
   "outputs": [
    {
     "name": "stdout",
     "output_type": "stream",
     "text": [
      "5 3\n",
      "2 3\n",
      "5 5\n",
      "3 4\n",
      "6 6\n",
      "6 4\n",
      "2\n"
     ]
    }
   ],
   "source": [
    "from random import randint\n",
    "def roll_dice():\n",
    "#rolling a dice\n",
    "    \n",
    "    total = 0\n",
    "    \n",
    "    for i in range (6):\n",
    "        dice1 = randint(1,6)\n",
    "        dice2 = randint(1,6)\n",
    "        print(dice1,dice2)\n",
    "        if dice1 == dice2:\n",
    "            total=total+1\n",
    "    print (total)\n",
    "\n",
    "    \n",
    "    \n",
    "roll_dice()"
   ]
  },
  {
   "cell_type": "code",
   "execution_count": 41,
   "id": "a343db99-1bae-4315-b2a0-8bc4d06b58ab",
   "metadata": {
    "tags": []
   },
   "outputs": [
    {
     "name": "stdout",
     "output_type": "stream",
     "text": [
      "1\n",
      "2\n",
      "fizz\n",
      "4\n",
      "buzz\n",
      "fizz\n",
      "7\n",
      "8\n",
      "fizz\n",
      "buzz\n",
      "11\n",
      "fizz\n",
      "13\n",
      "14\n",
      "fizzbuzz\n",
      "16\n",
      "17\n",
      "fizz\n",
      "19\n",
      "buzz\n",
      "fizz\n",
      "22\n",
      "23\n",
      "fizz\n",
      "buzz\n",
      "26\n",
      "fizz\n",
      "28\n",
      "29\n",
      "fizzbuzz\n"
     ]
    }
   ],
   "source": [
    "def fizz_buzz():\n",
    "#fizz_buzz()    \n",
    "    \n",
    "    \n",
    "    for i in range (1,31):\n",
    "        if i%3 == 0:\n",
    "            if i%5 == 0:\n",
    "                print(\"fizzbuzz\") \n",
    "            else:\n",
    "                print(\"fizz\")\n",
    "        elif i%5 == 0:\n",
    "            print(\"buzz\") \n",
    "        else: \n",
    "            print(i)\n",
    "    \n",
    "\n",
    "    \n",
    "    \n",
    "fizz_buzz()\n"
   ]
  },
  {
   "cell_type": "code",
   "execution_count": 1,
   "id": "68459d3f-e7da-4098-b739-fac567d936b0",
   "metadata": {
    "tags": []
   },
   "outputs": [
    {
     "name": "stdin",
     "output_type": "stream",
     "text": [
      "Please, enter a number 12\n"
     ]
    },
    {
     "name": "stdout",
     "output_type": "stream",
     "text": [
      "12 is not perfect\n"
     ]
    }
   ],
   "source": [
    "def check_perfect():\n",
    "#perfect numbers\n",
    "    \n",
    "    total = 0\n",
    "    num = int(input(\"Please, enter a number\"))\n",
    "    \n",
    "    for i in range (1,num):\n",
    "        number = num%i\n",
    "        if number == 0:\n",
    "            total=total + i\n",
    "    if total == num:\n",
    "        total = (total+num)/2\n",
    "        if total == num:\n",
    "            print (num,\"is perfect\")\n",
    "    else:\n",
    "        print (num,\"is not perfect\")\n",
    "    \n",
    "check_perfect()"
   ]
  },
  {
   "cell_type": "code",
   "execution_count": 5,
   "id": "f15e8562-dfba-4a0f-8165-c09f4c844904",
   "metadata": {},
   "outputs": [
    {
     "name": "stdout",
     "output_type": "stream",
     "text": [
      "*PKH   0 J\n"
     ]
    },
    {
     "name": "stdin",
     "output_type": "stream",
     "text": [
      "Please,enter a missing letter: f\n"
     ]
    },
    {
     "name": "stdout",
     "output_type": "stream",
     "text": [
      "You have attempts 3 attempts left\n"
     ]
    },
    {
     "name": "stdin",
     "output_type": "stream",
     "text": [
      "Please,enter a missing letter: d\n"
     ]
    },
    {
     "name": "stdout",
     "output_type": "stream",
     "text": [
      "You have attempts 2 attempts left\n"
     ]
    },
    {
     "name": "stdin",
     "output_type": "stream",
     "text": [
      "Please,enter a missing letter: J\n"
     ]
    },
    {
     "name": "stdout",
     "output_type": "stream",
     "text": [
      "Correct passcode\n"
     ]
    }
   ],
   "source": [
    "#Passcode\n",
    "### importing package random\n",
    "from random import choice, randint\n",
    "\n",
    "passcode = \"\"\n",
    "\n",
    "letters = [chr(a) for a in range(ord('A'),ord('Z')+1)] # generate the letter between A and Z\n",
    "missing_position = randint(0,4)\n",
    "missing_letter = \"*\"\n",
    "for i in range(4):\n",
    "    letter = choice(letters)\n",
    "    if i == missing_position:\n",
    "        missing_letter = letter\n",
    "        passcode += \"*\"\n",
    "    else:\n",
    "        passcode += letter\n",
    "\n",
    "def guess_passcode(passcode, missing_letter):\n",
    "    \n",
    "    miss_letter = input(\"Please,enter a missing letter:\")\n",
    "    attempt = 3\n",
    "    if miss_letter != missing_letter:\n",
    "        while attempt > 0:\n",
    "            if miss_letter != missing_letter:\n",
    "                print (\"You have attempts\",attempt, \"attempts left\")\n",
    "                miss_letter = input(\"Please,enter a missing letter:\")\n",
    "                attempt = attempt-1\n",
    "                if attempt == 0:\n",
    "                    print(\"No more attempts\")\n",
    "            elif miss_letter == missing_letter:\n",
    "                print (\"Correct passcode\")\n",
    "                attempt = attempt-attempt\n",
    "                if attempt > 0:\n",
    "                    print(\"No more attempts\")\n",
    "    else:\n",
    "        print (\"Correct passcode\")\n",
    "\n",
    "guess_passcode(passcode, missing_letter)"
   ]
  },
  {
   "cell_type": "code",
   "execution_count": null,
   "id": "6d8cd504-c54d-4bbc-b0a0-da2696500ee9",
   "metadata": {},
   "outputs": [],
   "source": []
  }
 ],
 "metadata": {
  "kernelspec": {
   "display_name": "Python 3 (ipykernel)",
   "language": "python",
   "name": "python3"
  },
  "language_info": {
   "codemirror_mode": {
    "name": "ipython",
    "version": 3
   },
   "file_extension": ".py",
   "mimetype": "text/x-python",
   "name": "python",
   "nbconvert_exporter": "python",
   "pygments_lexer": "ipython3",
   "version": "3.11.5"
  }
 },
 "nbformat": 4,
 "nbformat_minor": 5
}
