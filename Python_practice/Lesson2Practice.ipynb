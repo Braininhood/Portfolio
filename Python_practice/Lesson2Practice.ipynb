{
 "cells": [
  {
   "cell_type": "code",
   "execution_count": null,
   "id": "204bd24a-bd48-45c8-8823-f36e4dea5f53",
   "metadata": {},
   "outputs": [],
   "source": [
    "def print_details():\n",
    "# changing data type\n",
    "\n",
    "    name = input(\"What is your name? \")   \n",
    "    age=int(input(\"How old are you? \"))\n",
    "    height=float(input(\"Cost: \"))\n",
    "    print (\"Hello \",name,\" you are \",age,\" years old and \",height,\" metres tall\")\n",
    "    \n",
    "print_details()"
   ]
  },
  {
   "cell_type": "code",
   "execution_count": null,
   "id": "cd7f3544",
   "metadata": {},
   "outputs": [],
   "source": [
    "def show_trueFalse():\n",
    "# boolean variables    \n",
    "    logged_in = True\n",
    "    logged_in_as_num = int(True)\n",
    "    print (logged_in,logged_in_as_num)\n",
    "\n",
    "show_trueFalse()"
   ]
  },
  {
   "cell_type": "code",
   "execution_count": null,
   "id": "7c53a94c",
   "metadata": {},
   "outputs": [],
   "source": [
    "def count_poundCoins():\n",
    "  #converting float to int\n",
    "    \n",
    "    pounds_pence=float(input(\"Please, enter ammount in pounds and pence \"))\n",
    "    pound_coins=int(pounds_pence)\n",
    "    print (\"Number of pound coins \",pound_coins)\n",
    "    \n",
    "count_poundCoins()"
   ]
  },
  {
   "cell_type": "code",
   "execution_count": 1,
   "id": "41edfd82",
   "metadata": {},
   "outputs": [
    {
     "name": "stdout",
     "output_type": "stream",
     "text": [
      "Please, enter a number of pounds 4\n",
      "£4.00\n"
     ]
    }
   ],
   "source": [
    "def format_currency():\n",
    "  #converting int to string\n",
    "    \n",
    "    num_pounds=int(input(\"Please, enter a number of pounds \"))\n",
    "    pounds = str(num_pounds)\n",
    "    currency = \"£\"+pounds+\".00\"\n",
    "    print (currency)\n",
    "  \n",
    "format_currency()"
   ]
  },
  {
   "cell_type": "code",
   "execution_count": null,
   "id": "274302ae",
   "metadata": {},
   "outputs": [],
   "source": [
    "def calculate_area():\n",
    "  #area of a circle\n",
    "    \n",
    "    radius=float(input(\"Please, enter a radius \"))\n",
    "    pi = 3.14159\n",
    "    area = pi * radius * radius\n",
    "    print (round(area, 2))\n",
    "  \n",
    "calculate_area()"
   ]
  },
  {
   "cell_type": "code",
   "execution_count": null,
   "id": "47ce031b",
   "metadata": {},
   "outputs": [],
   "source": []
  }
 ],
 "metadata": {
  "kernelspec": {
   "display_name": "Python 3 (ipykernel)",
   "language": "python",
   "name": "python3"
  },
  "language_info": {
   "codemirror_mode": {
    "name": "ipython",
    "version": 3
   },
   "file_extension": ".py",
   "mimetype": "text/x-python",
   "name": "python",
   "nbconvert_exporter": "python",
   "pygments_lexer": "ipython3",
   "version": "3.11.5"
  }
 },
 "nbformat": 4,
 "nbformat_minor": 5
}
