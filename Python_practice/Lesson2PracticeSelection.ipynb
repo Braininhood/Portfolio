{
 "cells": [
  {
   "cell_type": "code",
   "execution_count": 85,
   "id": "758bbaf4-cc6b-4d2e-a0b3-ffc1e960c140",
   "metadata": {
    "tags": []
   },
   "outputs": [
    {
     "name": "stdout",
     "output_type": "stream",
     "text": [
      "Rules for a valid password are:\n",
      "At least 1 letter between [a-z] and 1 letter between [A-Z].\n",
      "At least 1 number between [0-9].\n",
      "At least 1 character from [$#@].\n",
      "Minimum length 6 characters.\n",
      "Maximum length 16 characters.\n"
     ]
    },
    {
     "name": "stdin",
     "output_type": "stream",
     "text": [
      "Please, enter your password: Qazxsw2512\n"
     ]
    },
    {
     "name": "stdout",
     "output_type": "stream",
     "text": [
      "Password incorrect. Your password can has minimum 1character from [$#@]\n"
     ]
    }
   ],
   "source": [
    "import re\n",
    "def check_password_valid():\n",
    "#password format\n",
    "\n",
    "    print (\"Rules for a valid password are:\")\n",
    "    print (\"At least 1 letter between [a-z] and 1 letter between [A-Z].\")\n",
    "    print (\"At least 1 number between [0-9].\")\n",
    "    print (\"At least 1 character from [$#@].\")\n",
    "    print (\"Minimum length 6 characters.\")\n",
    "    print (\"Maximum length 16 characters.\")\n",
    "    password = input(\"Please, enter your password:\")\n",
    "    \n",
    "    \n",
    "    if len(password)<6 or len(password)>16:\n",
    "        print (\"Password incorrect. Password can be 6-16 characters.\")\n",
    "    else:\n",
    "        password = str(password)\n",
    "        if re.search('[a-z]',password):\n",
    "            if re.search('[A-Z]',password):\n",
    "                if re.search('[1-9]',password):\n",
    "                    if re.search('[$#@]',password):\n",
    "                        print (\"Password correct\")\n",
    "                    else:\n",
    "                        print(\"Password incorrect. Your password can has minimum 1 character from [$#@]\")\n",
    "                else:\n",
    "                    print(\"Password incorrect. Your password can has minimum 1 digit [1-9]\")\n",
    "            else:\n",
    "                print(\"Password incorrect. Your password can has minimum 1 capital letter [A-Z]\")\n",
    "        else:\n",
    "            print(\"Password incorrect. Your password can has minimum 1 letter [a-z]\")\n",
    "                \n",
    "               \n",
    "check_password_valid()    "
   ]
  },
  {
   "cell_type": "code",
   "execution_count": 33,
   "id": "d7e8a7be-7df1-4ef9-abdc-2bc4490b4031",
   "metadata": {
    "tags": []
   },
   "outputs": [
    {
     "name": "stdin",
     "output_type": "stream",
     "text": [
      "Please, enter 1st side of triangle: 15\n",
      "Please, enter 2nd side of triangle: 15\n",
      "Please, enter 3rd side of triangle: 5\n"
     ]
    },
    {
     "name": "stdout",
     "output_type": "stream",
     "text": [
      "Isosceles triangle\n"
     ]
    }
   ],
   "source": [
    "def evaluate_triangle_shape():\n",
    "#triangle shape\n",
    "\n",
    "    x = float(input(\"Please, enter 1st side of triangle:\"))\n",
    "    y = float(input(\"Please, enter 2nd side of triangle:\"))\n",
    "    z = float(input(\"Please, enter 3rd side of triangle:\"))\n",
    "    \n",
    "    if x!=y or y!=z or x!=z:\n",
    "        if x==y or y==z or x==z:\n",
    "            print (\"Isosceles triangle\")\n",
    "        else:\n",
    "            print (\"Scalene triangle\")\n",
    "    else:\n",
    "        print (\"Equilateral triangle\")\n",
    "\n",
    "evaluate_triangle_shape()"
   ]
  },
  {
   "cell_type": "code",
   "execution_count": 219,
   "id": "3b96c683-d623-473b-bd27-54e03aae6225",
   "metadata": {
    "tags": []
   },
   "outputs": [
    {
     "name": "stdin",
     "output_type": "stream",
     "text": [
      "Please, enter a month: 12\n",
      "Please, enter a day 12\n"
     ]
    },
    {
     "name": "stdout",
     "output_type": "stream",
     "text": [
      "This is Autumn\n"
     ]
    }
   ],
   "source": [
    "def determine_season():\n",
    "# which season\n",
    "\n",
    "    month = int(input(\"Please, enter a month:\"))\n",
    "    day = int(input(\"Please, enter a day\"))\n",
    "   \n",
    "    if (month == 1 and (day>=1 and day<=31)) or (month == 12 and (day>=21 and day<=31)) or (month == 2 and (day>=1 and day<=28)) or (month == 3 and (day>=1 and day<=20)):\n",
    "        print (\"This is Winter\")\n",
    "    elif (month == 3 and (day>=21 or day<=31)) or (month == 4 and (day>=1 and day<=30)) or (month == 5 and (day>=1 and day<=31)) or (month == 6 and (day>=1 and day<=20)):\n",
    "        print (\"This is Spring\")\n",
    "    elif (month == 6 and (day>=21 or day<=30)) or (month == 7 and (day>=1 and day<=31)) or (month == 8 and (day>=1 and day<=31)) or (month == 9 and (day>=1 and day<=20)):\n",
    "        print (\"This is Summer\") \n",
    "    elif (month == 9 and (day>=21 or day<=30)) or (month == 11 and (day>=1 and day<=30)) or (month == 10 and (day>=1 and day<=31)) or (month == 12 and (day>=1 and day<=20)):\n",
    "        print (\"This is Autumn\")     \n",
    "    else:\n",
    "        print (\"incorrect date format\")\n",
    "\n",
    "determine_season()"
   ]
  },
  {
   "cell_type": "code",
   "execution_count": null,
   "id": "5df360a4-de09-4737-aa4e-1b6d0981dc80",
   "metadata": {},
   "outputs": [],
   "source": []
  }
 ],
 "metadata": {
  "kernelspec": {
   "display_name": "Python 3 (ipykernel)",
   "language": "python",
   "name": "python3"
  },
  "language_info": {
   "codemirror_mode": {
    "name": "ipython",
    "version": 3
   },
   "file_extension": ".py",
   "mimetype": "text/x-python",
   "name": "python",
   "nbconvert_exporter": "python",
   "pygments_lexer": "ipython3",
   "version": "3.11.5"
  }
 },
 "nbformat": 4,
 "nbformat_minor": 5
}
