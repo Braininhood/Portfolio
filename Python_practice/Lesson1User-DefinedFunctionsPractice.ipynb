{
 "cells": [
  {
   "cell_type": "code",
   "execution_count": 51,
   "id": "aaae728e-d177-4261-8da9-9b41ee396e01",
   "metadata": {
    "tags": []
   },
   "outputs": [
    {
     "name": "stdin",
     "output_type": "stream",
     "text": [
      "Please, enter number (that must be between 0 and 9):  5\n"
     ]
    },
    {
     "name": "stdout",
     "output_type": "stream",
     "text": [
      "5\n"
     ]
    }
   ],
   "source": [
    "#get valid digit\n",
    "\n",
    "num = int(input(\"Please, enter number (that must be between 0 and 9): \"))\n",
    "\n",
    "def input_digit(num):\n",
    "    \n",
    "    if num<=9 and num>=0:\n",
    "        return False\n",
    "    else:\n",
    "\n",
    "        print (\"That number is not valid, try again\")\n",
    "        return True\n",
    "    \n",
    "\n",
    "while input_digit(num) == True:\n",
    "    num = int(input(\"Please, enter number (that must be between 0 and 9): \"))\n",
    "\n",
    "print (num)\n",
    "\n",
    "\n",
    "    \n"
   ]
  },
  {
   "cell_type": "code",
   "execution_count": 63,
   "id": "772bcd7f-75b8-44bf-85d2-3e84ae1a5367",
   "metadata": {
    "tags": []
   },
   "outputs": [
    {
     "name": "stdin",
     "output_type": "stream",
     "text": [
      "Please, enter number:  12\n"
     ]
    },
    {
     "name": "stdout",
     "output_type": "stream",
     "text": [
      "Number is out of range, try again\n",
      "12\n"
     ]
    }
   ],
   "source": [
    "#input range\n",
    "\n",
    "num = int(input(\"Please, enter number: \"))\n",
    "\n",
    "def input_value(min,max):\n",
    "    \n",
    "    if num in range (min,max):\n",
    "        return num\n",
    "\n",
    "while input_value(3,24) != num :\n",
    "    print (\"Number is out of range, try again\")\n",
    "    num = int(input(\"Please, enter number again: \"))\n",
    "\n",
    "print (num)\n"
   ]
  },
  {
   "cell_type": "code",
   "execution_count": 77,
   "id": "b5c52def-a067-4429-bf12-341824dc2e01",
   "metadata": {
    "tags": []
   },
   "outputs": [
    {
     "name": "stdin",
     "output_type": "stream",
     "text": [
      "Please, enter 1st number:  1\n",
      "Please, enter 2nd number:  12\n",
      "Please, enter 3rd number:  22\n"
     ]
    },
    {
     "name": "stdout",
     "output_type": "stream",
     "text": [
      "1 12 22\n"
     ]
    }
   ],
   "source": [
    "#input range\n",
    "\n",
    "\n",
    "\n",
    "def input_value(min,max):\n",
    "    \n",
    "    if num1 in range (min,max):\n",
    "        return num1\n",
    "    elif num2 in range (min,max):\n",
    "        return num2\n",
    "    elif num3 in range (min,max):\n",
    "        return num3\n",
    "    \n",
    "num1 = int(input(\"Please, enter 1st number: \"))\n",
    "while input_value(1,10) != num1:\n",
    "    print (\"Number is out of range, try again\")\n",
    "    num1 = int(input(\"Please, enter number again: \"))\n",
    "\n",
    "num2 = int(input(\"Please, enter 2nd number: \"))   \n",
    "while input_value(11,20) != num2 :\n",
    "    print (\"Number is out of range, try again\")\n",
    "    num2 = int(input(\"Please, enter number again: \"))\n",
    "\n",
    "num3 = int(input(\"Please, enter 3rd number: \"))   \n",
    "while input_value(21,30) != num3 :\n",
    "    print (\"Number is out of range, try again\")\n",
    "    num3 = int(input(\"Please, enter number again: \"))\n",
    "\n",
    "print (num1,num2,num3)"
   ]
  },
  {
   "cell_type": "code",
   "execution_count": 115,
   "id": "a6fc8bf1-680a-466a-9d76-ec090a450fa9",
   "metadata": {
    "tags": []
   },
   "outputs": [
    {
     "name": "stdout",
     "output_type": "stream",
     "text": [
      "80\n"
     ]
    }
   ],
   "source": [
    "#generate random even number\n",
    "\n",
    "import random\n",
    "\n",
    "num=random.randint(1,100)\n",
    "def generate_even_number(num):\n",
    "    if num %2 == 0:\n",
    "        return True\n",
    "    else:\n",
    "        print (num)\n",
    "        return False\n",
    "\n",
    "while generate_even_number(num) != True:\n",
    "    num=random.randint(1,100)\n",
    "print (num)\n",
    "    \n",
    "\n",
    "\n"
   ]
  },
  {
   "cell_type": "code",
   "execution_count": 120,
   "id": "a334f827-0b9e-4059-98a5-94aa2adda08e",
   "metadata": {
    "tags": []
   },
   "outputs": [
    {
     "name": "stdin",
     "output_type": "stream",
     "text": [
      "Please, enter 1st number:  12\n",
      "Please, enter 2nd number:  15\n",
      "Please, enter 3rd number:  85\n"
     ]
    },
    {
     "name": "stdout",
     "output_type": "stream",
     "text": [
      "Biggest number: 85\n"
     ]
    }
   ],
   "source": [
    "#biggest of 3 numbers\n",
    "\n",
    "num1 = int(input(\"Please, enter 1st number: \"))\n",
    "num2 = int(input(\"Please, enter 2nd number: \"))\n",
    "num3 = int(input(\"Please, enter 3rd number: \"))\n",
    "\n",
    "def check_largest(num1, num2, num3):\n",
    "    if num1>num2 and num1>num3:\n",
    "        print (\"Biggest number:\",num1)\n",
    "    elif num1<num2 and num2>num3:\n",
    "        print (\"Biggest number:\",num2)\n",
    "    elif num1<num3 and num2<num3:\n",
    "        print (\"Biggest number:\",num3)\n",
    "check_largest(num1, num2, num3)       "
   ]
  },
  {
   "cell_type": "code",
   "execution_count": 126,
   "id": "48e53988-1124-4ab7-83cc-df0b61990a1e",
   "metadata": {
    "tags": []
   },
   "outputs": [
    {
     "name": "stdin",
     "output_type": "stream",
     "text": [
      "Please, enter 1st number:  1\n",
      "Please, enter 2nd number:  2\n",
      "Please, enter 3rd number:  3\n",
      "Please, enter 4th number:  4\n",
      "Please, enter 5th number:  5\n"
     ]
    },
    {
     "name": "stdout",
     "output_type": "stream",
     "text": [
      "3.0\n"
     ]
    }
   ],
   "source": [
    "# average of 5 numbers\n",
    "\n",
    "num1 = int(input(\"Please, enter 1st number: \"))\n",
    "num2 = int(input(\"Please, enter 2nd number: \"))\n",
    "num3 = int(input(\"Please, enter 3rd number: \"))\n",
    "num4 = int(input(\"Please, enter 4th number: \"))\n",
    "num5 = int(input(\"Please, enter 5th number: \"))\n",
    "\n",
    "def calculate_average(num1, num2, num3, num4, num5):\n",
    "    total = 0\n",
    "    total = (num1+num2+num3+num4+num5)/5\n",
    "    print (\"Average of 5 numbers:\",total) \n",
    "calculate_average(num1, num2, num3, num4, num5)\n",
    "   \n",
    "\n"
   ]
  },
  {
   "cell_type": "code",
   "execution_count": 150,
   "id": "fca12157-7bc3-466e-abf9-4522dc1110b8",
   "metadata": {
    "tags": []
   },
   "outputs": [
    {
     "name": "stdin",
     "output_type": "stream",
     "text": [
      "Please, enter a product_price:  10\n",
      "Please, enter a number of items:  12\n",
      "Please, enter discount (this can be 10% or 25% only):  50\n"
     ]
    },
    {
     "name": "stdout",
     "output_type": "stream",
     "text": [
      "Discounted price: £ 120.0\n"
     ]
    }
   ],
   "source": [
    "#calculate_price(product_price, items)\n",
    "\n",
    "product_price = float(input(\"Please, enter a product_price: \"))\n",
    "items = int(input(\"Please, enter a number of items: \"))\n",
    "discount = int(input(\"Please, enter discount (this can be 10% or 25% only): \"))\n",
    "\n",
    "def calculate_price(product_price, items,discount):\n",
    "    \n",
    "    if discount>= 10 and discount<= 25:\n",
    "        discount_price = product_price*items*(1-discount/100)\n",
    "        return discount_price\n",
    "    else:\n",
    "        discount_price = product_price*items\n",
    "        return discount_price\n",
    "  \n",
    "calculate_price(product_price, items,discount) \n",
    " \n",
    "print (\"Discounted price: £\",calculate_price(product_price,items,discount))"
   ]
  },
  {
   "cell_type": "code",
   "execution_count": 162,
   "id": "482ff689-8d50-4d66-b97a-63ee7aa64ed9",
   "metadata": {
    "tags": []
   },
   "outputs": [
    {
     "name": "stdin",
     "output_type": "stream",
     "text": [
      "Please enter a word: gmail\n"
     ]
    },
    {
     "name": "stdout",
     "output_type": "stream",
     "text": [
      "liamg\n"
     ]
    }
   ],
   "source": [
    "#reverse a string\n",
    "\n",
    "word = input(\"Please enter a word:\")\n",
    "\n",
    "def reverse_string(word):\n",
    "    return word [::-1]\n",
    "\n",
    "reverse_string(word)\n",
    "\n",
    "print (reverse_string(word))"
   ]
  },
  {
   "cell_type": "code",
   "execution_count": 166,
   "id": "caf05c62-c315-46c0-84c2-01a13dfc0202",
   "metadata": {
    "tags": []
   },
   "outputs": [
    {
     "name": "stdin",
     "output_type": "stream",
     "text": [
      "Please, enter number:  5\n"
     ]
    },
    {
     "name": "stdout",
     "output_type": "stream",
     "text": [
      "Factorial of 5 is 120\n"
     ]
    }
   ],
   "source": [
    "#find factorial\n",
    "\n",
    "num = int(input(\"Please, enter number: \"))\n",
    "\n",
    "def factorial (num):\n",
    "    if num<0:\n",
    "        return -1\n",
    "    elif num== 0:\n",
    "        return 1\n",
    "    else:\n",
    "        return num*factorial(num-1)\n",
    "    \n",
    "print (\"Factorial of\",num,\"is\",factorial(num))"
   ]
  },
  {
   "cell_type": "code",
   "execution_count": 172,
   "id": "656a6773-2772-4cc0-8c3e-895596622852",
   "metadata": {
    "tags": []
   },
   "outputs": [
    {
     "name": "stdin",
     "output_type": "stream",
     "text": [
      "Please enter a word: Bananab\n"
     ]
    },
    {
     "data": {
      "text/plain": [
       "True"
      ]
     },
     "execution_count": 172,
     "metadata": {},
     "output_type": "execute_result"
    }
   ],
   "source": [
    "#palindrome\n",
    "\n",
    "word = input(\"Please enter a word:\")\n",
    "word = word.lower()\n",
    "\n",
    "def reverse_string(word):\n",
    "    return word [::-1]\n",
    "reverse_string(word)\n",
    "\n",
    "def polidrome():\n",
    "    if word == reverse_string(word):\n",
    "        return True\n",
    "    else:\n",
    "        return False\n",
    "polidrome()\n"
   ]
  },
  {
   "cell_type": "code",
   "execution_count": null,
   "id": "88c6ce29-3a07-49b1-bbbe-4bc10720d04d",
   "metadata": {},
   "outputs": [],
   "source": []
  }
 ],
 "metadata": {
  "kernelspec": {
   "display_name": "Python 3 (ipykernel)",
   "language": "python",
   "name": "python3"
  },
  "language_info": {
   "codemirror_mode": {
    "name": "ipython",
    "version": 3
   },
   "file_extension": ".py",
   "mimetype": "text/x-python",
   "name": "python",
   "nbconvert_exporter": "python",
   "pygments_lexer": "ipython3",
   "version": "3.11.5"
  }
 },
 "nbformat": 4,
 "nbformat_minor": 5
}
