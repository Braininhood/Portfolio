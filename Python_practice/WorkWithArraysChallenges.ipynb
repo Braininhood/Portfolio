{
 "cells": [
  {
   "cell_type": "code",
   "execution_count": 11,
   "id": "6118b9fd-27ae-4baf-894c-abfd3dddddb7",
   "metadata": {
    "tags": []
   },
   "outputs": [
    {
     "name": "stdout",
     "output_type": "stream",
     "text": [
      "[ 1  2  3  4  5  6  7  8  9 10]\n"
     ]
    }
   ],
   "source": [
    "# create a new numpy array to hold the numbers from 1 to 100\n",
    "\n",
    "import numpy as np\n",
    "\n",
    "def make_array():\n",
    "    numbers_list = list(range(1, 11))\n",
    "    new_array = np.array(numbers_list, np.int8)  # Setting the data type to int64\n",
    "    print(new_array)\n",
    "\n",
    "make_array()\n",
    "\n"
   ]
  },
  {
   "cell_type": "code",
   "execution_count": 12,
   "id": "3ecca503-089a-429e-95f2-d1e0514edffb",
   "metadata": {
    "tags": []
   },
   "outputs": [
    {
     "name": "stdout",
     "output_type": "stream",
     "text": [
      "[31112 32321 24567   456   324   789]\n"
     ]
    }
   ],
   "source": [
    "# create list of smallish numbers\n",
    "\n",
    "import numpy as np\n",
    "\n",
    "def create_array(num_list):\n",
    "    new_array = np.array(num_list, np.int16)  # Creating a NumPy array with int16 data type\n",
    "    print(new_array)\n",
    "\n",
    "create_array([31112, 32321, 24567, 456, 324, 789])\n"
   ]
  },
  {
   "cell_type": "code",
   "execution_count": 13,
   "id": "dc440903-5124-431f-ac40-6ad0afde633f",
   "metadata": {
    "tags": []
   },
   "outputs": [
    {
     "name": "stdout",
     "output_type": "stream",
     "text": [
      "[  7.25    71.2833   7.925   53.1      8.05     8.4583  51.8625  21.075\n",
      "  11.1333  30.0708  16.7     26.55     8.05    31.275    7.8542  16.\n",
      "  29.125   13.      18.       7.225   26.      13.       8.0292  35.5\n",
      "  21.075   31.3875   7.225  263.       7.8792   7.8958  27.7208 146.5208\n",
      "   7.75    10.5     82.1708  52.       7.2292   8.05    18.      11.2417\n",
      "   9.475   21.       7.8958  41.5792   7.8792   8.05    15.5      7.75\n",
      "  21.6792  17.8     39.6875   7.8     76.7292  26.      61.9792  35.5\n",
      "  10.5      7.2292  27.75    46.9      7.2292  80.      83.475   27.9\n",
      "  27.7208  15.2458  10.5      8.1583   7.925    8.6625  10.5     46.9\n",
      "  73.5     14.4542  56.4958   7.65     7.8958   8.05    29.      12.475\n",
      "   9.       9.5      7.7875  47.1     10.5     15.85    34.375    8.05\n",
      " 263.       8.05     8.05     7.8542  61.175   20.575    7.25     8.05\n",
      "  34.6542  63.3583  23.      26.       7.8958   7.8958  77.2875   8.6542\n",
      "   7.925    7.8958   7.65     7.775    7.8958  24.15    52.      14.4542\n",
      "   8.05     9.825   14.4583   7.925    7.75    21.     247.5208  31.275\n",
      "  73.5      8.05    30.0708  13.      77.2875  11.2417   7.75     7.1417\n",
      "  22.3583   6.975    7.8958   7.05    14.5     26.      13.      15.0458\n",
      "  26.2833  53.1      9.2167  79.2     15.2458   7.75    15.85     6.75\n",
      "  11.5     36.75     7.7958  34.375   26.      13.      12.525   66.6\n",
      "   8.05    14.5      7.3125  61.3792   7.7333   8.05     8.6625  69.55\n",
      "  16.1     15.75     7.775    8.6625  39.6875  20.525   55.      27.9\n",
      "  25.925   56.4958  33.5     29.125   11.1333   7.925   30.6958   7.8542\n",
      "  25.4667  28.7125  13.       0.      69.55    15.05    31.3875  39.\n",
      "  22.025   50.      15.5     26.55    15.5      7.8958  13.      13.\n",
      "   7.8542  26.      27.7208 146.5208   7.75     8.4042   7.75    13.\n",
      "   9.5     69.55     6.4958   7.225    8.05    10.4625  15.85    18.7875\n",
      "   7.75    31.       7.05    21.       7.25    13.       7.75   113.275\n",
      "   7.925   27.      76.2917  10.5      8.05    13.       8.05     7.8958\n",
      "  90.       9.35    10.5      7.25    13.      25.4667  83.475    7.775\n",
      "  13.5     31.3875  10.5      7.55    26.      26.25    10.5     12.275\n",
      "  14.4542  15.5     10.5      7.125    7.225   90.       7.775   14.5\n",
      "  52.5542  26.       7.25    10.4625  26.55    16.1     20.2125  15.2458\n",
      "  79.2     86.5    512.3292  26.       7.75    31.3875  79.65     0.\n",
      "   7.75    10.5     39.6875   7.775  153.4625 135.6333  31.       0.\n",
      "  19.5     29.7      7.75    77.9583   7.75     0.      29.125   20.25\n",
      "   7.75     7.8542   9.5      8.05    26.       8.6625   9.5      7.8958\n",
      "  13.       7.75    78.85    91.0792  12.875    8.85     7.8958  27.7208\n",
      "   7.2292 151.55    30.5    247.5208   7.75    23.25     0.      12.35\n",
      "   8.05   151.55   110.8833 108.9     24.      56.9292  83.1583 262.375\n",
      "  26.       7.8958  26.25     7.8542  26.      14.     164.8667 134.5\n",
      "   7.25     7.8958  12.35    29.      69.55   135.6333   6.2375  13.\n",
      "  20.525   57.9792  23.25    28.5    153.4625  18.     133.65     7.8958\n",
      "  66.6    134.5      8.05    35.5     26.     263.      13.      13.\n",
      "  13.      13.      13.      16.1     15.9      8.6625   9.225   35.\n",
      "   7.2292  17.8      7.225    9.5     55.      13.       7.8792   7.8792\n",
      "  27.9     27.7208  14.4542   7.05    15.5      7.25    75.25     7.2292\n",
      "   7.75    69.3     55.4417   6.4958   8.05   135.6333  21.075   82.1708\n",
      "   7.25   211.5      4.0125   7.775  227.525   15.7417   7.925   52.\n",
      "   7.8958  73.5     46.9     13.       7.7292  12.     120.       7.7958\n",
      "   7.925  113.275   16.7      7.7958   7.8542  26.      10.5     12.65\n",
      "   7.925    8.05     9.825   15.85     8.6625  21.       7.75    18.75\n",
      "   7.775   25.4667   7.8958   6.8583  90.       0.       7.925    8.05\n",
      "  32.5     13.      13.      24.15     7.8958   7.7333   7.875   14.4\n",
      "  20.2125   7.25    26.      26.       7.75     8.05    26.55    16.1\n",
      "  26.       7.125   55.9    120.      34.375   18.75   263.      10.5\n",
      "  26.25     9.5      7.775   13.       8.1125  81.8583  19.5     26.55\n",
      "  19.2583  30.5     27.75    19.9667  27.75    89.1042   8.05     7.8958\n",
      "  26.55    51.8625  10.5      7.75    26.55     8.05    38.5     13.\n",
      "   8.05     7.05     0.      26.55     7.725   19.2583   7.25     8.6625\n",
      "  27.75    13.7917   9.8375  52.      21.       7.0458   7.5208  12.2875\n",
      "  46.9      0.       8.05     9.5875  91.0792  25.4667  90.      29.7\n",
      "   8.05    15.9     19.9667   7.25    30.5     49.5042   8.05    14.4583\n",
      "  78.2667  15.1    151.55     7.7958   8.6625   7.75     7.6292   9.5875\n",
      "  86.5    108.9     26.      26.55    22.525   56.4958   7.75     8.05\n",
      "  26.2875  59.4      7.4958  34.0208  10.5     24.15    26.       7.8958\n",
      "  93.5      7.8958   7.225   57.9792   7.2292   7.75    10.5    221.7792\n",
      "   7.925   11.5     26.       7.2292   7.2292  22.3583   8.6625  26.25\n",
      "  26.55   106.425   14.5     49.5     71.      31.275   31.275   26.\n",
      " 106.425   26.      26.      13.8625  20.525   36.75   110.8833  26.\n",
      "   7.8292   7.225    7.775   26.55    39.6    227.525   79.65    17.4\n",
      "   7.75     7.8958  13.5      8.05     8.05    24.15     7.8958  21.075\n",
      "   7.2292   7.8542  10.5     51.4792  26.3875   7.75     8.05    14.5\n",
      "  13.      55.9     14.4583   7.925   30.     110.8833  26.      40.125\n",
      "   8.7125  79.65    15.      79.2      8.05     8.05     7.125   78.2667\n",
      "   7.25     7.75    26.      24.15    33.       0.       7.225   56.9292\n",
      "  27.       7.8958  42.4      8.05    26.55    15.55     7.8958  30.5\n",
      "  41.5792 153.4625  31.275    7.05    15.5      7.75     8.05    65.\n",
      "  14.4     16.1     39.      10.5     14.4542  52.5542  15.7417   7.8542\n",
      "  16.1     32.3208  12.35    77.9583   7.8958   7.7333  30.       7.0542\n",
      "  30.5      0.      27.9     13.       7.925   26.25    39.6875  16.1\n",
      "   7.8542  69.3     27.9     56.4958  19.2583  76.7292   7.8958  35.5\n",
      "   7.55     7.55     7.8958  23.       8.4333   7.8292   6.75    73.5\n",
      "   7.8958  15.5     13.     113.275  133.65     7.225   25.5875   7.4958\n",
      "   7.925   73.5     13.       7.775    8.05    52.      39.      52.\n",
      "  10.5     13.       0.       7.775    8.05     9.8417  46.9    512.3292\n",
      "   8.1375  76.7292   9.225   46.9     39.      41.5792  39.6875  10.1708\n",
      "   7.7958 211.3375  57.      13.4167  56.4958   7.225   26.55    13.5\n",
      "   8.05     7.7333 110.8833   7.65   227.525   26.2875  14.4542   7.7417\n",
      "   7.8542  26.      13.5     26.2875 151.55    15.2458  49.5042  26.55\n",
      "  52.       9.4833  13.       7.65   227.525   10.5     15.5      7.775\n",
      "  33.       7.0542  13.      13.      53.1      8.6625  21.       7.7375\n",
      "  26.       7.925  211.3375  18.7875   0.      13.      13.      16.1\n",
      "  34.375  512.3292   7.8958   7.8958  30.      78.85   262.375   16.1\n",
      "   7.925   71.      20.25    13.      53.1      7.75    23.      12.475\n",
      "   9.5      7.8958  65.      14.5      7.7958  11.5      8.05    86.5\n",
      "  14.5      7.125    7.2292 120.       7.775   77.9583  39.6      7.75\n",
      "  24.15     8.3625   9.5      7.8542  10.5      7.225   23.       7.75\n",
      "   7.75    12.475    7.7375 211.3375   7.2292  57.      30.      23.45\n",
      "   7.05     7.25     7.4958  29.125   20.575   79.2      7.75    26.\n",
      "  69.55    30.6958   7.8958  13.      25.9292   8.6833   7.2292  24.15\n",
      "  13.      26.25   120.       8.5167   6.975    7.775    0.       7.775\n",
      "  13.      53.1      7.8875  24.15    10.5     31.275    8.05     0.\n",
      "   7.925   37.0042   6.45    27.9     93.5      8.6625   0.      12.475\n",
      "  39.6875   6.95    56.4958  37.0042   7.75    80.      14.4542  18.75\n",
      "   7.2292   7.8542   8.3     83.1583   8.6625   8.05    56.4958  29.7\n",
      "   7.925   10.5     31.       6.4375   8.6625   7.55    69.55     7.8958\n",
      "  33.      89.1042  31.275    7.775   15.2458  39.4     26.       9.35\n",
      " 164.8667  26.55    19.2583   7.2292  14.1083  11.5     25.9292  69.55\n",
      "  13.      13.      13.8583  50.4958   9.5     11.1333   7.8958  52.5542\n",
      "   5.       9.      24.       7.225    9.8458   7.8958   7.8958  83.1583\n",
      "  26.       7.8958  10.5167  10.5      7.05    29.125   13.      30.\n",
      "  23.45    30.       7.75  ]\n"
     ]
    }
   ],
   "source": [
    "# create a numpy array from a pandas dataframe column\n",
    "\n",
    "import pandas as pd\n",
    "import numpy as np\n",
    "\n",
    "def create_fare_array():\n",
    "    # Reading the dataset into a DataFrame\n",
    "    url = 'https://raw.githubusercontent.com/pandas-dev/pandas/master/doc/data/titanic.csv'\n",
    "    df = pd.read_csv(url)\n",
    "\n",
    "    # Creating a numpy array from the 'Fare' column\n",
    "    fare = df['Fare'].to_numpy(dtype=np.float64)  # Converting to numpy array with float64 data type\n",
    "    print(fare)\n",
    "\n",
    "create_fare_array()\n"
   ]
  },
  {
   "cell_type": "code",
   "execution_count": 14,
   "id": "14bf313b-35dd-40e3-b8be-e877ce05b016",
   "metadata": {
    "tags": []
   },
   "outputs": [
    {
     "name": "stdout",
     "output_type": "stream",
     "text": [
      "29.88888888888889\n",
      "42.0\n",
      "22.0\n"
     ]
    }
   ],
   "source": [
    "# get some statistics from a numpy array created from a data series\n",
    "\n",
    "import pandas as pd\n",
    "import numpy as np\n",
    "\n",
    "def get_age_stats():\n",
    "    # Read the dataset into a DataFrame\n",
    "    url = 'https://github.com/futureCodersSE/working-with-data/blob/main/Data%20sets/Income-Data.xlsx?raw=true'\n",
    "    df = pd.read_excel(url)\n",
    "\n",
    "    # Creating a numpy array from the 'Age' column\n",
    "    age_array = df['Age'].to_numpy(dtype=np.float64)  \n",
    "\n",
    "   \n",
    "    print(np.mean(age_array))  \n",
    "    print(np.max(age_array))   \n",
    "    print(np.min(age_array))   \n",
    "\n",
    "\n",
    "get_age_stats()\n"
   ]
  },
  {
   "cell_type": "code",
   "execution_count": 15,
   "id": "1f7bac73-9ae9-4e35-a7d7-3158454e051b",
   "metadata": {
    "tags": []
   },
   "outputs": [
    {
     "name": "stdout",
     "output_type": "stream",
     "text": [
      "63.388888888888886\n",
      "13.936916958961463\n",
      "81.0\n",
      "34.70639789658195\n"
     ]
    }
   ],
   "source": [
    "# find the mean and standard deviation of wages\n",
    "\n",
    "import pandas as pd\n",
    "import numpy as np\n",
    "\n",
    "def get_income_stats():\n",
    "    # Read the dataset into a DataFrame\n",
    "    url = 'https://github.com/futureCodersSE/working-with-data/blob/main/Data%20sets/Income-Data.xlsx?raw=true'\n",
    "    df = pd.read_excel(url)\n",
    "\n",
    "    # Creating a numpy array from the 'Income' column\n",
    "    income_array = df['Income'].to_numpy(dtype=np.float64)  \n",
    "\n",
    "    # Calculate statistics\n",
    "    mean_income = np.mean(income_array)  # Mean income\n",
    "    std_dev_income = np.std(income_array)  # Standard deviation of income\n",
    "    max_income = np.max(income_array)  # Highest income\n",
    "    min_income_percentage = (np.min(income_array) / mean_income) * 100  # Lowest income as a percentage of the mean\n",
    "\n",
    "    print(mean_income)\n",
    "    print(std_dev_income)\n",
    "    print(max_income)\n",
    "    print(min_income_percentage)\n",
    "\n",
    "get_income_stats()\n"
   ]
  },
  {
   "cell_type": "code",
   "execution_count": 18,
   "id": "33437d3c-9d70-4552-b975-09fddb194bdf",
   "metadata": {
    "tags": []
   },
   "outputs": [
    {
     "name": "stdout",
     "output_type": "stream",
     "text": [
      "The matrix gives 4 values showing the correlation between:\n",
      "\n",
      "|    (Age/Age)        (Age/Income)     |\n",
      "|    (Income/Age)     (Income/Income)  |\n",
      "\n",
      "This suggests that income decreases with age (the correlation is negative so as one increases the other decreases) but that the correlation is quite weak (an absolute correlation would be 1 and no correlation would be 0)\n",
      "\n",
      "[[ 1.         -0.14787412]\n",
      " [-0.14787412  1.        ]]\n",
      "\n",
      "-0.14787411576068246\n"
     ]
    }
   ],
   "source": [
    "# finding the correlation between two series\n",
    "\n",
    "import pandas as pd\n",
    "import numpy as np\n",
    "\n",
    "def get_correlation():\n",
    "    # Read the Income data into a pandas DataFrame\n",
    "    url = 'https://github.com/futureCodersSE/working-with-data/blob/main/Data%20sets/Income-Data.xlsx?raw=true'\n",
    "    df = pd.read_excel(url)\n",
    "\n",
    "    # Create numpy arrays for 'Age' and 'Income'\n",
    "    age_array = df['Age'].to_numpy(dtype=np.float64)  # Convert 'Age' to numpy array with float64 data type\n",
    "    income_array = df['Income'].to_numpy(dtype=np.float64)  # Convert 'Income' to numpy array with float64 data type\n",
    "\n",
    "    # Calculate Pearson's Correlation Coefficient\n",
    "    coef = np.corrcoef(age_array, income_array)\n",
    "\n",
    "    # Print additional information and the correlation coefficient\n",
    "    print(\"The matrix gives 4 values showing the correlation between:\\n\")\n",
    "    print(\"|    (Age/Age)        (Age/Income)     |\")\n",
    "    print(\"|    (Income/Age)     (Income/Income)  |\\n\")\n",
    "    print(\"This suggests that income decreases with age (the correlation is negative so as one increases the other decreases) but that the correlation is quite weak (an absolute correlation would be 1 and no correlation would be 0)\\n\")\n",
    "    print(coef)\n",
    "    print(f\"\\n{coef[0][1]}\")  # Print the correlation coefficient between 'Age' and 'Income'\n",
    "\n",
    "get_correlation()\n"
   ]
  },
  {
   "cell_type": "code",
   "execution_count": 19,
   "id": "849da127-636d-4bb1-ac40-cec70fe6dcba",
   "metadata": {
    "tags": []
   },
   "outputs": [
    {
     "name": "stdout",
     "output_type": "stream",
     "text": [
      "[ 96.66666667  83.33333333  50.          73.33333333 100.        ]\n",
      "[ 96.66666667  83.33333333  50.          73.33333333 100.        ]\n"
     ]
    }
   ],
   "source": [
    "# Broadcasting an operation across an array\n",
    "\n",
    "# Creating a new array to store the result after the operation:\n",
    "import numpy as np\n",
    "\n",
    "scores = np.array([29, 25, 15, 22, 30])\n",
    "percentages = scores / 30 * 100\n",
    "print(percentages)\n",
    "\n",
    "#Storing the result in the original array:\n",
    "\n",
    "import numpy as np\n",
    "\n",
    "scores = np.array([29, 25, 15, 22, 30])\n",
    "percentages = scores / 30 * 100\n",
    "print(percentages)\n"
   ]
  },
  {
   "cell_type": "code",
   "execution_count": 22,
   "id": "19d9d8db-5aad-42bf-bd07-92d831e01c0f",
   "metadata": {
    "tags": []
   },
   "outputs": [
    {
     "name": "stdout",
     "output_type": "stream",
     "text": [
      "[21 22 23 24 25 26 27 28 21 22 23 24]\n"
     ]
    }
   ],
   "source": [
    "# increase whole array by 20\n",
    "\n",
    "import numpy as np\n",
    "\n",
    "def increase_array():\n",
    "    # Create a numpy array of 12 numbers\n",
    "    original_array = np.array([1, 2, 3, 4, 5, 6, 7, 8, 1, 2, 3, 4])\n",
    "    \n",
    "    # Create a new array by adding 20 to each item in the original array\n",
    "    new_array = original_array + 20\n",
    "    \n",
    "    print(new_array)\n",
    "increase_array()\n",
    "\n"
   ]
  },
  {
   "cell_type": "code",
   "execution_count": 23,
   "id": "6334261a-ffad-4dc4-a5a6-feb031dde240",
   "metadata": {
    "tags": []
   },
   "outputs": [
    {
     "name": "stdout",
     "output_type": "stream",
     "text": [
      "3887.1928207428173\n",
      "61840.4399214\n",
      "0.0\n"
     ]
    }
   ],
   "source": [
    "# convert Titanic fares into 21st century values\n",
    "\n",
    "import pandas as pd\n",
    "import numpy as np\n",
    "\n",
    "def get_current_fares():\n",
    "    # Read the data into a DataFrame\n",
    "    titanic_data = pd.read_csv('https://raw.githubusercontent.com/pandas-dev/pandas/master/doc/data/titanic.csv')\n",
    "\n",
    "    # Create a numpy array from the Fare column\n",
    "    fares_array = titanic_data['Fare'].to_numpy()\n",
    "\n",
    "    # Convert fares into current value using the factor 120.7045\n",
    "    current_fares = fares_array * 120.7045\n",
    "\n",
    "    # Print the average, maximum, and minimum fares\n",
    "    print(np.mean(current_fares))\n",
    "    print(np.max(current_fares))\n",
    "    print(np.min(current_fares))\n",
    "\n",
    "get_current_fares()\n",
    "\n"
   ]
  },
  {
   "cell_type": "code",
   "execution_count": 26,
   "id": "4c136a8e-ca02-4339-868a-a643854a8eb7",
   "metadata": {
    "tags": []
   },
   "outputs": [
    {
     "name": "stdout",
     "output_type": "stream",
     "text": [
      "   State  County  Population  Age  Income  Inflated_Salary\n",
      "0     TX       1          72   34      65           67.275\n",
      "1     TX       2          33   42      45           46.575\n",
      "2     TX       5          25   23      46           47.610\n",
      "3     TX       6          54   36      65           67.275\n",
      "4     TX       7          11   42      53           54.855\n",
      "5     TX       8          28   25      62           64.170\n",
      "6     TX       9          82   35      66           68.310\n",
      "7     TX      10           5   40      75           77.625\n",
      "8     MD      11          61   27      22           22.770\n",
      "9     MD       2           5   23      69           71.415\n",
      "10    MD       4          98   25      73           75.555\n",
      "11    MD       3          64   29      75           77.625\n",
      "12    MD       2          36   24      65           67.275\n",
      "13    MD       1          24   25      66           68.310\n",
      "14    MD       5          34   31      78           80.730\n",
      "15    MD       6          89   22      81           83.835\n",
      "16    MD       8          21   25      73           75.555\n",
      "17    MD       7          21   30      62           64.170\n",
      "Pearson Correlation Coefficient: 1.0\n"
     ]
    }
   ],
   "source": [
    "# create a new column in the dataframe from a numpy array\n",
    "# for work need exel file on github with column \"Salary\"!!!\n",
    "import pandas as pd\n",
    "import numpy as np\n",
    "\n",
    "def calculate_inflated_salaries():\n",
    "    # Read the Income data into a pandas DataFrame\n",
    "    income_data = pd.read_excel('https://github.com/futureCodersSE/working-with-data/blob/main/Data%20sets/Income-Data.xlsx?raw=true')\n",
    "\n",
    "    # Create a numpy array from the Salary column\n",
    "    salaries = income_data['Income'].to_numpy()\n",
    "\n",
    "    # Calculate expected salaries after an inflation rate of 3.5%\n",
    "    inflated_salaries = salaries * 1.035\n",
    "\n",
    "    # Add the inflated salaries as a new column in the DataFrame\n",
    "    income_data['Inflated_Salary'] = inflated_salaries.tolist()\n",
    "\n",
    "    # Calculate the Pearson Correlation Coefficient between Salary and Inflated Salary columns\n",
    "    correlation = np.corrcoef(salaries, inflated_salaries)\n",
    "\n",
    "    # Display the new DataFrame and print the correlation coefficient\n",
    "    print(income_data)\n",
    "    print(\"Pearson Correlation Coefficient:\", correlation[0][1])\n",
    "\n",
    "\n",
    "calculate_inflated_salaries()\n"
   ]
  },
  {
   "cell_type": "code",
   "execution_count": null,
   "id": "89c423ad-89ce-42bc-8812-5a2d9f55f53c",
   "metadata": {},
   "outputs": [],
   "source": []
  }
 ],
 "metadata": {
  "kernelspec": {
   "display_name": "Python 3 (ipykernel)",
   "language": "python",
   "name": "python3"
  },
  "language_info": {
   "codemirror_mode": {
    "name": "ipython",
    "version": 3
   },
   "file_extension": ".py",
   "mimetype": "text/x-python",
   "name": "python",
   "nbconvert_exporter": "python",
   "pygments_lexer": "ipython3",
   "version": "3.11.5"
  }
 },
 "nbformat": 4,
 "nbformat_minor": 5
}
