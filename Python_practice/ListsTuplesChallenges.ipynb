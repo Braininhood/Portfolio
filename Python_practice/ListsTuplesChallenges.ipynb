{
 "cells": [
  {
   "cell_type": "code",
   "execution_count": 2,
   "id": "3ba8f1f5-3e0c-416b-a943-0db6b2c5c4ba",
   "metadata": {
    "tags": []
   },
   "outputs": [
    {
     "name": "stdout",
     "output_type": "stream",
     "text": [
      "Length of the list: 50\n",
      "First 10 items: [6, 74, 66, 42, 70, 80, 8, 13, 23, 60]\n",
      "Last 5 items: [4, 85, 49, 66, 71]\n"
     ]
    }
   ],
   "source": [
    "# list head, tail and shape\n",
    "\n",
    "import random\n",
    "\n",
    "random_numbers = [random.randint(1, 100) for _ in range(50)]\n",
    "\n",
    "def describe_list(nums):\n",
    "    print(f\"Length of the list: {len(nums)}\")\n",
    "    print(f\"First 10 items: {nums[:10]}\")\n",
    "    print(f\"Last 5 items: {nums[-5:]}\")\n",
    "\n",
    "describe_list(random_numbers)\n",
    "\n"
   ]
  },
  {
   "cell_type": "code",
   "execution_count": 3,
   "id": "e635c190-679b-4f96-b461-d0aa1bb653ad",
   "metadata": {
    "tags": []
   },
   "outputs": [
    {
     "name": "stdout",
     "output_type": "stream",
     "text": [
      "Age\n",
      "Disability\n",
      "Gender reassignment\n",
      "Marriage and civil partnership\n",
      "Pregnancy and maternity\n",
      "Race\n",
      "Religion or belief\n",
      "Sex\n",
      "Sexual orientation\n"
     ]
    }
   ],
   "source": [
    "# show tuple items\n",
    "\n",
    "protected_characteristics = (\n",
    "    \"Age\",\n",
    "    \"Disability\",\n",
    "    \"Gender reassignment\",\n",
    "    \"Marriage and civil partnership\",\n",
    "    \"Pregnancy and maternity\",\n",
    "    \"Race\",\n",
    "    \"Religion or belief\",\n",
    "    \"Sex\",\n",
    "    \"Sexual orientation\"\n",
    ")\n",
    "\n",
    "def print_protected_characteristics(protected_characteristics):\n",
    "    for characteristic in protected_characteristics:\n",
    "        print(characteristic)\n",
    "\n",
    "print_protected_characteristics(protected_characteristics)\n"
   ]
  },
  {
   "cell_type": "code",
   "execution_count": 5,
   "id": "c27a46a5-ae58-4b52-8ce6-2a2214170d17",
   "metadata": {
    "tags": []
   },
   "outputs": [
    {
     "name": "stdout",
     "output_type": "stream",
     "text": [
      "['Gender reassignment', 'Marriage and civil partnership', 'Pregnancy and maternity', 'Race', 'Religion or belief', 'Sex', 'Sexual orientation', 'Other', 'Another', 'Clon', 'Kill']\n"
     ]
    }
   ],
   "source": [
    "# list a random subset\n",
    "\n",
    "characteristics = [\n",
    "    \"Age\", \"Disability\", \"Gender reassignment\", \"Marriage and civil partnership\",\n",
    "    \"Pregnancy and maternity\", \"Race\", \"Religion or belief\", \"Sex\",\n",
    "    \"Sexual orientation\", \"Other\", \"Another\", \"Clon\", \"Kill\", \"Wader\"\n",
    "]\n",
    "\n",
    "def process_characteristics(characteristics):\n",
    "   \n",
    "    # Calculate the position of the middle item\n",
    "    middle_position = len(characteristics) // 2\n",
    "\n",
    "    # Calculate the positions\n",
    "    before_middle = middle_position - 5\n",
    "    after_middle = middle_position + 5\n",
    "\n",
    "    # Print the part of the list\n",
    "    print(characteristics[before_middle:after_middle + 1])\n",
    "\n",
    "process_characteristics(characteristics)\n"
   ]
  },
  {
   "cell_type": "code",
   "execution_count": 8,
   "id": "b62bd857-605e-44b5-8403-11b01de39bff",
   "metadata": {
    "tags": []
   },
   "outputs": [
    {
     "name": "stdout",
     "output_type": "stream",
     "text": [
      "First 10 items of new_nums: [37, 56, 51, 35, 13, 78, 54, 71, 58, 32]\n",
      "First 10 items of nums: [37, 56, 51, 35, 13, 78, 54, 71, 58, 32]\n",
      "Length of new_nums: 50\n",
      "Length of nums: 50\n"
     ]
    }
   ],
   "source": [
    "# create a copy\n",
    "\n",
    "import random\n",
    "nums = [random.randint(1, 100) for _ in range(50)]\n",
    "\n",
    "\n",
    "def copy_list(nums):\n",
    "    new_nums = []\n",
    "    for num in nums:\n",
    "        new_nums.append(num)\n",
    "\n",
    "    print(\"First 10 items of new_nums:\", new_nums[:10])\n",
    "    print(\"First 10 items of nums:\", nums[:10])\n",
    "    print(\"Length of new_nums:\", len(new_nums))\n",
    "    print(\"Length of nums:\", len(nums))\n",
    "\n",
    "copy_list(nums)\n"
   ]
  },
  {
   "cell_type": "code",
   "execution_count": 9,
   "id": "b0304601-6562-4d9b-a100-ce5d925832a3",
   "metadata": {
    "tags": []
   },
   "outputs": [
    {
     "name": "stdout",
     "output_type": "stream",
     "text": [
      "The number of occurrences of 'age' is: 1\n"
     ]
    }
   ],
   "source": [
    "# count the occurrence of age in characteristics\n",
    "\n",
    "def count_occurrences():\n",
    "    characteristics = [\n",
    "        'gender',\n",
    "        'ethnicity',\n",
    "        'age',\n",
    "        'disability',\n",
    "        'pregnancy',\n",
    "        'religion',\n",
    "        'sexual orientation',\n",
    "        'marriage or civil partnership status',\n",
    "        'gender reassignment',\n",
    "    ]\n",
    "\n",
    "    num_items = characteristics.count('age')\n",
    "    print(f\"The number of occurrences of 'age' is: {num_items}\")\n",
    "\n",
    "count_occurrences()\n"
   ]
  },
  {
   "cell_type": "code",
   "execution_count": 36,
   "id": "6ac23ab4-b0e2-4d64-8987-6ba16b8c3323",
   "metadata": {
    "tags": []
   },
   "outputs": [
    {
     "name": "stdout",
     "output_type": "stream",
     "text": [
      "First 20 items in sort_nums: [95, 100, 98, 21, 69, 92, 40, 92, 39, 26, 72, 58, 69, 53, 86, 30, 25, 96, 21, 21]\n",
      "Last 20 items in sort_nums: [72, 39, 89, 28, 21, 91, 59, 29, 29, 9, 71, 69, 94, 89, 18, 93, 89, 9, 91, 6]\n",
      "After sorting in ascending order:\n",
      "First 20 items in sort_nums: [21, 21, 21, 25, 26, 30, 39, 40, 53, 58, 69, 69, 72, 86, 92, 92, 95, 96, 98, 100]\n",
      "Last 20 items in sort_nums: [6, 9, 9, 18, 21, 28, 29, 29, 39, 59, 69, 71, 72, 89, 89, 89, 91, 91, 93, 94]\n",
      "After sorting in descending order:\n",
      "First 20 items in sort_nums: [100, 98, 96, 95, 92, 92, 86, 72, 69, 69, 58, 53, 40, 39, 30, 26, 25, 21, 21, 21]\n",
      "Last 20 items in sort_nums: [94, 93, 91, 91, 89, 89, 89, 72, 71, 69, 59, 39, 29, 29, 28, 21, 18, 9, 9, 6]\n"
     ]
    }
   ],
   "source": [
    "# sort the nums list\n",
    "\n",
    "import random\n",
    "\n",
    "def get_num_list():\n",
    "    return [random.randint(1, 100) for _ in range(100)]\n",
    "\n",
    "def sort_nums_list():\n",
    "    sort_nums = get_num_list()\n",
    "    \n",
    "    first_20 = sort_nums[:20]\n",
    "    last_20 = sort_nums[-20:]\n",
    "    \n",
    "    print(f\"First 20 items in sort_nums: {first_20}\")\n",
    "    print(f\"Last 20 items in sort_nums: {last_20}\")\n",
    "\n",
    "    first_20.sort()\n",
    "    last_20.sort()\n",
    "    \n",
    "    print(f\"After sorting in ascending order:\")\n",
    "    print(f\"First 20 items in sort_nums: {first_20}\")\n",
    "    print(f\"Last 20 items in sort_nums: {last_20}\")\n",
    "\n",
    "    first_20.sort(reverse=True)\n",
    "    last_20.sort(reverse=True)\n",
    "    \n",
    "    print(f\"After sorting in descending order:\")\n",
    "    print(f\"First 20 items in sort_nums: {first_20}\")\n",
    "    print(f\"Last 20 items in sort_nums: {last_20}\")\n",
    "\n",
    "sort_nums_list()"
   ]
  },
  {
   "cell_type": "code",
   "execution_count": 18,
   "id": "c1d4eac1-7eec-4964-b3a8-d8c9b7c35be7",
   "metadata": {
    "tags": []
   },
   "outputs": [
    {
     "name": "stdout",
     "output_type": "stream",
     "text": [
      "Maximum number: 96\n",
      "Minimum number: 3\n",
      "Sum of the numbers: 2421\n",
      "Average of the numbers: 48.42\n"
     ]
    }
   ],
   "source": [
    "# get statistics (max(), min(), sum() )\n",
    "\n",
    "import random\n",
    "\n",
    "def analyze_numbers():\n",
    "    nums = [random.randint(1, 100) for _ in range(50)]  \n",
    "    print(f\"Maximum number: {max(nums)}\")\n",
    "    print(f\"Minimum number: {min(nums)}\")\n",
    "    print(f\"Sum of the numbers: {sum(nums)}\")\n",
    "    print(f\"Average of the numbers: {sum(nums) / len(nums)}\")\n",
    "\n",
    "# Call the function\n",
    "analyze_numbers()\n"
   ]
  },
  {
   "cell_type": "code",
   "execution_count": 33,
   "id": "f0eb8b88-22b0-4c1d-944d-763c295135e8",
   "metadata": {
    "tags": []
   },
   "outputs": [
    {
     "name": "stdout",
     "output_type": "stream",
     "text": [
      "Percentage difference between first numbers: 96.90721649484536%\n",
      "Percentage difference between last numbers: 366.66666666666663%\n",
      "Percentage difference between middle numbers: 117.77777777777779%\n",
      "Percentage difference between sums: 30.303030303030305%\n"
     ]
    }
   ],
   "source": [
    "# percentage difference \n",
    "import random\n",
    "\n",
    "\n",
    "def calculate_percentages():\n",
    "    nums = [random.randint(1, 100) for _ in range(50)] \n",
    "    ex8_nums = [random.randint(1, 100) for _ in range(50)]  \n",
    "\n",
    "    diff_first = ((ex8_nums[0] - nums[0]) / nums[0]) * 100 if nums[0] != 0 else \"No difference\"\n",
    "    diff_last = ((ex8_nums[-1] - nums[-1]) / nums[-1]) * 100 if nums[-1] != 0 else \"No difference\"\n",
    "    diff_middle = ((ex8_nums[len(ex8_nums) // 2] - nums[len(nums) // 2]) / nums[len(nums) // 2]) * 100 if nums[len(nums) // 2] != 0 else \"No difference\"\n",
    "    diff_sum = ((sum(ex8_nums) - sum(nums)) / sum(nums)) * 100 if sum(nums) != 0 else \"No difference\"\n",
    "\n",
    "    diff_first_display = diff_first if diff_first == \"No difference\" or diff_first > 0 else abs(diff_first)\n",
    "    diff_last_display = diff_last if diff_last == \"No difference\" or diff_last > 0 else abs(diff_last)\n",
    "    diff_middle_display = diff_middle if diff_middle == \"No difference\" or diff_middle > 0 else abs(diff_middle)\n",
    "    diff_sum_display = diff_sum if diff_sum == \"No difference\" or diff_sum > 0 else abs(diff_sum)\n",
    "\n",
    "    print(f\"Percentage difference between first numbers: {diff_first_display}%\")\n",
    "    print(f\"Percentage difference between last numbers: {diff_last_display}%\")\n",
    "    print(f\"Percentage difference between middle numbers: {diff_middle_display}%\")\n",
    "    print(f\"Percentage difference between sums: {diff_sum_display}%\")\n",
    "\n",
    "calculate_percentages()\n"
   ]
  },
  {
   "cell_type": "code",
   "execution_count": 41,
   "id": "8dbd3133-96dc-4637-a63b-001002b4536e",
   "metadata": {
    "tags": []
   },
   "outputs": [
    {
     "name": "stdout",
     "output_type": "stream",
     "text": [
      "Protected characteristics           Frequency\n",
      "age                                 5\n",
      "disability                          3\n",
      "gender reassignment                 1\n",
      "marriage and civil partnership      0\n",
      "pregnancy and maternity             0\n",
      "race                                4\n",
      "religion or belief                  1\n",
      "sex                                 4\n",
      "sexual orientation                  1\n"
     ]
    }
   ],
   "source": [
    "# characteristic counts\n",
    "def count_characteristics():\n",
    "    protected_characteristics = (\n",
    "        \"age\", \"disability\", \"gender reassignment\",\n",
    "        \"marriage and civil partnership\", \"pregnancy and maternity\",\n",
    "        \"race\", \"religion or belief\", \"sex\", \"sexual orientation\"\n",
    "    )\n",
    "\n",
    "    characteristics = [\n",
    "        \"age\", \"age\", \"sex\", \"disability\", \"race\", \"age\",\n",
    "        \"disability\", \"gender reassignment\", \"sex\", \"sex\",\n",
    "        \"race\", \"disability\", \"sex\", \"sexual orientation\",\n",
    "        \"race\", \"religion or belief\", \"age\", \"age\", \"race\"\n",
    "    ]\n",
    "\n",
    "    max_length = max(len(char) for char in protected_characteristics)\n",
    "    print(\"Protected characteristics\".ljust(max_length + 5), \"Frequency\")\n",
    "    \n",
    "\n",
    "    for char in protected_characteristics:\n",
    "        count = characteristics.count(char)\n",
    "        print(f\"{char.ljust(max_length + 5)} {count}\")\n",
    "\n",
    "count_characteristics()\n"
   ]
  },
  {
   "cell_type": "code",
   "execution_count": 7,
   "id": "1a264946-6076-4d1f-833f-7c13524fe762",
   "metadata": {
    "tags": []
   },
   "outputs": [
    {
     "name": "stdout",
     "output_type": "stream",
     "text": [
      "The characteristic with the highest number of court cases is: Race - 25 cases\n",
      "Protected characteristics\tCases\n",
      "Age                               15\n",
      "Disability                        20\n",
      "Gender reassignment               10\n",
      "Marriage and civil partnership     5\n",
      "Pregnancy and maternity           18\n",
      "Race                              25\n",
      "Religion or belief                12\n",
      "Sex                               22\n",
      "Sexual orientation                17\n",
      "Transgender status                 8\n"
     ]
    },
    {
     "name": "stdin",
     "output_type": "stream",
     "text": [
      "Enter a characteristic you'd like to see statistics on:  sdgfsad\n"
     ]
    },
    {
     "name": "stdout",
     "output_type": "stream",
     "text": [
      "Please enter a valid characteristic from the list:\n",
      "Age\n",
      "Disability\n",
      "Gender reassignment\n",
      "Marriage and civil partnership\n",
      "Pregnancy and maternity\n",
      "Race\n",
      "Religion or belief\n",
      "Sex\n",
      "Sexual orientation\n",
      "Transgender status\n"
     ]
    },
    {
     "name": "stdin",
     "output_type": "stream",
     "text": [
      "Enter a characteristic:  Rase\n"
     ]
    },
    {
     "name": "stdout",
     "output_type": "stream",
     "text": [
      "Please enter a valid characteristic from the list:\n",
      "Age\n",
      "Disability\n",
      "Gender reassignment\n",
      "Marriage and civil partnership\n",
      "Pregnancy and maternity\n",
      "Race\n",
      "Religion or belief\n",
      "Sex\n",
      "Sexual orientation\n",
      "Transgender status\n"
     ]
    },
    {
     "name": "stdin",
     "output_type": "stream",
     "text": [
      "Enter a characteristic:  race\n"
     ]
    },
    {
     "name": "stdout",
     "output_type": "stream",
     "text": [
      "\n",
      "Characteristic: Race\n",
      "Frequency: 25\n",
      "Percentage of total cases: 16.45%\n"
     ]
    }
   ],
   "source": [
    "# characteristics statistics\n",
    "\n",
    "from collections import Counter\n",
    "\n",
    "def find_most_common_characteristic():\n",
    "    # Example list of protected characteristics and their corresponding cases\n",
    "    characteristics = {\n",
    "        \"Age\": 15,\n",
    "        \"Disability\": 20,\n",
    "        \"Gender reassignment\": 10,\n",
    "        \"Marriage and civil partnership\": 5,\n",
    "        \"Pregnancy and maternity\": 18,\n",
    "        \"Race\": 25,\n",
    "        \"Religion or belief\": 12,\n",
    "        \"Sex\": 22,\n",
    "        \"Sexual orientation\": 17,\n",
    "        \"Transgender status\": 8\n",
    "    }\n",
    "\n",
    "    # Find the most common characteristic and its number of cases\n",
    "    most_common = max(characteristics, key=characteristics.get)\n",
    "    max_cases = characteristics[most_common]\n",
    "\n",
    "    # Print the most common characteristic and its cases\n",
    "    print(f\"The characteristic with the highest number of court cases is: {most_common} - {max_cases} cases\")\n",
    "\n",
    "    # Print protected characteristics and their cases in tabulated format\n",
    "    print(\"Protected characteristics\\tCases\")\n",
    "    for char, cases in characteristics.items():\n",
    "        print(f\"{char.ljust(30, ' ')} {str(cases).rjust(5, ' ')}\")\n",
    "\n",
    "    # Ask user for characteristic input and validate it\n",
    "    user_input = input(\"Enter a characteristic you'd like to see statistics on: \").capitalize()\n",
    "    while user_input not in characteristics:\n",
    "        print(\"Please enter a valid characteristic from the list:\")\n",
    "        for char in characteristics:\n",
    "            print(char)\n",
    "        user_input = input(\"Enter a characteristic: \").capitalize()\n",
    "\n",
    "    # Get frequency and total cases\n",
    "    char_frequency = characteristics[user_input]\n",
    "    total_cases = sum(characteristics.values())\n",
    "    percentage = round((char_frequency / total_cases) * 100, 2)\n",
    "\n",
    "    # Print statistics\n",
    "    print(f\"\\nCharacteristic: {user_input}\")\n",
    "    print(f\"Frequency: {char_frequency}\")\n",
    "    print(f\"Percentage of total cases: {percentage}%\")\n",
    "\n",
    "# Call the function\n",
    "find_most_common_characteristic()\n"
   ]
  }
 ],
 "metadata": {
  "kernelspec": {
   "display_name": "Python 3 (ipykernel)",
   "language": "python",
   "name": "python3"
  },
  "language_info": {
   "codemirror_mode": {
    "name": "ipython",
    "version": 3
   },
   "file_extension": ".py",
   "mimetype": "text/x-python",
   "name": "python",
   "nbconvert_exporter": "python",
   "pygments_lexer": "ipython3",
   "version": "3.11.5"
  }
 },
 "nbformat": 4,
 "nbformat_minor": 5
}
