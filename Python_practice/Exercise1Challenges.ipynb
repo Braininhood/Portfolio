{
 "cells": [
  {
   "cell_type": "code",
   "execution_count": 3,
   "id": "757a44a1-39a6-4baa-9841-4d0f29a0f8bb",
   "metadata": {
    "tags": []
   },
   "outputs": [
    {
     "name": "stdout",
     "output_type": "stream",
     "text": [
      "The sum is: 22\n"
     ]
    }
   ],
   "source": [
    "# 1A. Write a program to add the two numbers 9 and 13\n",
    "\n",
    "num1 = 9\n",
    "num2 = 13\n",
    "\n",
    "sum = num1 + num2\n",
    "print(\"The sum is:\", sum)\n"
   ]
  },
  {
   "cell_type": "code",
   "execution_count": 2,
   "id": "4bd49389-677a-40b0-bf3a-a95f0e27601b",
   "metadata": {
    "tags": []
   },
   "outputs": [
    {
     "name": "stdout",
     "output_type": "stream",
     "text": [
      "The product is: 20\n"
     ]
    }
   ],
   "source": [
    "# 1B. Write a python program to multiply the two numbers 4 and 5.\n",
    "\n",
    "num1 = 4\n",
    "num2 = 5\n",
    "\n",
    "product = num1 * num2\n",
    "print(\"The product is:\", product)\n"
   ]
  },
  {
   "cell_type": "code",
   "execution_count": 1,
   "id": "cf4a5a94-2a15-4dd0-ba99-c9fd5794730b",
   "metadata": {
    "tags": []
   },
   "outputs": [
    {
     "name": "stdout",
     "output_type": "stream",
     "text": [
      "The new annual salary after a 10% increase is £46200.00\n"
     ]
    }
   ],
   "source": [
    "# 1C. Write a program that calculates the annual salary of an employee after it increases by 10%. (Initial annual salary £42,000)\n",
    "\n",
    "initial_salary = 42000  \n",
    "increase_percentage = 10  \n",
    "\n",
    "\n",
    "increase_amount = (increase_percentage / 100) * initial_salary\n",
    "new_salary = initial_salary + increase_amount\n",
    "\n",
    "print(f\"The new annual salary after a {increase_percentage}% increase is £{new_salary:.2f}\")"
   ]
  },
  {
   "cell_type": "code",
   "execution_count": 4,
   "id": "b3d73493-bf27-47bc-843e-fe8d60193b4b",
   "metadata": {
    "tags": []
   },
   "outputs": [
    {
     "name": "stdout",
     "output_type": "stream",
     "text": [
      "The volume of the cuboid is 30 cubic meters\n"
     ]
    }
   ],
   "source": [
    "# 2A. Write a python program that finds the volume of a cuboid with length 2m, width 3m and height 5m.\n",
    "\n",
    "length = 2  \n",
    "width = 3  \n",
    "height = 5  \n",
    "\n",
    "\n",
    "volume = length * width * height\n",
    "\n",
    "print(f\"The volume of the cuboid is {volume} cubic meters\")\n"
   ]
  },
  {
   "cell_type": "code",
   "execution_count": 5,
   "id": "1cc03d5b-5090-4b0f-a6cd-bfa85cd036a3",
   "metadata": {
    "tags": []
   },
   "outputs": [
    {
     "name": "stdout",
     "output_type": "stream",
     "text": [
      "The area of the circle is 50.24 square meters\n"
     ]
    }
   ],
   "source": [
    "# 2B. Write a program that finds the area of a circle that has a radius of 4m. (You can take pi as being 3.14)\n",
    "\n",
    "pi = 3.14\n",
    "radius = 4  \n",
    "\n",
    "area = pi * radius**2\n",
    "\n",
    "print(f\"The area of the circle is {area} square meters\")\n"
   ]
  },
  {
   "cell_type": "code",
   "execution_count": 6,
   "id": "817ec977-ecfe-49b2-afed-dd93fda1cc4a",
   "metadata": {
    "tags": []
   },
   "outputs": [
    {
     "name": "stdout",
     "output_type": "stream",
     "text": [
      "The volume of the cone is 20.933333333333334 cubic meters\n"
     ]
    }
   ],
   "source": [
    "# 2C. Write a program that finds the volume of a cone of radius 2m and height 5m. (You can take pi as being 3.14)\n",
    "\n",
    "pi = 3.14\n",
    "radius = 2  \n",
    "height = 5  \n",
    "\n",
    "volume = (1/3) * pi * radius**2 * height\n",
    "\n",
    "print(f\"The volume of the cone is {volume} cubic meters\")"
   ]
  },
  {
   "cell_type": "code",
   "execution_count": 7,
   "id": "c38166e5-ce50-411c-babb-ef0083c0446c",
   "metadata": {
    "tags": []
   },
   "outputs": [
    {
     "name": "stdout",
     "output_type": "stream",
     "text": [
      "The factorial of 5 is 120\n"
     ]
    }
   ],
   "source": [
    "# 2D. Write a python program that uses a loop to find the factorial of 5. \n",
    "\n",
    "number = 5\n",
    "factorial = 1\n",
    "\n",
    "for i in range(1, number + 1):\n",
    "    factorial *= i\n",
    "\n",
    "print(f\"The factorial of {number} is {factorial}\")"
   ]
  },
  {
   "cell_type": "code",
   "execution_count": null,
   "id": "d5d588e6-3ec7-4d1b-8f73-36f81352a58e",
   "metadata": {},
   "outputs": [],
   "source": []
  }
 ],
 "metadata": {
  "kernelspec": {
   "display_name": "Python 3 (ipykernel)",
   "language": "python",
   "name": "python3"
  },
  "language_info": {
   "codemirror_mode": {
    "name": "ipython",
    "version": 3
   },
   "file_extension": ".py",
   "mimetype": "text/x-python",
   "name": "python",
   "nbconvert_exporter": "python",
   "pygments_lexer": "ipython3",
   "version": "3.11.5"
  }
 },
 "nbformat": 4,
 "nbformat_minor": 5
}
