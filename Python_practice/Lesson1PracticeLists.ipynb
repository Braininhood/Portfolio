{
 "cells": [
  {
   "cell_type": "code",
   "execution_count": 2,
   "id": "54c6a098-a87a-4bba-ae3f-7a589b8165a1",
   "metadata": {
    "tags": []
   },
   "outputs": [
    {
     "name": "stdout",
     "output_type": "stream",
     "text": [
      "Length of list: 5\n",
      "Categories:\n",
      "well being\n",
      "local events\n",
      "community events\n",
      "families and parents\n",
      "jobs and volunteering\n"
     ]
    }
   ],
   "source": [
    "# manage list of categories\n",
    "\n",
    "def print_categories():\n",
    "    categories_list = [\"well being\", \"local events\", \"community events\", \"families and parents\", \"jobs and volunteering\"]\n",
    "    print(\"Length of list:\", len(categories_list))\n",
    "    print(\"Categories:\")\n",
    "    for category in categories_list:\n",
    "        print(category)\n",
    "\n",
    "print_categories()"
   ]
  },
  {
   "cell_type": "code",
   "execution_count": 4,
   "id": "e9654c79-d3fa-4cc5-9abc-e7298aebf447",
   "metadata": {
    "tags": []
   },
   "outputs": [
    {
     "name": "stdout",
     "output_type": "stream",
     "text": [
      "Updated categories list: ['well-being', 'local events', 'community events', 'families and parents', 'jobs and volunteering']\n"
     ]
    }
   ],
   "source": [
    "# change item in list 1st variant\n",
    "\n",
    "def change_categories():\n",
    "    categories_list = [\"well being\", \"local events\", \"community events\", \"families and parents\", \"jobs and volunteering\"]\n",
    "    categories_list[0] = \"well-being\"\n",
    "    return categories_list\n",
    "\n",
    "\n",
    "upd_categories = change_categories()\n",
    "print(\"Updated categories list:\", upd_categories)"
   ]
  },
  {
   "cell_type": "code",
   "execution_count": 8,
   "id": "794667f3-caa2-4605-973b-d6d1b513047c",
   "metadata": {
    "tags": []
   },
   "outputs": [
    {
     "name": "stdout",
     "output_type": "stream",
     "text": [
      "Updated categories list: ['well-being', 'local events', 'community events', 'families and parents', 'jobs and volunteering']\n"
     ]
    }
   ],
   "source": [
    "# change item in list 2nd variant\n",
    "\n",
    "def change_categories():\n",
    "    cats_list = [\"well being\", \"local events\", \"community events\", \"families and parents\", \"jobs and volunteering\"]\n",
    "    cats_list.pop (0) \n",
    "    cats_list.insert (0,\"well-being\")\n",
    "    return cats_list\n",
    "\n",
    "\n",
    "upd_cats = change_categories()\n",
    "print(\"Updated categories list:\", upd_cats)"
   ]
  },
  {
   "cell_type": "code",
   "execution_count": 13,
   "id": "5ddd2e5c-6688-4d2a-b7ee-e187ca069bbd",
   "metadata": {
    "tags": []
   },
   "outputs": [
    {
     "name": "stdout",
     "output_type": "stream",
     "text": [
      "well-being\n",
      "local events\n",
      "community events\n",
      "families and parents\n",
      "jobs and volunteering\n",
      "learning\n"
     ]
    }
   ],
   "source": [
    "# add to list of categories \n",
    "\n",
    "def add_category(new_cat):\n",
    "    cats_list = [\"well-being\", \"local events\", \"community events\", \"families and parents\", \"jobs and volunteering\"]\n",
    "    cats_list.append(new_cat)\n",
    "    for cat in cats_list:\n",
    "        print(cat)\n",
    "    return cats_list\n",
    "\n",
    "upd_list = add_category(\"learning\")\n"
   ]
  },
  {
   "cell_type": "code",
   "execution_count": 14,
   "id": "7f4e807e-f59b-46a7-aa2c-a1fce6e9b1a9",
   "metadata": {
    "tags": []
   },
   "outputs": [
    {
     "name": "stdout",
     "output_type": "stream",
     "text": [
      "Edinburgh\n",
      "Glasgow\n",
      "Dartford\n",
      "Medway\n",
      "Maidstone\n",
      "Motherwell\n"
     ]
    }
   ],
   "source": [
    "# create list of locations\n",
    "\n",
    "def show_locations():\n",
    "    notice_locations = [\"Edinburgh\", \"Glasgow\", \"Dartford\", \"Medway\", \"Maidstone\", \"Motherwell\"]\n",
    "    for location in notice_locations:\n",
    "        print(location)\n",
    "show_locations()"
   ]
  },
  {
   "cell_type": "code",
   "execution_count": 17,
   "id": "883c2c7d-10ae-449b-9884-c51d4817280f",
   "metadata": {
    "tags": []
   },
   "outputs": [],
   "source": [
    "# create list of preferences 1st variant\n",
    "\n",
    "def filter_locations():\n",
    "    locations = ['Dartford', 'Medway', 'Maidstone', 'Tunbridge Wells', 'Dover']\n",
    "    filtered_locations = []\n",
    "\n",
    "    for location in locations:\n",
    "        if location.startswith('M'):\n",
    "            filtered_locations.append(location)\n",
    "\n",
    "    print(len(locations))\n",
    "    print(len(filtered_locations))\n",
    "    print(filtered_locations[0])\n",
    "    print(filtered_locations[-1])\n",
    "\n",
    "    return filtered_locations\n",
    "filter_locations()"
   ]
  },
  {
   "cell_type": "code",
   "execution_count": 27,
   "id": "bc1d6390-227a-4a4a-b3df-299db7f8a011",
   "metadata": {
    "tags": []
   },
   "outputs": [
    {
     "name": "stdout",
     "output_type": "stream",
     "text": [
      "5\n",
      "2\n",
      "Medway\n",
      "Maidstone\n"
     ]
    },
    {
     "data": {
      "text/plain": [
       "['Medway', 'Maidstone']"
      ]
     },
     "execution_count": 27,
     "metadata": {},
     "output_type": "execute_result"
    }
   ],
   "source": [
    "# create list of preferences 2nd variant\n",
    "\n",
    "def filter_locations():\n",
    "    locations = ['Dartford', 'Medway', 'Maidstone', 'Tunbridge Wells', 'Dover']\n",
    "    filtered_locations = []\n",
    "\n",
    "    for location in locations:\n",
    "        if location[0] == \"M\":\n",
    "            filtered_locations.append(location)\n",
    "\n",
    "    print(len(locations))\n",
    "    print(len(filtered_locations))\n",
    "    print(filtered_locations[0])\n",
    "    print(filtered_locations[-1])\n",
    "\n",
    "    return filtered_locations\n",
    "filter_locations()"
   ]
  },
  {
   "cell_type": "code",
   "execution_count": 26,
   "id": "c3c79139-d2c5-45e1-9b21-4910ea12326a",
   "metadata": {
    "tags": []
   },
   "outputs": [
    {
     "name": "stdout",
     "output_type": "stream",
     "text": [
      "Medway is in both lists\n"
     ]
    }
   ],
   "source": [
    "# is item in list or not?\n",
    "\n",
    "def is_in_lists():\n",
    "    all_locations = ['Glasgow', 'Motherwell', 'Aberdeen', 'Stirling', 'Medway', 'Dartford', 'Dover']\n",
    "    notice_locations = ['Dartford', 'Medway', 'Aberdeen']\n",
    "\n",
    "    if 'Medway' in all_locations and 'Medway' in notice_locations:\n",
    "        print(\"Medway is in both lists\")\n",
    "    elif 'Medway' in all_locations or 'Medway' in notice_locations:\n",
    "        print(\"Medway is in one list\")\n",
    "    else:\n",
    "        print(\"Medway is not in either list\")\n",
    "\n",
    "\n",
    "is_in_lists()"
   ]
  },
  {
   "cell_type": "code",
   "execution_count": 28,
   "id": "ad50d972-46c8-4918-bb0d-f796348ebe36",
   "metadata": {
    "tags": []
   },
   "outputs": [
    {
     "name": "stdout",
     "output_type": "stream",
     "text": [
      "2\n"
     ]
    }
   ],
   "source": [
    "#get the position of a named element in a list\n",
    "\n",
    "def get_position(cat):\n",
    "    categories = ['well being', 'local events', 'community events', 'families and parents', 'jobs and volunteering']\n",
    "    position = categories.index(cat)\n",
    "    return position\n",
    "\n",
    "\n",
    "print(get_position('community events'))"
   ]
  },
  {
   "cell_type": "code",
   "execution_count": 31,
   "id": "12d57710-ebcb-4f01-b86d-6b61c858014b",
   "metadata": {
    "tags": []
   },
   "outputs": [
    {
     "name": "stdout",
     "output_type": "stream",
     "text": [
      "well being\n",
      "local events\n",
      "families and parents\n",
      "jobs and volunteering\n"
     ]
    }
   ],
   "source": [
    "# remove an item from a list\n",
    "\n",
    "def remove_category(cat):\n",
    "    categories = ['well being', 'local events', 'community events', 'families and parents', 'jobs and volunteering']\n",
    "    categories.remove(cat)\n",
    "    \n",
    "   \n",
    "    for i in categories:\n",
    "        print(i)\n",
    "\n",
    "remove_category('community events')"
   ]
  },
  {
   "cell_type": "code",
   "execution_count": 32,
   "id": "40ddc986-77d0-422f-8a04-5bdfa8673875",
   "metadata": {
    "tags": []
   },
   "outputs": [
    {
     "name": "stdout",
     "output_type": "stream",
     "text": [
      "1\n",
      "2\n",
      "3\n",
      "4\n",
      "5\n",
      "6\n",
      "7\n",
      "8\n",
      "9\n",
      "10\n"
     ]
    }
   ],
   "source": [
    "#generate a list of numbers from 1 to 10\n",
    "\n",
    "def generate_number_list():\n",
    "    numbers = [num for num in range(1, 11)]\n",
    "    for num in numbers:\n",
    "        print(num)\n",
    "\n",
    "generate_number_list()"
   ]
  },
  {
   "cell_type": "code",
   "execution_count": 41,
   "id": "4a21f843-f09b-4876-8eff-45d157a6476f",
   "metadata": {
    "tags": []
   },
   "outputs": [
    {
     "name": "stdout",
     "output_type": "stream",
     "text": [
      "['A', 'B', 'C', 'D', 'E', 'F', 'G', 'H', 'I', 'J', 'K', 'L', 'M', 'N', 'O', 'P', 'Q', 'R', 'S', 'T', 'U', 'V', 'W', 'X', 'Y', 'Z']\n"
     ]
    }
   ],
   "source": [
    "#generate a list of the letters between A and Z using the ord() function (CHALLENGING)\n",
    "\n",
    "def generate_alphabet():\n",
    "    alphabet = [chr(code) for code in range(65, 91)]\n",
    "    print(alphabet)\n",
    "\n",
    "generate_alphabet()"
   ]
  },
  {
   "cell_type": "code",
   "execution_count": 53,
   "id": "3b3d732e-f07a-47d9-ac03-4a30f1aea9d1",
   "metadata": {
    "tags": []
   },
   "outputs": [
    {
     "name": "stdout",
     "output_type": "stream",
     "text": [
      "['A', 'B', 'C', 'D', 'E', 'F', 'G', 'H', 'I', 'J', 'K', 'L', 'M', 'N', 'O', 'P', 'Q', 'R', 'S', 'T', 'U', 'V', 'W', 'X', 'Y', 'Z']\n"
     ]
    }
   ],
   "source": [
    "#generate a list of the letters between A and Z using the ord() function (CHALLENGING)\n",
    "\n",
    "def generate_alphabet_with_ord():\n",
    "    \n",
    "    alphabet = [chr(code) for code in range(ord('A'), ord('Z') +1)]\n",
    "    print(alphabet)\n",
    "    \n",
    "generate_alphabet_with_ord()\n"
   ]
  },
  {
   "cell_type": "code",
   "execution_count": null,
   "id": "e7c2fd06-1ac3-406d-8557-d36e108d8290",
   "metadata": {},
   "outputs": [],
   "source": []
  }
 ],
 "metadata": {
  "kernelspec": {
   "display_name": "Python 3 (ipykernel)",
   "language": "python",
   "name": "python3"
  },
  "language_info": {
   "codemirror_mode": {
    "name": "ipython",
    "version": 3
   },
   "file_extension": ".py",
   "mimetype": "text/x-python",
   "name": "python",
   "nbconvert_exporter": "python",
   "pygments_lexer": "ipython3",
   "version": "3.11.5"
  }
 },
 "nbformat": 4,
 "nbformat_minor": 5
}
