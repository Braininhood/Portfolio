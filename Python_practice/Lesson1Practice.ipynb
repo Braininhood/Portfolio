{
 "cells": [
  {
   "cell_type": "code",
   "execution_count": 15,
   "id": "204bd24a-bd48-45c8-8823-f36e4dea5f53",
   "metadata": {},
   "outputs": [
    {
     "name": "stdout",
     "output_type": "stream",
     "text": [
      "What is your name? Aleks\n",
      "Hello:  Aleks\n"
     ]
    }
   ],
   "source": [
    "def print_welcome():\n",
    "   # create the variable called name below here (indented like this line) and add the instruction print(\"Hello\",name)\n",
    "\n",
    "    name = input(\"What is your name? \") \n",
    "    print (\"Hello: \",name)\n",
    "\n",
    "print_welcome()"
   ]
  },
  {
   "cell_type": "code",
   "execution_count": 19,
   "id": "cd7f3544",
   "metadata": {},
   "outputs": [
    {
     "name": "stdout",
     "output_type": "stream",
     "text": [
      "Please, enter a number 45\n",
      "Please, enter aanother number 45\n",
      "45 + 45 = 90\n"
     ]
    }
   ],
   "source": [
    "def print_total():\n",
    "    \n",
    "  # add your code below here\n",
    "    num1=int(input(\"Please, enter a number \"))\n",
    "    num2=int(input(\"Please, enter aanother number \"))\n",
    "    total=num1+num2\n",
    "    print(num1, \"+\", num2, \"=\", total)\n",
    "\n",
    "print_total()"
   ]
  },
  {
   "cell_type": "code",
   "execution_count": 20,
   "id": "77e78d93",
   "metadata": {},
   "outputs": [
    {
     "name": "stdout",
     "output_type": "stream",
     "text": [
      "What is your name? jim\n",
      "How old are you? 34\n",
      "Name:  jim\n",
      "Age:  34\n"
     ]
    }
   ],
   "source": [
    "def print_info():\n",
    "    \n",
    "   # add your code below here\n",
    "    name=input(\"What is your name? \")\n",
    "    age=int(input(\"How old are you? \"))    \n",
    "    print(\"Name: \",name)\n",
    "    print(\"Age: \",age)\n",
    "\n",
    "print_info()"
   ]
  },
  {
   "cell_type": "code",
   "execution_count": 22,
   "id": "4164122a",
   "metadata": {},
   "outputs": [
    {
     "name": "stdout",
     "output_type": "stream",
     "text": [
      "Product: beer\n",
      "Cost: 1.45\n",
      "beer Costs 1.45 £\n"
     ]
    }
   ],
   "source": [
    "def print_price():\n",
    "\n",
    "    # price of product\n",
    "    product=input(\"Product: \")\n",
    "    cost=float(input(\"Cost: \"))\n",
    "    print(product, \"Costs\", cost, \"£\")\n",
    "    \n",
    "print_price()"
   ]
  },
  {
   "cell_type": "code",
   "execution_count": 24,
   "id": "55d98cb0",
   "metadata": {},
   "outputs": [
    {
     "name": "stdout",
     "output_type": "stream",
     "text": [
      "What is your name? asd\n",
      "What is your surname? jhg\n",
      "Your full name is: asd jhg\n"
     ]
    }
   ],
   "source": [
    "def print_full_name():\n",
    "    # Full name\n",
    "    name = input(\"What is your name? \") \n",
    "    surname = input(\"What is your surname? \") \n",
    "    full_name = name + \" \" + surname\n",
    "    print (\"Your full name is:\",full_name)\n",
    "\n",
    "print_full_name() "
   ]
  },
  {
   "cell_type": "code",
   "execution_count": null,
   "id": "7c53a94c",
   "metadata": {},
   "outputs": [],
   "source": []
  }
 ],
 "metadata": {
  "kernelspec": {
   "display_name": "Python 3 (ipykernel)",
   "language": "python",
   "name": "python3"
  },
  "language_info": {
   "codemirror_mode": {
    "name": "ipython",
    "version": 3
   },
   "file_extension": ".py",
   "mimetype": "text/x-python",
   "name": "python",
   "nbconvert_exporter": "python",
   "pygments_lexer": "ipython3",
   "version": "3.11.5"
  }
 },
 "nbformat": 4,
 "nbformat_minor": 5
}
