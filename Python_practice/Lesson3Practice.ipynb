{
 "cells": [
  {
   "cell_type": "code",
   "execution_count": 1,
   "id": "47ce031b",
   "metadata": {},
   "outputs": [
    {
     "name": "stdout",
     "output_type": "stream",
     "text": [
      "Please, enter your first name Alexander\n",
      "Please, enter your first name andrew \n",
      "Please, enter your first name brown\n",
      "brown, Alexander andrew \n"
     ]
    }
   ],
   "source": [
    "def print_initials():\n",
    "  #input and strings\n",
    "    \n",
    "    first_name=input(\"Please, enter your first name \")\n",
    "    middle_name=input(\"Please, enter your first name \")\n",
    "    surname=input(\"Please, enter your first name \")\n",
    "    fullname = surname + \", \" + first_name + \" \" + middle_name\n",
    "    print (fullname)\n",
    "    \n",
    "  \n",
    "print_initials()"
   ]
  },
  {
   "cell_type": "code",
   "execution_count": 2,
   "id": "cc58d501",
   "metadata": {},
   "outputs": [
    {
     "name": "stdout",
     "output_type": "stream",
     "text": [
      "Please, enter your first name Andrew\n",
      "A n w w e r\n"
     ]
    }
   ],
   "source": [
    "def print_letters():\n",
    "     # add your code below here to get a particular letter and print it.\n",
    "     first_name=input(\"Please, enter your first name \")\n",
    "     print (first_name[0],first_name[1],first_name[5],first_name[-1],first_name[-2],first_name[-3])\n",
    "\n",
    "print_letters()"
   ]
  },
  {
   "cell_type": "code",
   "execution_count": 3,
   "id": "645940d8",
   "metadata": {},
   "outputs": [
    {
     "name": "stdout",
     "output_type": "stream",
     "text": [
      "Please, enter your first name Andrew\n",
      "And ndre rew\n"
     ]
    }
   ],
   "source": [
    "def print_substrings():\n",
    "     # add your code below here to get a particular letter and print it.\n",
    "     first_name=input(\"Please, enter your first name \")\n",
    "     print (first_name[0:3], first_name[1:5], first_name[-3:])\n",
    "     \n",
    "\n",
    "print_substrings()"
   ]
  },
  {
   "cell_type": "code",
   "execution_count": 5,
   "id": "2b3c62d8",
   "metadata": {},
   "outputs": [
    {
     "name": "stdout",
     "output_type": "stream",
     "text": [
      "Please, enter your name (minimum 5 characters) Andrew\n",
      "First letter is A, fourth letter is r\n"
     ]
    }
   ],
   "source": [
    "def print_substrings():\n",
    "     # substrings\n",
    "     first_name=input(\"Please, enter your name (minimum 5 characters) \")\n",
    "     letters = \"First letter is \" + first_name[0] + \", fourth letter is \" + first_name[3]\n",
    "     print (letters)\n",
    "     \n",
    "\n",
    "print_substrings()"
   ]
  },
  {
   "cell_type": "code",
   "execution_count": 6,
   "id": "ae057018",
   "metadata": {},
   "outputs": [
    {
     "name": "stdout",
     "output_type": "stream",
     "text": [
      "Please, enter your house number 67f\n",
      "Please, enter your sreet name moss\n",
      "Please, enter your town gala\n",
      "Please, enter your post code td1 1nf\n",
      "67f, moss\n",
      "gala\n",
      "td1 1nf\n"
     ]
    }
   ],
   "source": [
    "def print_formatted():\n",
    "     # Formatting String output\n",
    "\n",
    "    house_number=input(\"Please, enter your house number \")\n",
    "    road_name=input (\"Please, enter your sreet name \")\n",
    "    town=input (\"Please, enter your town \")\n",
    "    postcode=input (\"Please, enter your post code \")\n",
    "    h_number = str(house_number)\n",
    "    r_name = str (road_name)\n",
    "    address = h_number +\", \"+r_name\n",
    "    print (address)\n",
    "    print (town)\n",
    "    print (postcode)\n",
    "\n",
    "print_formatted()"
   ]
  },
  {
   "cell_type": "code",
   "execution_count": 7,
   "id": "513b9dbe",
   "metadata": {},
   "outputs": [
    {
     "name": "stdout",
     "output_type": "stream",
     "text": [
      "Please, enter your name James\n",
      "James, 5 characters\n"
     ]
    }
   ],
   "source": [
    "def print_namelength():\n",
    "     # String length\n",
    "\n",
    "    name=input(\"Please, enter your name \")\n",
    "    name_length = len(name)\n",
    "    name1 = str(name)\n",
    "    name_length1 = str(name_length)\n",
    "    total= name1 + \", \" + name_length1 + \" characters\"\n",
    "    print (total)\n",
    "    #print (name,\",\",name_length,\"characters\")\n",
    "\n",
    "print_namelength()"
   ]
  },
  {
   "cell_type": "code",
   "execution_count": 8,
   "id": "3fbd0bb6",
   "metadata": {},
   "outputs": [
    {
     "name": "stdout",
     "output_type": "stream",
     "text": [
      "Please, enter your name james\n",
      "JAMES\n"
     ]
    }
   ],
   "source": [
    "def convert_to_capitals():\n",
    "     #  case conversion\n",
    "\n",
    "    name=input(\"Please, enter your name \")\n",
    "    capitalised_name = name.upper()\n",
    "    print (capitalised_name)\n",
    "    \n",
    "\n",
    "convert_to_capitals()"
   ]
  },
  {
   "cell_type": "code",
   "execution_count": 9,
   "id": "ae42448b",
   "metadata": {},
   "outputs": [
    {
     "name": "stdout",
     "output_type": "stream",
     "text": [
      "Please, enter your post code: dlkgjHUHY\n",
      "Please, enter your surname dffBHkjBBB\n",
      "Dlkgjhuhy   Dffbhkjbbb\n"
     ]
    }
   ],
   "source": [
    "def print_postcode_letters():\n",
    "     #  Substrings\n",
    "\n",
    "    name=input(\"Please, enter your post name: \")\n",
    "    surname=input(\"Please, enter your surname \")\n",
    "    capitalised_name = name.capitalize()\n",
    "    capitalised_surname = surname.capitalize()\n",
    "    print (capitalised_name,\" \",capitalised_surname)\n",
    "    \n",
    "\n",
    "print_postcode_letters()"
   ]
  },
  {
   "cell_type": "code",
   "execution_count": 10,
   "id": "f017d3fa",
   "metadata": {},
   "outputs": [
    {
     "name": "stdout",
     "output_type": "stream",
     "text": [
      "Please, enter your post code: rt564fg\n",
      "RT\n"
     ]
    }
   ],
   "source": [
    "def print_postcode_letters():\n",
    "     #  Substrings\n",
    "\n",
    "    postcode=input(\"Please, enter your post code: \")\n",
    "    postcode_area = postcode[0:2]\n",
    "    capitalised_area = postcode_area.upper()\n",
    "    print (capitalised_area)\n",
    "    \n",
    "\n",
    "print_postcode_letters()"
   ]
  },
  {
   "cell_type": "code",
   "execution_count": 11,
   "id": "98fb09ea",
   "metadata": {},
   "outputs": [
    {
     "name": "stdout",
     "output_type": "stream",
     "text": [
      "Please, enter word: rotowetor\n",
      "roto\n"
     ]
    }
   ],
   "source": [
    "def  print_half_word():\n",
    "     #  Floor division and slicing\n",
    "\n",
    "    word=input(\"Please, enter word: \")\n",
    "    half_length = len(word)//2\n",
    "    half_word = word[0:half_length]\n",
    "   \n",
    "    print (half_word)\n",
    "    \n",
    "\n",
    "print_half_word()"
   ]
  },
  {
   "cell_type": "code",
   "execution_count": 12,
   "id": "1765df10",
   "metadata": {},
   "outputs": [
    {
     "name": "stdout",
     "output_type": "stream",
     "text": [
      "Please, enter word: graduete\n",
      "tetetetete\n"
     ]
    }
   ],
   "source": [
    "def  repeat_two_letters():\n",
    "     #  String repetition\n",
    "\n",
    "    word=input(\"Please, enter word: \")\n",
    "    last_two = word [-2] + word[-1]\n",
    "    five_copies = last_two*5\n",
    "   \n",
    "    print (five_copies)\n",
    "    \n",
    "\n",
    "repeat_two_letters()"
   ]
  },
  {
   "cell_type": "code",
   "execution_count": 14,
   "id": "24e36d65",
   "metadata": {},
   "outputs": [
    {
     "name": "stdout",
     "output_type": "stream",
     "text": [
      "Please, enter month: january\n",
      "JANuary\n"
     ]
    }
   ],
   "source": [
    "def  lowerCase_threeLetters():\n",
    "     #  converting String to lower case\n",
    "\n",
    "    month=input(\"Please, enter month: \")\n",
    "    month_short = month[0:3]\n",
    "    u_month_short = month_short.upper ()\n",
    "    month_short = u_month_short\n",
    "    month_rest = month[3:len(month)]\n",
    "    total = month_short+month_rest\n",
    "    print (total)\n",
    "    \n",
    "\n",
    "lowerCase_threeLetters()"
   ]
  },
  {
   "cell_type": "code",
   "execution_count": null,
   "id": "6cf51ce2",
   "metadata": {},
   "outputs": [],
   "source": []
  }
 ],
 "metadata": {
  "kernelspec": {
   "display_name": "Python 3 (ipykernel)",
   "language": "python",
   "name": "python3"
  },
  "language_info": {
   "codemirror_mode": {
    "name": "ipython",
    "version": 3
   },
   "file_extension": ".py",
   "mimetype": "text/x-python",
   "name": "python",
   "nbconvert_exporter": "python",
   "pygments_lexer": "ipython3",
   "version": "3.11.5"
  }
 },
 "nbformat": 4,
 "nbformat_minor": 5
}
