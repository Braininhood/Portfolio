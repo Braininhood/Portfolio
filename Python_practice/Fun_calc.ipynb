{
 "cells": [
  {
   "cell_type": "code",
   "execution_count": null,
   "id": "0255d865-ec1c-4514-ae5e-3c227ce7c742",
   "metadata": {},
   "outputs": [],
   "source": [
    "import math\n",
    "\n",
    "def universal_math_operation(operation, num1, num2):\n",
    "    if operation == 'add':\n",
    "        return num1 + num2\n",
    "    elif operation == 'subtract':\n",
    "        return num1 - num2\n",
    "    elif operation == 'multiply':\n",
    "        return num1 * num2\n",
    "    elif operation == 'divide':\n",
    "        if num2 == 0:\n",
    "            return \"Error: Division by zero\"\n",
    "        return num1 / num2\n",
    "    elif operation == 'factorial':\n",
    "        return math.factorial(num1)\n",
    "    else:\n",
    "        return \"Error: Invalid operation\"\n"
   ]
  }
 ],
 "metadata": {
  "kernelspec": {
   "display_name": "Python 3 (ipykernel)",
   "language": "python",
   "name": "python3"
  },
  "language_info": {
   "codemirror_mode": {
    "name": "ipython",
    "version": 3
   },
   "file_extension": ".py",
   "mimetype": "text/x-python",
   "name": "python",
   "nbconvert_exporter": "python",
   "pygments_lexer": "ipython3",
   "version": "3.11.5"
  }
 },
 "nbformat": 4,
 "nbformat_minor": 5
}
