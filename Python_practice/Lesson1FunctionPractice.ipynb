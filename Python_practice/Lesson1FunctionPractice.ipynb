{
 "cells": [
  {
   "cell_type": "code",
   "execution_count": 18,
   "id": "b22b125e-ec5e-4edc-af37-e12c51159068",
   "metadata": {},
   "outputs": [
    {
     "name": "stdin",
     "output_type": "stream",
     "text": [
      "Please, enter your password  12345\n",
      "Please, enter your password  123456789\n",
      "Please, enter your password  12345678\n"
     ]
    },
    {
     "name": "stdout",
     "output_type": "stream",
     "text": [
      "Valid password is: 12345678\n"
     ]
    }
   ],
   "source": [
    "def get_password():\n",
    "# len() of a string\n",
    "    \n",
    "    password = input (\"Please, enter your password \")\n",
    "    \n",
    "    while len(password) != 8:\n",
    "        password = input (\"Please, enter your password \")\n",
    "       \n",
    "    print(\"Valid password is:\",password)\n",
    "get_password()"
   ]
  },
  {
   "cell_type": "code",
   "execution_count": 23,
   "id": "1d1c6d0d-5d13-4917-908f-3814aaffb839",
   "metadata": {
    "tags": []
   },
   "outputs": [
    {
     "name": "stdin",
     "output_type": "stream",
     "text": [
      "Please, enter your user name: admin\n"
     ]
    },
    {
     "name": "stdout",
     "output_type": "stream",
     "text": [
      "Invalid username\n"
     ]
    }
   ],
   "source": [
    "def get_username():\n",
    "  # capitalise username\n",
    "    \n",
    "    username = input (\"Please, enter your user name:\")\n",
    "    username_upper = username.upper() \n",
    "    if username_upper == \"ADMINUSER1\":\n",
    "        print (\"Valid user\")\n",
    "    else:\n",
    "        print (\"Invalid username\")\n",
    "                      \n",
    "get_username()"
   ]
  },
  {
   "cell_type": "code",
   "execution_count": 26,
   "id": "6eee53db-ae4b-4c2f-8c13-4b2f4408def2",
   "metadata": {
    "tags": []
   },
   "outputs": [
    {
     "name": "stdin",
     "output_type": "stream",
     "text": [
      "Please, enter your user name: adminuser1\n",
      "Please, enter your password 12345678\n"
     ]
    },
    {
     "name": "stdout",
     "output_type": "stream",
     "text": [
      "Credentials accepted\n"
     ]
    }
   ],
   "source": [
    "def get_credentials():\n",
    "  # select correct message\n",
    "    \n",
    "    username = input (\"Please, enter your user name:\")\n",
    "    password = input (\"Please, enter your password\")\n",
    "    username_upper = username.upper() \n",
    "    if username_upper == \"AdminUser1\" and len(password)>=8 :\n",
    "        print (\"Credentials accepted\")\n",
    "    elif username_upper == \"AdminUser1\" and len(password)<8:\n",
    "        print (\"Password too short\")\n",
    "    else:\n",
    "        print (\"Invalid username\")\n",
    "                      \n",
    "get_credentials()"
   ]
  },
  {
   "cell_type": "code",
   "execution_count": 27,
   "id": "845e44c9-5e8f-4635-8855-cd3939400c14",
   "metadata": {
    "tags": []
   },
   "outputs": [
    {
     "name": "stdin",
     "output_type": "stream",
     "text": [
      "Please, enter a decimal number 4.3265461\n",
      "Please, enter a number of places to round to 2\n"
     ]
    },
    {
     "name": "stdout",
     "output_type": "stream",
     "text": [
      "4.33\n"
     ]
    }
   ],
   "source": [
    "def get_rounded_float():\n",
    "# round to given dp\n",
    "    \n",
    "    number = float (input(\"Please, enter a decimal number\"))\n",
    "    dp = int(input(\"Please, enter a number of places to round to\"))\n",
    "    \n",
    "    numberR = round(number,dp)\n",
    "    print (numberR)\n",
    "    \n",
    "    \n",
    "get_rounded_float()"
   ]
  },
  {
   "cell_type": "code",
   "execution_count": 43,
   "id": "fc59f8a2-99d1-4d12-892e-e23c96c18bd3",
   "metadata": {
    "tags": []
   },
   "outputs": [
    {
     "name": "stdin",
     "output_type": "stream",
     "text": [
      "Please, enter a decimal number 35464.16546\n",
      "Would like to round the number (Y or N)? m\n",
      "Would like to round the number (Y or N)? h\n",
      "Would like to round the number (Y or N)? Y\n",
      "Please, enter a number of places to round to 3\n"
     ]
    },
    {
     "name": "stdout",
     "output_type": "stream",
     "text": [
      "35464.165\n"
     ]
    }
   ],
   "source": [
    "def get_rounded_float():\n",
    "# round or not\n",
    "    \n",
    "    number = float (input(\"Please, enter a decimal number\"))\n",
    "    round_number = input (\"Would like to round the number (Y or N)?\")\n",
    "    while round_number!=\"Y\" and round_number!=\"N\":\n",
    "        round_number = input (\"Would like to round the number (Y or N)?\")\n",
    "    if round_number==\"Y\":\n",
    "        dp = int(input(\"Please, enter a number of places to round to\"))\n",
    "        numberR = round(number,dp)\n",
    "        print (numberR)\n",
    "    elif round_number==\"N\":\n",
    "        #numberR=number\n",
    "        print(number)\n",
    "  \n",
    "    \n",
    "    \n",
    "get_rounded_float()"
   ]
  },
  {
   "cell_type": "code",
   "execution_count": 49,
   "id": "500beabd-e213-4359-a159-c5d31c595670",
   "metadata": {
    "tags": []
   },
   "outputs": [
    {
     "name": "stdout",
     "output_type": "stream",
     "text": [
      "17.124070868457572\n",
      "1\n",
      "17.1\n"
     ]
    }
   ],
   "source": [
    "import random \n",
    "def generate_rounded_float():\n",
    "# random number and places\n",
    "    number = random.uniform(10,20)\n",
    "    print (number)\n",
    "    places = random.randint(1,4)\n",
    "    print (places)\n",
    "    number = round(number,places)\n",
    "    print (number)\n",
    "    \n",
    "\n",
    "\n",
    "generate_rounded_float()"
   ]
  },
  {
   "cell_type": "code",
   "execution_count": null,
   "id": "882f4408-a335-4122-b099-a0d701942628",
   "metadata": {},
   "outputs": [],
   "source": []
  }
 ],
 "metadata": {
  "kernelspec": {
   "display_name": "Python 3 (ipykernel)",
   "language": "python",
   "name": "python3"
  },
  "language_info": {
   "codemirror_mode": {
    "name": "ipython",
    "version": 3
   },
   "file_extension": ".py",
   "mimetype": "text/x-python",
   "name": "python",
   "nbconvert_exporter": "python",
   "pygments_lexer": "ipython3",
   "version": "3.11.5"
  }
 },
 "nbformat": 4,
 "nbformat_minor": 5
}
