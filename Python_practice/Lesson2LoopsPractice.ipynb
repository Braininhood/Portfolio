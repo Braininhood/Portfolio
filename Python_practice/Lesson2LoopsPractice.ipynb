{
 "cells": [
  {
   "cell_type": "code",
   "execution_count": 3,
   "id": "97cae2ed-5ec2-447c-9892-c768a9fde63b",
   "metadata": {
    "tags": []
   },
   "outputs": [
    {
     "name": "stdin",
     "output_type": "stream",
     "text": [
      "Please, enter username: username\n"
     ]
    },
    {
     "name": "stdout",
     "output_type": "stream",
     "text": [
      "Incorrect user name\n"
     ]
    },
    {
     "name": "stdin",
     "output_type": "stream",
     "text": [
      "Please, enter username: user\n"
     ]
    },
    {
     "name": "stdout",
     "output_type": "stream",
     "text": [
      "Welcome  user  you will now be asked to enter your password\n"
     ]
    }
   ],
   "source": [
    "def get_username():\n",
    "#get a valid username\n",
    "\n",
    "    valid = False\n",
    "    while valid == False:\n",
    "        username = input(\"Please, enter username:\")\n",
    "        if username == \"user\":\n",
    "            valid = True\n",
    "        else:\n",
    "            print (\"Incorrect user name\")\n",
    "    print (\"Welcome \", username, \" you will now be asked to enter your password\")\n",
    "    \n",
    "get_username()"
   ]
  },
  {
   "cell_type": "code",
   "execution_count": 6,
   "id": "25c448c8-dadd-4a6f-be7f-cccd3ed30f41",
   "metadata": {
    "tags": []
   },
   "outputs": [
    {
     "name": "stdin",
     "output_type": "stream",
     "text": [
      "Please, enter a passcode: 1324\n"
     ]
    },
    {
     "name": "stdout",
     "output_type": "stream",
     "text": [
      "Incorrect passcode\n"
     ]
    },
    {
     "name": "stdin",
     "output_type": "stream",
     "text": [
      "Please, enter a passcode: 9873\n"
     ]
    },
    {
     "name": "stdout",
     "output_type": "stream",
     "text": [
      "Incorrect passcode\n"
     ]
    },
    {
     "name": "stdin",
     "output_type": "stream",
     "text": [
      "Please, enter a passcode: 9876\n"
     ]
    },
    {
     "name": "stdout",
     "output_type": "stream",
     "text": [
      "Passcode accepted\n"
     ]
    }
   ],
   "source": [
    "def get_passcode():\n",
    "#get a valid passcode\n",
    "\n",
    "    valid = False\n",
    "    while valid == False:\n",
    "        passcode = input(\"Please, enter a passcode:\")\n",
    "        if passcode == \"9876\":\n",
    "            valid = True\n",
    "        else:\n",
    "            print (\"Incorrect passcode\")\n",
    "    print (\"Passcode accepted\")\n",
    "    \n",
    "get_passcode()"
   ]
  },
  {
   "cell_type": "code",
   "execution_count": 12,
   "id": "d254c04d-91e2-46b4-9f20-2b20bdee9d29",
   "metadata": {
    "tags": []
   },
   "outputs": [
    {
     "name": "stdin",
     "output_type": "stream",
     "text": [
      "Please, enter a single digit: 12\n"
     ]
    },
    {
     "name": "stdout",
     "output_type": "stream",
     "text": [
      "Not a digit\n"
     ]
    },
    {
     "name": "stdin",
     "output_type": "stream",
     "text": [
      "Please, enter a single digit: 12\n"
     ]
    },
    {
     "name": "stdout",
     "output_type": "stream",
     "text": [
      "Not a digit\n"
     ]
    },
    {
     "name": "stdin",
     "output_type": "stream",
     "text": [
      "Please, enter a single digit: 12\n"
     ]
    },
    {
     "name": "stdout",
     "output_type": "stream",
     "text": [
      "Not a digit\n"
     ]
    },
    {
     "name": "stdin",
     "output_type": "stream",
     "text": [
      "Please, enter a single digit: 15\n"
     ]
    },
    {
     "name": "stdout",
     "output_type": "stream",
     "text": [
      "Not a digit\n"
     ]
    },
    {
     "name": "stdin",
     "output_type": "stream",
     "text": [
      "Please, enter a single digit: 16\n"
     ]
    },
    {
     "name": "stdout",
     "output_type": "stream",
     "text": [
      "Not a digit\n"
     ]
    },
    {
     "name": "stdin",
     "output_type": "stream",
     "text": [
      "Please, enter a single digit: 1\n"
     ]
    },
    {
     "name": "stdout",
     "output_type": "stream",
     "text": [
      "Single digit entered\n"
     ]
    }
   ],
   "source": [
    "def get_digit():\n",
    "#single digit input\n",
    "\n",
    "    valid_digit = False\n",
    "    while valid_digit == False:\n",
    "        single_digit = int(input(\"Please, enter a single digit:\"))\n",
    "        if single_digit < 10 :\n",
    "            valid_digit = True\n",
    "        else:\n",
    "            print (\"Not a digit\")\n",
    "    print (\"Single digit entered\" )\n",
    "    \n",
    "get_digit()"
   ]
  },
  {
   "cell_type": "code",
   "execution_count": 13,
   "id": "987f627c-7cbc-460e-b8c2-1f8c88ca1a15",
   "metadata": {
    "tags": []
   },
   "outputs": [
    {
     "name": "stdin",
     "output_type": "stream",
     "text": [
      "Please, enter a positive number: -3\n",
      "It must be a positive number, try again: 0\n",
      "It must be a positive number, try again: -45\n",
      "It must be a positive number, try again: 2\n"
     ]
    },
    {
     "name": "stdout",
     "output_type": "stream",
     "text": [
      "Positive numbert entered: 2\n"
     ]
    }
   ],
   "source": [
    "def positive_number():\n",
    "#positive number input\n",
    "\n",
    "    number = int(input(\"Please, enter a positive number:\"))\n",
    "    while number <= 0 :\n",
    "        number = int(input(\"It must be a positive number, try again:\"))\n",
    "       \n",
    "    print (\"Positive numbert entered:\",number)\n",
    "    \n",
    "positive_number()"
   ]
  },
  {
   "cell_type": "code",
   "execution_count": 1,
   "id": "aeaefeb9-4960-4bb7-ba1d-a9f7f80efafa",
   "metadata": {
    "tags": []
   },
   "outputs": [
    {
     "name": "stdin",
     "output_type": "stream",
     "text": [
      "Please, enter a number between 1 and 31: 36\n"
     ]
    },
    {
     "name": "stdout",
     "output_type": "stream",
     "text": [
      "Number out of limits\n"
     ]
    },
    {
     "name": "stdin",
     "output_type": "stream",
     "text": [
      "Please, enter a number between 1 and 31: -5\n"
     ]
    },
    {
     "name": "stdout",
     "output_type": "stream",
     "text": [
      "Number out of limits\n"
     ]
    },
    {
     "name": "stdin",
     "output_type": "stream",
     "text": [
      "Please, enter a number between 1 and 31: 45\n"
     ]
    },
    {
     "name": "stdout",
     "output_type": "stream",
     "text": [
      "Number out of limits\n"
     ]
    },
    {
     "name": "stdin",
     "output_type": "stream",
     "text": [
      "Please, enter a number between 1 and 31: 6\n"
     ]
    },
    {
     "name": "stdout",
     "output_type": "stream",
     "text": [
      "Your number was: 6\n"
     ]
    }
   ],
   "source": [
    "def test_limits():\n",
    "#getting a number within limits\n",
    "\n",
    "    number = int(input(\"Please, enter a number between 1 and 31:\"))\n",
    "    while number < 1 or number > 31 :\n",
    "        print (\"Number out of limits\")\n",
    "        number = int(input(\"Please, enter a number between 1 and 31:\"))  \n",
    "    print (\"Your number was:\",number)\n",
    "    \n",
    "test_limits()"
   ]
  },
  {
   "cell_type": "code",
   "execution_count": 2,
   "id": "ec176035-07b8-4820-ac3f-aed31e84ca6c",
   "metadata": {},
   "outputs": [
    {
     "name": "stdin",
     "output_type": "stream",
     "text": [
      "Please, enter a number NOT between 40 and 50: 44\n"
     ]
    },
    {
     "name": "stdout",
     "output_type": "stream",
     "text": [
      "This is not an outlier\n"
     ]
    },
    {
     "name": "stdin",
     "output_type": "stream",
     "text": [
      "Please, enter a number NOT between 40 and 50: 50\n"
     ]
    },
    {
     "name": "stdout",
     "output_type": "stream",
     "text": [
      "This is not an outlier\n"
     ]
    },
    {
     "name": "stdin",
     "output_type": "stream",
     "text": [
      "Please, enter a number NOT between 40 and 50: 48\n"
     ]
    },
    {
     "name": "stdout",
     "output_type": "stream",
     "text": [
      "This is not an outlier\n"
     ]
    },
    {
     "name": "stdin",
     "output_type": "stream",
     "text": [
      "Please, enter a number NOT between 40 and 50: 42\n"
     ]
    },
    {
     "name": "stdout",
     "output_type": "stream",
     "text": [
      "This is not an outlier\n"
     ]
    },
    {
     "name": "stdin",
     "output_type": "stream",
     "text": [
      "Please, enter a number NOT between 40 and 50: 36\n"
     ]
    },
    {
     "name": "stdout",
     "output_type": "stream",
     "text": [
      "You have entered an outlier\n"
     ]
    }
   ],
   "source": [
    "def test_outlier():\n",
    "#getting a number outside range\n",
    "\n",
    "    number = int(input(\"Please, enter a number NOT between 40 and 50:\"))\n",
    "    while number >= 40 and number <= 50 :\n",
    "        print (\"This is not an outlier\")\n",
    "        number = int(input(\"Please, enter a number NOT between 40 and 50:\"))  \n",
    "    print (\"You have entered an outlier\")\n",
    "    \n",
    "test_outlier()"
   ]
  },
  {
   "cell_type": "code",
   "execution_count": 5,
   "id": "0bd50ca1-34c1-4971-97d7-a30452eb7e5b",
   "metadata": {},
   "outputs": [
    {
     "name": "stdin",
     "output_type": "stream",
     "text": [
      "Please, enter a number: 4\n"
     ]
    },
    {
     "name": "stdout",
     "output_type": "stream",
     "text": [
      "4\n",
      "16\n",
      "64\n",
      "256\n",
      "1024\n",
      "4096\n",
      "16384\n",
      "65536\n"
     ]
    }
   ],
   "source": [
    "def increase_to_twenty_thousand():\n",
    "#multiplying a number to be greater than 20,000\n",
    "\n",
    "    number = int(input(\"Please, enter a number:\"))\n",
    "    total = 1\n",
    "    while total < 20000 :\n",
    "        total = total*number\n",
    "        print (total)\n",
    "    \n",
    "    \n",
    "increase_to_twenty_thousand()"
   ]
  },
  {
   "cell_type": "code",
   "execution_count": 1,
   "id": "450dcc5b-d562-4e73-a765-89d7504dd10c",
   "metadata": {},
   "outputs": [
    {
     "name": "stdin",
     "output_type": "stream",
     "text": [
      "Please, enter a number: 5\n"
     ]
    },
    {
     "name": "stdout",
     "output_type": "stream",
     "text": [
      "That number is odd\n"
     ]
    },
    {
     "name": "stdin",
     "output_type": "stream",
     "text": [
      "Please, enter a number: 8\n"
     ]
    },
    {
     "name": "stdout",
     "output_type": "stream",
     "text": [
      "Thanks, that number is even\n"
     ]
    }
   ],
   "source": [
    "def get_even_number():\n",
    "#even and odds\n",
    "\n",
    "    number = int(input(\"Please, enter a number:\"))\n",
    "    total = number%2\n",
    "    while total != 0 :\n",
    "        print (\"That number is odd\")\n",
    "        number = int(input(\"Please, enter a number:\"))\n",
    "        total = number%2\n",
    "    print (\"Thanks, that number is even\") \n",
    "    \n",
    "get_even_number()"
   ]
  },
  {
   "cell_type": "code",
   "execution_count": 1,
   "id": "48972192-4f58-48e9-a21e-730702a07b2c",
   "metadata": {
    "tags": []
   },
   "outputs": [
    {
     "name": "stdout",
     "output_type": "stream",
     "text": [
      "What value would you like to see?\n",
      "1. Pi\n",
      "2. Plank’s constant\n",
      "3. E\n",
      "4. Square root of 2\n",
      "5. Quit the program\n"
     ]
    },
    {
     "name": "stdin",
     "output_type": "stream",
     "text": [
      "Choose menu option between 1-5: 6\n"
     ]
    },
    {
     "name": "stdout",
     "output_type": "stream",
     "text": [
      "Invalid choice\n",
      "What value would you like to see?\n",
      "1. Pi\n",
      "2. Plank’s constant\n",
      "3. E\n",
      "4. Square root of 2\n",
      "5. Quit the program\n"
     ]
    },
    {
     "name": "stdin",
     "output_type": "stream",
     "text": [
      "Choose menu option between 1-5: 5\n"
     ]
    },
    {
     "name": "stdout",
     "output_type": "stream",
     "text": [
      "Thank you for using this program\n"
     ]
    }
   ],
   "source": [
    "def  process_menu_options():\n",
    "# acting on menu choice\n",
    "\n",
    "\n",
    "    print (\"What value would you like to see?\")\n",
    "    print (\"1. Pi\")\n",
    "    print (\"2. Plank’s constant\")\n",
    "    print (\"3. E\")\n",
    "    print (\"4. Square root of 2\")\n",
    "    print (\"5. Quit the program\")\n",
    "    menu_option = int(input(\"Choose menu option between 1-5:\"))\n",
    "    while menu_option != 5:\n",
    "        if menu_option==1:\n",
    "            print(\"3.14159265359\")\n",
    "            print (\"What value would you like to see?\")\n",
    "            print (\"1. Pi\")\n",
    "            print (\"2. Plank’s constant\")\n",
    "            print (\"3. E\")\n",
    "            print (\"4. Square root of 2\")\n",
    "            print (\"5. Quit the program\")\n",
    "            menu_option = int(input(\"Choose menu option between 1-5:\"))\n",
    "        elif menu_option==2:\n",
    "            print(\"6.62607004 × 10-34\")\n",
    "            print (\"What value would you like to see?\")\n",
    "            print (\"1. Pi\")\n",
    "            print (\"2. Plank’s constant\")\n",
    "            print (\"3. E\")\n",
    "            print (\"4. Square root of 2\")\n",
    "            print (\"5. Quit the program\")\n",
    "            menu_option = int(input(\"Choose menu option between 1-5:\"))\n",
    "        elif menu_option==3:\n",
    "            print(\"2.71828\")\n",
    "            print (\"What value would you like to see?\")\n",
    "            print (\"1. Pi\")\n",
    "            print (\"2. Plank’s constant\")\n",
    "            print (\"3. E\")\n",
    "            print (\"4. Square root of 2\")\n",
    "            print (\"5. Quit the program\")\n",
    "            menu_option = int(input(\"Choose menu option between 1-5:\"))\n",
    "        elif menu_option==4:\n",
    "            print(\"1.414\")\n",
    "            print (\"What value would you like to see?\")\n",
    "            print (\"1. Pi\")\n",
    "            print (\"2. Plank’s constant\")\n",
    "            print (\"3. E\")\n",
    "            print (\"4. Square root of 2\")\n",
    "            print (\"5. Quit the program\")\n",
    "            menu_option = int(input(\"Choose menu option between 1-5:\"))\n",
    "        else:\n",
    "            print(\"Invalid choice\")\n",
    "            print (\"What value would you like to see?\")\n",
    "            print (\"1. Pi\")\n",
    "            print (\"2. Plank’s constant\")\n",
    "            print (\"3. E\")\n",
    "            print (\"4. Square root of 2\")\n",
    "            print (\"5. Quit the program\")\n",
    "            menu_option = int(input(\"Choose menu option between 1-5:\"))\n",
    "    print(\"Thank you for using this program\")\n",
    "    \n",
    "process_menu_options()"
   ]
  },
  {
   "cell_type": "code",
   "execution_count": 4,
   "id": "6343ba69-6cfa-4e8f-b2b7-99a5f3a3ef8f",
   "metadata": {},
   "outputs": [
    {
     "name": "stdout",
     "output_type": "stream",
     "text": [
      "26\n"
     ]
    },
    {
     "name": "stdin",
     "output_type": "stream",
     "text": [
      "Please, enter a number between 1 and 50: 45\n"
     ]
    },
    {
     "name": "stdout",
     "output_type": "stream",
     "text": [
      "Too high\n"
     ]
    },
    {
     "name": "stdin",
     "output_type": "stream",
     "text": [
      "Please, enter other number between 1 and 50: 15\n"
     ]
    },
    {
     "name": "stdout",
     "output_type": "stream",
     "text": [
      "Too low\n"
     ]
    },
    {
     "name": "stdin",
     "output_type": "stream",
     "text": [
      "Please, enter other number between 1 and 50: 13\n"
     ]
    },
    {
     "name": "stdout",
     "output_type": "stream",
     "text": [
      "Too low\n",
      "Too many attempts\n"
     ]
    }
   ],
   "source": [
    "from random import randint\n",
    "\n",
    "def guess_number(number):\n",
    "  # Guess the number\n",
    "\n",
    "   \n",
    "    attempt = 0\n",
    "    print (number)\n",
    "    guess = int(input(\"Please, enter a number between 1 and 50:\"))\n",
    "    if guess>=1 and guess<=50:\n",
    "        if guess>number:\n",
    "            print (\"Too high\")\n",
    "        elif guess<number:\n",
    "            print (\"Too low\")\n",
    "        else:\n",
    "            print (\"Invalid number\")\n",
    "    if guess != number:\n",
    "        while attempt != 2:\n",
    "            attempt = attempt+1\n",
    "            guess = int(input(\"Please, enter other number between 1 and 50:\"))\n",
    "            if guess>=1 and guess<=50:\n",
    "                if guess>number:\n",
    "                    print (\"Too high\")\n",
    "                    \n",
    "                elif guess<number:\n",
    "                    print (\"Too low\")\n",
    "                    \n",
    "            else:\n",
    "                print (\"Invalid number\")\n",
    "              \n",
    "        \n",
    "        print (\"Too many attempts\")\n",
    "        \n",
    "\n",
    "    else:\n",
    "        print (\"You guessed it\")   \n",
    "\n",
    "\n",
    " \n",
    "\n",
    "guess_number(randint(1,50))\n"
   ]
  },
  {
   "cell_type": "code",
   "execution_count": null,
   "id": "3a98874b-b537-4b74-b522-3d8303434fde",
   "metadata": {},
   "outputs": [],
   "source": []
  }
 ],
 "metadata": {
  "kernelspec": {
   "display_name": "Python 3 (ipykernel)",
   "language": "python",
   "name": "python3"
  },
  "language_info": {
   "codemirror_mode": {
    "name": "ipython",
    "version": 3
   },
   "file_extension": ".py",
   "mimetype": "text/x-python",
   "name": "python",
   "nbconvert_exporter": "python",
   "pygments_lexer": "ipython3",
   "version": "3.11.5"
  }
 },
 "nbformat": 4,
 "nbformat_minor": 5
}
