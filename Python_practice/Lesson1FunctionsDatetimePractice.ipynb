{
 "cells": [
  {
   "cell_type": "code",
   "execution_count": 14,
   "id": "ffc7ea1b-bee3-4a5d-b53d-5447371564fd",
   "metadata": {
    "tags": []
   },
   "outputs": [
    {
     "name": "stdout",
     "output_type": "stream",
     "text": [
      "2023-12-08 19:25:03.542446\n"
     ]
    }
   ],
   "source": [
    "#print current date and time\n",
    "\n",
    "import datetime\n",
    "\n",
    "\n",
    "def get_datetime_now():\n",
    "    day = datetime.datetime.now()\n",
    "    return day\n",
    "\n",
    "get_datetime_now()\n",
    "\n",
    "now_date_time = get_datetime_now()\n",
    "print(now_date_time)"
   ]
  },
  {
   "cell_type": "code",
   "execution_count": 16,
   "id": "c6e26e68-5eaa-4cd8-a97f-58310a4faa33",
   "metadata": {
    "tags": []
   },
   "outputs": [
    {
     "name": "stdout",
     "output_type": "stream",
     "text": [
      "2023\n"
     ]
    }
   ],
   "source": [
    "# print the current year\n",
    "\n",
    "import datetime\n",
    "\n",
    "\n",
    "def get_datetime_now():\n",
    "    day = datetime.datetime.now()\n",
    "    return day.year\n",
    "\n",
    "get_datetime_now()\n",
    "\n",
    "now_date_time = get_datetime_now()\n",
    "print(now_date_time)"
   ]
  },
  {
   "cell_type": "code",
   "execution_count": 18,
   "id": "3e10ce80-52a8-4e5e-a727-747bae57f2b7",
   "metadata": {
    "tags": []
   },
   "outputs": [
    {
     "name": "stdout",
     "output_type": "stream",
     "text": [
      "Friday\n"
     ]
    }
   ],
   "source": [
    "# print the current day of the week\n",
    "\n",
    "import datetime\n",
    "\n",
    "\n",
    "def get_datetime_now():\n",
    "    day = datetime.datetime.now()\n",
    "    return day.strftime(\"%A\")\n",
    "\n",
    "get_datetime_now()\n",
    "\n",
    "now_date_time = get_datetime_now()\n",
    "print(now_date_time)"
   ]
  },
  {
   "cell_type": "code",
   "execution_count": 33,
   "id": "b3261d9e-9b2d-4772-85d7-1c0d8a4663e0",
   "metadata": {
    "tags": []
   },
   "outputs": [
    {
     "name": "stdout",
     "output_type": "stream",
     "text": [
      "08-12-2023\n"
     ]
    }
   ],
   "source": [
    "#create a new date\n",
    "\n",
    "import datetime\n",
    "\n",
    "\n",
    "def get_datetime_now():\n",
    "    date = datetime.date.today()\n",
    "    day = date.strftime(\"%d\")\n",
    "    month = date.strftime(\"%m\")\n",
    "    year = date.strftime(\"%Y\")\n",
    "    datenew = day+\"-\"+month+\"-\"+year    \n",
    "    return  datenew\n",
    "\n",
    "get_datetime_now()\n",
    "print (get_datetime_now())\n"
   ]
  },
  {
   "cell_type": "code",
   "execution_count": 1,
   "id": "8bbf7df9-27fb-4f90-b51a-6160b93eec6e",
   "metadata": {
    "tags": []
   },
   "outputs": [
    {
     "name": "stdout",
     "output_type": "stream",
     "text": [
      "09-12-2023\n"
     ]
    }
   ],
   "source": [
    "#create a new date\n",
    "\n",
    "import datetime\n",
    "\n",
    "\n",
    "def get_datetime_now():\n",
    "    date = datetime.date.today()\n",
    "    datenew = date.strftime(\"%d-%m-%Y\")\n",
    "    return  datenew\n",
    "\n",
    "get_datetime_now()\n",
    "print (get_datetime_now())"
   ]
  },
  {
   "cell_type": "code",
   "execution_count": 15,
   "id": "fdf59636-3547-4a34-bebb-838beb910fa2",
   "metadata": {},
   "outputs": [
    {
     "name": "stdin",
     "output_type": "stream",
     "text": [
      "Enter day:  kdjfh\n"
     ]
    },
    {
     "ename": "ValueError",
     "evalue": "invalid literal for int() with base 10: 'kdjfh'",
     "output_type": "error",
     "traceback": [
      "\u001b[1;31m---------------------------------------------------------------------------\u001b[0m",
      "\u001b[1;31mValueError\u001b[0m                                Traceback (most recent call last)",
      "Cell \u001b[1;32mIn[15], line 3\u001b[0m\n\u001b[0;32m      1\u001b[0m \u001b[38;5;28;01mimport\u001b[39;00m \u001b[38;5;21;01mdatetime\u001b[39;00m\n\u001b[1;32m----> 3\u001b[0m day \u001b[38;5;241m=\u001b[39m \u001b[38;5;28mint\u001b[39m(\u001b[38;5;28minput\u001b[39m(\u001b[38;5;124m\"\u001b[39m\u001b[38;5;124mEnter day: \u001b[39m\u001b[38;5;124m\"\u001b[39m))\n\u001b[0;32m      4\u001b[0m month \u001b[38;5;241m=\u001b[39m \u001b[38;5;28mint\u001b[39m(\u001b[38;5;28minput\u001b[39m(\u001b[38;5;124m\"\u001b[39m\u001b[38;5;124mEnter month: \u001b[39m\u001b[38;5;124m\"\u001b[39m))\n\u001b[0;32m      5\u001b[0m year \u001b[38;5;241m=\u001b[39m \u001b[38;5;28mint\u001b[39m(\u001b[38;5;28minput\u001b[39m(\u001b[38;5;124m\"\u001b[39m\u001b[38;5;124mEnter year: \u001b[39m\u001b[38;5;124m\"\u001b[39m))\n",
      "\u001b[1;31mValueError\u001b[0m: invalid literal for int() with base 10: 'kdjfh'"
     ]
    }
   ],
   "source": [
    "#create a valid date\n",
    "import datetime\n",
    "\n",
    "day = int(input(\"Enter day: \"))\n",
    "month = int(input(\"Enter month: \"))\n",
    "year = int(input(\"Enter year: \"))\n",
    "\n",
    "\n",
    "def is_valid_date(day, month, year):\n",
    "    while True:\n",
    "        if month < 1 or month > 12:\n",
    "            print(\"Error: Invalid month\")\n",
    "            month = int(input(\"Enter month: \"))\n",
    "        else:\n",
    "            days_in_month = {\n",
    "                1: 31, 2: 28, 3: 31, 4: 30,\n",
    "                5: 31, 6: 30, 7: 31, 8: 31,\n",
    "                9: 30, 10: 31, 11: 30, 12: 31\n",
    "            }\n",
    "            if day < 1 or day > days_in_month[month]:\n",
    "                print(\"Error: Invalid day for the given month\")\n",
    "                day = int(input(\"Enter day: \"))\n",
    "            else:\n",
    "                datetime.datetime(year, month, day)\n",
    "                valid_date = datetime.date(year, month, day)\n",
    "                print(\"Valid date:\", valid_date.strftime(\"%d-%m-%Y\"))\n",
    "                return \n",
    "\n",
    "is_valid_date(day, month, year)\n",
    "\n"
   ]
  },
  {
   "cell_type": "code",
   "execution_count": 16,
   "id": "ab8d23ff-ea50-45b1-83bb-49e1546fee83",
   "metadata": {
    "tags": []
   },
   "outputs": [
    {
     "name": "stdin",
     "output_type": "stream",
     "text": [
      "Enter day:  12\n",
      "Enter month:  12\n",
      "Enter year:  2012\n"
     ]
    },
    {
     "name": "stdout",
     "output_type": "stream",
     "text": [
      "2012 is a leap year\n"
     ]
    }
   ],
   "source": [
    "#is it a leap year?\n",
    "import datetime\n",
    "\n",
    "day = int(input(\"Enter day: \"))\n",
    "month = int(input(\"Enter month: \"))\n",
    "year = int(input(\"Enter year: \"))\n",
    "\n",
    "\n",
    "def leap_year (year):\n",
    "    if (year % 4 == 0 and year % 100 != 0) or (year % 400 == 0):\n",
    "        return True\n",
    "    else:\n",
    "        return False\n",
    "leap_year (year)\n",
    "\n",
    "date = datetime.date(year, month, day)\n",
    "\n",
    "if leap_year (year)==True:\n",
    "    print(date.strftime(\"%Y\"), \"is a leap year\")\n",
    "else:\n",
    "    print(date.strftime(\"%Y\"), \"is not a leap year\")"
   ]
  },
  {
   "cell_type": "code",
   "execution_count": 18,
   "id": "3b285551-4d2c-4284-886d-f01b01d6a67c",
   "metadata": {
    "tags": []
   },
   "outputs": [
    {
     "name": "stdin",
     "output_type": "stream",
     "text": [
      "Enter day:  25\n",
      "Enter month:  12\n",
      "Enter year:  1982\n",
      "Enter hours:  12\n",
      "Enter minutes:  15\n",
      "Enter seconds:  30\n"
     ]
    },
    {
     "name": "stdout",
     "output_type": "stream",
     "text": [
      "Given date and time: 1982-12-25 12:15:30\n",
      "Year (in full): 1982\n",
      "Month (as a number): 12\n",
      "Month name: December\n",
      "Week number of the year: 51\n",
      "Weekday of the week (as a number): 5\n",
      "Day of year: 359\n",
      "Day of the month: 25\n",
      "Day of week (as a name): Saturday\n"
     ]
    }
   ],
   "source": [
    "import datetime\n",
    "\n",
    "day = int(input(\"Enter day: \"))\n",
    "month = int(input(\"Enter month: \"))\n",
    "year = int(input(\"Enter year: \"))\n",
    "hours = int(input(\"Enter hours: \"))\n",
    "minutes = int(input(\"Enter minutes: \"))\n",
    "seconds = int(input(\"Enter seconds: \"))\n",
    "\n",
    "def print_date_info(date):\n",
    "    # Given date and time\n",
    "    print(\"Given date and time:\", date)\n",
    "    \n",
    "    # Year in full\n",
    "    print(\"Year (in full):\", date.strftime(\"%Y\"))\n",
    "    \n",
    "    # Month as a number\n",
    "    print(\"Month (as a number):\", date.strftime(\"%m\"))\n",
    "    \n",
    "    # Month name\n",
    "    print(\"Month name:\", date.strftime(\"%B\"))\n",
    "    \n",
    "    # Week number of the year\n",
    "    print(\"Week number of the year:\", date.strftime(\"%U\"))\n",
    "    \n",
    "    # Weekday of the week as a number (0 - Monday, 6 - Sunday)\n",
    "    print(\"Weekday of the week (as a number):\", date.weekday())\n",
    "    \n",
    "    # Day of year\n",
    "    print(\"Day of year:\", date.strftime(\"%j\"))\n",
    "    \n",
    "    # Day of the month\n",
    "    print(\"Day of the month:\", date.strftime(\"%d\"))\n",
    "    \n",
    "    # Day of week as a name\n",
    "    print(\"Day of week (as a name):\", date.strftime(\"%A\"))\n",
    "\n",
    "\n",
    "given_date = datetime.datetime(year, month, day, hours, minutes, seconds) \n",
    "print_date_info(given_date)"
   ]
  },
  {
   "cell_type": "code",
   "execution_count": 19,
   "id": "8db1aa74-e3d1-4fda-af12-e85507874d42",
   "metadata": {
    "tags": []
   },
   "outputs": [
    {
     "name": "stdin",
     "output_type": "stream",
     "text": [
      "Enter day:  25\n",
      "Enter month:  12\n",
      "Enter year:  1982\n"
     ]
    },
    {
     "name": "stdout",
     "output_type": "stream",
     "text": [
      "Sunday, December 26, 1982\n",
      "Monday, December 27, 1982\n",
      "Tuesday, December 28, 1982\n",
      "Wednesday, December 29, 1982\n",
      "Thursday, December 30, 1982\n",
      "Friday, December 31, 1982\n"
     ]
    }
   ],
   "source": [
    "#next 6 days\n",
    "\n",
    "import datetime\n",
    "\n",
    "day = int(input(\"Enter day: \"))\n",
    "month = int(input(\"Enter month: \"))\n",
    "year = int(input(\"Enter year: \"))\n",
    "\n",
    "def next_6_days(start):\n",
    "    for i in range(1, 7):\n",
    "        next = start + datetime.timedelta(days=i)\n",
    "        print(next.strftime(\"%A, %B %d, %Y\"))\n",
    "        \n",
    "given_date = datetime.datetime(year, month, day)  \n",
    "next_6_days(given_date)"
   ]
  },
  {
   "cell_type": "code",
   "execution_count": null,
   "id": "becb38ab-1207-4411-8a0d-88c2569fbaa4",
   "metadata": {},
   "outputs": [],
   "source": []
  }
 ],
 "metadata": {
  "kernelspec": {
   "display_name": "Python 3 (ipykernel)",
   "language": "python",
   "name": "python3"
  },
  "language_info": {
   "codemirror_mode": {
    "name": "ipython",
    "version": 3
   },
   "file_extension": ".py",
   "mimetype": "text/x-python",
   "name": "python",
   "nbconvert_exporter": "python",
   "pygments_lexer": "ipython3",
   "version": "3.11.5"
  }
 },
 "nbformat": 4,
 "nbformat_minor": 5
}
