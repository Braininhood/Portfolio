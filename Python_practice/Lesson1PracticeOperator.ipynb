{
 "cells": [
  {
   "cell_type": "code",
   "execution_count": 3,
   "id": "204bd24a-bd48-45c8-8823-f36e4dea5f53",
   "metadata": {},
   "outputs": [
    {
     "name": "stdin",
     "output_type": "stream",
     "text": [
      "Please, enter dog age: 7\n"
     ]
    },
    {
     "name": "stdout",
     "output_type": "stream",
     "text": [
      "Human age: 49\n"
     ]
    }
   ],
   "source": [
    "def print_dog_human_age():\n",
    "# multiplication of integers\n",
    "    dog_age= int(input(\"Please, enter dog age:\"))\n",
    "    dog_human_age = dog_age*7\n",
    "    print (\"Human age:\",dog_human_age)\n",
    "print_dog_human_age()"
   ]
  },
  {
   "cell_type": "code",
   "execution_count": 6,
   "id": "51e6c3d0-f984-4913-9cf9-8e1437bdea75",
   "metadata": {
    "tags": []
   },
   "outputs": [
    {
     "name": "stdin",
     "output_type": "stream",
     "text": [
      "Please, enter 1st number: 59\n",
      "Please, enter 2nd number: 34\n",
      "Please, enter 3rd number: 56\n"
     ]
    },
    {
     "name": "stdout",
     "output_type": "stream",
     "text": [
      "Average: 49.67\n"
     ]
    }
   ],
   "source": [
    "def calculate_average():\n",
    "#BIDMAS\n",
    "    n1 = int(input(\"Please, enter 1st number:\"))\n",
    "    n2 = int(input(\"Please, enter 2nd number:\"))\n",
    "    n3 = int(input(\"Please, enter 3rd number:\"))\n",
    "    total = (n1+n2+n3)/3\n",
    "    total = round(total,2)\n",
    "    print (\"Average:\",total)\n",
    "    \n",
    "calculate_average()"
   ]
  },
  {
   "cell_type": "code",
   "execution_count": 11,
   "id": "545d93a1-5a17-4b97-9ce2-59254ff75c9b",
   "metadata": {
    "tags": []
   },
   "outputs": [
    {
     "name": "stdin",
     "output_type": "stream",
     "text": [
      "Please, enter your height in m: 1.85\n"
     ]
    },
    {
     "name": "stdout",
     "output_type": "stream",
     "text": [
      "Your height in cm: 185\n"
     ]
    }
   ],
   "source": [
    "def calculate_avg_height():\n",
    "# BIDMAS\n",
    "    height= float(input(\"Please, enter your height in m:\"))\n",
    "    height_centimeters = height*100\n",
    "    height_centimeters = int(height_centimeters)\n",
    "    print (\"Your height in cm:\",height_centimeters)\n",
    "calculate_avg_height()"
   ]
  },
  {
   "cell_type": "code",
   "execution_count": 14,
   "id": "d6b45c34-0e9e-4dbb-8cf4-fca93e9e5916",
   "metadata": {
    "tags": []
   },
   "outputs": [
    {
     "name": "stdin",
     "output_type": "stream",
     "text": [
      "Please, enter your amount in pounds: 5.3\n"
     ]
    },
    {
     "name": "stdout",
     "output_type": "stream",
     "text": [
      "Your ammount in euros after exchange: 6.15\n"
     ]
    }
   ],
   "source": [
    "def convert_currency():\n",
    "# float and formatting printing\n",
    "\n",
    "    pounds = float(input(\"Please, enter your amount in pounds:\"))\n",
    "    euros = pounds*1.16\n",
    "    euros = round(euros,2)\n",
    "    print (\"Your ammount in euros after exchange:\",euros)\n",
    "        \n",
    "convert_currency()"
   ]
  },
  {
   "cell_type": "code",
   "execution_count": 18,
   "id": "491f7360-d0e4-4ff6-b041-8ddddb040462",
   "metadata": {
    "tags": []
   },
   "outputs": [
    {
     "name": "stdin",
     "output_type": "stream",
     "text": [
      "Please, enter 1st number: 496749.49857940\n",
      "Please, enter 2nd number: 456734673.857349576459\n",
      "Please, enter 3rd number: 309458435.496745\n"
     ]
    },
    {
     "name": "stdout",
     "output_type": "stream",
     "text": [
      "The total of the three numbers is  766689858.85\n",
      "The average of the three numbers is  255563286.28\n"
     ]
    }
   ],
   "source": [
    "def calculate_stats():\n",
    "#rounding  \n",
    "\n",
    "    n1 = float(input(\"Please, enter 1st number:\"))\n",
    "    n2 = float(input(\"Please, enter 2nd number:\"))\n",
    "    n3 = float(input(\"Please, enter 3rd number:\"))\n",
    "    total = n1+n2+n3\n",
    "    average = total/3\n",
    "    total = round(total,2)\n",
    "    average = round(average,2)\n",
    "    print (\"The total of the three numbers is \",total)\n",
    "    print (\"The average of the three numbers is \",average)\n",
    "    \n",
    "calculate_stats()"
   ]
  },
  {
   "cell_type": "code",
   "execution_count": 20,
   "id": "e9aff428-eee0-4a83-a793-0dec24c9fc96",
   "metadata": {
    "tags": []
   },
   "outputs": [
    {
     "name": "stdin",
     "output_type": "stream",
     "text": [
      "Please, enter base: 4.56\n",
      "Please, enter width: 8.498\n",
      "Please, enter height: 6.236\n"
     ]
    },
    {
     "name": "stdout",
     "output_type": "stream",
     "text": [
      "Box volume is  241.7\n"
     ]
    }
   ],
   "source": [
    "def calculate_volume():\n",
    "#calculating volume \n",
    "\n",
    "    base = float(input(\"Please, enter base:\"))\n",
    "    width = float(input(\"Please, enter width:\"))\n",
    "    height = float(input(\"Please, enter height:\"))\n",
    "    box_volume = base*width*height\n",
    "    box_volume = round(box_volume,1)\n",
    "    print (\"Box volume is \",box_volume)\n",
    "\n",
    "    \n",
    "calculate_volume()"
   ]
  },
  {
   "cell_type": "code",
   "execution_count": 40,
   "id": "fe28e8e4-ab77-42e5-b0d6-ad877b8068ef",
   "metadata": {
    "tags": []
   },
   "outputs": [
    {
     "name": "stdin",
     "output_type": "stream",
     "text": [
      "Please, enter base: 4\n",
      "Please, enter width: 5\n",
      "Please, enter height: 7\n",
      "Bill, what is a total volume of your stuff?  642546\n"
     ]
    },
    {
     "name": "stdout",
     "output_type": "stream",
     "text": [
      "You need 4589 boxes\n"
     ]
    }
   ],
   "source": [
    "def calculate_boxes():\n",
    "#calculating volume \n",
    "\n",
    "    base = float(input(\"Please, enter base:\"))\n",
    "    width = float(input(\"Please, enter width:\"))\n",
    "    height = float(input(\"Please, enter height:\"))\n",
    "    total_volume = float(input(\"Bill, what is a total volume of your stuff? \"))\n",
    "    box_volume = base*width*height\n",
    "    boxes = total_volume//box_volume\n",
    "    boxes = int(boxes)\n",
    "    boxes = str(boxes)\n",
    "    boxes = \"You need \"+boxes+\" boxes\"\n",
    "    print (boxes)\n",
    "\n",
    "    \n",
    "calculate_boxes()"
   ]
  },
  {
   "cell_type": "code",
   "execution_count": 42,
   "id": "52821569-b059-4a81-87e0-e685fbfc5dfa",
   "metadata": {
    "tags": []
   },
   "outputs": [
    {
     "name": "stdin",
     "output_type": "stream",
     "text": [
      "Please, enter weight 1st parcel: 2\n",
      "Please, enter weight 2nd parcel: 458\n",
      "Please, enter weight 3rd parcel: 54\n",
      "Please, enter weight 4th parcel: 5.22\n"
     ]
    },
    {
     "name": "stdout",
     "output_type": "stream",
     "text": [
      "The total parcel weight: 519kg\n"
     ]
    }
   ],
   "source": [
    "def calculate_parcel_weight():\n",
    "#rounding  \n",
    "\n",
    "    weight1 = float(input(\"Please, enter weight 1st parcel:\"))\n",
    "    weight2 = float(input(\"Please, enter weight 2nd parcel:\"))\n",
    "    weight3 = float(input(\"Please, enter weight 3rd parcel:\"))\n",
    "    weight4 = float(input(\"Please, enter weight 4th parcel:\"))\n",
    "    total = weight1+weight2+weight3+weight4\n",
    "    parcel_weight = total//1\n",
    "    parcel_weight = int(parcel_weight)\n",
    "    parcel_weight = str(parcel_weight) \n",
    "    parcel_weight = \"The total parcel weight: \"+parcel_weight+\"kg\"\n",
    "    print (parcel_weight)\n",
    "   \n",
    "    \n",
    "calculate_parcel_weight()"
   ]
  },
  {
   "cell_type": "code",
   "execution_count": 45,
   "id": "343b0300-39b7-490e-9739-6251098d85d0",
   "metadata": {
    "tags": []
   },
   "outputs": [
    {
     "name": "stdin",
     "output_type": "stream",
     "text": [
      "Please, enter afternoon time: 1455\n"
     ]
    },
    {
     "name": "stdout",
     "output_type": "stream",
     "text": [
      "It is 55 minutes past 2 PM\n"
     ]
    }
   ],
   "source": [
    "def get_pm_minutes():\n",
    "#modulus\n",
    "    \n",
    "    time = int(input(\"Please, enter afternoon time:\"))\n",
    "    hour = time//100-12\n",
    "    minutes= time%100\n",
    "    hour = str(hour)\n",
    "    minutes = str(minutes)\n",
    "    time_c = \"It is \" + minutes + \" minutes past \" +hour+\" PM\"\n",
    "    print (time_c)\n",
    "    \n",
    "get_pm_minutes()"
   ]
  },
  {
   "cell_type": "code",
   "execution_count": 47,
   "id": "296c623f-4b38-4c37-ad27-28e38aa95e3f",
   "metadata": {
    "tags": []
   },
   "outputs": [
    {
     "name": "stdin",
     "output_type": "stream",
     "text": [
      "Please, enter base of box: 24\n",
      "Please, enter width of box: 50\n",
      "Please, enter heightof box: 18\n"
     ]
    },
    {
     "name": "stdout",
     "output_type": "stream",
     "text": [
      "78 tins will fit in this box\n"
     ]
    }
   ],
   "source": [
    "def calculate_tins():\n",
    "#How many tins of beans?\n",
    "\n",
    "    base = float(input(\"Please, enter base of box:\"))\n",
    "    width = float(input(\"Please, enter width of box:\"))\n",
    "    height = float(input(\"Please, enter heightof box:\"))\n",
    "    pi = 3.14159\n",
    "    tH = 11\n",
    "    tD = 8\n",
    "    \n",
    "    box_volume = base*width*height\n",
    "    t_volume = pi*tD*tH\n",
    "    \n",
    "    total = box_volume//t_volume\n",
    "    total = int(total)\n",
    "    total = str(total)\n",
    "    total = total+\" tins will fit in this box\"\n",
    "    print (total)\n",
    "\n",
    "    \n",
    "calculate_tins()"
   ]
  },
  {
   "cell_type": "code",
   "execution_count": null,
   "id": "bae0d2c4-a86f-4f04-be82-fed71b98a513",
   "metadata": {},
   "outputs": [],
   "source": []
  }
 ],
 "metadata": {
  "kernelspec": {
   "display_name": "Python 3 (ipykernel)",
   "language": "python",
   "name": "python3"
  },
  "language_info": {
   "codemirror_mode": {
    "name": "ipython",
    "version": 3
   },
   "file_extension": ".py",
   "mimetype": "text/x-python",
   "name": "python",
   "nbconvert_exporter": "python",
   "pygments_lexer": "ipython3",
   "version": "3.11.5"
  }
 },
 "nbformat": 4,
 "nbformat_minor": 5
}
