{
 "cells": [
  {
   "cell_type": "code",
   "execution_count": 4,
   "id": "48e0efd1-4d13-412b-99a4-3fa4d19ba4bb",
   "metadata": {
    "tags": []
   },
   "outputs": [
    {
     "name": "stdin",
     "output_type": "stream",
     "text": [
      "Please enter first number:  5\n",
      "Please enter second number:  9\n"
     ]
    },
    {
     "name": "stdout",
     "output_type": "stream",
     "text": [
      "5 < 9\n"
     ]
    }
   ],
   "source": [
    "def  find_greater():\n",
    "# if and else\n",
    "    num1 = int(input(\"Please enter first number: \"))\n",
    "    num2 = int(input(\"Please enter second number: \"))\n",
    "    if num1 > num2:\n",
    "        print(num1,\">\",num2)\n",
    "    else:\n",
    "        print(num1,\"<\",num2)\n",
    "\n",
    "find_greater()"
   ]
  },
  {
   "cell_type": "code",
   "execution_count": 19,
   "id": "eb2ff970-3d33-45c3-a572-32157fa5d449",
   "metadata": {
    "tags": []
   },
   "outputs": [
    {
     "name": "stdin",
     "output_type": "stream",
     "text": [
      "Please enter number:  2\n"
     ]
    },
    {
     "name": "stdout",
     "output_type": "stream",
     "text": [
      "Too low 75\n"
     ]
    }
   ],
   "source": [
    "from random import randint\n",
    "\n",
    "def guess_number(random_number):\n",
    "    \n",
    "    guess = int(input(\"Please enter number: \")) \n",
    "    if random_number < guess:\n",
    "        print(\"Too high\", random_number)\n",
    "    else:\n",
    "        print(\"Too low\", random_number)\n",
    "    \n",
    "\n",
    "guess_number(randint(1,100))"
   ]
  },
  {
   "cell_type": "code",
   "execution_count": 24,
   "id": "43c8537f-10f8-4e8c-8994-e47208394d2a",
   "metadata": {
    "tags": []
   },
   "outputs": [
    {
     "name": "stdin",
     "output_type": "stream",
     "text": [
      "Please, enter the time in 24 hour clock format (e.g. 1759): 945\n"
     ]
    },
    {
     "name": "stdout",
     "output_type": "stream",
     "text": [
      "The time is 9:45AM\n"
     ]
    }
   ],
   "source": [
    "def is_afternoon():\n",
    "#AM or PM\n",
    "    \n",
    "    time = int(input(\"Please, enter the time in 24 hour clock format (e.g. 1759):\"))\n",
    "    hour = time//100\n",
    "    minutes= time%100\n",
    "    if hour > 12:\n",
    "        am_pm = \"PM\"\n",
    "        text_time = \"The time is \" + str(hour) + \":\" + str(minutes) + am_pm\n",
    "        print(text_time)\n",
    "    else:\n",
    "        am_pm = \"AM\"\n",
    "        text_time = \"The time is \" + str(hour) + \":\" + str(minutes) + am_pm\n",
    "        print(text_time)\n",
    "    \n",
    "is_afternoon()"
   ]
  },
  {
   "cell_type": "code",
   "execution_count": 28,
   "id": "6c3c448b-b8fc-4d29-8b6b-607b80ca0d94",
   "metadata": {
    "tags": []
   },
   "outputs": [
    {
     "name": "stdin",
     "output_type": "stream",
     "text": [
      "Please enter number between 1 and 100:  45\n"
     ]
    },
    {
     "name": "stdout",
     "output_type": "stream",
     "text": [
      "Your number was: 45\n"
     ]
    }
   ],
   "source": [
    "def  validate():\n",
    "# Getting a number within limits\n",
    "\n",
    "    num = int(input(\"Please enter number between 1 and 100: \"))\n",
    "    \n",
    "    if 1>num or num>100:\n",
    "        print(\"Number out of limits\")\n",
    "    else:\n",
    "        print(\"Your number was:\",num)\n",
    "\n",
    "validate() "
   ]
  },
  {
   "cell_type": "code",
   "execution_count": 36,
   "id": "74da8a72-76a7-4323-97c9-0c01cdd88f2d",
   "metadata": {
    "tags": []
   },
   "outputs": [
    {
     "name": "stdout",
     "output_type": "stream",
     "text": [
      "What value would you like to see?\n",
      "1. Pi\n",
      "2. Plank’s constant\n",
      "3. E\n",
      "4. Square root of 2\n"
     ]
    },
    {
     "name": "stdin",
     "output_type": "stream",
     "text": [
      "Choose menu option: 2\n"
     ]
    },
    {
     "name": "stdout",
     "output_type": "stream",
     "text": [
      "2\n"
     ]
    }
   ],
   "source": [
    "def  process_menu():\n",
    "# getting a menu choice\n",
    "\n",
    "\n",
    "    print (\"What value would you like to see?\")\n",
    "    print (\"1. Pi\")\n",
    "    print (\"2. Plank’s constant\")\n",
    "    print (\"3. E\")\n",
    "    print (\"4. Square root of 2\")\n",
    "    menu_option = int(input(\"Choose menu option:\"))\n",
    "    if 1>menu_option or menu_option>4:\n",
    "        print(\"Invalid choice\")\n",
    "    else:\n",
    "        print(menu_option)\n",
    "\n",
    "process_menu()"
   ]
  },
  {
   "cell_type": "code",
   "execution_count": 42,
   "id": "93620e15-a05e-4332-8e66-0d179ad467e9",
   "metadata": {
    "tags": []
   },
   "outputs": [
    {
     "name": "stdout",
     "output_type": "stream",
     "text": [
      "What value would you like to see?\n",
      "1. Pi\n",
      "2. Plank’s constant\n",
      "3. E\n",
      "4. Square root of 2\n"
     ]
    },
    {
     "name": "stdin",
     "output_type": "stream",
     "text": [
      "Choose menu option: 4\n"
     ]
    },
    {
     "name": "stdout",
     "output_type": "stream",
     "text": [
      "1.414\n"
     ]
    }
   ],
   "source": [
    "def  process_menu_options():\n",
    "# acting on menu choice\n",
    "\n",
    "\n",
    "    print (\"What value would you like to see?\")\n",
    "    print (\"1. Pi\")\n",
    "    print (\"2. Plank’s constant\")\n",
    "    print (\"3. E\")\n",
    "    print (\"4. Square root of 2\")\n",
    "    menu_option = int(input(\"Choose menu option:\"))\n",
    "    if menu_option==1:\n",
    "        print(\"3.14159265359\")\n",
    "    elif menu_option==2:\n",
    "        print(\"6.62607004 × 10-34\")\n",
    "    elif menu_option==3:\n",
    "        print(\"2.71828\")\n",
    "    elif menu_option==4:\n",
    "        print(\"1.414\")    \n",
    "    else:\n",
    "        print(\"Invalid choice\")\n",
    "\n",
    "process_menu_options()"
   ]
  },
  {
   "cell_type": "code",
   "execution_count": 46,
   "id": "820780dc-1640-4fdf-8cf7-7d40b170fe59",
   "metadata": {
    "tags": []
   },
   "outputs": [
    {
     "name": "stdin",
     "output_type": "stream",
     "text": [
      "Please enter number:  0\n"
     ]
    },
    {
     "name": "stdout",
     "output_type": "stream",
     "text": [
      "0 is neither positive or negative\n"
     ]
    }
   ],
   "source": [
    "def report_pos_or_neg():\n",
    "#positive or negative   \n",
    "\n",
    "    number = int(input(\"Please enter number: \")) \n",
    "    if number > 0:\n",
    "        print(number, \"is a positive number\")\n",
    "    elif number < 0:\n",
    "        print(number, \"is a negative number\")\n",
    "    else:\n",
    "        print(number, \"is neither positive or negative\")\n",
    "    \n",
    "report_pos_or_neg()"
   ]
  },
  {
   "cell_type": "code",
   "execution_count": 50,
   "id": "1482675c-0d2d-48de-98cf-dff888370533",
   "metadata": {
    "tags": []
   },
   "outputs": [
    {
     "name": "stdin",
     "output_type": "stream",
     "text": [
      "Please enter a traffic light colour (red, amber, green, red and amber):  dhfskj\n"
     ]
    },
    {
     "name": "stdout",
     "output_type": "stream",
     "text": [
      "That is not a traffic light colour\n"
     ]
    }
   ],
   "source": [
    "def act_on_light():\n",
    "#positive or negative   \n",
    "\n",
    "    colour = input(\"Please enter a traffic light colour (red, amber, green, red and amber): \")\n",
    "    if colour == \"red\":\n",
    "        print(\"Stop the car\")\n",
    "    elif colour == \"amber\":\n",
    "        print(\"Be ready to stop\")\n",
    "    elif colour == \"green\":\n",
    "        print(\"Continue forward\")\n",
    "    elif colour == \"red and amber\":\n",
    "        print(\"Get ready to go\")\n",
    "    else:\n",
    "        print(\"That is not a traffic light colour\")\n",
    "    \n",
    "act_on_light()"
   ]
  },
  {
   "cell_type": "code",
   "execution_count": 56,
   "id": "7e5a4b1f-2a99-41c1-a94e-3b4d253f1752",
   "metadata": {
    "tags": []
   },
   "outputs": [
    {
     "name": "stdin",
     "output_type": "stream",
     "text": [
      "What is the capital city of Scotland? edinburgh\n"
     ]
    },
    {
     "name": "stdout",
     "output_type": "stream",
     "text": [
      "You are correct, Edinburgh is the capital city\n"
     ]
    }
   ],
   "source": [
    "def check_capital():\n",
    "# dealing with capitals\n",
    "\n",
    "    capital = input(\"What is the capital city of Scotland?\")\n",
    "    if capital== \"Edinburgh\" or capital== \"edinburgh\":\n",
    "        print (\"You are correct, Edinburgh is the capital city\")\n",
    "    else:\n",
    "        print (\"No, Edinburgh is the capital city\")\n",
    "    \n",
    "check_capital()"
   ]
  },
  {
   "cell_type": "code",
   "execution_count": 60,
   "id": "377f9696-4d59-4049-9617-7082dfec8481",
   "metadata": {
    "tags": []
   },
   "outputs": [
    {
     "name": "stdin",
     "output_type": "stream",
     "text": [
      "Please,enter a first number: 45.23\n",
      "Please,enter a second number: 86.4567\n",
      "Please,enter an operator (+, -, /, *): /\n"
     ]
    },
    {
     "name": "stdout",
     "output_type": "stream",
     "text": [
      "Your answer is 0.5231520518363527\n"
     ]
    }
   ],
   "source": [
    "def calculate():\n",
    "#  calculate\n",
    "\n",
    "    n1 = float(input(\"Please,enter a first number:\"))\n",
    "    n2 = float(input(\"Please,enter a second number:\"))\n",
    "    operator = input(\"Please,enter an operator (+, -, /, *):\")\n",
    "   \n",
    "    if operator==\"+\":\n",
    "        print(\"Your answer is\",n1+n2)\n",
    "    elif operator==\"-\":\n",
    "        print(\"Your answer is\",n1-n2)\n",
    "    elif operator==\"/\":\n",
    "        print(\"Your answer is\",n1/n2)\n",
    "    elif operator==\"*\":\n",
    "        print(\"Your answer is\",n1*n2)    \n",
    "    else:\n",
    "        print(\"Invalid operator\")        \n",
    "    \n",
    "calculate()"
   ]
  },
  {
   "cell_type": "code",
   "execution_count": null,
   "id": "ded1a7c1-badc-4328-b364-389468b06666",
   "metadata": {},
   "outputs": [],
   "source": []
  }
 ],
 "metadata": {
  "kernelspec": {
   "display_name": "Python 3 (ipykernel)",
   "language": "python",
   "name": "python3"
  },
  "language_info": {
   "codemirror_mode": {
    "name": "ipython",
    "version": 3
   },
   "file_extension": ".py",
   "mimetype": "text/x-python",
   "name": "python",
   "nbconvert_exporter": "python",
   "pygments_lexer": "ipython3",
   "version": "3.11.5"
  }
 },
 "nbformat": 4,
 "nbformat_minor": 5
}
