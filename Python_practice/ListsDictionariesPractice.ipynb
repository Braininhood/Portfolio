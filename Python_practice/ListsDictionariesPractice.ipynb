{
 "cells": [
  {
   "cell_type": "code",
   "execution_count": 8,
   "id": "8e020927-f794-411c-b906-3465a6a0428f",
   "metadata": {
    "tags": []
   },
   "outputs": [
    {
     "name": "stdout",
     "output_type": "stream",
     "text": [
      "[1960, 1970, 1980, 1990, 2000]\n",
      "1960 was 63 years ago\n",
      "1970 was 53 years ago\n",
      "1980 was 43 years ago\n",
      "1990 was 33 years ago\n",
      "2000 was 23 years ago\n",
      "[1930, 1940, 1950, 1960, 1960, 1970, 1970, 1980, 1980, 1990, 1990, 2000, 2000, 2010, 2010, 2020, 2020]\n"
     ]
    }
   ],
   "source": [
    "# extending a list\n",
    "\n",
    "from datetime import datetime\n",
    "\n",
    "def calculate_years():\n",
    "    current_year = datetime.now().year\n",
    "\n",
    "    # Create a list of years\n",
    "    years = [1960, 1970, 1980, 1990, 2000]\n",
    "    print(years)\n",
    "\n",
    "    # Calculate how long ago each year was\n",
    "    for year in years:\n",
    "        years_ago = current_year - year\n",
    "        print(f\"{year} was {years_ago} years ago\")\n",
    "\n",
    "    # Extend the list with later years\n",
    "    years.extend([2010, 2020])\n",
    "\n",
    "    # Extend the list with years between 1930 and 2020\n",
    "    years3 = list(range(1930, 2021, 10))\n",
    "    years.extend(years3)\n",
    "    years.sort()\n",
    "\n",
    "    print(years)\n",
    "\n",
    "# Call the function\n",
    "calculate_years()\n"
   ]
  },
  {
   "cell_type": "code",
   "execution_count": 9,
   "id": "ef14d7c1-4fd3-49c7-a7b8-bae2f6dec279",
   "metadata": {
    "tags": []
   },
   "outputs": [
    {
     "name": "stdout",
     "output_type": "stream",
     "text": [
      "[{'assigned': 'task1'}, {'assigned': 'task2'}, {'assigned': 'task3'}, {'inprogress': 'task4'}, {'inprogress': 'task5'}, {'inprogress': 'task6'}, {'completed': 'task7'}, {'completed': 'task8'}, {'completed': 'task9'}]\n"
     ]
    }
   ],
   "source": [
    "# creating a dictionary from a tuple and three lists\n",
    "\n",
    "def create_project_board():\n",
    "    task_status = (\"assigned\", \"inprogress\", \"completed\")\n",
    "    assigned = ['task1', 'task2', 'task3']\n",
    "    inprogress = ['task4', 'task5', 'task6']\n",
    "    completed = ['task7', 'task8', 'task9']\n",
    "    \n",
    "    project_board = []\n",
    "    \n",
    "    for status in task_status:\n",
    "        tasks = eval(status)\n",
    "        for task in tasks:\n",
    "            board = {status: task}\n",
    "            project_board.append(board)\n",
    "    \n",
    "    print(project_board)\n",
    "\n",
    "\n",
    "create_project_board()"
   ]
  },
  {
   "cell_type": "code",
   "execution_count": 16,
   "id": "b1003ee0-f032-4e46-815e-101fc9dc9be2",
   "metadata": {
    "tags": []
   },
   "outputs": [
    {
     "ename": "KeyboardInterrupt",
     "evalue": "Interrupted by user",
     "output_type": "error",
     "traceback": [
      "\u001b[1;31m---------------------------------------------------------------------------\u001b[0m",
      "\u001b[1;31mKeyboardInterrupt\u001b[0m                         Traceback (most recent call last)",
      "Cell \u001b[1;32mIn[16], line 47\u001b[0m\n\u001b[0;32m     42\u001b[0m     closest_to_avg \u001b[38;5;241m=\u001b[39m [person[\u001b[38;5;124m'\u001b[39m\u001b[38;5;124mname\u001b[39m\u001b[38;5;124m'\u001b[39m] \u001b[38;5;28;01mfor\u001b[39;00m person \u001b[38;5;129;01min\u001b[39;00m people \u001b[38;5;28;01mif\u001b[39;00m \u001b[38;5;28mabs\u001b[39m(person[\u001b[38;5;124m'\u001b[39m\u001b[38;5;124mheight\u001b[39m\u001b[38;5;124m'\u001b[39m] \u001b[38;5;241m-\u001b[39m average_height) \u001b[38;5;241m==\u001b[39m \u001b[38;5;28mmin\u001b[39m([\u001b[38;5;28mabs\u001b[39m(p[\u001b[38;5;124m'\u001b[39m\u001b[38;5;124mheight\u001b[39m\u001b[38;5;124m'\u001b[39m] \u001b[38;5;241m-\u001b[39m average_height) \u001b[38;5;28;01mfor\u001b[39;00m p \u001b[38;5;129;01min\u001b[39;00m people])]\n\u001b[0;32m     44\u001b[0m     \u001b[38;5;28;01mreturn\u001b[39;00m names_sorted_by_height, tallest_person, shortest_person, average_height, closest_to_avg\n\u001b[1;32m---> 47\u001b[0m sorted_names, tallest, shortest, average, closest_to_avg \u001b[38;5;241m=\u001b[39m calculate_heights()\n\u001b[0;32m     49\u001b[0m \u001b[38;5;66;03m# Printing the results\u001b[39;00m\n\u001b[0;32m     50\u001b[0m \u001b[38;5;28mprint\u001b[39m(\u001b[38;5;124mf\u001b[39m\u001b[38;5;124m\"\u001b[39m\u001b[38;5;124mList of names from shortest to tallest: \u001b[39m\u001b[38;5;132;01m{\u001b[39;00msorted_names\u001b[38;5;132;01m}\u001b[39;00m\u001b[38;5;124m\"\u001b[39m)\n",
      "Cell \u001b[1;32mIn[16], line 7\u001b[0m, in \u001b[0;36mcalculate_heights\u001b[1;34m()\u001b[0m\n\u001b[0;32m      4\u001b[0m people \u001b[38;5;241m=\u001b[39m []\n\u001b[0;32m      6\u001b[0m \u001b[38;5;28;01mwhile\u001b[39;00m \u001b[38;5;28;01mTrue\u001b[39;00m:\n\u001b[1;32m----> 7\u001b[0m     name \u001b[38;5;241m=\u001b[39m \u001b[38;5;28minput\u001b[39m(\u001b[38;5;124m\"\u001b[39m\u001b[38;5;124mEnter the person\u001b[39m\u001b[38;5;124m'\u001b[39m\u001b[38;5;124ms name: \u001b[39m\u001b[38;5;124m\"\u001b[39m)\n\u001b[0;32m      8\u001b[0m     \u001b[38;5;28;01mif\u001b[39;00m name\u001b[38;5;241m.\u001b[39mupper() \u001b[38;5;241m==\u001b[39m \u001b[38;5;124m'\u001b[39m\u001b[38;5;124mSTOP\u001b[39m\u001b[38;5;124m'\u001b[39m:\n\u001b[0;32m      9\u001b[0m         \u001b[38;5;28;01mbreak\u001b[39;00m\n",
      "File \u001b[1;32m~\\anaconda3\\Lib\\site-packages\\ipykernel\\kernelbase.py:1202\u001b[0m, in \u001b[0;36mKernel.raw_input\u001b[1;34m(self, prompt)\u001b[0m\n\u001b[0;32m   1200\u001b[0m     msg \u001b[38;5;241m=\u001b[39m \u001b[38;5;124m\"\u001b[39m\u001b[38;5;124mraw_input was called, but this frontend does not support input requests.\u001b[39m\u001b[38;5;124m\"\u001b[39m\n\u001b[0;32m   1201\u001b[0m     \u001b[38;5;28;01mraise\u001b[39;00m StdinNotImplementedError(msg)\n\u001b[1;32m-> 1202\u001b[0m \u001b[38;5;28;01mreturn\u001b[39;00m \u001b[38;5;28mself\u001b[39m\u001b[38;5;241m.\u001b[39m_input_request(\n\u001b[0;32m   1203\u001b[0m     \u001b[38;5;28mstr\u001b[39m(prompt),\n\u001b[0;32m   1204\u001b[0m     \u001b[38;5;28mself\u001b[39m\u001b[38;5;241m.\u001b[39m_parent_ident[\u001b[38;5;124m\"\u001b[39m\u001b[38;5;124mshell\u001b[39m\u001b[38;5;124m\"\u001b[39m],\n\u001b[0;32m   1205\u001b[0m     \u001b[38;5;28mself\u001b[39m\u001b[38;5;241m.\u001b[39mget_parent(\u001b[38;5;124m\"\u001b[39m\u001b[38;5;124mshell\u001b[39m\u001b[38;5;124m\"\u001b[39m),\n\u001b[0;32m   1206\u001b[0m     password\u001b[38;5;241m=\u001b[39m\u001b[38;5;28;01mFalse\u001b[39;00m,\n\u001b[0;32m   1207\u001b[0m )\n",
      "File \u001b[1;32m~\\anaconda3\\Lib\\site-packages\\ipykernel\\kernelbase.py:1245\u001b[0m, in \u001b[0;36mKernel._input_request\u001b[1;34m(self, prompt, ident, parent, password)\u001b[0m\n\u001b[0;32m   1242\u001b[0m \u001b[38;5;28;01mexcept\u001b[39;00m \u001b[38;5;167;01mKeyboardInterrupt\u001b[39;00m:\n\u001b[0;32m   1243\u001b[0m     \u001b[38;5;66;03m# re-raise KeyboardInterrupt, to truncate traceback\u001b[39;00m\n\u001b[0;32m   1244\u001b[0m     msg \u001b[38;5;241m=\u001b[39m \u001b[38;5;124m\"\u001b[39m\u001b[38;5;124mInterrupted by user\u001b[39m\u001b[38;5;124m\"\u001b[39m\n\u001b[1;32m-> 1245\u001b[0m     \u001b[38;5;28;01mraise\u001b[39;00m \u001b[38;5;167;01mKeyboardInterrupt\u001b[39;00m(msg) \u001b[38;5;28;01mfrom\u001b[39;00m \u001b[38;5;28;01mNone\u001b[39;00m\n\u001b[0;32m   1246\u001b[0m \u001b[38;5;28;01mexcept\u001b[39;00m \u001b[38;5;167;01mException\u001b[39;00m:\n\u001b[0;32m   1247\u001b[0m     \u001b[38;5;28mself\u001b[39m\u001b[38;5;241m.\u001b[39mlog\u001b[38;5;241m.\u001b[39mwarning(\u001b[38;5;124m\"\u001b[39m\u001b[38;5;124mInvalid Message:\u001b[39m\u001b[38;5;124m\"\u001b[39m, exc_info\u001b[38;5;241m=\u001b[39m\u001b[38;5;28;01mTrue\u001b[39;00m)\n",
      "\u001b[1;31mKeyboardInterrupt\u001b[0m: Interrupted by user"
     ]
    }
   ],
   "source": [
    "# names and heights\n",
    "\n",
    "def calculate_heights():\n",
    "    people = []\n",
    "    \n",
    "    while True:\n",
    "        name = input(\"Enter the person's name: \")\n",
    "        if name.upper() == 'STOP':\n",
    "            break\n",
    "        \n",
    "        # Check for valid name input\n",
    "        if not name.isalpha():\n",
    "            print(\"Invalid name. Please enter only alphabetical characters.\")\n",
    "            continue\n",
    "        # Check for valid height input  \n",
    "        while True:\n",
    "            height_input = input(\"Enter the person's height in centimeters: \")\n",
    "            if not height_input.isdigit():\n",
    "                print(\"Invalid height. Please enter only digits.\")\n",
    "                continue\n",
    "            \n",
    "            height = float(height_input)\n",
    "            person = {'name': name, 'height': height}\n",
    "            people.append(person)\n",
    "            break\n",
    "    \n",
    "    # Sort people by height\n",
    "    sorted_people = sorted(people, key=lambda x: x['height'])\n",
    "    \n",
    "    # List of names from shortest to tallest\n",
    "    names_sorted_by_height = [person['name'] for person in sorted_people]\n",
    "    \n",
    "    # Calculating tallest and shortest person\n",
    "    tallest_person = sorted_people[-1]['name']\n",
    "    shortest_person = sorted_people[0]['name']\n",
    "    \n",
    "    # Calculating average height\n",
    "    total_height = sum([person['height'] for person in people])\n",
    "    average_height = total_height / len(people)\n",
    "    \n",
    "    # Finding person(s) closest to average height\n",
    "    closest_to_avg = [person['name'] for person in people if abs(person['height'] - average_height) == min([abs(p['height'] - average_height) for p in people])]\n",
    "    \n",
    "    return names_sorted_by_height, tallest_person, shortest_person, average_height, closest_to_avg\n",
    "\n",
    "\n",
    "sorted_names, tallest, shortest, average, closest_to_avg = calculate_heights()\n",
    "\n",
    "\n",
    "print(f\"List of names from shortest to tallest: {sorted_names}\")\n",
    "print(f\"Tallest person: {tallest}\")\n",
    "print(f\"Shortest person: {shortest}\")\n",
    "print(f\"Average height: {average}\")\n",
    "\n",
    "# check and print more 1 person closest to average height\n",
    "\n",
    "if len(closest_to_avg) == 1:\n",
    "    print(f\"Person closest to average height: {closest_to_avg[0]}\")\n",
    "else:\n",
    "    print(f\"People closest to average height: {', '.join(closest_to_avg)}\")\n",
    "\n"
   ]
  },
  {
   "cell_type": "code",
   "execution_count": null,
   "id": "d7200338-60d3-41df-ae68-c021b2d59df1",
   "metadata": {},
   "outputs": [],
   "source": []
  }
 ],
 "metadata": {
  "kernelspec": {
   "display_name": "Python 3 (ipykernel)",
   "language": "python",
   "name": "python3"
  },
  "language_info": {
   "codemirror_mode": {
    "name": "ipython",
    "version": 3
   },
   "file_extension": ".py",
   "mimetype": "text/x-python",
   "name": "python",
   "nbconvert_exporter": "python",
   "pygments_lexer": "ipython3",
   "version": "3.11.5"
  }
 },
 "nbformat": 4,
 "nbformat_minor": 5
}
