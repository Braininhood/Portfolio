{
 "cells": [
  {
   "cell_type": "code",
   "execution_count": 15,
   "id": "09e968e3-6e49-4735-9bff-da218eb0a987",
   "metadata": {},
   "outputs": [
    {
     "name": "stdout",
     "output_type": "stream",
     "text": [
      "Average exam score for females: 70.82\n",
      "Average exam score for males: 65.993\n",
      "Correlation coefficient between Reading and Math scores: 0.815\n",
      "Correlation coefficient between Reading and Writing scores: 0.957\n",
      "Correlation coefficient between Reading and Math scores (free/reduced lunch): 0.796\n",
      "Correlation coefficient between Reading and Writing scores (free/reduced lunch): 0.955\n",
      "   gender ethnicity parental_education         lunch preparation_course  \\\n",
      "0  female   group E       some college  free/reduced               none   \n",
      "1    male   group C       some college      standard          completed   \n",
      "2  female   group B   some high school  free/reduced          completed   \n",
      "3    male   group D   some high school      standard          completed   \n",
      "4  female   group C        high school  free/reduced          completed   \n",
      "\n",
      "   math_score  reading_score  writing_score  average_score  \n",
      "0          65             76             71      70.666667  \n",
      "1          75             72             69      72.000000  \n",
      "2          62             56             61      59.666667  \n",
      "3          60             60             59      59.666667  \n",
      "4          34             54             55      47.666667  \n"
     ]
    }
   ],
   "source": [
    "# Investigate, wrangle, add new data to the dataframe, filter and correlate\n",
    "\n",
    "import pandas as pd\n",
    "import numpy as np\n",
    "\n",
    "# Load the dataset\n",
    "url = \"https://raw.githubusercontent.com/lilaceri/Working-with-data-/main/Data%20Sets%20for%20code%20divisio/exams.csv\"\n",
    "df = pd.read_csv(url)\n",
    "\n",
    "# Create numpy arrays from the scores columns\n",
    "math_scores = df['math_score'].to_numpy(dtype=np.float64)\n",
    "reading_scores = df['reading_score'].to_numpy(dtype=np.float64)\n",
    "writing_scores = df['writing_score'].to_numpy(dtype=np.float64)\n",
    "\n",
    "# Calculate the average exam score\n",
    "average_scores = (math_scores + reading_scores + writing_scores) / 3\n",
    "\n",
    "# Add the new column to the dataframe\n",
    "df['average_score'] = average_scores\n",
    "\n",
    "# Filter the dataframe for females and males\n",
    "df_female = df[df['gender'] == 'female']\n",
    "df_male = df[df['gender'] == 'male']\n",
    "\n",
    "# Calculate the average of the average score column for both females and males\n",
    "average_female = df_female['average_score'].mean()\n",
    "average_male = df_male['average_score'].mean()\n",
    "\n",
    "# Print the results for females and males\n",
    "print(\"Average exam score for females:\", round(average_female,3))\n",
    "print(\"Average exam score for males:\", round(average_male,3))\n",
    "\n",
    "# Calculate Pearson correlation coefficients\n",
    "correlation_reading_math = np.corrcoef(reading_scores, math_scores)[0, 1]\n",
    "correlation_reading_writing = np.corrcoef(reading_scores, writing_scores)[0, 1]\n",
    "\n",
    "# Print correlation coefficients\n",
    "print(\"Correlation coefficient between Reading and Math scores:\", round(correlation_reading_math,3))\n",
    "print(\"Correlation coefficient between Reading and Writing scores:\", round(correlation_reading_writing,3))\n",
    "\n",
    "# Filter by free school meals\n",
    "df_free_meals = df[df['lunch'] == 'free/reduced']\n",
    "reading_free_meals = df_free_meals['reading_score'].to_numpy(dtype=np.float64)\n",
    "math_free_meals = df_free_meals['math_score'].to_numpy(dtype=np.float64)\n",
    "writing_free_meals = df_free_meals['writing_score'].to_numpy(dtype=np.float64)\n",
    "\n",
    "# Calculate correlation coefficients for students on free school meals\n",
    "correlation_reading_math_free = np.corrcoef(reading_free_meals, math_free_meals)[0, 1]\n",
    "correlation_reading_writing_free = np.corrcoef(reading_free_meals, writing_free_meals)[0, 1]\n",
    "\n",
    "# Print the results for students on free school meals\n",
    "print(\"Correlation coefficient between Reading and Math scores (free/reduced lunch):\", round(correlation_reading_math_free,3))\n",
    "print(\"Correlation coefficient between Reading and Writing scores (free/reduced lunch):\", round(correlation_reading_writing_free,3))\n",
    "\n",
    "# Display the new dataframe with the added column\n",
    "print(df.head())\n"
   ]
  },
  {
   "cell_type": "code",
   "execution_count": null,
   "id": "51158589-e56a-4fa8-8118-813c31d29b7b",
   "metadata": {},
   "outputs": [],
   "source": []
  }
 ],
 "metadata": {
  "kernelspec": {
   "display_name": "Python 3 (ipykernel)",
   "language": "python",
   "name": "python3"
  },
  "language_info": {
   "codemirror_mode": {
    "name": "ipython",
    "version": 3
   },
   "file_extension": ".py",
   "mimetype": "text/x-python",
   "name": "python",
   "nbconvert_exporter": "python",
   "pygments_lexer": "ipython3",
   "version": "3.11.5"
  },
  "widgets": {
   "application/vnd.jupyter.widget-state+json": {
    "state": {},
    "version_major": 2,
    "version_minor": 0
   }
  }
 },
 "nbformat": 4,
 "nbformat_minor": 5
}
