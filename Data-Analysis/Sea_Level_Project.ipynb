{
 "cells": [
  {
   "cell_type": "code",
   "execution_count": 1,
   "id": "9e852976-23f9-486f-8b66-f40f6a970568",
   "metadata": {},
   "outputs": [
    {
     "name": "stdout",
     "output_type": "stream",
     "text": [
      "   Year  CSIRO Adjusted Sea Level  Lower Error Bound  Upper Error Bound  \\\n",
      "0  1880                  0.000000          -0.952756           0.952756   \n",
      "1  1881                  0.220472          -0.732283           1.173228   \n",
      "2  1882                 -0.440945          -1.346457           0.464567   \n",
      "3  1883                 -0.232283          -1.129921           0.665354   \n",
      "4  1884                  0.590551          -0.283465           1.464567   \n",
      "\n",
      "   NOAA Adjusted Sea Level  \n",
      "0                      NaN  \n",
      "1                      NaN  \n",
      "2                      NaN  \n",
      "3                      NaN  \n",
      "4                      NaN  \n",
      "<class 'pandas.core.frame.DataFrame'>\n",
      "RangeIndex: 134 entries, 0 to 133\n",
      "Data columns (total 5 columns):\n",
      " #   Column                    Non-Null Count  Dtype  \n",
      "---  ------                    --------------  -----  \n",
      " 0   Year                      134 non-null    int64  \n",
      " 1   CSIRO Adjusted Sea Level  134 non-null    float64\n",
      " 2   Lower Error Bound         134 non-null    float64\n",
      " 3   Upper Error Bound         134 non-null    float64\n",
      " 4   NOAA Adjusted Sea Level   21 non-null     float64\n",
      "dtypes: float64(4), int64(1)\n",
      "memory usage: 5.4 KB\n",
      "None\n"
     ]
    }
   ],
   "source": [
    "import pandas as pd\n",
    "import numpy as np\n",
    "\n",
    "# Load the dataset\n",
    "url = 'https://raw.githubusercontent.com/freeCodeCamp/boilerplate-sea-level-predictor/master/epa-sea-level.csv'\n",
    "df = pd.read_csv(url)\n",
    "\n",
    "# Inspect the first few rows and the structure of the dataframe\n",
    "print(df.head())\n",
    "print(df.info())\n"
   ]
  },
  {
   "cell_type": "code",
   "execution_count": 3,
   "id": "1b8f738f-6d37-4892-b729-214033eaaa6a",
   "metadata": {},
   "outputs": [
    {
     "name": "stdout",
     "output_type": "stream",
     "text": [
      "Mean sea level rise: 3.65 inches\n",
      "Standard deviation of sea level rise: 2.48 inches\n",
      "Total sea level rise: 489.15 inches\n",
      "The year with the biggest rise in sea level: 2012\n",
      "The year with the lowest rise in sea level: 1882\n",
      "Pearson correlation coefficient: 0.98\n"
     ]
    }
   ],
   "source": [
    "import pandas as pd\n",
    "import numpy as np\n",
    "\n",
    "# Load the dataset\n",
    "url = 'https://raw.githubusercontent.com/freeCodeCamp/boilerplate-sea-level-predictor/master/epa-sea-level.csv'\n",
    "df = pd.read_csv(url)\n",
    "\n",
    "# Calculate statistics on the 'CSIRO Adjusted Sea Level' array\n",
    "sea_levels = df['CSIRO Adjusted Sea Level'].values\n",
    "years = df['Year'].values\n",
    "\n",
    "# Calculate mean, standard deviation, and total\n",
    "mean_sea_level = np.mean(sea_levels)\n",
    "std_dev_sea_level = np.std(sea_levels)\n",
    "total_sea_level = np.sum(sea_levels)\n",
    "\n",
    "print(f\"Mean sea level rise: {mean_sea_level:.2f} inches\")\n",
    "print(f\"Standard deviation of sea level rise: {std_dev_sea_level:.2f} inches\")\n",
    "print(f\"Total sea level rise: {total_sea_level:.2f} inches\")\n",
    "\n",
    "# Find the year with the biggest rise in level\n",
    "max_rise_year = years[np.where(sea_levels == np.max(sea_levels))[0][0]]\n",
    "\n",
    "# Find the year with the lowest rise in level\n",
    "min_rise_year = years[np.where(sea_levels == np.min(sea_levels))[0][0]]\n",
    "\n",
    "print(f\"The year with the biggest rise in sea level: {max_rise_year}\")\n",
    "print(f\"The year with the lowest rise in sea level: {min_rise_year}\")\n",
    "\n",
    "# Calculate the Pearson product-moment correlation coefficient between year and sea level rise\n",
    "correlation_coefficient = np.corrcoef(years, sea_levels)[0, 1]\n",
    "\n",
    "print(f\"Pearson correlation coefficient: {correlation_coefficient:.2f}\")\n"
   ]
  },
  {
   "cell_type": "code",
   "execution_count": null,
   "id": "5c6160fc-3f1f-43c6-977c-0001df9c95c5",
   "metadata": {},
   "outputs": [],
   "source": []
  }
 ],
 "metadata": {
  "kernelspec": {
   "display_name": "Python 3 (ipykernel)",
   "language": "python",
   "name": "python3"
  },
  "language_info": {
   "codemirror_mode": {
    "name": "ipython",
    "version": 3
   },
   "file_extension": ".py",
   "mimetype": "text/x-python",
   "name": "python",
   "nbconvert_exporter": "python",
   "pygments_lexer": "ipython3",
   "version": "3.12.4"
  }
 },
 "nbformat": 4,
 "nbformat_minor": 5
}
