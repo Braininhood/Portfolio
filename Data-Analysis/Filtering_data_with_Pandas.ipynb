{
 "cells": [
  {
   "cell_type": "code",
   "execution_count": 5,
   "id": "6b5a8c4b-15d4-4e25-b3c4-f2ed54d8b749",
   "metadata": {
    "scrolled": true
   },
   "outputs": [
    {
     "name": "stdout",
     "output_type": "stream",
     "text": [
      "Skill Migration DataFrame Summary:\n",
      "<class 'pandas.core.frame.DataFrame'>\n",
      "RangeIndex: 17617 entries, 0 to 17616\n",
      "Data columns (total 12 columns):\n",
      " #   Column                Non-Null Count  Dtype  \n",
      "---  ------                --------------  -----  \n",
      " 0   country_code          17617 non-null  object \n",
      " 1   country_name          17617 non-null  object \n",
      " 2   wb_income             17617 non-null  object \n",
      " 3   wb_region             17617 non-null  object \n",
      " 4   skill_group_id        17617 non-null  int64  \n",
      " 5   skill_group_category  17617 non-null  object \n",
      " 6   skill_group_name      17617 non-null  object \n",
      " 7   net_per_10K_2015      17617 non-null  float64\n",
      " 8   net_per_10K_2016      17617 non-null  float64\n",
      " 9   net_per_10K_2017      17617 non-null  float64\n",
      " 10  net_per_10K_2018      17617 non-null  float64\n",
      " 11  net_per_10K_2019      17617 non-null  float64\n",
      "dtypes: float64(5), int64(1), object(6)\n",
      "memory usage: 1.6+ MB\n",
      "None\n",
      "\n",
      "Test passed!\n",
      "Expected: 8904\n",
      "Actual: 8904\n"
     ]
    }
   ],
   "source": [
    "# Exercise 1 \n",
    "\n",
    "import pandas as pd\n",
    "\n",
    "# Load the DataFrames\n",
    "skill_migration = pd.read_excel('https://github.com/futureCodersSE/working-with-data/blob/main/Data%20sets/public_use-talent-migration.xlsx?raw=true', sheet_name=\"Skill Migration\" )\n",
    "industry_migration = pd.read_excel('https://github.com/futureCodersSE/working-with-data/blob/main/Data%20sets/public_use-talent-migration.xlsx?raw=true', sheet_name=\"Industry Migration\" )\n",
    "country_migration = pd.read_excel('https://github.com/futureCodersSE/working-with-data/blob/main/Data%20sets/public_use-talent-migration.xlsx?raw=true', sheet_name=\"Country Migration\" )\n",
    "\n",
    "def get_summary(df):\n",
    "    print(df.info())\n",
    "\n",
    "# Display summaries to check the DataFrames\n",
    "print(\"Skill Migration DataFrame Summary:\")\n",
    "get_summary(skill_migration)\n",
    "print(\"\\nIndustry Migration DataFrame Summary:\")\n",
    "get_summary(industry_migration)\n",
    "print(\"\\nCountry Migration DataFrame Summary:\")\n",
    "get_summary(country_migration)\n",
    "\n",
    "def filter_income(df):\n",
    "    # Filter for rows where wb_income contains \"High income\"\n",
    "    high_income_df = df[df['wb_income'] == 'High income']\n",
    "    # Return the number of rows in the filtered DataFrame\n",
    "    return len(high_income_df)\n",
    "\n",
    "# Test the filter_income function\n",
    "actual = filter_income(skill_migration)\n",
    "expected = 8904\n",
    "\n",
    "if actual == expected:\n",
    "    print(\"\\nTest passed!\\nExpected: {}\\nActual: {}\".format(expected, actual))\n",
    "else:\n",
    "    print(\"\\nTest failed!\\nExpected: {}\\nActual: {}\".format(expected, actual))\n",
    "\n"
   ]
  },
  {
   "cell_type": "code",
   "execution_count": 7,
   "id": "f928beaf-322d-41ef-bbea-4482c058259e",
   "metadata": {},
   "outputs": [
    {
     "name": "stdout",
     "output_type": "stream",
     "text": [
      "Test 1 passed!\n",
      "Expected: Australia\n",
      "Actual: Australia\n",
      "\n",
      "Test 2 passed!\n",
      "Expected: Australia\n",
      "Actual: Australia\n",
      "\n",
      "Test 3 passed!\n",
      "Expected: United Kingdom\n",
      "Actual: United Kingdom\n",
      "\n"
     ]
    }
   ],
   "source": [
    "# Exercise 2\n",
    "\n",
    "import pandas as pd\n",
    "\n",
    "# Load the DataFrame\n",
    "skill_migration = pd.read_excel('https://github.com/futureCodersSE/working-with-data/blob/main/Data%20sets/public_use-talent-migration.xlsx?raw=true', sheet_name=\"Skill Migration\")\n",
    "\n",
    "def filter_skills(df, skill):\n",
    "    # Filter for rows where skill_group_category equals the given skill\n",
    "    filtered_df = df[df['skill_group_category'] == skill]\n",
    "    \n",
    "    # Find the most common country in the country_name column\n",
    "    most_common_country = filtered_df['country_name'].mode()[0]\n",
    "    \n",
    "    return most_common_country,\n",
    "\n",
    "# Run tests to check if you are getting the most frequent country name\n",
    "tests = [\n",
    "    { \"id\": 1, \"actual\": filter_skills(skill_migration, \"Tech Skills\")[0], \"expected\": \"Australia\" },\n",
    "    { \"id\": 2, \"actual\": filter_skills(skill_migration, \"Business Skills\")[0], \"expected\": \"Australia\" },\n",
    "    { \"id\": 3, \"actual\": filter_skills(skill_migration, \"Specialized Industry Skills\")[0], \"expected\": \"United Kingdom\" }\n",
    "]\n",
    "\n",
    "for test in tests:\n",
    "    if test[\"actual\"] == test[\"expected\"]:\n",
    "        print(\"Test {} passed!\\nExpected: {}\\nActual: {}\\n\".format(test[\"id\"], test[\"expected\"], test[\"actual\"]))\n",
    "    else:\n",
    "        print(\"Test {} failed!\\nExpected: {}\\nActual: {}\\n\".format(test[\"id\"], test[\"expected\"], test[\"actual\"]))\n"
   ]
  },
  {
   "cell_type": "code",
   "execution_count": 9,
   "id": "0cdc8635-d7f8-44ac-8b05-dacec3df21e9",
   "metadata": {},
   "outputs": [
    {
     "name": "stdout",
     "output_type": "stream",
     "text": [
      "Test passed!\n",
      "Expected: 14550 & 5\n",
      "Actual: 14550 & 5\n"
     ]
    }
   ],
   "source": [
    "# Exercise 3\n",
    "\n",
    "import pandas as pd\n",
    "\n",
    "# Load the DataFrame\n",
    "skill_migration = pd.read_excel('https://github.com/futureCodersSE/working-with-data/blob/main/Data%20sets/public_use-talent-migration.xlsx?raw=true', sheet_name=\"Skill Migration\")\n",
    "\n",
    "def filter_skill_id(df):\n",
    "    # Filter for rows where skill_group_id is 2265 and net_per_10K_2019 is greater than -500\n",
    "    filtered_df = df[(df['skill_group_id'] == 2265) & (df['net_per_10K_2019'] > -500)]\n",
    "    \n",
    "    # Sort the rows in ascending order based on net_per_10K_2019\n",
    "    sorted_df = filtered_df.sort_values(by='net_per_10K_2019', ascending=True)\n",
    "    \n",
    "    # Return the first 5 rows\n",
    "    return sorted_df.head(5)\n",
    "\n",
    "# Run the test to check if you are getting the correct first row and only returning 5 items\n",
    "filtered_df = filter_skill_id(skill_migration)\n",
    "actual1 = filtered_df.index[0]\n",
    "expected1 = 14550\n",
    "actual2 = len(filtered_df)\n",
    "expected2 = 5\n",
    "\n",
    "if actual1 == expected1 and actual2 == expected2:\n",
    "    print(\"Test passed!\\nExpected: {} & {}\\nActual: {} & {}\".format(expected1, expected2, actual1, actual2))\n",
    "else:\n",
    "    print(\"Test failed!\\nExpected: {} & {}\\nActual: {} & {}\".format(expected1, expected2, actual1, actual2))\n"
   ]
  },
  {
   "cell_type": "code",
   "execution_count": 11,
   "id": "2f4d8f3d-6e15-4976-9900-960768fc1d24",
   "metadata": {},
   "outputs": [
    {
     "name": "stdout",
     "output_type": "stream",
     "text": [
      "Test 1 passed!\n",
      "Expected: 4148\n",
      "Actual: 4148\n",
      "\n",
      "Test 2 passed!\n",
      "Expected: 1980\n",
      "Actual: 1980\n",
      "\n",
      "Test 3 passed!\n",
      "Expected: 0\n",
      "Actual: 0\n",
      "\n"
     ]
    }
   ],
   "source": [
    "# Exercise 4\n",
    "\n",
    "import pandas as pd\n",
    "\n",
    "# Load the DataFrame\n",
    "country_migration = pd.read_excel('https://github.com/futureCodersSE/working-with-data/blob/main/Data%20sets/public_use-talent-migration.xlsx?raw=true', sheet_name=\"Country Migration\")\n",
    "\n",
    "def filter_net_per_10k(df, amount):\n",
    "    # Filter for rows where net_per_10K_2019 is less than the `amount` parameter\n",
    "    filtered_df = df[df['net_per_10K_2019'] < amount]\n",
    "    \n",
    "    # Return the number of rows in the filtered DataFrame\n",
    "    return len(filtered_df)\n",
    "\n",
    "# Run tests to check if you are getting the correct number of rows\n",
    "tests = [\n",
    "    { \"id\": 1, \"actual\": filter_net_per_10k(country_migration, 100), \"expected\": 4148 },\n",
    "    { \"id\": 2, \"actual\": filter_net_per_10k(country_migration, 0), \"expected\": 1980 },\n",
    "    { \"id\": 3, \"actual\": filter_net_per_10k(country_migration, -100), \"expected\": 0 }\n",
    "]\n",
    "\n",
    "for test in tests:\n",
    "    if test[\"actual\"] == test[\"expected\"]:\n",
    "        print(\"Test {} passed!\\nExpected: {}\\nActual: {}\\n\".format(test[\"id\"], test[\"expected\"], test[\"actual\"]))\n",
    "    else:\n",
    "        print(\"Test {} failed!\\nExpected: {}\\nActual: {}\\n\".format(test[\"id\"], test[\"expected\"], test[\"actual\"]))\n"
   ]
  },
  {
   "cell_type": "code",
   "execution_count": 14,
   "id": "4fc21325-8aa0-4ffb-aa39-7d5ae68af4d1",
   "metadata": {},
   "outputs": [
    {
     "name": "stdout",
     "output_type": "stream",
     "text": [
      "Test passed!\n",
      "Expected: 3\n",
      "Actual: 3\n"
     ]
    }
   ],
   "source": [
    "# Exercise 5 \n",
    "\n",
    "import pandas as pd\n",
    "\n",
    "# Load the DataFrame\n",
    "country_migration = pd.read_excel(\n",
    "    'https://github.com/futureCodersSE/working-with-data/blob/main/Data%20sets/public_use-talent-migration.xlsx?raw=true', \n",
    "    sheet_name=\"Country Migration\"\n",
    ")\n",
    "\n",
    "def filter_two_net(df):\n",
    "    # Filter for rows where both net_per_10K_2015 and net_per_10K_2016 are greater than 50\n",
    "    filtered_df = df[(df['net_per_10K_2015'] > 50) & (df['net_per_10K_2016'] > 50)]\n",
    "    \n",
    "    # Return the number of rows in the filtered DataFrame\n",
    "    return len(filtered_df)\n",
    "\n",
    "# Run test to check if you are getting the correct number of rows\n",
    "actual = filter_two_net(country_migration)\n",
    "expected = 3\n",
    "\n",
    "if actual == expected:\n",
    "    print(\"Test passed!\\nExpected: {}\\nActual: {}\".format(expected, actual))\n",
    "else:\n",
    "    print(\"Test failed!\\nExpected: {}\\nActual: {}\".format(expected, actual))\n",
    "\n"
   ]
  },
  {
   "cell_type": "code",
   "execution_count": 22,
   "id": "0270e771-c221-4a3a-b9e9-c4518b543342",
   "metadata": {},
   "outputs": [
    {
     "name": "stdout",
     "output_type": "stream",
     "text": [
      "Test passed!\n",
      "Expected: 0\n",
      "Actual: 0\n"
     ]
    }
   ],
   "source": [
    "# Exercise 6\n",
    "\n",
    "import pandas as pd\n",
    "\n",
    "# Load the DataFrame\n",
    "country_migration = pd.read_excel('https://github.com/futureCodersSE/working-with-data/blob/main/Data%20sets/public_use-talent-migration.xlsx?raw=true', sheet_name=\"Country Migration\")\n",
    "\n",
    "def filter_two_income(df):\n",
    "    # Filter for migrations from Low Income to Upper Middle Income and within the same region\n",
    "    filtered_df = df[\n",
    "        (df['base_country_wb_income'] == 'Low income') &\n",
    "        (df['target_country_wb_income'] == 'Upper middle income') &\n",
    "        (df['base_country_wb_region'] == df['target_country_wb_region'])\n",
    "    ]\n",
    "    \n",
    "    # Display the number of rows\n",
    "    return len(filtered_df)\n",
    "\n",
    "# Run test to check if you are getting the correct number of rows\n",
    "actual = filter_two_income(country_migration)\n",
    "expected = 0\n",
    "\n",
    "if actual == expected:\n",
    "    print(\"Test passed!\\nExpected: {}\\nActual: {}\".format(expected, actual))\n",
    "else:\n",
    "    print(\"Test failed!\\nExpected: {}\\nActual: {}\".format(expected, actual))\n"
   ]
  },
  {
   "cell_type": "code",
   "execution_count": 24,
   "id": "f5170f9b-10f7-4488-bcca-7019bf4cf88c",
   "metadata": {},
   "outputs": [
    {
     "name": "stdout",
     "output_type": "stream",
     "text": [
      "Test passed!\n",
      "Expected: 32\n",
      "Actual: 32\n"
     ]
    }
   ],
   "source": [
    "# Exercise 7\n",
    "\n",
    "import pandas as pd\n",
    "\n",
    "# Load the DataFrame\n",
    "industry_migration = pd.read_excel('https://github.com/futureCodersSE/working-with-data/blob/main/Data%20sets/public_use-talent-migration.xlsx?raw=true', sheet_name=\"Industry Migration\")\n",
    "\n",
    "def filter_industry(df):\n",
    "    # Filter for rows where isic_section_index is 'M' and industry_name is 'Biotechnology'\n",
    "    filtered_df = df[\n",
    "        (df['isic_section_index'] == 'M') &\n",
    "        (df['industry_name'] == 'Biotechnology')\n",
    "    ]\n",
    "    \n",
    "    # Return the number of rows in the filtered DataFrame\n",
    "    return len(filtered_df)\n",
    "\n",
    "# Run test to check if you are getting the correct number of rows\n",
    "actual = filter_industry(industry_migration)\n",
    "expected = 32\n",
    "\n",
    "if actual == expected:\n",
    "    print(\"Test passed!\\nExpected: {}\\nActual: {}\".format(expected, actual))\n",
    "else:\n",
    "    print(\"Test failed!\\nExpected: {}\\nActual: {}\".format(expected, actual))\n"
   ]
  },
  {
   "cell_type": "code",
   "execution_count": 26,
   "id": "eaea7b03-fd1a-4310-aae7-f407cc56f7fc",
   "metadata": {},
   "outputs": [
    {
     "name": "stdout",
     "output_type": "stream",
     "text": [
      "Test passed!\n",
      "Expected: 3699 & 1\n",
      "Actual: 3699 & 1\n"
     ]
    }
   ],
   "source": [
    "# Exercise 8\n",
    "\n",
    "import pandas as pd\n",
    "\n",
    "# Load the DataFrame\n",
    "industry_migration = pd.read_excel('https://github.com/futureCodersSE/working-with-data/blob/main/Data%20sets/public_use-talent-migration.xlsx?raw=true', sheet_name=\"Industry Migration\")\n",
    "\n",
    "def filter_industry_income(df):\n",
    "    # Filter for rows where industry_name is 'Computer Software' and wb_income is 'Low income'\n",
    "    filtered_df = df[\n",
    "        (df['industry_name'] == 'Computer Software') &\n",
    "        (df['wb_income'] == 'Low income')\n",
    "    ]\n",
    "    \n",
    "    # Return the filtered DataFrame\n",
    "    return filtered_df\n",
    "\n",
    "# Run test to check if you are getting the correct first row and only returning 1 item\n",
    "filtered_df = filter_industry_income(industry_migration)\n",
    "actual1 = filtered_df.index[0] if not filtered_df.empty else None\n",
    "expected1 = 3699\n",
    "actual2 = len(filtered_df)\n",
    "expected2 = 1\n",
    "\n",
    "if actual1 == expected1 and actual2 == expected2:\n",
    "    print(\"Test passed!\\nExpected: {} & {}\\nActual: {} & {}\".format(expected1, expected2, actual1, actual2))\n",
    "else:\n",
    "    print(\"Test failed!\\nExpected: {} & {}\\nActual: {} & {}\".format(expected1, expected2, actual1, actual2))\n"
   ]
  },
  {
   "cell_type": "code",
   "execution_count": 30,
   "id": "b5d93bd0-a1f0-4c38-b114-4a0780ee468f",
   "metadata": {},
   "outputs": [
    {
     "name": "stdout",
     "output_type": "stream",
     "text": [
      "Test passed!\n",
      "Expected: 47.28\n",
      "Actual: 47.28\n"
     ]
    }
   ],
   "source": [
    "# Exercise 9\n",
    "\n",
    "import pandas as pd\n",
    "\n",
    "# Load the DataFrame\n",
    "industry_migration = pd.read_excel('https://github.com/futureCodersSE/working-with-data/blob/main/Data%20sets/public_use-talent-migration.xlsx?raw=true',sheet_name=\"Industry Migration\")\n",
    "\n",
    "def filter_country(df):\n",
    "    # Filter for rows where country_name is 'United States' or 'United Kingdom' and isic_section_index is 'M'\n",
    "    filtered_df = df[\n",
    "        ((df['country_name'] == 'United States') | (df['country_name'] == 'United Kingdom')) &\n",
    "        (df['isic_section_index'] == 'M')\n",
    "    ]\n",
    "    \n",
    "    # Calculate the average of net_per_10K_2015\n",
    "    average = filtered_df['net_per_10K_2015'].mean()\n",
    "    \n",
    "    # Return the average\n",
    "    return average\n",
    "\n",
    "# Run test to check if you are getting the correct average\n",
    "actual = round(filter_country(industry_migration), 2)\n",
    "expected = 47.28\n",
    "\n",
    "if actual == expected:\n",
    "    print(\"Test passed!\\nExpected: {}\\nActual: {}\".format(expected, actual))\n",
    "else:\n",
    "    print(\"Test failed!\\nExpected: {}\\nActual: {}\".format(expected, actual))\n"
   ]
  },
  {
   "cell_type": "code",
   "execution_count": 32,
   "id": "6671bfc7-db04-4769-a160-274027a20ece",
   "metadata": {},
   "outputs": [
    {
     "name": "stdout",
     "output_type": "stream",
     "text": [
      "Test failed!\n",
      "Expected: 432\n",
      "Actual: 0\n"
     ]
    }
   ],
   "source": [
    "# Exercise 10\n",
    "\n",
    "import pandas as pd\n",
    "\n",
    "# Load the DataFrame\n",
    "country_migration = pd.read_excel('https://github.com/futureCodersSE/working-with-data/blob/main/Data%20sets/public_use-talent-migration.xlsx?raw=true', sheet_name=\"Country Migration\")\n",
    "\n",
    "def filter_migrations(df, region):\n",
    "    # Filter for rows where base_country_wb_region matches the given region\n",
    "    # and target_country_wb_income is either 'Upper middle income' or 'High income'\n",
    "    filtered_df = df[\n",
    "        (df['base_country_wb_region'] == region) &\n",
    "        (df['target_country_wb_income'].isin(['Upper middle income', 'High income']))\n",
    "    ]\n",
    "    \n",
    "    # Return the number of rows in the filtered DataFrame\n",
    "    return len(filtered_df)\n",
    "\n",
    "# Run test to check if you are getting the correct number of rows\n",
    "actual = filter_migrations(country_migration, \"Middle East & North Africa\")\n",
    "expected = 432\n",
    "\n",
    "if actual == expected:\n",
    "    print(\"Test passed!\\nExpected: {}\\nActual: {}\".format(expected, actual))\n",
    "else:\n",
    "    print(\"Test failed!\\nExpected: {}\\nActual: {}\".format(expected, actual))\n"
   ]
  },
  {
   "cell_type": "code",
   "execution_count": null,
   "id": "057a4aee-6e1b-479f-be2d-178a807ab735",
   "metadata": {},
   "outputs": [],
   "source": []
  }
 ],
 "metadata": {
  "kernelspec": {
   "display_name": "Python 3 (ipykernel)",
   "language": "python",
   "name": "python3"
  },
  "language_info": {
   "codemirror_mode": {
    "name": "ipython",
    "version": 3
   },
   "file_extension": ".py",
   "mimetype": "text/x-python",
   "name": "python",
   "nbconvert_exporter": "python",
   "pygments_lexer": "ipython3",
   "version": "3.11.5"
  },
  "widgets": {
   "application/vnd.jupyter.widget-state+json": {
    "state": {},
    "version_major": 2,
    "version_minor": 0
   }
  }
 },
 "nbformat": 4,
 "nbformat_minor": 5
}
