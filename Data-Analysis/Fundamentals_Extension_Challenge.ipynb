{
 "cells": [
  {
   "cell_type": "code",
   "execution_count": 3,
   "id": "2efe12ed-f62d-45e9-9bbe-a25033e95cff",
   "metadata": {},
   "outputs": [
    {
     "name": "stdin",
     "output_type": "stream",
     "text": [
      "Do you want to encrypt or decrypt? (e/d):  d\n",
      "Enter the message:  hello\n",
      "Enter the key (a number):  6\n"
     ]
    },
    {
     "name": "stdout",
     "output_type": "stream",
     "text": [
      "Decrypted message: byffi\n"
     ]
    }
   ],
   "source": [
    "# Fundamentals_Extension_Challenge\n",
    "\n",
    "def encrypt(message, key):\n",
    "    result = []\n",
    "    for char in message:\n",
    "        if char.isalpha():\n",
    "            shift = key % 26\n",
    "            base = 'A' if char.isupper() else 'a'\n",
    "            shifted = chr((ord(char) - ord(base) + shift) % 26 + ord(base))\n",
    "            result.append(shifted)\n",
    "        elif char == ' ':\n",
    "            result.append('#')\n",
    "        else:\n",
    "            result.append(char)\n",
    "    return ''.join(result)\n",
    "\n",
    "def decrypt(message, key):\n",
    "    result = []\n",
    "    for char in message:\n",
    "        if char.isalpha():\n",
    "            shift = key % 26\n",
    "            base = 'A' if char.isupper() else 'a'\n",
    "            shifted = chr((ord(char) - ord(base) - shift) % 26 + ord(base))\n",
    "            result.append(shifted)\n",
    "        elif char == '#':\n",
    "            result.append(' ')\n",
    "        else:\n",
    "            result.append(char)\n",
    "    return ''.join(result)\n",
    "\n",
    "def main():\n",
    "    action = input(\"Do you want to encrypt or decrypt? (e/d): \").strip().lower()\n",
    "    if action not in ('e', 'd'):\n",
    "        print(\"Invalid choice. Please select 'e' for encrypt or 'd' for decrypt.\")\n",
    "        return\n",
    "\n",
    "    message = input(\"Enter the message: \").strip()\n",
    "    try:\n",
    "        key = int(input(\"Enter the key (a number): \").strip())\n",
    "    except ValueError:\n",
    "        print(\"Invalid key. Please enter a numeric value.\")\n",
    "        return\n",
    "\n",
    "    if action == 'e':\n",
    "        encrypted_message = encrypt(message, key)\n",
    "        print(f\"Encrypted message: {encrypted_message}\")\n",
    "    elif action == 'd':\n",
    "        decrypted_message = decrypt(message, key)\n",
    "        print(f\"Decrypted message: {decrypted_message}\")\n",
    "\n",
    "if __name__ == \"__main__\":\n",
    "    main()\n"
   ]
  },
  {
   "cell_type": "code",
   "execution_count": null,
   "id": "b3089704-6920-414a-944b-7fc9568ea3bc",
   "metadata": {},
   "outputs": [],
   "source": []
  }
 ],
 "metadata": {
  "kernelspec": {
   "display_name": "Python 3 (ipykernel)",
   "language": "python",
   "name": "python3"
  },
  "language_info": {
   "codemirror_mode": {
    "name": "ipython",
    "version": 3
   },
   "file_extension": ".py",
   "mimetype": "text/x-python",
   "name": "python",
   "nbconvert_exporter": "python",
   "pygments_lexer": "ipython3",
   "version": "3.12.4"
  }
 },
 "nbformat": 4,
 "nbformat_minor": 5
}
