{
 "cells": [
  {
   "cell_type": "code",
   "execution_count": 1,
   "id": "17e4803b-645f-4b6d-bce4-ec6dab07eaf5",
   "metadata": {},
   "outputs": [
    {
     "name": "stdout",
     "output_type": "stream",
     "text": [
      "[ 1  2  3  4  5  6  7  8  9 10]\n"
     ]
    }
   ],
   "source": [
    "# Exercise 1 - create a new numpy array to hold the numbers from 1 to 100\n",
    "\n",
    "import numpy as np\n",
    "\n",
    "def make_array():\n",
    "    # Create a list of the numbers 1 to 10\n",
    "    num_list = list(range(1, 11))\n",
    "    \n",
    "    # Create a new numpy array from that list\n",
    "    new_array = np.array(num_list)\n",
    "    \n",
    "    # Print new_array\n",
    "    print(new_array)\n",
    "\n",
    "# Run and test the function against the expected output\n",
    "make_array()\n"
   ]
  },
  {
   "cell_type": "code",
   "execution_count": 7,
   "id": "13810a6f-c6b1-4571-b355-4d28cdf40e92",
   "metadata": {},
   "outputs": [
    {
     "name": "stdout",
     "output_type": "stream",
     "text": [
      "[31112 32321 24567   456   324   789]\n"
     ]
    }
   ],
   "source": [
    "# Exercise 2 - create list of smallish numbers\n",
    "\n",
    "import numpy as np\n",
    "\n",
    "def create_new_array(num_list):\n",
    "    # Create a new numpy array from num_list with data type int16\n",
    "    new_array = np.array(num_list, dtype=np.int16)\n",
    "    \n",
    "    # Print new_array\n",
    "    print(new_array)\n",
    "\n",
    "# Run and test the function against the expected output\n",
    "create_new_array([31112, 32321, 24567, 456, 324, 789])\n"
   ]
  },
  {
   "cell_type": "code",
   "execution_count": 9,
   "id": "c72ba5cc-608c-48a5-a43e-10cd1493d57e",
   "metadata": {
    "scrolled": true
   },
   "outputs": [
    {
     "name": "stdout",
     "output_type": "stream",
     "text": [
      "[  7.25    71.2833   7.925   53.1      8.05     8.4583  51.8625  21.075\n",
      "  11.1333  30.0708  16.7     26.55     8.05    31.275    7.8542  16.\n",
      "  29.125   13.      18.       7.225   26.      13.       8.0292  35.5\n",
      "  21.075   31.3875   7.225  263.       7.8792   7.8958  27.7208 146.5208\n",
      "   7.75    10.5     82.1708  52.       7.2292   8.05    18.      11.2417\n",
      "   9.475   21.       7.8958  41.5792   7.8792   8.05    15.5      7.75\n",
      "  21.6792  17.8     39.6875   7.8     76.7292  26.      61.9792  35.5\n",
      "  10.5      7.2292  27.75    46.9      7.2292  80.      83.475   27.9\n",
      "  27.7208  15.2458  10.5      8.1583   7.925    8.6625  10.5     46.9\n",
      "  73.5     14.4542  56.4958   7.65     7.8958   8.05    29.      12.475\n",
      "   9.       9.5      7.7875  47.1     10.5     15.85    34.375    8.05\n",
      " 263.       8.05     8.05     7.8542  61.175   20.575    7.25     8.05\n",
      "  34.6542  63.3583  23.      26.       7.8958   7.8958  77.2875   8.6542\n",
      "   7.925    7.8958   7.65     7.775    7.8958  24.15    52.      14.4542\n",
      "   8.05     9.825   14.4583   7.925    7.75    21.     247.5208  31.275\n",
      "  73.5      8.05    30.0708  13.      77.2875  11.2417   7.75     7.1417\n",
      "  22.3583   6.975    7.8958   7.05    14.5     26.      13.      15.0458\n",
      "  26.2833  53.1      9.2167  79.2     15.2458   7.75    15.85     6.75\n",
      "  11.5     36.75     7.7958  34.375   26.      13.      12.525   66.6\n",
      "   8.05    14.5      7.3125  61.3792   7.7333   8.05     8.6625  69.55\n",
      "  16.1     15.75     7.775    8.6625  39.6875  20.525   55.      27.9\n",
      "  25.925   56.4958  33.5     29.125   11.1333   7.925   30.6958   7.8542\n",
      "  25.4667  28.7125  13.       0.      69.55    15.05    31.3875  39.\n",
      "  22.025   50.      15.5     26.55    15.5      7.8958  13.      13.\n",
      "   7.8542  26.      27.7208 146.5208   7.75     8.4042   7.75    13.\n",
      "   9.5     69.55     6.4958   7.225    8.05    10.4625  15.85    18.7875\n",
      "   7.75    31.       7.05    21.       7.25    13.       7.75   113.275\n",
      "   7.925   27.      76.2917  10.5      8.05    13.       8.05     7.8958\n",
      "  90.       9.35    10.5      7.25    13.      25.4667  83.475    7.775\n",
      "  13.5     31.3875  10.5      7.55    26.      26.25    10.5     12.275\n",
      "  14.4542  15.5     10.5      7.125    7.225   90.       7.775   14.5\n",
      "  52.5542  26.       7.25    10.4625  26.55    16.1     20.2125  15.2458\n",
      "  79.2     86.5    512.3292  26.       7.75    31.3875  79.65     0.\n",
      "   7.75    10.5     39.6875   7.775  153.4625 135.6333  31.       0.\n",
      "  19.5     29.7      7.75    77.9583   7.75     0.      29.125   20.25\n",
      "   7.75     7.8542   9.5      8.05    26.       8.6625   9.5      7.8958\n",
      "  13.       7.75    78.85    91.0792  12.875    8.85     7.8958  27.7208\n",
      "   7.2292 151.55    30.5    247.5208   7.75    23.25     0.      12.35\n",
      "   8.05   151.55   110.8833 108.9     24.      56.9292  83.1583 262.375\n",
      "  26.       7.8958  26.25     7.8542  26.      14.     164.8667 134.5\n",
      "   7.25     7.8958  12.35    29.      69.55   135.6333   6.2375  13.\n",
      "  20.525   57.9792  23.25    28.5    153.4625  18.     133.65     7.8958\n",
      "  66.6    134.5      8.05    35.5     26.     263.      13.      13.\n",
      "  13.      13.      13.      16.1     15.9      8.6625   9.225   35.\n",
      "   7.2292  17.8      7.225    9.5     55.      13.       7.8792   7.8792\n",
      "  27.9     27.7208  14.4542   7.05    15.5      7.25    75.25     7.2292\n",
      "   7.75    69.3     55.4417   6.4958   8.05   135.6333  21.075   82.1708\n",
      "   7.25   211.5      4.0125   7.775  227.525   15.7417   7.925   52.\n",
      "   7.8958  73.5     46.9     13.       7.7292  12.     120.       7.7958\n",
      "   7.925  113.275   16.7      7.7958   7.8542  26.      10.5     12.65\n",
      "   7.925    8.05     9.825   15.85     8.6625  21.       7.75    18.75\n",
      "   7.775   25.4667   7.8958   6.8583  90.       0.       7.925    8.05\n",
      "  32.5     13.      13.      24.15     7.8958   7.7333   7.875   14.4\n",
      "  20.2125   7.25    26.      26.       7.75     8.05    26.55    16.1\n",
      "  26.       7.125   55.9    120.      34.375   18.75   263.      10.5\n",
      "  26.25     9.5      7.775   13.       8.1125  81.8583  19.5     26.55\n",
      "  19.2583  30.5     27.75    19.9667  27.75    89.1042   8.05     7.8958\n",
      "  26.55    51.8625  10.5      7.75    26.55     8.05    38.5     13.\n",
      "   8.05     7.05     0.      26.55     7.725   19.2583   7.25     8.6625\n",
      "  27.75    13.7917   9.8375  52.      21.       7.0458   7.5208  12.2875\n",
      "  46.9      0.       8.05     9.5875  91.0792  25.4667  90.      29.7\n",
      "   8.05    15.9     19.9667   7.25    30.5     49.5042   8.05    14.4583\n",
      "  78.2667  15.1    151.55     7.7958   8.6625   7.75     7.6292   9.5875\n",
      "  86.5    108.9     26.      26.55    22.525   56.4958   7.75     8.05\n",
      "  26.2875  59.4      7.4958  34.0208  10.5     24.15    26.       7.8958\n",
      "  93.5      7.8958   7.225   57.9792   7.2292   7.75    10.5    221.7792\n",
      "   7.925   11.5     26.       7.2292   7.2292  22.3583   8.6625  26.25\n",
      "  26.55   106.425   14.5     49.5     71.      31.275   31.275   26.\n",
      " 106.425   26.      26.      13.8625  20.525   36.75   110.8833  26.\n",
      "   7.8292   7.225    7.775   26.55    39.6    227.525   79.65    17.4\n",
      "   7.75     7.8958  13.5      8.05     8.05    24.15     7.8958  21.075\n",
      "   7.2292   7.8542  10.5     51.4792  26.3875   7.75     8.05    14.5\n",
      "  13.      55.9     14.4583   7.925   30.     110.8833  26.      40.125\n",
      "   8.7125  79.65    15.      79.2      8.05     8.05     7.125   78.2667\n",
      "   7.25     7.75    26.      24.15    33.       0.       7.225   56.9292\n",
      "  27.       7.8958  42.4      8.05    26.55    15.55     7.8958  30.5\n",
      "  41.5792 153.4625  31.275    7.05    15.5      7.75     8.05    65.\n",
      "  14.4     16.1     39.      10.5     14.4542  52.5542  15.7417   7.8542\n",
      "  16.1     32.3208  12.35    77.9583   7.8958   7.7333  30.       7.0542\n",
      "  30.5      0.      27.9     13.       7.925   26.25    39.6875  16.1\n",
      "   7.8542  69.3     27.9     56.4958  19.2583  76.7292   7.8958  35.5\n",
      "   7.55     7.55     7.8958  23.       8.4333   7.8292   6.75    73.5\n",
      "   7.8958  15.5     13.     113.275  133.65     7.225   25.5875   7.4958\n",
      "   7.925   73.5     13.       7.775    8.05    52.      39.      52.\n",
      "  10.5     13.       0.       7.775    8.05     9.8417  46.9    512.3292\n",
      "   8.1375  76.7292   9.225   46.9     39.      41.5792  39.6875  10.1708\n",
      "   7.7958 211.3375  57.      13.4167  56.4958   7.225   26.55    13.5\n",
      "   8.05     7.7333 110.8833   7.65   227.525   26.2875  14.4542   7.7417\n",
      "   7.8542  26.      13.5     26.2875 151.55    15.2458  49.5042  26.55\n",
      "  52.       9.4833  13.       7.65   227.525   10.5     15.5      7.775\n",
      "  33.       7.0542  13.      13.      53.1      8.6625  21.       7.7375\n",
      "  26.       7.925  211.3375  18.7875   0.      13.      13.      16.1\n",
      "  34.375  512.3292   7.8958   7.8958  30.      78.85   262.375   16.1\n",
      "   7.925   71.      20.25    13.      53.1      7.75    23.      12.475\n",
      "   9.5      7.8958  65.      14.5      7.7958  11.5      8.05    86.5\n",
      "  14.5      7.125    7.2292 120.       7.775   77.9583  39.6      7.75\n",
      "  24.15     8.3625   9.5      7.8542  10.5      7.225   23.       7.75\n",
      "   7.75    12.475    7.7375 211.3375   7.2292  57.      30.      23.45\n",
      "   7.05     7.25     7.4958  29.125   20.575   79.2      7.75    26.\n",
      "  69.55    30.6958   7.8958  13.      25.9292   8.6833   7.2292  24.15\n",
      "  13.      26.25   120.       8.5167   6.975    7.775    0.       7.775\n",
      "  13.      53.1      7.8875  24.15    10.5     31.275    8.05     0.\n",
      "   7.925   37.0042   6.45    27.9     93.5      8.6625   0.      12.475\n",
      "  39.6875   6.95    56.4958  37.0042   7.75    80.      14.4542  18.75\n",
      "   7.2292   7.8542   8.3     83.1583   8.6625   8.05    56.4958  29.7\n",
      "   7.925   10.5     31.       6.4375   8.6625   7.55    69.55     7.8958\n",
      "  33.      89.1042  31.275    7.775   15.2458  39.4     26.       9.35\n",
      " 164.8667  26.55    19.2583   7.2292  14.1083  11.5     25.9292  69.55\n",
      "  13.      13.      13.8583  50.4958   9.5     11.1333   7.8958  52.5542\n",
      "   5.       9.      24.       7.225    9.8458   7.8958   7.8958  83.1583\n",
      "  26.       7.8958  10.5167  10.5      7.05    29.125   13.      30.\n",
      "  23.45    30.       7.75  ]\n"
     ]
    }
   ],
   "source": [
    "# Exercise 3 - create a numpy array from a pandas dataframe column\n",
    "\n",
    "import pandas as pd\n",
    "import numpy as np\n",
    "\n",
    "def create_fare_series():\n",
    "    # Create a dataframe from the dataset in the file at the specified URL\n",
    "    url = 'https://raw.githubusercontent.com/pandas-dev/pandas/master/doc/data/titanic.csv'\n",
    "    df = pd.read_csv(url)\n",
    "    \n",
    "    # Create a new numpy array from the Fare column with data type float64\n",
    "    fare = df['Fare'].to_numpy(dtype=np.float64)\n",
    "    \n",
    "    # Print the fare array\n",
    "    print(fare)\n",
    "\n",
    "# Run and test the function against the expected output\n",
    "create_fare_series()\n"
   ]
  },
  {
   "cell_type": "code",
   "execution_count": 13,
   "id": "674fbfdd-37f2-48c3-bdf5-574c74423a5e",
   "metadata": {},
   "outputs": [
    {
     "name": "stdout",
     "output_type": "stream",
     "text": [
      "29.89\n",
      "42\n",
      "22\n"
     ]
    }
   ],
   "source": [
    "# Exercise 4 - get some statistics from a numpy array created from a data series\n",
    "\n",
    "import pandas as pd\n",
    "import numpy as np\n",
    "\n",
    "def get_age_stats():\n",
    "    # Load the data from the specified URL\n",
    "    url = 'https://github.com/futureCodersSE/working-with-data/blob/main/Data%20sets/Income-Data.xlsx?raw=true'\n",
    "    df = pd.read_excel(url)\n",
    "    \n",
    "    # Create a numpy array from the Age column\n",
    "    age_array = df['Age'].to_numpy(dtype=np.int32)\n",
    "    \n",
    "    # Calculate the average (mean) age\n",
    "    average_age = round(np.mean(age_array),2)\n",
    "    \n",
    "    # Find the age of the oldest person\n",
    "    oldest_age = np.max(age_array)\n",
    "    \n",
    "    # Find the age of the youngest person\n",
    "    youngest_age = np.min(age_array)\n",
    "    \n",
    "    # Print the results\n",
    "    print(average_age)\n",
    "    print(oldest_age)\n",
    "    print(youngest_age)\n",
    "\n",
    "# Run the function and test against the expected output\n",
    "get_age_stats()\n"
   ]
  },
  {
   "cell_type": "code",
   "execution_count": 17,
   "id": "8c64e596-4714-439b-8e43-1cc89b9beb4f",
   "metadata": {},
   "outputs": [
    {
     "name": "stdout",
     "output_type": "stream",
     "text": [
      "63.389\n",
      "13.937\n",
      "81.0\n",
      "34.71\n"
     ]
    }
   ],
   "source": [
    "# Exercise 6 - find the mean and standard deviation of wages\n",
    "\n",
    "import pandas as pd\n",
    "import numpy as np\n",
    "\n",
    "def get_income_stats():\n",
    "    # Load the data from the specified URL\n",
    "    url = 'https://github.com/futureCodersSE/working-with-data/blob/main/Data%20sets/Income-Data.xlsx?raw=true'\n",
    "    df = pd.read_excel(url)\n",
    "    \n",
    "    # Create a numpy array from the Income column\n",
    "    income_array = df['Income'].to_numpy(dtype=np.float64)\n",
    "    \n",
    "    # Calculate the mean income\n",
    "    mean_income = round(np.mean(income_array),3)\n",
    "    \n",
    "    # Calculate the standard deviation of income\n",
    "    std_income = round(np.std(income_array),3)\n",
    "    \n",
    "    # Find the highest income\n",
    "    highest_income = np.max(income_array)\n",
    "    \n",
    "    # Find the lowest income\n",
    "    lowest_income = np.min(income_array)\n",
    "    \n",
    "    # Calculate the lowest income as a percentage of the mean\n",
    "    lowest_income_percentage = round((lowest_income / mean_income) * 100,2)\n",
    "    \n",
    "    # Print the results\n",
    "    print(mean_income)\n",
    "    print(std_income)\n",
    "    print(highest_income)\n",
    "    print(lowest_income_percentage)\n",
    "\n",
    "# Run the function and test against the expected output\n",
    "get_income_stats()\n"
   ]
  },
  {
   "cell_type": "code",
   "execution_count": 19,
   "id": "b7fd1941-5570-42ba-838f-c7c6b5b6ac7b",
   "metadata": {},
   "outputs": [
    {
     "name": "stdout",
     "output_type": "stream",
     "text": [
      "[[ 1.         -0.14787412]\n",
      " [-0.14787412  1.        ]]\n",
      "-0.14787411576068246\n"
     ]
    }
   ],
   "source": [
    "# Exercise 7 - finding the correlation between two series\n",
    "\n",
    "import pandas as pd\n",
    "import numpy as np\n",
    "\n",
    "def get_correlation():\n",
    "    # Load the data from the specified URL\n",
    "    url = 'https://github.com/futureCodersSE/working-with-data/blob/main/Data%20sets/Income-Data.xlsx?raw=true'\n",
    "    df = pd.read_excel(url)\n",
    "    \n",
    "    # Create a numpy array from the Age column\n",
    "    age_array = df['Age'].to_numpy(dtype=np.float64)\n",
    "    \n",
    "    # Create a numpy array from the Income column\n",
    "    income_array = df['Income'].to_numpy(dtype=np.float64)\n",
    "    \n",
    "    # Get the Pearson's Correlation Coefficient\n",
    "    coef = np.corrcoef(age_array, income_array)\n",
    "    \n",
    "    # Print the correlation coefficient matrix\n",
    "    print(coef)\n",
    "    \n",
    "    # Print the correlation coefficient at position [0][1]\n",
    "    print(coef[0][1])\n",
    "\n",
    "# Run the function and test against the expected output\n",
    "get_correlation()\n"
   ]
  },
  {
   "cell_type": "code",
   "execution_count": 21,
   "id": "9796413a-dd3a-4916-bce6-f981ad6a3285",
   "metadata": {},
   "outputs": [
    {
     "name": "stdout",
     "output_type": "stream",
     "text": [
      "[21 22 23 24 25 26 27 28 21 22 23 24]\n"
     ]
    }
   ],
   "source": [
    "# Exercise 8 - increase whole array by 20\n",
    "\n",
    "import numpy as np\n",
    "\n",
    "def increase_by_20():\n",
    "    # Create a numpy array of 12 numbers\n",
    "    original_array = np.array([1, 2, 3, 4, 5, 6, 7, 8, 1, 2, 3, 4])\n",
    "    \n",
    "    # Create a new array adding 20 to each of the items in the first array\n",
    "    new_array = original_array + 20\n",
    "    \n",
    "    # Print the new array\n",
    "    print(new_array)\n",
    "\n",
    "# Run the function and test against the expected output\n",
    "increase_by_20()\n"
   ]
  },
  {
   "cell_type": "code",
   "execution_count": 23,
   "id": "23660e0c-ed38-4f76-a2bc-763520cbeda3",
   "metadata": {},
   "outputs": [
    {
     "name": "stdout",
     "output_type": "stream",
     "text": [
      "3887.1928207428173\n",
      "61840.4399214\n",
      "0.0\n"
     ]
    }
   ],
   "source": [
    "# Exercise 9 - convert Titanic fares into 21st century values\n",
    "\n",
    "import pandas as pd\n",
    "import numpy as np\n",
    "\n",
    "def get_current_fares():\n",
    "    # Create a dataframe from the Titanic dataset\n",
    "    url = 'https://raw.githubusercontent.com/pandas-dev/pandas/master/doc/data/titanic.csv'\n",
    "    df = pd.read_csv(url)\n",
    "    \n",
    "    # Create a numpy array from the Fare column\n",
    "    fare_array = df['Fare'].to_numpy(dtype=np.float64)\n",
    "    \n",
    "    # Convert the fares into current value by multiplying by the factor\n",
    "    conversion_factor = 120.7045\n",
    "    current_fare_array = fare_array * conversion_factor\n",
    "    \n",
    "    # Calculate the average fare\n",
    "    average_fare = np.mean(current_fare_array)\n",
    "    \n",
    "    # Find the maximum fare\n",
    "    max_fare = np.max(current_fare_array)\n",
    "    \n",
    "    # Find the minimum fare\n",
    "    min_fare = np.min(current_fare_array)\n",
    "    \n",
    "    # Print the results\n",
    "    print(average_fare)\n",
    "    print(max_fare)\n",
    "    print(min_fare)\n",
    "\n",
    "# Run the function and test against the expected output\n",
    "get_current_fares()\n"
   ]
  },
  {
   "cell_type": "code",
   "execution_count": 25,
   "id": "7636c52e-2bd4-4012-9447-64ce1281911b",
   "metadata": {},
   "outputs": [
    {
     "name": "stdout",
     "output_type": "stream",
     "text": [
      "   State  County  Population  Age  Income  Inflated Income\n",
      "0     TX       1          72   34      65           67.275\n",
      "1     TX       2          33   42      45           46.575\n",
      "2     TX       5          25   23      46           47.610\n",
      "3     TX       6          54   36      65           67.275\n",
      "4     TX       7          11   42      53           54.855\n",
      "5     TX       8          28   25      62           64.170\n",
      "6     TX       9          82   35      66           68.310\n",
      "7     TX      10           5   40      75           77.625\n",
      "8     MD      11          61   27      22           22.770\n",
      "9     MD       2           5   23      69           71.415\n",
      "10    MD       4          98   25      73           75.555\n",
      "11    MD       3          64   29      75           77.625\n",
      "12    MD       2          36   24      65           67.275\n",
      "13    MD       1          24   25      66           68.310\n",
      "14    MD       5          34   31      78           80.730\n",
      "15    MD       6          89   22      81           83.835\n",
      "16    MD       8          21   25      73           75.555\n",
      "17    MD       7          21   30      62           64.170\n",
      "[[1. 1.]\n",
      " [1. 1.]]\n",
      "1.0\n"
     ]
    }
   ],
   "source": [
    "# Exercise 10 - create a new column in the dataframe from a numpy array\n",
    "\n",
    "import pandas as pd\n",
    "import numpy as np\n",
    "\n",
    "def calculate_inflated_salaries():\n",
    "    # Load the data from the specified URL\n",
    "    url = 'https://github.com/futureCodersSE/working-with-data/blob/main/Data%20sets/Income-Data.xlsx?raw=true'\n",
    "    df = pd.read_excel(url)\n",
    "    \n",
    "    # Create a numpy array from the Income column\n",
    "    income_array = df['Income'].to_numpy(dtype=np.float64)\n",
    "    \n",
    "    # Calculate the inflated salaries with an inflation rate of 3.5%\n",
    "    inflation_rate = 0.035\n",
    "    inflated_salaries_array = income_array * (1 + inflation_rate)\n",
    "    \n",
    "    # Calculate the Pearson Correlation Coefficient\n",
    "    coef = np.corrcoef(income_array, inflated_salaries_array)\n",
    "    \n",
    "    # Add the new column with inflated salaries to the dataframe\n",
    "    df['Inflated Income'] = inflated_salaries_array.tolist()\n",
    "    \n",
    "    # Display the new dataframe\n",
    "    print(df)\n",
    "    \n",
    "    # Print the correlation coefficient\n",
    "    print(coef)\n",
    "    print(coef[0][1])\n",
    "\n",
    "# Run the function and test against the expected output\n",
    "calculate_inflated_salaries()\n"
   ]
  },
  {
   "cell_type": "code",
   "execution_count": null,
   "id": "7ff58fde-ab78-4593-9e94-e759577a518d",
   "metadata": {},
   "outputs": [],
   "source": []
  }
 ],
 "metadata": {
  "kernelspec": {
   "display_name": "Python 3 (ipykernel)",
   "language": "python",
   "name": "python3"
  },
  "language_info": {
   "codemirror_mode": {
    "name": "ipython",
    "version": 3
   },
   "file_extension": ".py",
   "mimetype": "text/x-python",
   "name": "python",
   "nbconvert_exporter": "python",
   "pygments_lexer": "ipython3",
   "version": "3.11.5"
  },
  "widgets": {
   "application/vnd.jupyter.widget-state+json": {
    "state": {},
    "version_major": 2,
    "version_minor": 0
   }
  }
 },
 "nbformat": 4,
 "nbformat_minor": 5
}
