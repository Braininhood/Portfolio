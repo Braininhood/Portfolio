{
 "cells": [
  {
   "cell_type": "code",
   "execution_count": 1,
   "id": "e5806e0e-c69b-43f7-a350-905f1fdcdee5",
   "metadata": {},
   "outputs": [
    {
     "name": "stdout",
     "output_type": "stream",
     "text": [
      "0.162 - 16.2% of rolls were doubles\n"
     ]
    }
   ],
   "source": [
    "# Exercise 1 - dice pairs\n",
    "\n",
    "import random\n",
    "\n",
    "# Function to simulate rolling two dice and counting doubles\n",
    "def roll_the_dice(num_times):\n",
    "    num_doubles = 0\n",
    "    for _ in range(num_times):\n",
    "        die1 = random.randint(1, 6)\n",
    "        die2 = random.randint(1, 6)\n",
    "        if die1 == die2:\n",
    "            num_doubles += 1\n",
    "    return num_doubles / num_times\n",
    "\n",
    "# Run the simulation with 1000 rolls\n",
    "result = roll_the_dice(1000)\n",
    "print(result, \"-\", str(round(result * 100, 2)) + \"% of rolls were doubles\")\n"
   ]
  },
  {
   "cell_type": "code",
   "execution_count": 3,
   "id": "a8998939-08b2-4f70-9578-59403c2f52b1",
   "metadata": {},
   "outputs": [
    {
     "name": "stdout",
     "output_type": "stream",
     "text": [
      "Probability: 0.125\n",
      "Expected number of times for 3 heads in a row: 125\n"
     ]
    }
   ],
   "source": [
    "# Exercise 2\n",
    "\n",
    "def calculate_expected(num_in_a_row, num_times):\n",
    "    # Calculate the probability of getting num_in_a_row heads in a row\n",
    "    probability = 0.5 ** num_in_a_row\n",
    "    \n",
    "    # Calculate the expected number of times this would happen in num_times tosses\n",
    "    expected_number_of_times = probability * num_times\n",
    "    \n",
    "    # Print the probability\n",
    "    print(\"Probability:\", probability)\n",
    "    \n",
    "    # Return the expected number of times\n",
    "    return expected_number_of_times\n",
    "\n",
    "# Test the code\n",
    "row = 3\n",
    "times = 1000\n",
    "result = calculate_expected(row, times)\n",
    "print(\"Expected number of times for\", row, \"heads in a row:\", int(result))\n"
   ]
  },
  {
   "cell_type": "code",
   "execution_count": 5,
   "id": "c6d9834e-0417-460c-89cc-d21b3cec98b6",
   "metadata": {},
   "outputs": [
    {
     "name": "stdout",
     "output_type": "stream",
     "text": [
      "The probability of ordering soup, chicken, and no dessert is: 0.03200000000000001\n"
     ]
    }
   ],
   "source": [
    "# Exercise 3\n",
    "\n",
    "def calculate_probability(starter, main, dessert):\n",
    "    # Probabilities for starters\n",
    "    if starter == \"soup\":\n",
    "        prob_starter = 0.2\n",
    "    elif starter == \"salad\":\n",
    "        prob_starter = 0.5\n",
    "    elif starter == \"none\":\n",
    "        prob_starter = 0.3\n",
    "    else:\n",
    "        raise ValueError(\"Invalid starter choice\")\n",
    "    \n",
    "    # Probabilities for mains\n",
    "    if main == \"fish\":\n",
    "        prob_main = 0.4\n",
    "    elif main == \"chicken\":\n",
    "        prob_main = 0.4\n",
    "    elif main == \"vegetarian\":\n",
    "        prob_main = 0.2\n",
    "    else:\n",
    "        raise ValueError(\"Invalid main course choice\")\n",
    "    \n",
    "    # Probabilities for desserts\n",
    "    if dessert == \"cake\":\n",
    "        prob_dessert = 0.3\n",
    "    elif dessert == \"ice cream\":\n",
    "        prob_dessert = 0.3\n",
    "    elif dessert == \"none\":\n",
    "        prob_dessert = 0.4\n",
    "    else:\n",
    "        raise ValueError(\"Invalid dessert choice\")\n",
    "    \n",
    "    # Calculate the probability for the combination\n",
    "    combination_probability = prob_starter * prob_main * prob_dessert\n",
    "    \n",
    "    return combination_probability\n",
    "\n",
    "# Example usage\n",
    "result = calculate_probability(\"soup\", \"chicken\", \"none\")\n",
    "print(\"The probability of ordering soup, chicken, and no dessert is:\", result)\n"
   ]
  },
  {
   "cell_type": "code",
   "execution_count": 7,
   "id": "979023a1-7da2-4bcd-a05b-3771c956e693",
   "metadata": {},
   "outputs": [
    {
     "name": "stdout",
     "output_type": "stream",
     "text": [
      "Probability of selecting a red token (4 red, 4 green): 0.5\n",
      "Probability of selecting a red token (4 red, 4 green, 10 yellow): 0.2222222222222222\n",
      "Probability of selecting a red token (0 red, 4 green, 10 yellow): 0.0\n"
     ]
    }
   ],
   "source": [
    "# Exercise 4 \n",
    "def calculate_red_probability(red_tokens, green_tokens, yellow_tokens):\n",
    "    # Total number of tokens in the bag\n",
    "    total_tokens = red_tokens + green_tokens + yellow_tokens\n",
    "    \n",
    "    # Probability of selecting a red token\n",
    "    if total_tokens == 0:\n",
    "        return 0  # To avoid division by zero if no tokens are present\n",
    "    else:\n",
    "        probability = red_tokens / total_tokens\n",
    "        return probability\n",
    "\n",
    "# Example usage for each configuration\n",
    "\n",
    "# Configuration 1: 4 red, 4 green\n",
    "result1 = calculate_red_probability(4, 4, 0)\n",
    "print(\"Probability of selecting a red token (4 red, 4 green):\", result1)\n",
    "\n",
    "# Configuration 2: 4 red, 4 green, 10 yellow\n",
    "result2 = calculate_red_probability(4, 4, 10)\n",
    "print(\"Probability of selecting a red token (4 red, 4 green, 10 yellow):\", result2)\n",
    "\n",
    "# Configuration 3: 0 red, 4 green, 10 yellow\n",
    "result3 = calculate_red_probability(0, 4, 10)\n",
    "print(\"Probability of selecting a red token (0 red, 4 green, 10 yellow):\", result3)\n"
   ]
  },
  {
   "cell_type": "code",
   "execution_count": 9,
   "id": "e58511b8-a151-495f-9548-5360d16de13f",
   "metadata": {},
   "outputs": [
    {
     "name": "stdout",
     "output_type": "stream",
     "text": [
      "Probability of selecting a red token (P(Red)): 0.4286\n",
      "Probability of obtaining heads (P(Heads)): 0.5714\n",
      "Probability of selecting a red token given heads (P(Red | Heads)): 0.6000\n"
     ]
    }
   ],
   "source": [
    "# Exercise 5\n",
    "\n",
    "def experiment_probabilities():\n",
    "    # Probability of selecting a red token\n",
    "    P_red = 3 / 7\n",
    "    \n",
    "    # Probability of selecting a blue token\n",
    "    P_blue = 4 / 7\n",
    "    \n",
    "    # Probability of heads given red token is selected\n",
    "    P_heads_given_red = 4 / 5\n",
    "    \n",
    "    # Probability of heads given blue token is selected\n",
    "    P_heads_given_blue = 2 / 5\n",
    "    \n",
    "    # Calculate the total probability of obtaining heads (law of total probability)\n",
    "    P_heads = (P_heads_given_red * P_red) + (P_heads_given_blue * P_blue)\n",
    "    \n",
    "    # Calculate the probability of selecting a red token given heads (Bayes' Theorem)\n",
    "    P_red_given_heads = (P_heads_given_red * P_red) / P_heads\n",
    "    \n",
    "    # Return the results\n",
    "    return P_red, P_heads, P_red_given_heads\n",
    "\n",
    "# Run the experiment and print the results\n",
    "P_red, P_heads, P_red_given_heads = experiment_probabilities()\n",
    "\n",
    "print(f\"Probability of selecting a red token (P(Red)): {P_red:.4f}\")\n",
    "print(f\"Probability of obtaining heads (P(Heads)): {P_heads:.4f}\")\n",
    "print(f\"Probability of selecting a red token given heads (P(Red | Heads)): {P_red_given_heads:.4f}\")\n"
   ]
  },
  {
   "cell_type": "code",
   "execution_count": null,
   "id": "8626df22-ae9a-4b5e-b7f6-8bab7112cab4",
   "metadata": {},
   "outputs": [],
   "source": []
  }
 ],
 "metadata": {
  "kernelspec": {
   "display_name": "Python 3 (ipykernel)",
   "language": "python",
   "name": "python3"
  },
  "language_info": {
   "codemirror_mode": {
    "name": "ipython",
    "version": 3
   },
   "file_extension": ".py",
   "mimetype": "text/x-python",
   "name": "python",
   "nbconvert_exporter": "python",
   "pygments_lexer": "ipython3",
   "version": "3.12.4"
  }
 },
 "nbformat": 4,
 "nbformat_minor": 5
}
