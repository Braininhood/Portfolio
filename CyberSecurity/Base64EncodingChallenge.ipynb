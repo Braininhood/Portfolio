{
 "cells": [
  {
   "cell_type": "code",
   "execution_count": 2,
   "id": "871a2e29-da30-4ea5-a274-abedf8661abf",
   "metadata": {
    "tags": []
   },
   "outputs": [
    {
     "name": "stdin",
     "output_type": "stream",
     "text": [
      "Enter a decimal number:  15482\n"
     ]
    },
    {
     "name": "stdout",
     "output_type": "stream",
     "text": [
      "Decimal 15482 is Hexadecimal 3c7a\n"
     ]
    }
   ],
   "source": [
    "# Exercise 1 - convert decimal number to a hexadecimal equivalent string\n",
    "def decimal_to_hexadecimal():\n",
    "    decimal = int(input(\"Enter a decimal number: \"))\n",
    "    hexadecimal = hex(decimal)\n",
    "    print(f\"Decimal {decimal} is Hexadecimal {hexadecimal[2:]}\")\n",
    "\n",
    "decimal_to_hexadecimal()\n"
   ]
  },
  {
   "cell_type": "code",
   "execution_count": 3,
   "id": "84141ffc-fc4a-4a57-a188-ee1fd013a6c7",
   "metadata": {
    "tags": []
   },
   "outputs": [
    {
     "name": "stdin",
     "output_type": "stream",
     "text": [
      "Enter a word or phrase:  hello\n"
     ]
    },
    {
     "name": "stdout",
     "output_type": "stream",
     "text": [
      "The hexadecimal equivalent is: 68656c6c6f\n"
     ]
    }
   ],
   "source": [
    "# Exercise 2 - convert a string into its hexadecimal ASCII values to form a new string\n",
    "def string_to_hexadecimal():\n",
    "    word = input(\"Enter a word or phrase: \")\n",
    "    hexadecimal = ''.join(format(ord(char), '02x') for char in word)\n",
    "    print(f\"The hexadecimal equivalent is: {hexadecimal}\")\n",
    "\n",
    "string_to_hexadecimal()\n"
   ]
  },
  {
   "cell_type": "code",
   "execution_count": 4,
   "id": "62a19aca-53b9-4fce-b74d-e7df2afeaed4",
   "metadata": {
    "tags": []
   },
   "outputs": [
    {
     "name": "stdin",
     "output_type": "stream",
     "text": [
      "Enter a hexadecimal digit:  e\n"
     ]
    },
    {
     "name": "stdout",
     "output_type": "stream",
     "text": [
      "The binary equivalent is: 1110\n"
     ]
    }
   ],
   "source": [
    "# Exercise 3 - convert a hexadecimal digit string to a four digit binary string\n",
    "def hex_to_binary(hex_digit):\n",
    "    # Map hexadecimal to binary\n",
    "    mapping = {\n",
    "        '0': '0000', '1': '0001', '2': '0010', '3': '0011',\n",
    "        '4': '0100', '5': '0101', '6': '0110', '7': '0111',\n",
    "        '8': '1000', '9': '1001', 'A': '1010', 'B': '1011',\n",
    "        'C': '1100', 'D': '1101', 'E': '1110', 'F': '1111'\n",
    "    }\n",
    "\n",
    "    # Convert hexadecimal digit to binary\n",
    "    binary = mapping.get(hex_digit.upper())\n",
    "    return binary if binary else \"Invalid hexadecimal digit\"\n",
    "\n",
    "# Test the function\n",
    "hex_digit = input(\"Enter a hexadecimal digit: \")\n",
    "result = hex_to_binary(hex_digit)\n",
    "print(f\"The binary equivalent is: {result}\")\n"
   ]
  },
  {
   "cell_type": "code",
   "execution_count": 42,
   "id": "441056ce-2575-45cf-a838-3ec717f09fc3",
   "metadata": {
    "tags": []
   },
   "outputs": [
    {
     "name": "stdout",
     "output_type": "stream",
     "text": [
      "First 128 characters of base64 encoded image:\n",
      "/9j/4AAQSkZJRgABAQAAAQABAAD/2wCEAAkGBxAQEhUSEBAWFRUVFRcYFRUYFRYWGBUVFhYXFxUWFRgYHSggGBolHRUYITEhJikrMC8uFx8zODMtQygtLisBCgoKDg0O\n",
      "\n",
      "Last 128 characters of base64 encoded image:\n",
      "EBERARFCCUREBERAREQERFBClEQEREBERAREVBERAREQERFARESiEhSiCERFKJREVBERAREQEREBYL+IQSIFjGp/JEWuZrPVxB4l+H5n4aeXxUt4hP2fn/hEWrIm1//Z\n"
     ]
    }
   ],
   "source": [
    "# Exercise 4 - encode an image (binary format) in Base64 format   --- need ask how take permission\n",
    "import base64\n",
    "\n",
    "# Path to the image file\n",
    "image_path = r'D:\\обои\\image11.jpg'\n",
    "\n",
    "try:\n",
    "    # Open the image file in binary mode and read its content\n",
    "    with open(image_path, 'rb') as image_file:\n",
    "        # Read the content of the image file\n",
    "        image_content = image_file.read()\n",
    "        \n",
    "        # Encode the image content to base64\n",
    "        encoded_image = base64.b64encode(image_content).decode('utf-8')\n",
    "        \n",
    "        # Print the first 128 characters and last 128 characters of the base64 string\n",
    "        print(\"First 128 characters of base64 encoded image:\")\n",
    "        print(encoded_image[:128])\n",
    "        \n",
    "        print(\"\\nLast 128 characters of base64 encoded image:\")\n",
    "        print(encoded_image[-128:])\n",
    "        \n",
    "except FileNotFoundError:\n",
    "    print(\"File not found. Please provide the correct path to the image file.\")\n",
    "except Exception as e:\n",
    "    print(\"An error occurred:\", str(e))\n",
    "\n"
   ]
  },
  {
   "cell_type": "code",
   "execution_count": 33,
   "id": "1be56d11-0bf1-4194-b474-4cc6a9c8df5e",
   "metadata": {
    "tags": []
   },
   "outputs": [
    {
     "name": "stdout",
     "output_type": "stream",
     "text": [
      "First 128 characters: b'/9j/4AAQSkZJRgABAQAAAQABAAD/2wCEAAkGBxAQEhUSEBAWFRUVFRcYFRUYFRYWGBUVFhYXFxUWFRgYHSggGBolHRUYITEhJikrMC8uFx8zODMtQygtLisBCgoKDg0O'\n",
      "Last 128 characters: b'EBERARFCCUREBERAREQERFBClEQEREBERAREVBERAREQERFARESiEhSiCERFKJREVBERAREQEREBYL+IQSIFjGp/JEWuZrPVxB4l+H5n4aeXxUt4hP2fn/hEWrIm1//Z'\n"
     ]
    }
   ],
   "source": [
    "# Exercise 4 - encode an image (binary format) in Base64 format - work variant\n",
    "\n",
    "import base64\n",
    "\n",
    "image_path = r\"D:\\обои\\image11.jpg\"\n",
    "\n",
    "with open(image_path, \"rb\") as image_file:\n",
    "    encoded_string = base64.b64encode(image_file.read())\n",
    "\n",
    "print(\"First 128 characters:\", encoded_string[:128])\n",
    "print(\"Last 128 characters:\", encoded_string[-128:])\n"
   ]
  },
  {
   "cell_type": "code",
   "execution_count": 40,
   "id": "311af8bb-d5e9-432d-b292-87699312c52f",
   "metadata": {
    "tags": []
   },
   "outputs": [
    {
     "name": "stdout",
     "output_type": "stream",
     "text": [
      "First 128 characters: UEsDBBQAAAAIAE2aG1c2j2359y4LANoDKgAGAAAAMTEuZ2NvtL3bjm3LcSX23oD+oX7AhbxfqCehvSkLploCKdl99CIQ0HFLQFMS2JTb/nvniGtmrrWKuzbLBAjsU5Er\n",
      "Last 128 characters: /vzv//LjP/71x3/55//4l7/86T/9P1BLAQIUABQAAAAIAE2aG1c2j2359y4LANoDKgAGAAAAAAAAAAEAIAAAAAAAAAAxMS5nY29QSwUGAAAAAAEAAQA0AAAAGy8LAAAA\n"
     ]
    }
   ],
   "source": [
    "# Exdercise 5 -- challenge -- encode a zip file into Base64 format\n",
    "\n",
    "import base64\n",
    "import zipfile\n",
    "\n",
    "\n",
    "# Read the zip file as bytes\n",
    "zip_file_path = 'C:/Users/kdomm/Desktop/11.zip'\n",
    "with open(zip_file_path, 'rb') as file:\n",
    "    zip_data = file.read()\n",
    "\n",
    "# Encode the file contents (binary) into a Base64 string\n",
    "base64_encoded = base64.b64encode(zip_data).decode('utf-8')\n",
    "\n",
    "# Print the first and last 128 characters of the Base64 string\n",
    "print(\"First 128 characters:\", base64_encoded[:128])\n",
    "print(\"Last 128 characters:\", base64_encoded[-128:])\n",
    "\n",
    "# Decode the Base64 string back to its original binary format\n",
    "decoded_data = base64.b64decode(base64_encoded)\n",
    "\n",
    "# Save the decoded binary data as a zip file\n",
    "decoded_zip_file_path = 'C:/Users/kdomm/Desktop/decoded_sample.zip'\n",
    "with open(decoded_zip_file_path, 'wb') as file:\n",
    "    file.write(decoded_data)\n",
    "\n",
    "# Try to extract the contents of the new zip file to verify its integrity\n",
    "with zipfile.ZipFile(decoded_zip_file_path, 'r') as zip_ref:\n",
    "    zip_ref.extractall('C:/Users/kdomm/Desktop')\n"
   ]
  }
 ],
 "metadata": {
  "kernelspec": {
   "display_name": "Python 3 (ipykernel)",
   "language": "python",
   "name": "python3"
  },
  "language_info": {
   "codemirror_mode": {
    "name": "ipython",
    "version": 3
   },
   "file_extension": ".py",
   "mimetype": "text/x-python",
   "name": "python",
   "nbconvert_exporter": "python",
   "pygments_lexer": "ipython3",
   "version": "3.11.5"
  }
 },
 "nbformat": 4,
 "nbformat_minor": 5
}
