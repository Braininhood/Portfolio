{
 "cells": [
  {
   "cell_type": "code",
   "execution_count": 1,
   "id": "a773c8a7-5f68-4a63-b4f1-eed7376cf6d2",
   "metadata": {
    "tags": []
   },
   "outputs": [
    {
     "name": "stdout",
     "output_type": "stream",
     "text": [
      "[6, 7, 8, 9, 10]\n"
     ]
    }
   ],
   "source": [
    "# Caesar cipher code example - encrypt the data\n",
    "###############################################\n",
    "\n",
    "def encrypt(data_block):\n",
    "  key = 5\n",
    "  encrypted_block = []\n",
    "  for byte in data_block:\n",
    "    encrypted_block.append(byte + key)\n",
    "  return encrypted_block\n",
    "\n",
    "\n",
    "data = [1,2,3,4,5]\n",
    "encrypted_data = encrypt(data)\n",
    "print(encrypted_data)"
   ]
  },
  {
   "cell_type": "code",
   "execution_count": 2,
   "id": "2d8ffafc-4a6e-46ac-8ea6-240a5cddea0e",
   "metadata": {
    "tags": []
   },
   "outputs": [
    {
     "name": "stdout",
     "output_type": "stream",
     "text": [
      "[1, 2, 3, 4, 5]\n"
     ]
    }
   ],
   "source": [
    "# Caesar cipher code example - decrypt the data\n",
    "###############################################\n",
    "\n",
    "def decrypt(encrypted_block):\n",
    "  key = 5\n",
    "  data_block = []\n",
    "  for byte in encrypted_block:\n",
    "    data_block.append(byte - key)\n",
    "  return data_block\n",
    "\n",
    "\n",
    "processed_data = decrypt(encrypted_data)\n",
    "print(processed_data)"
   ]
  },
  {
   "cell_type": "code",
   "execution_count": 123,
   "id": "e6c532d1-199a-4823-920f-b296f1a75e6b",
   "metadata": {
    "tags": []
   },
   "outputs": [
    {
     "name": "stdout",
     "output_type": "stream",
     "text": [
      "Encrypted: Tyrx~nygx|\n",
      "Decrypted: John down!\n"
     ]
    }
   ],
   "source": [
    "# Exercise 1 - encrypt some text using the ASCII values for each letter\n",
    "def encrypt(message, key):\n",
    "    encrypted_message = \"\"\n",
    "    special_chars = {' ': '~', '!': '|', '.': '*', '?': '}'}\n",
    "\n",
    "    for char in message:\n",
    "        shifted = ord(char) + key\n",
    "        if char.isalpha():\n",
    "            if char.islower():\n",
    "                if shifted > ord('z'):\n",
    "                    shifted -= 26\n",
    "                elif shifted < ord('a'):\n",
    "                    shifted += 26\n",
    "            elif char.isupper():\n",
    "                if shifted > ord('Z'):\n",
    "                    shifted -= 26\n",
    "                elif shifted < ord('A'):\n",
    "                    shifted += 26\n",
    "            encrypted_message += chr(shifted)\n",
    "        else:\n",
    "            encrypted_message += special_chars.get(char, char)  # Replace with special characters\n",
    "    return encrypted_message\n",
    "\n",
    "def decrypt(encrypted_message, key):\n",
    "    decrypted_message = \"\"\n",
    "    special_chars = {'~': ' ', '|': '!', '*': '.', '}': '?'}\n",
    "\n",
    "    for char in encrypted_message:\n",
    "        if char.isalpha():\n",
    "            shifted = ord(char) - key\n",
    "            if char.islower():\n",
    "                if shifted > ord('z'):\n",
    "                    shifted -= 26\n",
    "                elif shifted < ord('a'):\n",
    "                    shifted += 26\n",
    "            elif char.isupper():\n",
    "                if shifted > ord('Z'):\n",
    "                    shifted -= 26\n",
    "                elif shifted < ord('A'):\n",
    "                    shifted += 26\n",
    "            decrypted_message += chr(shifted)\n",
    "        else:\n",
    "            decrypted_message += special_chars.get(char, char)  # Revert special characters\n",
    "    return decrypted_message\n",
    "\n",
    "# Encrypting the message\n",
    "message = \"John down!\"\n",
    "key = 10\n",
    "encrypted = encrypt(message, key)\n",
    "print(\"Encrypted:\", encrypted)\n",
    "\n",
    "# Decrypting the message\n",
    "decrypted = decrypt(encrypted, key)\n",
    "print(\"Decrypted:\", decrypted)\n"
   ]
  },
  {
   "cell_type": "code",
   "execution_count": 141,
   "id": "8a25eb91-5904-4c3f-bcca-c4937fb3ce92",
   "metadata": {
    "tags": []
   },
   "outputs": [
    {
     "name": "stdout",
     "output_type": "stream",
     "text": [
      "Key: 1, Decrypted message: Ymj&knwxy&w{qj&tk&hwuytlwfum&hq{g&nx@&sj|jw&ns|jsy&f&hwuytlwfum&xxyjr&t{wxjqk4&Ymj&xjhtsi&w{qj&tk&hwuytlwfum&hq{g&nx@&sj|jw&nruqjrjsy&f&hwuytlwfum&xxyjr&t{wxjqk@&rfs&wjfq3}twqi&mtqjx&fwj&kt{si&ns&ymj&nruqjrjsyfynts&umfxj&tk&f&hwuytxxyjr&fx&}jqq&fx&ns&ymj&ijxnls4\n",
      "Key: 2, Decrypted message: Xli&jmvwx&v{pi&sj&gvtxskvetl&gp{f&mw@&ri|iv&mr|irx&e&gvtxskvetl&wwxiq&s{vwipj4&Xli&wigsrh&v{pi&sj&gvtxskvetl&gp{f&mw@&ri|iv&mqtpiqirx&e&gvtxskvetl&wwxiq&s{vwipj@&qer&viep3}svph&lspiw&evi&js{rh&mr&xli&mqtpiqirxexmsr&tlewi&sj&e&gvtxswwxiq&ew&}ipp&ew&mr&xli&hiwmkr4\n",
      "Key: 3, Decrypted message: Wkh&iluvw&u{oh&ri&fuswrjudsk&fo{e&lv@&qh|hu&lq|hqw&d&fuswrjudsk&vvwhp&r{uvhoi4&Wkh&vhfrqg&u{oh&ri&fuswrjudsk&fo{e&lv@&qh|hu&lpsohphqw&d&fuswrjudsk&vvwhp&r{uvhoi@&pdq&uhdo3}ruog&krohv&duh&ir{qg&lq&wkh&lpsohphqwdwlrq&skdvh&ri&d&fuswrvvwhp&dv&}hoo&dv&lq&wkh&ghvljq4\n",
      "Key: 4, Decrypted message: Vjg&hktuv&t{ng&qh&etrvqitcrj&en{d&ku@&pg|gt&kp|gpv&c&etrvqitcrj&uuvgo&q{tugnh4&Vjg&ugeqpf&t{ng&qh&etrvqitcrj&en{d&ku@&pg|gt&korngogpv&c&etrvqitcrj&uuvgo&q{tugnh@&ocp&tgcn3}qtnf&jqngu&ctg&hq{pf&kp&vjg&korngogpvcvkqp&rjcug&qh&c&etrvquuvgo&cu&}gnn&cu&kp&vjg&fgukip4\n",
      "Key: 5, Decrypted message: Uif&gjstu&s{mf&pg&dsquphsbqi&dm{c&jt@&of|fs&jo|fou&b&dsquphsbqi&ttufn&p{stfmg4&Uif&tfdpoe&s{mf&pg&dsquphsbqi&dm{c&jt@&of|fs&jnqmfnfou&b&dsquphsbqi&ttufn&p{stfmg@&nbo&sfbm3}psme&ipmft&bsf&gp{oe&jo&uif&jnqmfnfoubujpo&qibtf&pg&b&dsqupttufn&bt&}fmm&bt&jo&uif&eftjho4\n",
      "Key: 6, Decrypted message: The&first&r{le&of&crptograph&cl{b&is@&ne|er&in|ent&a&crptograph&sstem&o{rself4&The&second&r{le&of&crptograph&cl{b&is@&ne|er&implement&a&crptograph&sstem&o{rself@&man&real3}orld&holes&are&fo{nd&in&the&implementation&phase&of&a&crptosstem&as&}ell&as&in&the&design4\n",
      "Key: 7, Decrypted message: Sgd&ehqrs&q{kd&ne&bqosnfqzog&bk{a&hr@&md|dq&hm|dms&z&bqosnfqzog&rrsdl&n{qrdke4&Sgd&rdbnmc&q{kd&ne&bqosnfqzog&bk{a&hr@&md|dq&hlokdldms&z&bqosnfqzog&rrsdl&n{qrdke@&lzm&qdzk3}nqkc&gnkdr&zqd&en{mc&hm&sgd&hlokdldmszshnm&ogzrd&ne&z&bqosnrrsdl&zr&}dkk&zr&hm&sgd&cdrhfm4\n",
      "Key: 8, Decrypted message: Rfc&dgpqr&p{jc&md&apnrmepynf&aj{z&gq@&lc|cp&gl|clr&y&apnrmepynf&qqrck&m{pqcjd4&Rfc&qcamlb&p{jc&md&apnrmepynf&aj{z&gq@&lc|cp&gknjckclr&y&apnrmepynf&qqrck&m{pqcjd@&kyl&pcyj3}mpjb&fmjcq&ypc&dm{lb&gl&rfc&gknjckclryrgml&nfyqc&md&y&apnrmqqrck&yq&}cjj&yq&gl&rfc&bcqgel4\n",
      "Key: 9, Decrypted message: Qeb&cfopq&o{ib&lc&zomqldoxme&zi{y&fp@&kb|bo&fk|bkq&x&zomqldoxme&ppqbj&l{opbic4&Qeb&pbzlka&o{ib&lc&zomqldoxme&zi{y&fp@&kb|bo&fjmibjbkq&x&zomqldoxme&ppqbj&l{opbic@&jxk&obxi3}loia&elibp&xob&cl{ka&fk&qeb&fjmibjbkqxqflk&mexpb&lc&x&zomqlppqbj&xp&}bii&xp&fk&qeb&abpfdk4\n",
      "Key: 10, Decrypted message: Pda&benop&n{ha&kb&ynlpkcnwld&yh{x&eo@&ja|an&ej|ajp&w&ynlpkcnwld&oopai&k{noahb4&Pda&oaykjz&n{ha&kb&ynlpkcnwld&yh{x&eo@&ja|an&eilhaiajp&w&ynlpkcnwld&oopai&k{noahb@&iwj&nawh3}knhz&dkhao&wna&bk{jz&ej&pda&eilhaiajpwpekj&ldwoa&kb&w&ynlpkoopai&wo&}ahh&wo&ej&pda&zaoecj4\n",
      "Key: 11, Decrypted message: Ocz&admno&m{gz&ja&xmkojbmvkc&xg{w&dn@&iz|zm&di|zio&v&xmkojbmvkc&nnozh&j{mnzga4&Ocz&nzxjiy&m{gz&ja&xmkojbmvkc&xg{w&dn@&iz|zm&dhkgzhzio&v&xmkojbmvkc&nnozh&j{mnzga@&hvi&mzvg3}jmgy&cjgzn&vmz&aj{iy&di&ocz&dhkgzhziovodji&kcvnz&ja&v&xmkojnnozh&vn&}zgg&vn&di&ocz&yzndbi4\n",
      "Key: 12, Decrypted message: Nby&zclmn&l{fy&iz&wljnialujb&wf{v&cm@&hy|yl&ch|yhn&u&wljnialujb&mmnyg&i{lmyfz4&Nby&mywihx&l{fy&iz&wljnialujb&wf{v&cm@&hy|yl&cgjfygyhn&u&wljnialujb&mmnyg&i{lmyfz@&guh&lyuf3}ilfx&bifym&uly&zi{hx&ch&nby&cgjfygyhnuncih&jbumy&iz&u&wljnimmnyg&um&}yff&um&ch&nby&xymcah4\n",
      "Key: 13, Decrypted message: Max&ybklm&k{ex&hy&vkimhzktia&ve{u&bl@&gx|xk&bg|xgm&t&vkimhzktia&llmxf&h{klxey4&Max&lxvhgw&k{ex&hy&vkimhzktia&ve{u&bl@&gx|xk&bfiexfxgm&t&vkimhzktia&llmxf&h{klxey@&ftg&kxte3}hkew&ahexl&tkx&yh{gw&bg&max&bfiexfxgmtmbhg&iatlx&hy&t&vkimhllmxf&tl&}xee&tl&bg&max&wxlbzg4\n",
      "Key: 14, Decrypted message: Lzw&xajkl&j{dw&gx&ujhlgyjshz&ud{t&ak@&fw|wj&af|wfl&s&ujhlgyjshz&kklwe&g{jkwdx4&Lzw&kwugfv&j{dw&gx&ujhlgyjshz&ud{t&ak@&fw|wj&aehdwewfl&s&ujhlgyjshz&kklwe&g{jkwdx@&esf&jwsd3}gjdv&zgdwk&sjw&xg{fv&af&lzw&aehdwewflslagf&hzskw&gx&s&ujhlgkklwe&sk&}wdd&sk&af&lzw&vwkayf4\n",
      "Key: 15, Decrypted message: Kyv&wzijk&i{cv&fw&tigkfxirgy&tc{s&zj@&ev|vi&ze|vek&r&tigkfxirgy&jjkvd&f{ijvcw4&Kyv&jvtfeu&i{cv&fw&tigkfxirgy&tc{s&zj@&ev|vi&zdgcvdvek&r&tigkfxirgy&jjkvd&f{ijvcw@&dre&ivrc3}ficu&yfcvj&riv&wf{eu&ze&kyv&zdgcvdvekrkzfe&gyrjv&fw&r&tigkfjjkvd&rj&}vcc&rj&ze&kyv&uvjzxe4\n",
      "Key: 16, Decrypted message: Jxu&vyhij&h{bu&ev&shfjewhqfx&sb{r&yi@&du|uh&yd|udj&q&shfjewhqfx&iijuc&e{hiubv4&Jxu&iusedt&h{bu&ev&shfjewhqfx&sb{r&yi@&du|uh&ycfbucudj&q&shfjewhqfx&iijuc&e{hiubv@&cqd&huqb3}ehbt&xebui&qhu&ve{dt&yd&jxu&ycfbucudjqjyed&fxqiu&ev&q&shfjeiijuc&qi&}ubb&qi&yd&jxu&tuiywd4\n",
      "Key: 17, Decrypted message: Iwt&uxghi&g{at&du&rgeidvgpew&ra{q&xh@&ct|tg&xc|tci&p&rgeidvgpew&hhitb&d{ghtau4&Iwt&htrdcs&g{at&du&rgeidvgpew&ra{q&xh@&ct|tg&xbeatbtci&p&rgeidvgpew&hhitb&d{ghtau@&bpc&gtpa3}dgas&wdath&pgt&ud{cs&xc&iwt&xbeatbtcipixdc&ewpht&du&p&rgeidhhitb&ph&}taa&ph&xc&iwt&sthxvc4\n",
      "Key: 18, Decrypted message: Hvs&twfgh&f{zs&ct&qfdhcufodv&qz{p&wg@&bs|sf&wb|sbh&o&qfdhcufodv&gghsa&c{fgszt4&Hvs&gsqcbr&f{zs&ct&qfdhcufodv&qz{p&wg@&bs|sf&wadzsasbh&o&qfdhcufodv&gghsa&c{fgszt@&aob&fsoz3}cfzr&vczsg&ofs&tc{br&wb&hvs&wadzsasbhohwcb&dvogs&ct&o&qfdhcgghsa&og&}szz&og&wb&hvs&rsgwub4\n",
      "Key: 19, Decrypted message: Gur&svefg&e{yr&bs&pecgbtencu&py{o&vf@&ar|re&va|rag&n&pecgbtencu&ffgrz&b{efrys4&Gur&frpbaq&e{yr&bs&pecgbtencu&py{o&vf@&ar|re&vzcyrzrag&n&pecgbtencu&ffgrz&b{efrys@&zna&erny3}beyq&ubyrf&ner&sb{aq&va&gur&vzcyrzragngvba&cunfr&bs&n&pecgbffgrz&nf&}ryy&nf&va&gur&qrfvta4\n",
      "Key: 20, Decrypted message: Ftq&rudef&d{xq&ar&odbfasdmbt&ox{n&ue@&zq|qd&uz|qzf&m&odbfasdmbt&eefqy&a{deqxr4&Ftq&eqoazp&d{xq&ar&odbfasdmbt&ox{n&ue@&zq|qd&uybxqyqzf&m&odbfasdmbt&eefqy&a{deqxr@&ymz&dqmx3}adxp&taxqe&mdq&ra{zp&uz&ftq&uybxqyqzfmfuaz&btmeq&ar&m&odbfaeefqy&me&}qxx&me&uz&ftq&pqeusz4\n",
      "Key: 21, Decrypted message: Esp&qtcde&c{wp&zq&ncaezrclas&nw{m&td@&yp|pc&ty|pye&l&ncaezrclas&ddepx&z{cdpwq4&Esp&dpnzyo&c{wp&zq&ncaezrclas&nw{m&td@&yp|pc&txawpxpye&l&ncaezrclas&ddepx&z{cdpwq@&xly&cplw3}zcwo&szwpd&lcp&qz{yo&ty&esp&txawpxpyeletzy&asldp&zq&l&ncaezddepx&ld&}pww&ld&ty&esp&opdtry4\n",
      "Key: 22, Decrypted message: Dro&psbcd&b{vo&yp&mbzdyqbkzr&mv{l&sc@&xo|ob&sx|oxd&k&mbzdyqbkzr&ccdow&y{bcovp4&Dro&comyxn&b{vo&yp&mbzdyqbkzr&mv{l&sc@&xo|ob&swzvowoxd&k&mbzdyqbkzr&ccdow&y{bcovp@&wkx&bokv3}ybvn&ryvoc&kbo&py{xn&sx&dro&swzvowoxdkdsyx&zrkco&yp&k&mbzdyccdow&kc&}ovv&kc&sx&dro&nocsqx4\n",
      "Key: 23, Decrypted message: Cqn&orabc&a{un&xo&laycxpajyq&lu{k&rb@&wn|na&rw|nwc&j&laycxpajyq&bbcnv&x{abnuo4&Cqn&bnlxwm&a{un&xo&laycxpajyq&lu{k&rb@&wn|na&rvyunvnwc&j&laycxpajyq&bbcnv&x{abnuo@&vjw&anju3}xaum&qxunb&jan&ox{wm&rw&cqn&rvyunvnwcjcrxw&yqjbn&xo&j&laycxbbcnv&jb&}nuu&jb&rw&cqn&mnbrpw4\n",
      "Key: 24, Decrypted message: Bpm&nqzab&z{tm&wn&kzxbwozixp&kt{j&qa@&vm|mz&qv|mvb&i&kzxbwozixp&aabmu&w{zamtn4&Bpm&amkwvl&z{tm&wn&kzxbwozixp&kt{j&qa@&vm|mz&quxtmumvb&i&kzxbwozixp&aabmu&w{zamtn@&uiv&zmit3}wztl&pwtma&izm&nw{vl&qv&bpm&quxtmumvbibqwv&xpiam&wn&i&kzxbwaabmu&ia&}mtt&ia&qv&bpm&lmaqov4\n",
      "Key: 25, Decrypted message: Aol&mpyza&y{sl&vm&jywavnyhwo&js{i&pz@&ul|ly&pu|lua&h&jywavnyhwo&zzalt&v{yzlsm4&Aol&zljvuk&y{sl&vm&jywavnyhwo&js{i&pz@&ul|ly&ptwsltlua&h&jywavnyhwo&zzalt&v{yzlsm@&thu&ylhs3}vysk&ovslz&hyl&mv{uk&pu&aol&ptwsltluahapvu&wohzl&vm&h&jywavzzalt&hz&}lss&hz&pu&aol&klzpnu4\n"
     ]
    }
   ],
   "source": [
    "#The key needed to decrypt the given message can be found by using a technique called brute-force attack, which involves trying all possible keys until the correct one is found.\n",
    "# a script to perform a brute-force attack on the encrypted message by trying all keys from 1 to 25 (since the Caesar cipher has 25 possible keys).\n",
    "\n",
    "\n",
    "\n",
    "def decrypt_force(encrypted_message):\n",
    "    for key in range(1, 26):\n",
    "        decrypted_message = \"\"\n",
    "        for char in encrypted_message:\n",
    "            if char.isalpha():\n",
    "                shifted = ord(char) - key\n",
    "                if char.islower():\n",
    "                    if shifted > ord('z'):\n",
    "                        shifted -= 26\n",
    "                    elif shifted < ord('a'):\n",
    "                        shifted += 26\n",
    "                elif char.isupper():\n",
    "                    if shifted > ord('Z'):\n",
    "                        shifted -= 26\n",
    "                    elif shifted < ord('A'):\n",
    "                        shifted += 26\n",
    "                decrypted_message += chr(shifted)\n",
    "            else:\n",
    "                decrypted_message += char\n",
    "        print(f\"Key: {key}, Decrypted message: {decrypted_message}\")\n",
    "\n",
    "\n",
    "encrypted_message = \"Znk&loxyz&x{rk&ul&ixvzumxgvn&ir{h&oy@&tk|kx&ot|ktz&g&ixvzumxgvn&yyzks&u{xykrl4&Znk&ykiutj&x{rk&ul&ixvzumxgvn&ir{h&oy@&tk|kx&osvrksktz&g&ixvzumxgvn&yyzks&u{xykrl@&sgt&xkgr3}uxrj&nurky&gxk&lu{tj&ot&znk&osvrksktzgzout&vngyk&ul&g&ixvzuyyzks&gy&}krr&gy&ot&znk&jkyomt4\"\n",
    "\n",
    "decrypt_force(encrypted_message)"
   ]
  },
  {
   "cell_type": "code",
   "execution_count": 145,
   "id": "848f7c0c-0db9-450d-823f-ac9912467f44",
   "metadata": {
    "tags": []
   },
   "outputs": [
    {
     "name": "stdout",
     "output_type": "stream",
     "text": [
      "Original: Xyz\n",
      "Encoded: Abc\n",
      "Decoded: Xyz\n",
      "\n",
      "Original: Zara\n",
      "Encoded: Cdud\n",
      "Decoded: Zara\n",
      "\n",
      "Original: lazy\n",
      "Encoded: odcb\n",
      "Decoded: lazy\n",
      "\n",
      "Original: Hello!\n",
      "Encoded: Khoor!\n",
      "Decoded: Hello!\n",
      "\n",
      "Original: The secret key is still secret, hidden in this notebook!\n",
      "Encoded: Wkh vhfuhw nhb lv vwloo vhfuhw, klgghq lq wklv qrwherrn!\n",
      "Decoded: The secret key is still secret, hidden in this notebook!\n",
      "\n"
     ]
    }
   ],
   "source": [
    "# Mini-project\n",
    "def caesar_encrypt(text, shift):\n",
    "    uppercase = 'ABCDEFGHIJKLMNOPQRSTUVWXYZ'\n",
    "    lowercase = 'abcdefghijklmnopqrstuvwxyz'\n",
    "    encrypted = ''\n",
    "\n",
    "    for char in text:\n",
    "        if char.isalpha():\n",
    "            if char.isupper():\n",
    "                idx = (uppercase.index(char) + shift) % 26\n",
    "                encrypted += uppercase[idx]\n",
    "            else:\n",
    "                idx = (lowercase.index(char) + shift) % 26\n",
    "                encrypted += lowercase[idx]\n",
    "        else:\n",
    "            encrypted += char\n",
    "\n",
    "    return encrypted\n",
    "\n",
    "def caesar_decrypt(encoded, shift):\n",
    "    return caesar_encrypt(encoded, -shift)\n",
    "\n",
    "# Test cases\n",
    "texts = ['Xyz', 'Zara', 'lazy', 'Hello!', 'The secret key is still secret, hidden in this notebook!']\n",
    "key = 3\n",
    "\n",
    "for text in texts:\n",
    "    encoded_text = caesar_encrypt(text, key)\n",
    "    print(f\"Original: {text}\")\n",
    "    print(f\"Encoded: {encoded_text}\")\n",
    "    decoded_text = caesar_decrypt(encoded_text, key)\n",
    "    print(f\"Decoded: {decoded_text}\\n\")\n"
   ]
  },
  {
   "cell_type": "code",
   "execution_count": 144,
   "id": "93f3f613-fa88-40e4-af69-503824b210f9",
   "metadata": {
    "tags": []
   },
   "outputs": [
    {
     "name": "stdout",
     "output_type": "stream",
     "text": [
      "Original: Xyz\n",
      "Encoded: Yza\n",
      "Decoded: Xyz\n",
      "\n",
      "Original: Zara\n",
      "Encoded: Absb\n",
      "Decoded: Zara\n",
      "\n",
      "Original: lazy\n",
      "Encoded: mbaz\n",
      "Decoded: lazy\n",
      "\n",
      "Original: Hello!\n",
      "Encoded: Ifmmp?\n",
      "Decoded: Hello!\n",
      "\n",
      "Original: The secret key is still secret, hidden in this notebook!\n",
      "Encoded: Uif tfdsfu lfz jt tujmm tfdsfu. ijeefo jo uijt opufcppl?\n",
      "Decoded: The secret key is still secret, hidden in this notebook!\n",
      "\n"
     ]
    }
   ],
   "source": [
    "# Mini-project Modify\n",
    "def caesar_encrypt(text, shift):\n",
    "    uppercase = 'ABCDEFGHIJKLMNOPQRSTUVWXYZ'\n",
    "    lowercase = 'abcdefghijklmnopqrstuvwxyz'\n",
    "    punctuation = ',.!?'\n",
    "    encrypted = ''\n",
    "\n",
    "    for char in text:\n",
    "        if char.isalpha():\n",
    "            if char.isupper():\n",
    "                idx = (uppercase.index(char) + shift) % 26\n",
    "                encrypted += uppercase[idx]\n",
    "            else:\n",
    "                idx = (lowercase.index(char) + shift) % 26\n",
    "                encrypted += lowercase[idx]\n",
    "        elif char in punctuation:\n",
    "            idx = (punctuation.index(char) + shift) % 4\n",
    "            encrypted += punctuation[idx]\n",
    "        else:\n",
    "            encrypted += char\n",
    "\n",
    "    return encrypted\n",
    "\n",
    "def caesar_decrypt(encoded, shift):\n",
    "    return caesar_encrypt(encoded, -shift)\n",
    "\n",
    "texts = ['Xyz', 'Zara', 'lazy', 'Hello!', 'The secret key is still secret, hidden in this notebook!']\n",
    "key = 1\n",
    "\n",
    "for text in texts:\n",
    "    encoded_text = caesar_encrypt(text, key)\n",
    "    print(f\"Original: {text}\")\n",
    "    print(f\"Encoded: {encoded_text}\")\n",
    "    decoded_text = caesar_decrypt(encoded_text, key)\n",
    "    print(f\"Decoded: {decoded_text}\\n\")\n"
   ]
  },
  {
   "cell_type": "code",
   "execution_count": 2,
   "id": "401fe470-251a-479b-9639-87ae4f78b04f",
   "metadata": {},
   "outputs": [
    {
     "name": "stdout",
     "output_type": "stream",
     "text": [
      "Requirement already satisfied: python-dotenv in c:\\users\\kdomm\\anaconda3\\lib\\site-packages (0.21.0)\n"
     ]
    },
    {
     "ename": "KeyboardInterrupt",
     "evalue": "Interrupted by user",
     "output_type": "error",
     "traceback": [
      "\u001b[1;31m---------------------------------------------------------------------------\u001b[0m",
      "\u001b[1;31mKeyboardInterrupt\u001b[0m                         Traceback (most recent call last)",
      "Cell \u001b[1;32mIn[2], line 6\u001b[0m\n\u001b[0;32m      2\u001b[0m \u001b[38;5;28;01mimport\u001b[39;00m \u001b[38;5;21;01mdotenv\u001b[39;00m\n\u001b[0;32m      3\u001b[0m \u001b[38;5;28;01mimport\u001b[39;00m \u001b[38;5;21;01mos\u001b[39;00m\n\u001b[1;32m----> 6\u001b[0m key \u001b[38;5;241m=\u001b[39m \u001b[38;5;28minput\u001b[39m(\u001b[38;5;124m\"\u001b[39m\u001b[38;5;124mEnter the secret key: \u001b[39m\u001b[38;5;124m\"\u001b[39m)\n\u001b[0;32m      7\u001b[0m os\u001b[38;5;241m.\u001b[39menviron[\u001b[38;5;124m'\u001b[39m\u001b[38;5;124mSECRET_KEY\u001b[39m\u001b[38;5;124m'\u001b[39m] \u001b[38;5;241m=\u001b[39m key\n\u001b[0;32m      8\u001b[0m output\u001b[38;5;241m.\u001b[39mclear()\n",
      "File \u001b[1;32m~\\anaconda3\\Lib\\site-packages\\ipykernel\\kernelbase.py:1202\u001b[0m, in \u001b[0;36mKernel.raw_input\u001b[1;34m(self, prompt)\u001b[0m\n\u001b[0;32m   1200\u001b[0m     msg \u001b[38;5;241m=\u001b[39m \u001b[38;5;124m\"\u001b[39m\u001b[38;5;124mraw_input was called, but this frontend does not support input requests.\u001b[39m\u001b[38;5;124m\"\u001b[39m\n\u001b[0;32m   1201\u001b[0m     \u001b[38;5;28;01mraise\u001b[39;00m StdinNotImplementedError(msg)\n\u001b[1;32m-> 1202\u001b[0m \u001b[38;5;28;01mreturn\u001b[39;00m \u001b[38;5;28mself\u001b[39m\u001b[38;5;241m.\u001b[39m_input_request(\n\u001b[0;32m   1203\u001b[0m     \u001b[38;5;28mstr\u001b[39m(prompt),\n\u001b[0;32m   1204\u001b[0m     \u001b[38;5;28mself\u001b[39m\u001b[38;5;241m.\u001b[39m_parent_ident[\u001b[38;5;124m\"\u001b[39m\u001b[38;5;124mshell\u001b[39m\u001b[38;5;124m\"\u001b[39m],\n\u001b[0;32m   1205\u001b[0m     \u001b[38;5;28mself\u001b[39m\u001b[38;5;241m.\u001b[39mget_parent(\u001b[38;5;124m\"\u001b[39m\u001b[38;5;124mshell\u001b[39m\u001b[38;5;124m\"\u001b[39m),\n\u001b[0;32m   1206\u001b[0m     password\u001b[38;5;241m=\u001b[39m\u001b[38;5;28;01mFalse\u001b[39;00m,\n\u001b[0;32m   1207\u001b[0m )\n",
      "File \u001b[1;32m~\\anaconda3\\Lib\\site-packages\\ipykernel\\kernelbase.py:1245\u001b[0m, in \u001b[0;36mKernel._input_request\u001b[1;34m(self, prompt, ident, parent, password)\u001b[0m\n\u001b[0;32m   1242\u001b[0m \u001b[38;5;28;01mexcept\u001b[39;00m \u001b[38;5;167;01mKeyboardInterrupt\u001b[39;00m:\n\u001b[0;32m   1243\u001b[0m     \u001b[38;5;66;03m# re-raise KeyboardInterrupt, to truncate traceback\u001b[39;00m\n\u001b[0;32m   1244\u001b[0m     msg \u001b[38;5;241m=\u001b[39m \u001b[38;5;124m\"\u001b[39m\u001b[38;5;124mInterrupted by user\u001b[39m\u001b[38;5;124m\"\u001b[39m\n\u001b[1;32m-> 1245\u001b[0m     \u001b[38;5;28;01mraise\u001b[39;00m \u001b[38;5;167;01mKeyboardInterrupt\u001b[39;00m(msg) \u001b[38;5;28;01mfrom\u001b[39;00m \u001b[38;5;28;01mNone\u001b[39;00m\n\u001b[0;32m   1246\u001b[0m \u001b[38;5;28;01mexcept\u001b[39;00m \u001b[38;5;167;01mException\u001b[39;00m:\n\u001b[0;32m   1247\u001b[0m     \u001b[38;5;28mself\u001b[39m\u001b[38;5;241m.\u001b[39mlog\u001b[38;5;241m.\u001b[39mwarning(\u001b[38;5;124m\"\u001b[39m\u001b[38;5;124mInvalid Message:\u001b[39m\u001b[38;5;124m\"\u001b[39m, exc_info\u001b[38;5;241m=\u001b[39m\u001b[38;5;28;01mTrue\u001b[39;00m)\n",
      "\u001b[1;31mKeyboardInterrupt\u001b[0m: Interrupted by user"
     ]
    }
   ],
   "source": [
    "!pip install python-dotenv\n",
    "import dotenv\n",
    "import os\n",
    "\n",
    "\n",
    "key = input(\"Enter the secret key: \")\n",
    "os.environ['SECRET_KEY'] = key\n",
    "output.clear()\n",
    "     "
   ]
  },
  {
   "cell_type": "code",
   "execution_count": null,
   "id": "4dd583e2-66ff-4d32-ac86-05f9936a29ed",
   "metadata": {},
   "outputs": [],
   "source": []
  }
 ],
 "metadata": {
  "kernelspec": {
   "display_name": "Python 3 (ipykernel)",
   "language": "python",
   "name": "python3"
  },
  "language_info": {
   "codemirror_mode": {
    "name": "ipython",
    "version": 3
   },
   "file_extension": ".py",
   "mimetype": "text/x-python",
   "name": "python",
   "nbconvert_exporter": "python",
   "pygments_lexer": "ipython3",
   "version": "3.11.5"
  }
 },
 "nbformat": 4,
 "nbformat_minor": 5
}
